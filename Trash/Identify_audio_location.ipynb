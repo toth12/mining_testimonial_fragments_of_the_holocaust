{
 "cells": [
  {
   "cell_type": "markdown",
   "metadata": {},
   "source": [
    "1. Open the transcript and get all span element\n",
    "2. Put it into a dataframe, second / value\n",
    "3. Tokenize it, if it is more than two elements then expand it and add new elements after the location\n",
    "4. Open the original folia file check if number of tokens equals to the number in the df\n",
    "5. If so identify the sentence beginning"
   ]
  },
  {
   "cell_type": "code",
   "execution_count": 60,
   "metadata": {},
   "outputs": [],
   "source": [
    "import xml.etree.ElementTree as ET\n",
    "from xml.dom import minidom\n",
    "%config Completer.use_jedi = False\n",
    "import utils.db as db\n",
    "import glob\n",
    "import datetime\n",
    "import pandas as pd\n",
    "import requests\n",
    "import json"
   ]
  },
  {
   "cell_type": "code",
   "execution_count": 41,
   "metadata": {},
   "outputs": [],
   "source": [
    "testimony_id = 25651\n",
    "files = glob.glob(\"data/transcripts/\"+str(testimony_id)+\".*.xml\")\n",
    "files_ordered = {int(element.split('.')[-2]):element for element in files}\n",
    "files_order = sorted(files_ordered)\n",
    "files_ordered_final = [files_ordered[element] for element in files_order]\n",
    "all_spans = []\n",
    "for file in files_ordered_final:\n",
    "    p1 = minidom.parse(file)\n",
    "    spans = p1.getElementsByTagName('span')\n",
    "    all_spans.extend(spans)"
   ]
  },
  {
   "cell_type": "code",
   "execution_count": 47,
   "metadata": {},
   "outputs": [],
   "source": [
    "    data = [{'time':datetime.timedelta(milliseconds=int(element.getAttribute('m'))).seconds,'value':element.firstChild.nodeValue} for element in all_spans]"
   ]
  },
  {
   "cell_type": "code",
   "execution_count": 109,
   "metadata": {},
   "outputs": [],
   "source": [
    "df = pd.DataFrame(data)\n",
    "new_list = []"
   ]
  },
  {
   "cell_type": "code",
   "execution_count": 110,
   "metadata": {},
   "outputs": [],
   "source": [
    "for element in df.iterrows():\n",
    "    label = element[1].value\n",
    "    if label == None:\n",
    "        continue\n",
    "    props = {'annotators': 'tokenize'}\n",
    "    # set the encoding of the annotator\n",
    "    requests.encoding = 'utf-8'\n",
    "    # make a request\n",
    "    r = requests.post('http://localhost:9000/', params={'properties':\n",
    "                        json.dumps(props)},\n",
    "                        data=label.encode('utf-8'))\n",
    "    result = json.loads(r.text, encoding='utf-8')\n",
    "    for value in result['tokens']:\n",
    "        try:\n",
    "            new_row={'time':element[1].time,'value':value['word']}\n",
    "            new_list.append(new_row)\n",
    "        except:\n",
    "            pass"
   ]
  },
  {
   "cell_type": "code",
   "execution_count": 111,
   "metadata": {},
   "outputs": [
    {
     "data": {
      "text/plain": [
       "73016"
      ]
     },
     "execution_count": 111,
     "metadata": {},
     "output_type": "execute_result"
    }
   ],
   "source": [
    "len(new_list)"
   ]
  },
  {
   "cell_type": "code",
   "execution_count": 108,
   "metadata": {},
   "outputs": [
    {
     "data": {
      "text/plain": [
       "{'time': 1649, 'value': 'yes'}"
      ]
     },
     "execution_count": 108,
     "metadata": {},
     "output_type": "execute_result"
    }
   ],
   "source": [
    "new_list[-2]"
   ]
  },
  {
   "cell_type": "code",
   "execution_count": 98,
   "metadata": {},
   "outputs": [
    {
     "data": {
      "text/plain": [
       "'Rodin'"
      ]
     },
     "execution_count": 98,
     "metadata": {},
     "output_type": "execute_result"
    }
   ],
   "source": [
    "all_spans[4917].firstChild.nodeValue"
   ]
  },
  {
   "cell_type": "code",
   "execution_count": 80,
   "metadata": {},
   "outputs": [
    {
     "data": {
      "text/plain": [
       "{'time': 1649, 'value': 'England, yes.'}"
      ]
     },
     "execution_count": 80,
     "metadata": {},
     "output_type": "execute_result"
    }
   ],
   "source": [
    "data[-1]"
   ]
  }
 ],
 "metadata": {
  "kernelspec": {
   "display_name": "Python 3",
   "language": "python",
   "name": "python3"
  },
  "language_info": {
   "codemirror_mode": {
    "name": "ipython",
    "version": 3
   },
   "file_extension": ".py",
   "mimetype": "text/x-python",
   "name": "python",
   "nbconvert_exporter": "python",
   "pygments_lexer": "ipython3",
   "version": "3.7.2"
  }
 },
 "nbformat": 4,
 "nbformat_minor": 2
}
