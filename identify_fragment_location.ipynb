{
 "cells": [
  {
   "cell_type": "code",
   "execution_count": 7,
   "metadata": {},
   "outputs": [],
   "source": [
    "import xml.etree.ElementTree as ET\n",
    "from xml.dom import minidom\n",
    "%config Completer.use_jedi = False\n",
    "import utils.db as db\n",
    "import glob\n",
    "import datetime\n",
    "import folia.main as folia\n",
    "from utils import db\n",
    "mongo = db.get_db()\n"
   ]
  },
  {
   "cell_type": "markdown",
   "metadata": {},
   "source": [
    "1. Download a fragment\n",
    "2. Check if USC\n",
    "3. If so get all transcripts\n",
    "4. Get a word sequence from it\n",
    "5. Find it in the transcripts"
   ]
  },
  {
   "cell_type": "code",
   "execution_count": 8,
   "metadata": {},
   "outputs": [],
   "source": [
    "def get_all_fragments():\n",
    "    mongo = db.get_db()\n",
    "    results = mongo.fragments.find({},{'_id':0})\n",
    "    results = [element for element in results]\n",
    "    all_mid_nodes =[]\n",
    "    all_fragments = []\n",
    "    for result in results:\n",
    "        mid_nodes = [element for element in result['tree']['children'] if len(element['children'])>0]\n",
    "        for mid_node in mid_nodes:\n",
    "\n",
    "            all_mid_nodes.append(mid_node['label'])\n",
    "            for fragment in mid_node['children']:\n",
    "                all_fragments.append({'fragment':fragment,'mid_label':mid_node['label'],'top_label':result['tree']['label']})\n",
    "            \n",
    "    return (all_fragments)"
   ]
  },
  {
   "cell_type": "code",
   "execution_count": 9,
   "metadata": {},
   "outputs": [],
   "source": [
    "def update_fragments(main_node_label,mid_node_label,fragment,attributes):\n",
    "    results = mongo.fragments.find({'label':main_node_label},{'_id':0})[0]\n",
    "    mongo_id= mongo.fragments.find({'label':main_node_label},{'_id':1})[0]\n",
    "    for x,element in enumerate(results['tree']['children']):\n",
    "        if element['label']==mid_node_label:\n",
    "            for n,leaves in enumerate(element['children']):\n",
    "                if leaves['label'] == fragment['label']:\n",
    "                    for attr in attributes:\n",
    "                        results['tree']['children'][x]['children'][n][list(attr.keys())[0]]=attr[list(attr.keys())[0]]\n",
    "                    \n",
    "    replace = mongo.fragments.replace_one(mongo_id,results)\n"
   ]
  },
  {
   "cell_type": "code",
   "execution_count": 10,
   "metadata": {},
   "outputs": [],
   "source": [
    "#update_fragments(\"rape\",\"kill\",fragment['fragment'],[{'media_index':100}])"
   ]
  },
  {
   "cell_type": "code",
   "execution_count": 11,
   "metadata": {},
   "outputs": [],
   "source": [
    "all_fragments = get_all_fragments()"
   ]
  },
  {
   "cell_type": "code",
   "execution_count": 12,
   "metadata": {
    "scrolled": true
   },
   "outputs": [],
   "source": [
    "for fragment in all_fragments:\n",
    "    if 'usc' in fragment['fragment']['testimony_id'].split('_'):\n",
    "    #if 'usc_shoah_14900' in fragment['fragment']['testimony_id']:\n",
    "        testimony_id = fragment['fragment']['testimony_id']\n",
    "        sentence_start = fragment['fragment']['start_sentence_index']\n",
    "        p1 = minidom.parse(\"Data/folia_output/\"+testimony_id+'.xml')\n",
    "        sentences = p1.getElementsByTagName('s')\n",
    "        src_attr = sentences[int(sentence_start)].parentNode.getAttribute('src')\n",
    "        part= src_attr.split('_')[0]\n",
    "        time = src_attr.split('_')[1]\n",
    "        update_fragments(fragment['top_label'],fragment['mid_label'],fragment['fragment'],[{'media_index':int(part)-1},{'media_offset':int(time)}])      "
   ]
  },
  {
   "cell_type": "code",
   "execution_count": 13,
   "metadata": {},
   "outputs": [
    {
     "data": {
      "text/plain": [
       "str"
      ]
     },
     "execution_count": 13,
     "metadata": {},
     "output_type": "execute_result"
    }
   ],
   "source": [
    "type(time)"
   ]
  }
 ],
 "metadata": {
  "kernelspec": {
   "display_name": "Python 3",
   "language": "python",
   "name": "python3"
  },
  "language_info": {
   "codemirror_mode": {
    "name": "ipython",
    "version": 3
   },
   "file_extension": ".py",
   "mimetype": "text/x-python",
   "name": "python",
   "nbconvert_exporter": "python",
   "pygments_lexer": "ipython3",
   "version": "3.7.2"
  }
 },
 "nbformat": 4,
 "nbformat_minor": 2
}
