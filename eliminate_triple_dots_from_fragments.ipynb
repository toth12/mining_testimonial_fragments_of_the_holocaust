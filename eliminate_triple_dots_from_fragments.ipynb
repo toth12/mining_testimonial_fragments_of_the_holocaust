{
 "cells": [
  {
   "cell_type": "code",
   "execution_count": 23,
   "metadata": {},
   "outputs": [],
   "source": [
    "import xml.etree.ElementTree as ET\n",
    "from xml.dom import minidom\n",
    "%config Completer.use_jedi = False\n",
    "import utils.db as db\n",
    "import glob\n",
    "import datetime\n",
    "import folia.main as folia\n",
    "from utils import db\n",
    "mongo = db.get_db()\n",
    "import re\n",
    "import regex"
   ]
  },
  {
   "cell_type": "markdown",
   "metadata": {},
   "source": [
    "1. Download a fragment\n",
    "2. Check if USC\n",
    "3. If so get all transcripts\n",
    "4. Get a word sequence from it\n",
    "5. Find it in the transcripts"
   ]
  },
  {
   "cell_type": "code",
   "execution_count": 2,
   "metadata": {},
   "outputs": [],
   "source": [
    "def get_all_fragments():\n",
    "    mongo = db.get_db()\n",
    "    results = mongo.fragments.find({},{'_id':0})\n",
    "    results = [element for element in results]\n",
    "    all_mid_nodes =[]\n",
    "    all_fragments = []\n",
    "    for result in results:\n",
    "        mid_nodes = [element for element in result['tree']['children'] if len(element['children'])>0]\n",
    "        for mid_node in mid_nodes:\n",
    "\n",
    "            all_mid_nodes.append(mid_node['label'])\n",
    "            for fragment in mid_node['children']:\n",
    "                all_fragments.append({'fragment':fragment,'mid_label':mid_node['label'],'top_label':result['tree']['label']})\n",
    "            \n",
    "    return (all_fragments)"
   ]
  },
  {
   "cell_type": "code",
   "execution_count": 3,
   "metadata": {},
   "outputs": [],
   "source": [
    "def update_fragments(main_node_label,mid_node_label,fragment,attributes):\n",
    "    results = mongo.fragments.find({'label':main_node_label},{'_id':0})[0]\n",
    "    mongo_id= mongo.fragments.find({'label':main_node_label},{'_id':1})[0]\n",
    "    for x,element in enumerate(results['tree']['children']):\n",
    "        if element['label']==mid_node_label:\n",
    "            for n,leaves in enumerate(element['children']):\n",
    "                if leaves['label'] == fragment['label']:\n",
    "                    for attr in attributes:\n",
    "                        results['tree']['children'][x]['children'][n][list(attr.keys())[0]]=attr[list(attr.keys())[0]]\n",
    "                    \n",
    "    replace = mongo.fragments.replace_one(mongo_id,results)\n"
   ]
  },
  {
   "cell_type": "code",
   "execution_count": 4,
   "metadata": {},
   "outputs": [],
   "source": [
    "def update_mid_node_label(main_node_label,mid_node_orig_label,mid_node_new_label):\n",
    "    results = mongo.fragments.find({'label':main_node_label},{'_id':0})[0]\n",
    "    mongo_id= mongo.fragments.find({'label':main_node_label},{'_id':1})[0]\n",
    "    for x,element in enumerate(results['tree']['children']):\n",
    "        if element['label']==mid_node_orig_label:\n",
    "            results['tree']['children'][x]['label']=mid_node_new_label\n",
    "    replace = mongo.fragments.replace_one(mongo_id,results)\n",
    "            \n",
    "            "
   ]
  },
  {
   "cell_type": "code",
   "execution_count": 5,
   "metadata": {},
   "outputs": [],
   "source": [
    "def delete_mid_node(main_node_label,mid_node_orig_label):\n",
    "    results = mongo.fragments.find({'label':main_node_label},{'_id':0})[0]\n",
    "    mongo_id= mongo.fragments.find({'label':main_node_label},{'_id':1})[0]\n",
    "    to_delete=[]\n",
    "    for x,element in enumerate(results['tree']['children']):\n",
    "        if element['label']==mid_node_orig_label:\n",
    "            to_delete.append(x)\n",
    "            break\n",
    "    for element in to_delete:\n",
    "        del results['tree']['children'][element]\n",
    "    replace = mongo.fragments.replace_one(mongo_id,results)\n",
    "            \n",
    "            "
   ]
  },
  {
   "cell_type": "code",
   "execution_count": 6,
   "metadata": {},
   "outputs": [],
   "source": [
    "def eliminate_double_parenthesis(all_fragments):\n",
    "    for fragment in all_fragments:\n",
    "        if '(..) (..)' == fragment['fragment']['label'][0:9]:\n",
    "            label = fragment['fragment']['label'][5:]\n",
    "            update_fragments(fragment['top_label'],fragment['mid_label'],fragment['fragment'],[{'label':label}])   "
   ]
  },
  {
   "cell_type": "code",
   "execution_count": 7,
   "metadata": {},
   "outputs": [],
   "source": [
    "def correct_negation_trad_quote(all_fragments):\n",
    "    for fragment in all_fragments:\n",
    "        if len(fragment['fragment']['label'].split(\" n't\"))==2:\n",
    "            split = fragment['fragment']['label'].split(\" n't\")\n",
    "            label = split[0]+\"n't\"+split[1]\n",
    "            update_fragments(fragment['top_label'],fragment['mid_label'],fragment['fragment'],[{'label':label}]) \n",
    "        if len(fragment['fragment']['label'].split(\" n't\"))==3:\n",
    "            split = fragment['fragment']['label'].split(\" n't\")\n",
    "            label = split[0]+\"n't\"+split[1]+\"n't\"+split[2]\n",
    "            update_fragments(fragment['top_label'],fragment['mid_label'],fragment['fragment'],[{'label':label}]) \n",
    "        if len(fragment['fragment']['label'].split(\" n't\"))==4:\n",
    "            split = fragment['fragment']['label'].split(\" n't\")\n",
    "            label = split[0]+\"n't\"+split[1]+\"n't\"+split[2]+\"n't\"+split[3]\n",
    "            update_fragments(fragment['top_label'],fragment['mid_label'],fragment['fragment'],[{'label':label}]) "
   ]
  },
  {
   "cell_type": "code",
   "execution_count": 8,
   "metadata": {},
   "outputs": [],
   "source": [
    "def correct_negation_new_quote(all_fragments):\n",
    "    for fragment in all_fragments:\n",
    "        if len(fragment['fragment']['label'].split(\" n’t\"))==2:\n",
    "            split = fragment['fragment']['label'].split(\" n’t\")\n",
    "            label = split[0]+\"n't\"+split[1]\n",
    "            update_fragments(fragment['top_label'],fragment['mid_label'],fragment['fragment'],[{'label':label}]) \n",
    "        if len(fragment['fragment']['label'].split(\" n’t\"))==3:\n",
    "            split = fragment['fragment']['label'].split(\" n’t\")\n",
    "            label = split[0]+\"n't\"+split[1]+\"n't\"+split[2]\n",
    "            update_fragments(fragment['top_label'],fragment['mid_label'],fragment['fragment'],[{'label':label}]) \n",
    "        if len(fragment['fragment']['label'].split(\" n’t\"))==4:\n",
    "            split = fragment['fragment']['label'].split(\" n’t\")\n",
    "            label = split[0]+\"n't\"+split[1]+\"n't\"+split[2]+\"n’t\"+split[3]\n",
    "            update_fragments(fragment['top_label'],fragment['mid_label'],fragment['fragment'],[{'label':label}]) "
   ]
  },
  {
   "cell_type": "code",
   "execution_count": 15,
   "metadata": {},
   "outputs": [],
   "source": [
    "def delete_fragment(all_fragments,label):\n",
    "    res = []\n",
    "    for fragment in all_fragments:\n",
    "        if fragment['fragment']['label'] == label:\n",
    "            main_node_label = fragment['top_label']\n",
    "            mid_node_label = fragment['mid_label']\n",
    "            results = mongo.fragments.find({'label':main_node_label},{'_id':0})[0]\n",
    "            mongo_id= mongo.fragments.find({'label':main_node_label},{'_id':1})[0]\n",
    "            for x,element in enumerate(results['tree']['children']):\n",
    "                if element['label']==mid_node_label:\n",
    "                    for n,leaves in enumerate(element['children']):\n",
    "                        if leaves['label'] == label:\n",
    "                            res.append((x,n))\n",
    "                            \n",
    "    for element in res[0:1]:\n",
    "        del results['tree']['children'][element[0]]['children'][element[1]]\n",
    "    if len(res)>0:\n",
    "        replace = mongo.fragments.replace_one(mongo_id,results)        "
   ]
  },
  {
   "cell_type": "code",
   "execution_count": 10,
   "metadata": {},
   "outputs": [],
   "source": [
    "all_fragments = get_all_fragments()"
   ]
  },
  {
   "cell_type": "code",
   "execution_count": 16,
   "metadata": {},
   "outputs": [],
   "source": [
    "label = \"I just slept there the rest of the night, but he was dead just from cold and not eating.\"\n",
    "delete_fragment(all_fragments, label)\n",
    "label = \"(..) they didn't care, or they hit your head or your leg, or they hit a child.\"\n",
    "delete_fragment(all_fragments, label)"
   ]
  },
  {
   "cell_type": "code",
   "execution_count": 17,
   "metadata": {},
   "outputs": [],
   "source": [
    "delete_mid_node('shaking','together')\n",
    "delete_mid_node('shame','horrible')\n",
    "delete_mid_node('run','scream')"
   ]
  },
  {
   "cell_type": "code",
   "execution_count": null,
   "metadata": {},
   "outputs": [],
   "source": [
    "len(fragment['fragment']['label'].split(\" n’t\"))"
   ]
  },
  {
   "cell_type": "code",
   "execution_count": 18,
   "metadata": {},
   "outputs": [],
   "source": [
    "correct_negation_new_quote(all_fragments)"
   ]
  },
  {
   "cell_type": "code",
   "execution_count": 20,
   "metadata": {},
   "outputs": [],
   "source": [
    "correct_negation_trad_quote(all_fragments)"
   ]
  },
  {
   "cell_type": "code",
   "execution_count": 21,
   "metadata": {},
   "outputs": [],
   "source": [
    "eliminate_double_parenthesis(all_fragments)"
   ]
  },
  {
   "cell_type": "code",
   "execution_count": null,
   "metadata": {},
   "outputs": [],
   "source": [
    "update_mid_node_label('cry','','God')"
   ]
  },
  {
   "cell_type": "code",
   "execution_count": null,
   "metadata": {},
   "outputs": [],
   "source": [
    "#update_fragments(\"rape\",\"kill\",fragment['fragment'],[{'media_index':100}])"
   ]
  },
  {
   "cell_type": "code",
   "execution_count": 26,
   "metadata": {},
   "outputs": [],
   "source": [
    "new_labels = []\n",
    "for fragment in all_fragments:\n",
    "    testimony_id = fragment['fragment']['testimony_id']\n",
    "    label = fragment['fragment']['label']\n",
    "    #label = \"we were standing completely in the nude and... I was frightened. I was thirteen years old (..).\"\n",
    "    \n",
    "    \n",
    "    #pattern_parenthesis_with_no_space = r'(?<!(\\s|\\n))(\\(\\.{1,3}\\))(?!(\\s|\\.))'\n",
    "    \n",
    "    pattern_parenthesis_with_no_space_before = r'(\\w)(\\(\\.{1,3}\\))'\n",
    "    regex_parenthesis_with_no_space_before = re.compile(pattern_parenthesis_with_no_space_before, re.IGNORECASE)\n",
    "    #print (regex_parenthesis_with_no_space_before.search(label))\n",
    "    label = re.sub(pattern_parenthesis_with_no_space_before, r\"\\1 \\2\", label)\n",
    "    #print (result)\n",
    "\n",
    "    pattern_parenthesis_with_no_space_after = r'(\\(\\.{1,3}\\))(\\w)'\n",
    "    regex_parenthesis_with_no_space_after = re.compile(pattern_parenthesis_with_no_space_after, re.IGNORECASE)\n",
    "    #print (regex_parenthesis_with_no_space_after.search(label))\n",
    "    label = re.sub(pattern_parenthesis_with_no_space_after, r\"\\1 \\2\", label)\n",
    "    \n",
    "    \n",
    "    \n",
    "    \n",
    "    #pattern_dots = r'(^\\.{0,3})(\\w)'\n",
    "    #regex_dots = re.compile(pattern_dots, re.IGNORECASE)\n",
    "    #label = regex_dots.sub(r\"(..) \\2\",label)\n",
    "    \n",
    "    \n",
    "    #label = regex.sub(' (..) ', label)\n",
    "        \n",
    "    label = re.sub(' +', ' ',label)\n",
    "    label = label.strip()\n",
    "    \n",
    "    \n",
    "    \n",
    "    \n",
    "    # Check if ending with character\n",
    "    \n",
    "    if (label[-1].isalpha()) or label[-1] ==')':\n",
    "   \n",
    "        label = label+\".\"\n",
    "    if (label[0].islower()):\n",
    "        label='(..) '+label\n",
    "        \n",
    "    if label[-1]=='…':\n",
    "        label = label[:-1]+' (..).'\n",
    "        \n",
    "        \n",
    "    if label [0:3]=='..,':\n",
    "        label = '(..) ' +label[3:]\n",
    "    \n",
    "    if label [0:2]=='..':\n",
    "        label = '(..) ' +label[2:]\n",
    "        \n",
    "    if label[0]=='.':\n",
    "        label = '(..) ' +label[1:]\n",
    "        \n",
    "\n",
    "    \n",
    "    \n",
    "    \n",
    "    #label = regex.sub(' (..) ', label)\n",
    "        \n",
    "    label = re.sub(' +', ' ',label)\n",
    "    label = label.strip()\n",
    "    label = label.strip()  \n",
    "    \n",
    "    new_labels.append(label)\n",
    "    update_fragments(fragment['top_label'],fragment['mid_label'],fragment['fragment'],[{'label':label}])      "
   ]
  },
  {
   "cell_type": "code",
   "execution_count": 274,
   "metadata": {},
   "outputs": [
    {
     "name": "stdout",
     "output_type": "stream",
     "text": [
      "The survival , the guilt of survivors - I don't have guilt for surviving.\n",
      "But I didn't only shiver from the cold but from the fear of what is ahead of me (..).\n",
      "(..) terrible screaming, all sweat and shaking. I couldn't -- I could never go back to sleep (..).\n",
      "I couldn't swallow food. I was shaking inside.\n",
      "I got a sort of nervous breakdown. And I started shaking. I shook so violently that I couldn't talk.\n",
      "I was shaking like that. I really couldn't put a straight step (..).\n",
      "(..) she wiped her hand and shivered. She never touched it, never touched her soup. She couldn't drink (..).\n",
      "Blood was all over. And, yeah, after, I was shaking. I couldn't (..).\n",
      "And we stayed there, and everybody was shaking like mad. We didn't have nothing to eat (..).\n",
      "But we didn't eat. We didn't have no food. And my lips were black, and my teeth were loose. I remember shaking my teeth.\n",
      "(..) killing a human being really isn't the biggest crime. It 's to degrade him, to -- to dehumanize him (..).\n",
      "I wasn't painful as such. But the degradation that we were (..).\n",
      "(..) they didn't want to be humiliated. They couldn't -- they couldn't stand it.\n",
      "(..) was a shameful existence, you couldn't do anything about it.\n",
      "That was probably the beginning of the humiliation that I just couldn't get adjusted to.\n",
      "And then checked the ears or rings or everything. And they pulled out a tooth, they ripped off the earrings if they didn't come out easy.\n",
      "I was there day and night. I didn't have anything to wear (..).\n",
      "With the older people, with the young people, we couldn't run.\n",
      "If I wouldn't go, because I run away to the forest, they will kill my parents.\n"
     ]
    }
   ],
   "source": []
  },
  {
   "cell_type": "code",
   "execution_count": null,
   "metadata": {},
   "outputs": [],
   "source": [
    "# -> x I just slept there the rest of the night, but he was dead just from cold and not eating.\n",
    "# -> x they didn't care, or they hit your head or your leg, or they hit a child. It was merciless.\n",
    "# -> x (..) (..) they told me to be very quiet and not to move and I remember feeling that, that I wa suffocating and I couldn't breathe (..). x\n",
    "# -> x (..) we were all sort of sitting together and -- and, you know, trembling.\n",
    "# stand and shiver?  -> USHMM\n",
    "#  -> x Cry and God \n",
    "# -> x shame  -> horrible\n",
    "# -> was a shameful existence, you could n't do anything about it.\n",
    "# I walked away from other people that were killed behind me who couldn't walk all day long.\n",
    "# ->the older people could n’t run as fast\n",
    "# People running. People screaming. -> USHMM"
   ]
  },
  {
   "cell_type": "code",
   "execution_count": 204,
   "metadata": {},
   "outputs": [],
   "source": [
    "end = list(set([element[-1] for element in new_labels]))"
   ]
  },
  {
   "cell_type": "code",
   "execution_count": 213,
   "metadata": {},
   "outputs": [
    {
     "data": {
      "text/plain": [
       "count(2)"
      ]
     },
     "execution_count": 213,
     "metadata": {},
     "output_type": "execute_result"
    }
   ],
   "source": []
  },
  {
   "cell_type": "code",
   "execution_count": 198,
   "metadata": {},
   "outputs": [],
   "source": [
    "end = list(set([element for element in new_labels if element[-1]=='…']))"
   ]
  },
  {
   "cell_type": "code",
   "execution_count": 202,
   "metadata": {},
   "outputs": [
    {
     "data": {
      "text/plain": [
       "'I started shaking and shivering so bad. It was terrible. There was Mengele with two dogs and a German woman'"
      ]
     },
     "execution_count": 202,
     "metadata": {},
     "output_type": "execute_result"
    }
   ],
   "source": [
    "end[0][:-1]"
   ]
  },
  {
   "cell_type": "code",
   "execution_count": 159,
   "metadata": {},
   "outputs": [
    {
     "data": {
      "text/plain": [
       "False"
      ]
     },
     "execution_count": 159,
     "metadata": {},
     "output_type": "execute_result"
    }
   ],
   "source": [
    "start[1][0:3]=='..,'"
   ]
  },
  {
   "cell_type": "code",
   "execution_count": 146,
   "metadata": {},
   "outputs": [
    {
     "data": {
      "text/plain": [
       "['..we didnt go naked anywhere, and I was so embarrassed being naked, and I tried to cover myself up.',\n",
       " '..,we lived in tremendous fear (..).',\n",
       " '.. you have tremendous guilt thinking about it, and would have the rest of your life.',\n",
       " \".(..) they told me to be very quiet and not to move and I remember feeling that, that I wa suffocating and I couldn't breathe (..).\",\n",
       " '..oh God, again, naked (..) we were shy, so shy and so ashamed for the man to disinfect you.']"
      ]
     },
     "execution_count": 146,
     "metadata": {},
     "output_type": "execute_result"
    }
   ],
   "source": [
    "start"
   ]
  },
  {
   "cell_type": "code",
   "execution_count": 127,
   "metadata": {},
   "outputs": [
    {
     "data": {
      "text/plain": [
       "'(..) we didnt go naked anywhere, and I was so embarrassed being naked, and I tried to cover myself up.'"
      ]
     },
     "execution_count": 127,
     "metadata": {},
     "output_type": "execute_result"
    }
   ],
   "source": [
    "pattern_dots = r'^(\\.{0,3})(.*)'\n",
    "regex_dots = re.compile(pattern_dots, re.IGNORECASE)\n",
    "regex_dots.sub(r\"(..) \\2\",start[0])"
   ]
  },
  {
   "cell_type": "code",
   "execution_count": 101,
   "metadata": {},
   "outputs": [
    {
     "ename": "IndexError",
     "evalue": "list index out of range",
     "output_type": "error",
     "traceback": [
      "\u001b[0;31m---------------------------------------------------------------------------\u001b[0m",
      "\u001b[0;31mIndexError\u001b[0m                                Traceback (most recent call last)",
      "\u001b[0;32m<ipython-input-101-6e7c4eb16341>\u001b[0m in \u001b[0;36m<module>\u001b[0;34m\u001b[0m\n\u001b[0;32m----> 1\u001b[0;31m \u001b[0mstart\u001b[0m\u001b[0;34m[\u001b[0m\u001b[0;36m0\u001b[0m\u001b[0;34m]\u001b[0m\u001b[0;34m\u001b[0m\u001b[0;34m\u001b[0m\u001b[0m\n\u001b[0m",
      "\u001b[0;31mIndexError\u001b[0m: list index out of range"
     ]
    }
   ],
   "source": [
    "start[0]"
   ]
  },
  {
   "cell_type": "code",
   "execution_count": 67,
   "metadata": {},
   "outputs": [
    {
     "data": {
      "text/plain": [
       "'One day, I was sitting after work in the bunk there, in the barrack, and I collapsed.'"
      ]
     },
     "execution_count": 67,
     "metadata": {},
     "output_type": "execute_result"
    }
   ],
   "source": [
    "label"
   ]
  }
 ],
 "metadata": {
  "kernelspec": {
   "display_name": "Python 3",
   "language": "python",
   "name": "python3"
  },
  "language_info": {
   "codemirror_mode": {
    "name": "ipython",
    "version": 3
   },
   "file_extension": ".py",
   "mimetype": "text/x-python",
   "name": "python",
   "nbconvert_exporter": "python",
   "pygments_lexer": "ipython3",
   "version": "3.7.2"
  }
 },
 "nbformat": 4,
 "nbformat_minor": 2
}
