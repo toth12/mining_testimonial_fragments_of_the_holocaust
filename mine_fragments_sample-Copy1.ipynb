{
 "cells": [
  {
   "cell_type": "markdown",
   "metadata": {},
   "source": [
    "# Mining testimonial fragments of the Holocaust"
   ]
  },
  {
   "cell_type": "markdown",
   "metadata": {},
   "source": [
    "**Experience domain:** numbness"
   ]
  },
  {
   "cell_type": "markdown",
   "metadata": {},
   "source": [
    "### Load the necessary libraries"
   ]
  },
  {
   "cell_type": "code",
   "execution_count": 363,
   "metadata": {},
   "outputs": [],
   "source": [
    "import sys; sys.path.insert(0, '..')\n",
    "import itertools"
   ]
  },
  {
   "cell_type": "code",
   "execution_count": 364,
   "metadata": {},
   "outputs": [],
   "source": [
    "import get_topic_model_concordance as topic_concordancer\n",
    "from utils import blacklab, db, text"
   ]
  },
  {
   "cell_type": "code",
   "execution_count": 365,
   "metadata": {},
   "outputs": [
    {
     "data": {
      "text/html": [
       "<style>.container { width:100% !important; }</style>"
      ],
      "text/plain": [
       "<IPython.core.display.HTML object>"
      ]
     },
     "metadata": {},
     "output_type": "display_data"
    }
   ],
   "source": [
    "%config Completer.use_jedi = False\n",
    "from IPython.core.display import display, HTML\n",
    "display(HTML(\"<style>.container { width:100% !important; }</style>\"))\n",
    "import random"
   ]
  },
  {
   "cell_type": "markdown",
   "metadata": {},
   "source": [
    "### Helper functions"
   ]
  },
  {
   "cell_type": "code",
   "execution_count": 87,
   "metadata": {},
   "outputs": [],
   "source": [
    "def create_contextual_query(lemmas,context_length=50):\n",
    "    permutations = itertools.permutations(lemmas,len(lemmas))\n",
    "    final_result = []\n",
    "    for element in list(permutations):\n",
    "        temp_result = []\n",
    "        for el in element:\n",
    "            temp_result.append('[lemma=\"'+el+'\"]')\n",
    "        temp_result = '('+('[]{0,'+str(context_length)+'}').join(temp_result)+')'\n",
    "        final_result.append(temp_result)\n",
    "    final_result = '|'.join(final_result)\n",
    "    return final_result\n",
    "        \n",
    "        \n",
    "            "
   ]
  },
  {
   "cell_type": "code",
   "execution_count": 337,
   "metadata": {},
   "outputs": [],
   "source": [
    "from utils import blacklab, db, text\n",
    "import requests\n",
    "import json\n",
    "def find_sentence_id(label):\n",
    "    props = {'annotators': 'tokenize'}\n",
    "\n",
    "    # set the encoding of the annotator\n",
    "    requests.encoding = 'utf-8'\n",
    "    # make a request\n",
    "    r = requests.post('http://localhost:9000/', params={'properties':\n",
    "                      json.dumps(props)},\n",
    "                      data=label.encode('utf-8'))\n",
    "    result = json.loads(r.text, encoding='utf-8')\n",
    "    query = []\n",
    "    for i, token in enumerate(result['tokens']):\n",
    "\n",
    "        if ('...'in token['word'] and ((i == 0) or\n",
    "           i == len(result['tokens']) - 1)):\n",
    "            continue\n",
    "        elif ('...'in token['word']):\n",
    "            query.append('[]{0,50}')\n",
    "        elif ('-'in token['word']):\n",
    "            query.append('[]{0,3}')\n",
    "        elif (\"n't\"in token['word']):\n",
    "            query.append('[]')\n",
    "        elif (\"'re\"in token['word']):\n",
    "            query.append('[]')\n",
    "        elif (\"?\"in token['word']):\n",
    "            query.append('[]')\n",
    "        elif (\".\"in token['word']):\n",
    "            query.append('[]')\n",
    "        elif (\"'s\"in token['word']):\n",
    "            query.append('[]')\n",
    "        elif (\",\"in token['word']):\n",
    "            query.append('[]')\n",
    "        else:\n",
    "            query.append('[\"' + token['word'] + '\"]')\n",
    "\n",
    "    query = ' '.join(query)\n",
    "    try:\n",
    "        sentence = blacklab.search_blacklab(query, window=0,\n",
    "                                            lemma=False,\n",
    "                                            include_match=True)\n",
    "        token_end = sentence[0]['token_end']\n",
    "        token_start = sentence[0]['token_start']\n",
    "        print (sentence[0])\n",
    "        mongo = db.get_db()\n",
    "        results = mongo.tokens.find({'testimony_id':\n",
    "                                    sentence[0]['testimony_id']},\n",
    "                                    {'_id': 0})\n",
    "        tokens = list(results)[0]['tokens']\n",
    "        sentenceStart = tokens[token_start]['sentence_index']\n",
    "        sentenceEnd = tokens[token_end]['sentence_index']\n",
    "        originalsentence = sentence[0]['complete_match']\n",
    "        return (sentenceStart,sentenceEnd,sentence[0]['testimony_id'])\n",
    "    except:\n",
    "        print(\"The following query returned a null result\")\n",
    "        print(query)\n",
    "        \n",
    "            \n"
   ]
  },
  {
   "cell_type": "code",
   "execution_count": 174,
   "metadata": {},
   "outputs": [],
   "source": [
    "def create_parent_node(label):\n",
    "    \"\"\"Generate a root node for a tree structure.\"\"\"\n",
    "    testimony_id = random.randint(1, 20)\n",
    "    node = {}\n",
    "    node['label'] = label\n",
    "    fragment = {'label': label,\n",
    "                'essay_id': random.randint(1, 20),\n",
    "                'tree': get_node(testimony_id, node, is_parent=True)}\n",
    "    fragment['tree']['label'] = label\n",
    "\n",
    "    return fragment"
   ]
  },
  {
   "cell_type": "code",
   "execution_count": 177,
   "metadata": {},
   "outputs": [],
   "source": [
    "def get_node(testimony_id, node, is_parent=False):\n",
    "    \"\"\"Generate a parent or leaf node for a tree structure.\"\"\"\n",
    "    if is_parent:\n",
    "        return {\n",
    "            'label': node['label'],\n",
    "            'testimony_id': random.randint(1, 20),\n",
    "            'media_index': random.randint(1, 20),\n",
    "            'media_offset': random.randint(1, 20),\n",
    "            'start_sentence_index': random.randint(1, 20),\n",
    "            'end_sentence_index': random.randint(1, 20),\n",
    "            'children': [], }\n",
    "    else:\n",
    "        return {'label': node['label'],\n",
    "                'testimony_id': node['testimony_id'],\n",
    "                'media_index': float(node['media_index']),\n",
    "                'media_offset': float(node['media_offset']),\n",
    "                'start_sentence_index': float(node['start_sentence_index']),\n",
    "                'end_sentence_index': float(node['end_sentence_index']),\n",
    "                'children': [], }"
   ]
  },
  {
   "cell_type": "code",
   "execution_count": 182,
   "metadata": {},
   "outputs": [],
   "source": [
    "def check_if_main_node_exist(node):\n",
    "    results = mongo.fragments.find({'label':node},{'_id': 0})\n",
    "    if len(results[0])==0:\n",
    "        return False\n",
    "    else:\n",
    "        return True"
   ]
  },
  {
   "cell_type": "code",
   "execution_count": 302,
   "metadata": {},
   "outputs": [],
   "source": [
    "def add_main_node(label):\n",
    "    mongo.fragments.insert(create_parent_node(label))"
   ]
  },
  {
   "cell_type": "code",
   "execution_count": 300,
   "metadata": {},
   "outputs": [],
   "source": [
    "def delete_main_node(label):\n",
    "    mongo.fragments.delete_one({'label':label})"
   ]
  },
  {
   "cell_type": "code",
   "execution_count": 298,
   "metadata": {},
   "outputs": [],
   "source": [
    "def add_testimonial_fragments(fragments):\n",
    "    if check_if_main_node_exist(fragments['main_node']):\n",
    "        results = mongo.fragments.find({'label':fragments['main_node']},{'_id':0})[0]\n",
    "        mid_nodes = [element['label'] for element in results['tree']['children']]\n",
    "        if fragments['mid_node'] in mid_nodes:\n",
    "            print (\"mid node exists cannot be added\")\n",
    "        else:\n",
    "            \n",
    "            mid_node = get_node('r',{'label':fragments['mid_node']},is_parent=True)\n",
    "            for fragment in fragments['fragments']:\n",
    "                leaf = get_node(fragment['testimony_id'],fragment)\n",
    "                mid_node['children'].append(leaf)\n",
    "            results['tree']['children'].append(mid_node)\n",
    "            mongo.fragments.replace_one({'label':fragments['main_node']},results)"
   ]
  },
  {
   "cell_type": "markdown",
   "metadata": {},
   "source": [
    "### Set up the query"
   ]
  },
  {
   "cell_type": "code",
   "execution_count": 55,
   "metadata": {},
   "outputs": [],
   "source": [
    "query = '[lemma=\"numb\"]'"
   ]
  },
  {
   "cell_type": "code",
   "execution_count": 10,
   "metadata": {},
   "outputs": [
    {
     "name": "stdout",
     "output_type": "stream",
     "text": [
      "Training lda model began\n",
      "http://localhost:8080/blacklab-server-2.1.0/lts/hits?patt=%5Blemma%3D%22numb%22%5D&waitfortotal=true&outputformat=json&prettyprint=no&wordsaroundhit=50\n"
     ]
    }
   ],
   "source": [
    "result = topic_concordancer.main(query,window=50,topicn=25)"
   ]
  },
  {
   "cell_type": "markdown",
   "metadata": {},
   "source": [
    "### Print the key topics"
   ]
  },
  {
   "cell_type": "code",
   "execution_count": 11,
   "metadata": {},
   "outputs": [
    {
     "name": "stdout",
     "output_type": "stream",
     "text": [
      "0\n",
      "0.215*\"shock\" + 0.190*\"mind\" + 0.152*\"moment\" + 0.127*\"die\" + 0.127*\"Germans\" + 0.114*\"understand\" + 0.038*\"come_back\" + 0.025*\"child\" + 0.013*\"shoot\" + 0.000*\"march\"\n",
      "\n",
      "\n",
      "1\n",
      "0.703*\"time\" + 0.108*\"kill\" + 0.095*\"try_to\" + 0.041*\"thing\" + 0.027*\"Jews\" + 0.014*\"end_of\" + 0.014*\"leave\" + 0.000*\"march\" + 0.000*\"of_course\" + 0.000*\"my_mother\"\n",
      "\n",
      "\n",
      "2\n",
      "0.955*\"feel\" + 0.027*\"dead\" + 0.018*\"march\" + 0.000*\"never\" + 0.000*\"stand\" + 0.000*\"Jews\" + 0.000*\"leave\" + 0.000*\"my_mother\" + 0.000*\"person\" + 0.000*\"foot\"\n",
      "\n",
      "\n",
      "3\n",
      "0.357*\"become_numb\" + 0.167*\"lose\" + 0.107*\"realize\" + 0.107*\"hope\" + 0.095*\"move\" + 0.095*\"try_to\" + 0.036*\"live\" + 0.024*\"of_course\" + 0.012*\"give\" + 0.000*\"my_mother\"\n",
      "\n",
      "\n",
      "4\n",
      "0.513*\"feeling\" + 0.211*\"place\" + 0.197*\"completely\" + 0.039*\"do_not\" + 0.039*\"come_back\" + 0.000*\"of_course\" + 0.000*\"leave\" + 0.000*\"march\" + 0.000*\"my_mother\" + 0.000*\"never\"\n",
      "\n",
      "\n",
      "5\n",
      "0.392*\"thing\" + 0.373*\"happen\" + 0.176*\"sit\" + 0.049*\"die\" + 0.010*\"time\" + 0.000*\"walk\" + 0.000*\"foot\" + 0.000*\"my_mother\" + 0.000*\"never\" + 0.000*\"of_course\"\n",
      "\n",
      "\n",
      "6\n",
      "0.368*\"day\" + 0.322*\"work\" + 0.161*\"woman\" + 0.080*\"how_long\" + 0.034*\"dead\" + 0.023*\"sit\" + 0.011*\"morning\" + 0.000*\"march\" + 0.000*\"Jews\" + 0.000*\"leave\"\n",
      "\n",
      "\n",
      "7\n",
      "0.309*\"put\" + 0.294*\"hit\" + 0.176*\"hand\" + 0.147*\"dead\" + 0.029*\"food\" + 0.015*\"realize\" + 0.015*\"how_long\" + 0.015*\"understand\" + 0.000*\"Jews\" + 0.000*\"leave\"\n",
      "\n",
      "\n",
      "8\n",
      "0.519*\"do_not\" + 0.208*\"shoot\" + 0.143*\"come_back\" + 0.078*\"leave\" + 0.039*\"hand\" + 0.013*\"dead\" + 0.000*\"never\" + 0.000*\"Jews\" + 0.000*\"march\" + 0.000*\"my_mother\"\n",
      "\n",
      "\n",
      "9\n",
      "0.452*\"remember\" + 0.250*\"war\" + 0.154*\"end\" + 0.125*\"fear\" + 0.019*\"kind_of\" + 0.000*\"of_course\" + 0.000*\"whatever\" + 0.000*\"march\" + 0.000*\"my_mother\" + 0.000*\"never\"\n",
      "\n",
      "\n",
      "10\n",
      "0.647*\"do_not\" + 0.153*\"live\" + 0.082*\"start\" + 0.059*\"scare\" + 0.035*\"of_course\" + 0.024*\"could_not\" + 0.000*\"move\" + 0.000*\"Jews\" + 0.000*\"march\" + 0.000*\"come_back\"\n",
      "\n",
      "\n",
      "11\n",
      "0.358*\"kind_of\" + 0.309*\"back\" + 0.160*\"person\" + 0.136*\"happen\" + 0.025*\"food\" + 0.012*\"sort_of\" + 0.000*\"never\" + 0.000*\"my_mother\" + 0.000*\"march\" + 0.000*\"whatever\"\n",
      "\n",
      "\n",
      "12\n",
      "0.325*\"make\" + 0.241*\"anymore\" + 0.157*\"what_happen\" + 0.145*\"man\" + 0.120*\"Jews\" + 0.012*\"find\" + 0.000*\"leave\" + 0.000*\"my_mother\" + 0.000*\"stand\" + 0.000*\"of_course\"\n",
      "\n",
      "\n",
      "13\n",
      "0.329*\"seconds\" + 0.247*\"my_father\" + 0.153*\"my_mother\" + 0.141*\"head\" + 0.035*\"of_course\" + 0.035*\"time\" + 0.024*\"man\" + 0.024*\"night\" + 0.012*\"lose\" + 0.000*\"march\"\n",
      "\n",
      "\n",
      "14\n",
      "0.245*\"start\" + 0.202*\"call\" + 0.170*\"friend\" + 0.138*\"talk\" + 0.117*\"german\" + 0.085*\"scare\" + 0.032*\"hope\" + 0.011*\"seconds\" + 0.000*\"my_mother\" + 0.000*\"never\"\n",
      "\n",
      "\n",
      "15\n",
      "0.779*\"could_not\" + 0.151*\"foot\" + 0.058*\"move\" + 0.012*\"stand\" + 0.000*\"never\" + 0.000*\"Jews\" + 0.000*\"leave\" + 0.000*\"march\" + 0.000*\"my_mother\" + 0.000*\"person\"\n",
      "\n",
      "\n",
      "16\n",
      "0.337*\"walk\" + 0.233*\"life\" + 0.174*\"prisoner\" + 0.174*\"point\" + 0.058*\"leave\" + 0.012*\"shock\" + 0.012*\"food\" + 0.000*\"march\" + 0.000*\"Jews\" + 0.000*\"stand\"\n",
      "\n",
      "\n",
      "17\n",
      "0.514*\"do_not\" + 0.189*\"child\" + 0.189*\"live\" + 0.041*\"train\" + 0.027*\"leave\" + 0.027*\"march\" + 0.014*\"go_through\" + 0.000*\"my_mother\" + 0.000*\"stand\" + 0.000*\"walk\"\n",
      "\n",
      "\n",
      "18\n",
      "0.943*\"do_not\" + 0.046*\"my_mother\" + 0.011*\"person\" + 0.000*\"happen\" + 0.000*\"of_course\" + 0.000*\"stand\" + 0.000*\"Jews\" + 0.000*\"leave\" + 0.000*\"march\" + 0.000*\"come_back\"\n",
      "\n",
      "\n",
      "19\n",
      "0.215*\"Auschwitz\" + 0.204*\"survive\" + 0.161*\"bad\" + 0.118*\"describe\" + 0.108*\"end_of\" + 0.108*\"morning\" + 0.054*\"food\" + 0.022*\"sort_of\" + 0.011*\"child\" + 0.000*\"my_mother\"\n",
      "\n",
      "\n",
      "20\n",
      "0.793*\"people\" + 0.122*\"train\" + 0.037*\"how_long\" + 0.024*\"do_not\" + 0.012*\"stay\" + 0.012*\"realize\" + 0.000*\"my_mother\" + 0.000*\"march\" + 0.000*\"leave\" + 0.000*\"Jews\"\n",
      "\n",
      "\n",
      "21\n",
      "0.313*\"camp\" + 0.169*\"stay\" + 0.157*\"sort_of\" + 0.133*\"go_through\" + 0.120*\"of_course\" + 0.060*\"thing\" + 0.024*\"child\" + 0.012*\"die\" + 0.012*\"happen\" + 0.000*\"walk\"\n",
      "\n",
      "\n",
      "22\n",
      "0.798*\"do_not\" + 0.125*\"march\" + 0.048*\"what_happen\" + 0.010*\"person\" + 0.010*\"place\" + 0.010*\"try_to\" + 0.000*\"never\" + 0.000*\"leave\" + 0.000*\"my_mother\" + 0.000*\"Jews\"\n",
      "\n",
      "\n",
      "23\n",
      "0.520*\"hear\" + 0.213*\"find\" + 0.160*\"stand\" + 0.093*\"talk\" + 0.013*\"fear\" + 0.000*\"march\" + 0.000*\"my_mother\" + 0.000*\"never\" + 0.000*\"of_course\" + 0.000*\"walk\"\n",
      "\n",
      "\n",
      "24\n",
      "0.349*\"cry\" + 0.313*\"give\" + 0.205*\"night\" + 0.060*\"kill\" + 0.024*\"food\" + 0.024*\"make\" + 0.012*\"lose\" + 0.012*\"morning\" + 0.000*\"stand\" + 0.000*\"leave\"\n",
      "\n",
      "\n"
     ]
    }
   ],
   "source": [
    "for i,element in enumerate(result['topic_documents']):\n",
    "    print (i)\n",
    "    topic_words =  element['topic_words'][1]\n",
    "    print (topic_words)\n",
    "    print ('\\n')"
   ]
  },
  {
   "cell_type": "markdown",
   "metadata": {},
   "source": [
    "### Analyze documents"
   ]
  },
  {
   "cell_type": "code",
   "execution_count": 12,
   "metadata": {},
   "outputs": [
    {
     "name": "stdout",
     "output_type": "stream",
     "text": [
      "the shock , the variation of shocks and remember I was arrested in 1942 , so I was n't even 16 years old yet , i was 15 year old . My sister was not even 12 , not even 13 she was , well 1928 . We were so numb , we were almost , the shock hypnotized us , I believe and for that matter , I 'm slowly getting out of hypnosis right now , in 1996 , even now , today ... [ end of side 1 of tape 1 ] Q : So let 's go \n",
      "\n",
      "\n",
      ". And I , when I heard about one classmate who had died already , this was like three months later , it was still a normal reaction , because I had just come from a normal , more or less normal environment , so that the emotions were not numb yet . But , as things were happening , you were in shock , and you , you did not have too much time to think . You just had to act upon all the orders that were constantly being given to you by the Germans . And , of \n",
      "\n",
      "\n",
      "a barrack with strangers . Change of tape INT : Irene Zisblatt , take five . Irene , you described your experiment -- the experiments done on you in Auschwitz . How did you endure as a 13-year-old ? IZ : I -- I just -- my body just became numb . My mind was like , I did n't care when I died . Because eventually , I was gon na die . I was only hoping to hang on long enough to die where the gas chambers would n't be around anymore . Because I did n't want to \n",
      "\n",
      "\n",
      "country . INT : How did they -- how did the Germans achieve that ? What were things -- LE : I believe that , now that my daughter is a doctor , and I read a lot about how they managed to brainwash people and how they managed to numb somebody 's mind , or cripple your mind -- in Auschwitz , in the food , they put in bromide . This friend of mine who worked in the kitchen said that every barrel of soup , they used to put in five kilograms of bromide -- which prevents people \n",
      "\n",
      "\n",
      "had 4 and 1/2 years of good schooling , you understand . Nothing shocked me anymore . I mean , they took away my mother and my sister . I -- I -- I was n't shocked anymore . I did n't cry any more . INT : You become numb . AR : I did n't have any tears anymore left . Most of us were like zombies . One - one ca n't - it took years here to get that out of my -- even now I sometimes I get , especially when I speak , it comes \n",
      "\n",
      "\n",
      "thousands -- maybe 10,000 of times continually , continually , continually . INTERVIEWER 2 : Were you ill ? Was your mother ill ? SUBJECT : No . INTERVIEWER 2 : You lay there for five months . How did you keep your body from -- SUBJECT : It was numb . I do remember a numbness . I will go into it in a few moments . When the war began looking quite favorably , uh , to the Germans and to the outside world , because the German armies were about to approach Moscow -- Leningrad was surrounded . \n",
      "\n",
      "\n",
      "and she said , they 're looking for people to send to work . And I asked her , how do you know it 's to work and not around the block to the crematoria . She said , I have seen them given bread . And even to my numb mind , the thought penetrated that the Germans would not waste bread on somebody that has to go to a crematoria . And then she obviously registered it . I must tell you that there was no communication whatsoever between people and the thing that helped you in your survival \n",
      "\n",
      "\n",
      ", it 's not a pleasant -- those were not pleasant moments . And , uh , you 're being scared . The child is scared . However , probably the most scary moment -- scary by -- I do n't mean horror movies but to the point of being numb -- is when you know , OK , maybe 5 minutes , maybe 10 minutes . But this is your end . You 're sort of numb . You 're , uh , drained , almost like of all emotions . This is it . And you can not do \n",
      "\n",
      "\n",
      "before -- I want to know , you walked for a mile and a half with a rifle -- DG : Yeah . INT : -- sticking into your back . DG : Yeah . Yeah . INT : What was going through your mind ? DG : You are numb . You 're shocked . It 's -- you 're just -- you 're just -- it 's fear . You 're just -- your heart palpates and you just do n't know anything . You 're like in a -- like unconscious . INT : Did n't you think \n",
      "\n",
      "\n",
      "odors ? HC : It 's hard to describe . I recall it somewhat , but probably some were from the furnace , you know , which by that time , they , of course , were had been extinct . And [ PAUSES FOR 4 SECONDS ] I was numb when I was there . I 'll be very honest with you . I was not -- I was somewhat in a state of shock . When I entered the camp , the moment we came in with the Jeep , and we -- we saw the freight cars at \n",
      "\n",
      "\n",
      "have told us about that stands out in your mind ? A : Well , it would have to be the moment I was separated from my mother . That already … you were already in a certain state of not realizing what was happening … Q : Almost being numb . A : Yah , yah . Numbness is really the word . From that time on , I would say , that God did not exist and , as I said before , I was never thinking of tomorrow . I do n’t recall . Q : I was \n",
      "\n",
      "\n",
      "bromide . This friend of mine who worked in the kitchen said that every barrel of soup , they used to put in five kilograms of bromide -- which prevents people from -- it 's like a tranquilizer . It stopped women from menstruating . It -- your mind gets numb . I 'm not a doctor , but from what I -- I hear and read and understand that , they used some kind of a method to just take away your human -- that you 're a human being . INT : This friend who worked in the kitchen \n",
      "\n",
      "\n",
      "have been dead , too . But I do n't , I just -- I do n't -- I do n't understand it up today how I walked away from there , not knowing . I do n't know if I was -- you know , your mind gets so numb to everything . You know , you , you walk around like in daze . So I walked from there to the other side . I did n't know what be different between these prisoners or the other prisoners . I did n't know . And I walked over to \n",
      "\n",
      "\n",
      "-- [ LAUGHS ] -- you know , needs it . So we ate it all . Selfishly , we ate it all . The hunger is so terrible , it hurts . It 's that your body 's in pain . Really , I think the mind is already numb , and the body is in pain . It 's sort of a dizziness . It 's very painful . Hunger is very painful . And then my mother , after a few days , she got better . And she said , let me see . In the dark \n",
      "\n",
      "\n",
      "[ speaks Polish here ] now that ’s what is , yeah . [ indecipherable ] Q : You described yourself as very reserved , afraid sometimes -- A : Well , I was conf -- constantly with the -- I was afraid . I had this -- I was numb . I could n’t express anything , I was afraid . Q : W-Was there anything that you did for yourself , or in your mind , maybe late at night , in a way to kind of reassure yourself or reaffirm your own identity , who you were , \n",
      "\n",
      "\n",
      "night I said to my brother , we met at night , do you think we 'll ever get out of here ? I had no hopes and expectations to get out of it . They -- they took away our mind . We went numb . We actually got numb , [ ? but yet ? ] we had feelings . And then another thing , every so often they had their hangings we had to witness . This plant , this particular plant -- and I must touch on this here . This particular plant was very vital for \n",
      "\n",
      "\n",
      "horrible . They were Polish collaborators , too . INT : And they were uniformed in black uniforms ? HB : Yes . The Ukrainians wore the black uniforms . INT : OK . HB : OK ? INT : So you were so shocked . HB : You were numb . You were in such a shock . You did not know what 's going on , because the next room was waiting another group of Nazis . And they were spraying us with some kind of disinfectant . And -- but we were numb . Number one , the \n",
      "\n",
      "\n",
      "who were shaving us , wherever a hair grows . The shock was beyond description . We did not know what was going on with us . And they were -- they were very cruel , the way they were shaving us . They had fun . But we were numb . We did not know what 's going on with us . Until , after the shaving -- INT : I 'm sorry . Helen , who were the collaborators ? HB : Well , we had in Poland , they had all kinds of collaborators . The Nazis found \n",
      "\n",
      "\n",
      "I meant . Q : Yeah , okay . I under -- I understand that , I -- I think , and I just wondered if -- if it was difficult after the war , to -- to come back from that -- that experience of having -- having to numb yourself so that -- so that you would n’t g -- ex -- so that you ’d be able to just control yourself . A : Right . Q : But I ’m wondering , a-a-after the war , how did y -- A : I must have been very \n",
      "\n",
      "\n",
      "my childhood , my sister , my parents , my high school , the principal , the bishop , everything until this moment and like a movie . I said , that 's a very short life though . And I did n't hear nothing . I just became totally numb . 04:30:05 Maybe it 's like a self-defense mechanism with your body that if you know that you were facing your final hour , maybe that 's what it was . I was never a victim of execution . So you do n't know how to behave . It was \n",
      "\n",
      "\n",
      "so , yeah . Q : Did you -- did you react in any way ? A : No . Q : No . A : You got so many things on your mind , once you get there , you know , in that situation , you get really numb , and you -- you do n’t feel any -- anything at all . Q : What were -- were you thinking about anything when you were on the train ? Or were you -- A : Yeah , I was thinking I would have liked to know where we \n",
      "\n",
      "\n",
      ", later , cement was poured . I ca n't tell you how it 's called . I ca n't even say it in German or in English . The point is that I never forget what it does to do this for hours on end , and how that numbs your mind . And I had to , again , I know poems still today , hundreds by heart . I had to say those poems . I had to sing , and I have a horrible voice . But this is what you had to do . In addition \n",
      "\n",
      "\n",
      ". HB : You were numb . You were in such a shock . You did not know what 's going on , because the next room was waiting another group of Nazis . And they were spraying us with some kind of disinfectant . And -- but we were numb . Number one , the most scary thing was , you know , not realizing , because those were not -- they can not comprehend . You can not imagine . You did not recognize your sister . You looked so different . We looked not human . We looked \n",
      "\n",
      "\n",
      "suffering . I remember one night I said to my brother , we met at night , do you think we 'll ever get out of here ? I had no hopes and expectations to get out of it . They -- they took away our mind . We went numb . We actually got numb , [ ? but yet ? ] we had feelings . And then another thing , every so often they had their hangings we had to witness . This plant , this particular plant -- and I must touch on this here . This particular \n",
      "\n",
      "\n",
      "of cloth , uh , which had a number on there , which is my number , 62 oh 22 , and , uh , the insignia , that , uh -- the Magen David , red and yellow . And we went through the t -- and we were numb . You understand what I mean ? I mean , there was nothing there . What impression ? What ? Numb . Completely empty . Maybe it was just me , but I think it affected everybody . We were thirsty . And the first thing we heard , do \n",
      "\n",
      "\n"
     ]
    }
   ],
   "source": [
    "i=0\n",
    "for text in result['topic_documents'][i]['texts'][0:25]:\n",
    "    print (text['matched_text_words'])\n",
    "    print ('\\n')"
   ]
  },
  {
   "cell_type": "markdown",
   "metadata": {},
   "source": [
    "## Testimonial fragments"
   ]
  },
  {
   "cell_type": "markdown",
   "metadata": {},
   "source": [
    "### 1.  Kill"
   ]
  },
  {
   "cell_type": "code",
   "execution_count": 64,
   "metadata": {},
   "outputs": [],
   "source": [
    "lemmas = ['kill','numb']"
   ]
  },
  {
   "cell_type": "code",
   "execution_count": 65,
   "metadata": {},
   "outputs": [],
   "source": [
    "query = create_contextual_query(lemmas,context_length=50)"
   ]
  },
  {
   "cell_type": "code",
   "execution_count": 66,
   "metadata": {},
   "outputs": [
    {
     "name": "stdout",
     "output_type": "stream",
     "text": [
      "([lemma=\"kill\"][]{0,50}[lemma=\"numb\"])|([lemma=\"numb\"][]{0,50}[lemma=\"kill\"])\n"
     ]
    }
   ],
   "source": [
    "print (query)"
   ]
  },
  {
   "cell_type": "code",
   "execution_count": 49,
   "metadata": {},
   "outputs": [],
   "source": [
    "domain_term = 'kill'"
   ]
  },
  {
   "cell_type": "code",
   "execution_count": null,
   "metadata": {},
   "outputs": [],
   "source": [
    "fragments = []"
   ]
  },
  {
   "cell_type": "code",
   "execution_count": 67,
   "metadata": {},
   "outputs": [],
   "source": [
    "fragment_1 = {}\n",
    "fragment_1['original_sentence'] = \"[PAUSES FOR 3 SECONDS] Then they said, you're out of luck because we're going to kill you all. [PAUSES FOR 4 SECONDS] We [PAUSES FOR 4 SECONDS] were numb.\"\n",
    "fragment_1['fragment_label']=\"Then they said, you're out of luck because we're going to kill you all. We were numb.\""
   ]
  },
  {
   "cell_type": "code",
   "execution_count": 45,
   "metadata": {},
   "outputs": [],
   "source": [
    "fragment_2 = {}\n",
    "fragment_2['original_sentence'] = ''\n",
    "fragment_2['fragment_label']='We were so numb, we were almost, the shock hypnotized us (..)'"
   ]
  },
  {
   "cell_type": "code",
   "execution_count": 45,
   "metadata": {},
   "outputs": [],
   "source": [
    "fragment_2 = {}\n",
    "fragment_2['original_sentence'] = ''\n",
    "fragment_2['fragment_label']='To see another 10,000 Jews come and be killed, another 20,000 be killed? (..) Then after awhile you become so numb (..)"
   ]
  },
  {
   "cell_type": "code",
   "execution_count": 45,
   "metadata": {},
   "outputs": [],
   "source": [
    "fragment_3 = {}\n",
    "fragment_3['original_sentence'] = ''\n",
    "fragment_3['fragment_label']=\"You are numb. You're shocked\""
   ]
  },
  {
   "cell_type": "code",
   "execution_count": 45,
   "metadata": {},
   "outputs": [],
   "source": [
    "fragment_4 = {}\n",
    "fragment_4['original_sentence'] = 'And we were so numb, [? Cathy ?] every 10 people get killed.'\n",
    "fragment_4['fragment_label']=\"And we were so numb, (..) every 10 people get killed.\""
   ]
  },
  {
   "cell_type": "code",
   "execution_count": 71,
   "metadata": {},
   "outputs": [],
   "source": [
    "fragment_5 = {}\n",
    "fragment_5['original_sentence'] = \"And I-- I-- I heard screams and-- from-- from-- from-- from people being wounded, from people being killed, from cries. And finally, everything subsided. But I was alive. I didn't-- I didn't even think. I was numb. And finally, everything subsided. But I was alive. I didn't-- I didn't even think. I was numb.\"\n",
    "\n"
   ]
  },
  {
   "cell_type": "code",
   "execution_count": null,
   "metadata": {},
   "outputs": [],
   "source": [
    "fragment_5['fragment_label']=\"I heard screams (..) from people being wounded, from people being killed, from cries. (..) I was numb.\""
   ]
  },
  {
   "cell_type": "markdown",
   "metadata": {},
   "source": [
    "### 2.  Shock"
   ]
  },
  {
   "cell_type": "code",
   "execution_count": null,
   "metadata": {},
   "outputs": [],
   "source": [
    "query = '[lemma=\"shock\"]([]{0,25}[lemma=\"numb\"])|[lemma=\"numb\"]([]{0,25}[lemma=\"shock\"])'"
   ]
  },
  {
   "cell_type": "code",
   "execution_count": 42,
   "metadata": {},
   "outputs": [],
   "source": [
    "domain_term = 'shock'"
   ]
  },
  {
   "cell_type": "code",
   "execution_count": 45,
   "metadata": {},
   "outputs": [],
   "source": [
    "fragment_1 = {}\n",
    "fragment_1['original_sentence'] = 'c'\n",
    "fragment_1['fragment_label']='I was in complete shock. I was numb, nothing.'"
   ]
  },
  {
   "cell_type": "code",
   "execution_count": 45,
   "metadata": {},
   "outputs": [],
   "source": [
    "fragment_2 = {}\n",
    "fragment_2['original_sentence'] = ''\n",
    "fragment_2['label']='We were so numb, we were almost, the shock hypnotized us (..)'"
   ]
  },
  {
   "cell_type": "code",
   "execution_count": 45,
   "metadata": {},
   "outputs": [],
   "source": [
    "fragment_2 = {}\n",
    "fragment_2['original_sentence'] = ''\n",
    "fragment_2['fragment_label']=''"
   ]
  },
  {
   "cell_type": "code",
   "execution_count": 45,
   "metadata": {},
   "outputs": [],
   "source": [
    "fragment_3 = {}\n",
    "fragment_3['original_sentence'] = ''\n",
    "fragment_3['fragment_label']=\"You are numb. You're shocked\""
   ]
  },
  {
   "cell_type": "code",
   "execution_count": 45,
   "metadata": {},
   "outputs": [],
   "source": [
    "fragment_4 = {}\n",
    "fragment_4['original_sentence'] = ''\n",
    "fragment_4['fragment_label']=\"I was numb when I was there. I'll be very honest with you. I was not-- I was somewhat in a state of shock.\""
   ]
  },
  {
   "cell_type": "code",
   "execution_count": 45,
   "metadata": {},
   "outputs": [],
   "source": [
    "fragment_5 = {}\n",
    "fragment_5['original_sentence'] = ''\n",
    "fragment_5['fragment_label']='I was a completely-- I guess I was-- I was 15. I was shocked. I was, uh, numb.'"
   ]
  },
  {
   "cell_type": "markdown",
   "metadata": {},
   "source": [
    "### 3.  Dead inside"
   ]
  },
  {
   "cell_type": "code",
   "execution_count": 303,
   "metadata": {},
   "outputs": [
    {
     "name": "stderr",
     "output_type": "stream",
     "text": [
      "/miniconda3/lib/python3.7/site-packages/ipykernel_launcher.py:2: DeprecationWarning: insert is deprecated. Use insert_one or insert_many instead.\n",
      "  \n"
     ]
    }
   ],
   "source": [
    "main_node = \"numbness\"\n",
    "add_main_node('numbness')"
   ]
  },
  {
   "cell_type": "code",
   "execution_count": 84,
   "metadata": {},
   "outputs": [],
   "source": [
    "lemmas = ['lose','numb']"
   ]
  },
  {
   "cell_type": "code",
   "execution_count": 85,
   "metadata": {},
   "outputs": [],
   "source": [
    "query = create_contextual_query(lemmas,context_length=50)"
   ]
  },
  {
   "cell_type": "code",
   "execution_count": 86,
   "metadata": {},
   "outputs": [
    {
     "name": "stdout",
     "output_type": "stream",
     "text": [
      "([lemma=\"alive\"][]{0,50}[lemma=\"numb\"])|([lemma=\"numb\"][]{0,50}[lemma=\"alive\"])\n"
     ]
    }
   ],
   "source": [
    "print (query)"
   ]
  },
  {
   "cell_type": "code",
   "execution_count": 355,
   "metadata": {},
   "outputs": [],
   "source": [
    "fragments = {}"
   ]
  },
  {
   "cell_type": "code",
   "execution_count": 356,
   "metadata": {},
   "outputs": [],
   "source": [
    "fragments['main_node'] = main_node"
   ]
  },
  {
   "cell_type": "code",
   "execution_count": 357,
   "metadata": {},
   "outputs": [],
   "source": [
    "fragments['mid_node'] = 'dead inside'\n",
    "fragments['fragments']= []"
   ]
  },
  {
   "cell_type": "markdown",
   "metadata": {},
   "source": [
    "{'label': node['label'],\n",
    "                'testimony_id': node['testimony_id'],\n",
    "                'media_index': float(node['media_index']),\n",
    "                'media_offset': float(node['media_offset']),\n",
    "                'start_sentence_index': float(node['start_sentence_index']),\n",
    "                'end_sentence_index': float(node['end_sentence_index']),\n",
    "                'children': [], }"
   ]
  },
  {
   "cell_type": "code",
   "execution_count": 358,
   "metadata": {},
   "outputs": [
    {
     "name": "stdout",
     "output_type": "stream",
     "text": [
      "http://localhost:8080/blacklab-server-2.1.0/lts/hits?patt=%5B%22By%22%5D+%5B%22the%22%5D+%5B%22time%22%5D+%5B%22the%22%5D+%5B%22Nazis%22%5D+%5B%22took%22%5D+%5B%22us%22%5D+%5B%22into%22%5D+%5B%22the%22%5D+%5B%22concentration%22%5D+%5B%22camp%22%5D+%5B%22I%22%5D+%5B%22was%22%5D+%5B%22so%22%5D+%5B%22numb%22%5D+%5B%22inside%22%5D+%5B%5D+%5B%22I%22%5D+%5B%22was%22%5D+%5B%22so%22%5D+%5B%22dead%22%5D+%5B%5D+%5B%22I%22%5D+%5B%22was%22%5D+%5B%22not%22%5D+%5B%22able%22%5D+%5B%22to%22%5D+%5B%22feel%22%5D+%5B%22anything%22%5D+%5B%5D&waitfortotal=true&outputformat=json&prettyprint=no&wordsaroundhit=0\n",
      "{'left': '', 'match_word': 'By the time the Nazis took us into the concentration camp I was so numb inside , I was so dead , I was not able to feel anything . ', 'right': '', 'complete_match': 'By the time the Nazis took us into the concentration camp I was so numb inside , I was so dead , I was not able to feel anything . ', 'testimony_id': 'irn504792', 'shelfmark': ['USHMM RG-50.030*0296'], 'token_start': 2032, 'token_end': 2062}\n"
     ]
    }
   ],
   "source": [
    "fragment_1 = {}\n",
    "fragment_1['original_sentence'] = 'By the time the Nazis took us into the concentration camp I was so numb inside, I was so dead, I was not able to feel anything.'\n",
    "fragment_1['label']='(..) I was so numb inside, I was so dead (..)'\n",
    "indices = find_sentence_id(fragment_1['original_sentence'])\n",
    "fragment_1['start_sentence_index']=indices[0]\n",
    "fragment_1['end_sentence_index']=indices[1]\n",
    "fragment_1['media_offset'] = 0\n",
    "fragment_1['media_index'] = 0\n",
    "fragment_1['testimony_id'] = indices[2]\n",
    "fragments['fragments'].append(fragment_1)\n"
   ]
  },
  {
   "cell_type": "code",
   "execution_count": 359,
   "metadata": {},
   "outputs": [
    {
     "name": "stdout",
     "output_type": "stream",
     "text": [
      "http://localhost:8080/blacklab-server-2.1.0/lts/hits?patt=%5B%22You%22%5D+%5B%22were%22%5D+%5B%22so%22%5D+%5B%22numb%22%5D+%5B%22that%22%5D+%5B%22everything%22%5D+%5B%22that%22%5D+%5B%22you%22%5D+%5B%22saw%22%5D+%5B%22around%22%5D+%5B%22you%22%5D+%5B%5D+%5B%22that%22%5D+%5B%22you%22%5D+%5B%5D+%5B%22your%22%5D+%5B%22feelings%22%5D+%5B%22were%22%5D+%5B%22dead%22%5D+%5B%5D&waitfortotal=true&outputformat=json&prettyprint=no&wordsaroundhit=0\n",
      "{'left': '', 'match_word': 'You were so numb that everything that you saw around you , that you , your feelings were dead . ', 'right': '', 'complete_match': 'You were so numb that everything that you saw around you , that you , your feelings were dead . ', 'testimony_id': 'irn505576', 'shelfmark': ['USHMM RG-50.042*0023'], 'token_start': 8257, 'token_end': 8277}\n"
     ]
    }
   ],
   "source": [
    "fragment_2 = {}\n",
    "fragment_2['original_sentence'] = 'You were so numb that everything that you saw around you, that you, your feelings were dead.'\n",
    "fragment_2['label']='You were so numb that everything that you saw around you, that you, your feelings were dead.'\n",
    "indices = find_sentence_id(fragment_2['original_sentence'])\n",
    "fragment_2['start_sentence_index']=indices[0]\n",
    "fragment_2['end_sentence_index']=indices[1]\n",
    "fragment_2['media_offset'] = 0\n",
    "fragment_2['media_index'] = 0\n",
    "fragment_2['testimony_id'] = indices[2]\n",
    "fragments['fragments'].append(fragment_2)"
   ]
  },
  {
   "cell_type": "code",
   "execution_count": 360,
   "metadata": {},
   "outputs": [
    {
     "name": "stdout",
     "output_type": "stream",
     "text": [
      "http://localhost:8080/blacklab-server-2.1.0/lts/hits?patt=%5B%22Uh%22%5D+%5B%5D+%5B%22we%22%5D+%5B%22had%22%5D+%5B%5D+%5B%22we%22%5D+%5B%22were%22%5D+%5B%22moving%22%5D+%5B%22sometimes%22%5D+%5B%22uh%22%5D+%5B%5D+%5B%22fifty%22%5D+%5B%22or%22%5D+%5B%22sixty%22%5D+%5B%22miles%22%5D+%5B%22a%22%5D+%5B%22day%22%5D+%5B%22and%22%5D+%5B%22working%22%5D+%5B%22day%22%5D+%5B%22and%22%5D+%5B%22night%22%5D+%5B%22and%22%5D+%5B%22uh%22%5D+%5B%5D+%5B%22we%22%5D+%5B%22were%22%5D+%5B%22just%22%5D+%5B%22uh%22%5D+%5B%5D+%5B%22uh%22%5D+%5B%5D+%5B%22we%22%5D+%5B%22were%22%5D+%5B%22just%22%5D+%5B%22dead%22%5D+%5B%22on%22%5D+%5B%22our%22%5D+%5B%22feet%22%5D+%5B%5D+%5B%22and%22%5D+%5B%22uh%22%5D+%5B%5D+%5B%22one%22%5D+%5B%22of%22%5D+%5B%22the%22%5D+%5B%22problems%22%5D+%5B%22that%22%5D+%5B%22we%22%5D+%5B%22had%22%5D+%5B%22in%22%5D+%5B%22relation%22%5D+%5B%22to%22%5D+%5B%22this%22%5D+%5B%22type%22%5D+%5B%22of%22%5D+%5B%22recollection%22%5D+%5B%22is%22%5D+%5B%22that%22%5D+%5B%22uh%22%5D+%5B%5D+%5B%22we%22%5D+%5B%22were%22%5D+%5B%22numb%22%5D+%5B%5D&waitfortotal=true&outputformat=json&prettyprint=no&wordsaroundhit=0\n",
      "{'left': '', 'match_word': 'Uh , we had , we were moving sometimes uh , fifty or sixty miles a day and working day and night and uh , we were just uh , uh , we were just dead on our feet , and uh , one of the problems that we had in relation to this type of recollection is that uh , we were numb . ', 'right': '', 'complete_match': 'Uh , we had , we were moving sometimes uh , fifty or sixty miles a day and working day and night and uh , we were just uh , uh , we were just dead on our feet , and uh , one of the problems that we had in relation to this type of recollection is that uh , we were numb . ', 'testimony_id': 'irn504594', 'shelfmark': ['USHMM RG-50.030*0100'], 'token_start': 7137, 'token_end': 7202}\n"
     ]
    }
   ],
   "source": [
    "fragment_3 = {}\n",
    "fragment_3['original_sentence'] = 'Uh, we had, we were moving sometimes uh, fifty or sixty miles a day and working day and night and uh, we were just uh, uh, we were just dead on our feet, and uh, one of the problems that we had in relation to this type of recollection is that uh, we were numb.'\n",
    "fragment_3['label']='we were just dead on our feet, and uh, one of the problems that we had in relation to this type of recollection is that uh, we were numb.'\n",
    "indices = find_sentence_id(fragment_3['original_sentence'])\n",
    "fragment_3['start_sentence_index']=indices[0]\n",
    "fragment_3['end_sentence_index']=indices[1]\n",
    "fragment_3['media_offset'] = 0\n",
    "fragment_3['media_index'] = 0\n",
    "fragment_3['testimony_id'] = indices[2]\n",
    "fragments['fragments'].append(fragment_3)"
   ]
  },
  {
   "cell_type": "code",
   "execution_count": 361,
   "metadata": {},
   "outputs": [
    {
     "name": "stdout",
     "output_type": "stream",
     "text": [
      "http://localhost:8080/blacklab-server-2.1.0/lts/hits?patt=%5B%22Your%22%5D+%5B%22heart%22%5D+%5B%5D+%5B%22everything%22%5D+%5B%5D+%5B%22your%22%5D+%5B%22whole%22%5D+%5B%22body%22%5D+%5B%22start%22%5D+%5B%22getting%22%5D+%5B%22already%22%5D+%5B%22like%22%5D+%5B%22numb%22%5D+%5B%22and%22%5D+%5B%22dead%22%5D+%5B%5D&waitfortotal=true&outputformat=json&prettyprint=no&wordsaroundhit=0\n",
      "{'left': '', 'match_word': 'Your heart , everything , your whole body start getting already like numb and dead . ', 'right': '', 'complete_match': 'Your heart , everything , your whole body start getting already like numb and dead . ', 'testimony_id': 'irn510703', 'shelfmark': ['USHMM RG-50.156*0049'], 'token_start': 1038, 'token_end': 1054}\n"
     ]
    }
   ],
   "source": [
    "fragment_4 = {}\n",
    "fragment_4['original_sentence'] = 'Your heart, everything, your whole body start getting already like numb and dead.'\n",
    "fragment_4['label']=\"Your heart, everything, your whole body start getting already like numb and dead.\"\n",
    "indices = find_sentence_id(fragment_4['original_sentence'])\n",
    "fragment_4['start_sentence_index']=indices[0]\n",
    "fragment_4['end_sentence_index']=indices[1]\n",
    "fragment_4['media_offset'] = 0\n",
    "fragment_4['media_index'] = 0\n",
    "fragment_4['testimony_id'] = indices[2]\n",
    "fragments['fragments'].append(fragment_4)"
   ]
  },
  {
   "cell_type": "code",
   "execution_count": 362,
   "metadata": {},
   "outputs": [],
   "source": [
    "add_testimonial_fragments(fragments)"
   ]
  },
  {
   "cell_type": "markdown",
   "metadata": {},
   "source": [
    "### 4.  Lose"
   ]
  },
  {
   "cell_type": "code",
   "execution_count": 95,
   "metadata": {},
   "outputs": [],
   "source": [
    "lemmas =['lose','numb']"
   ]
  },
  {
   "cell_type": "code",
   "execution_count": 96,
   "metadata": {},
   "outputs": [],
   "source": [
    "query = create_contextual_query(lemmas)"
   ]
  },
  {
   "cell_type": "code",
   "execution_count": 97,
   "metadata": {},
   "outputs": [
    {
     "name": "stdout",
     "output_type": "stream",
     "text": [
      "([lemma=\"lose\"][]{0,50}[lemma=\"numb\"])|([lemma=\"numb\"][]{0,50}[lemma=\"lose\"])\n"
     ]
    }
   ],
   "source": [
    "print (query)"
   ]
  },
  {
   "cell_type": "code",
   "execution_count": 42,
   "metadata": {},
   "outputs": [],
   "source": [
    "domain_term = 'lose'"
   ]
  },
  {
   "cell_type": "code",
   "execution_count": 98,
   "metadata": {},
   "outputs": [],
   "source": [
    "fragment_1 = {}\n",
    "fragment_1['original_sentence'] = \"I saw parents who lost their children. I saw husbands who lost their wives and vise versa, and they were numbed, actually, to-- they didn't complain.\"\n",
    "fragment_1['fragment_label']=\"I saw parents who lost their children. I saw husbands who lost their wives and vise versa, and they were numbed (..)\""
   ]
  },
  {
   "cell_type": "code",
   "execution_count": 45,
   "metadata": {},
   "outputs": [],
   "source": [
    "fragment_2 = {}\n",
    "fragment_2['original_sentence'] = \"2:3:18 The most tragic kind of family is the numb family who are survivors who usually lost both their parents and their children.\"\n",
    "fragment_2['fragment_label']=\"(..) the numb family who are survivors who usually lost both their parents and their children.\""
   ]
  },
  {
   "cell_type": "code",
   "execution_count": 45,
   "metadata": {},
   "outputs": [],
   "source": [
    "fragment_2 = {}\n",
    "fragment_2['original_sentence'] = \"MR: I was so numb that I don't even know. I was all numb. I lost everybody.\"\n",
    "fragment_2['fragment_label']=\"I was all numb. I lost everybody.\""
   ]
  },
  {
   "cell_type": "code",
   "execution_count": 45,
   "metadata": {},
   "outputs": [],
   "source": [
    "fragment_3 = {}\n",
    "fragment_3['original_sentence'] = \"I still was despising...but I had become somehow numb. I knew I couldn't change things...all these people I have lost, all these victims I had seen, all these corpses I had seen lying around, and by the way I lost also then within a short time, two of my close friends be...because they they could...one was a man who was highly idealistic and he couldn't take the misery and the the this this this this height of inhumanity, so he he uh said enough is enough.\"\n",
    "fragment_3['fragment_label']=\"I had become somehow numb. I knew I couldn't change things...all these people I have lost\""
   ]
  },
  {
   "cell_type": "markdown",
   "metadata": {},
   "source": [
    "### 5.  No feeling"
   ]
  },
  {
   "cell_type": "code",
   "execution_count": 99,
   "metadata": {},
   "outputs": [],
   "source": [
    "lemmas =['feeling','numb']"
   ]
  },
  {
   "cell_type": "code",
   "execution_count": 100,
   "metadata": {},
   "outputs": [],
   "source": [
    "query = create_contextual_query(lemmas)"
   ]
  },
  {
   "cell_type": "code",
   "execution_count": 101,
   "metadata": {},
   "outputs": [
    {
     "name": "stdout",
     "output_type": "stream",
     "text": [
      "([lemma=\"feeling\"][]{0,50}[lemma=\"numb\"])|([lemma=\"numb\"][]{0,50}[lemma=\"feeling\"])\n"
     ]
    }
   ],
   "source": [
    "print (query)"
   ]
  },
  {
   "cell_type": "code",
   "execution_count": 102,
   "metadata": {},
   "outputs": [],
   "source": [
    "domain_term = 'no feeling'"
   ]
  },
  {
   "cell_type": "code",
   "execution_count": 98,
   "metadata": {},
   "outputs": [],
   "source": [
    "fragment_1 = {}\n",
    "fragment_1['original_sentence'] = \"We were numb. The five years there were no feelings.\"\n",
    "fragment_1['fragment_label']=\"We were numb. The five years there were no feelings.\""
   ]
  },
  {
   "cell_type": "code",
   "execution_count": 45,
   "metadata": {},
   "outputs": [],
   "source": [
    "fragment_2 = {}\n",
    "fragment_2['original_sentence'] = \"They had no feeling to even think how I would feel. And so I'm just like a machine, numb machine, going through the mechanical motions of something that I was forced into doing.\"\n",
    "fragment_2['fragment_label']=\"They had no feeling to even think how I would feel. And so I'm just like a machine, numb machine (..)\""
   ]
  },
  {
   "cell_type": "code",
   "execution_count": 45,
   "metadata": {},
   "outputs": [],
   "source": [
    "fragment_3 = {}\n",
    "fragment_3['original_sentence'] = \"But you become numb, you know. You...you're not really sensitive to feelings any more.\"\n",
    "fragment_3['fragment_label']=\"But you become numb, you know. You...you're not really sensitive to feelings any more.\""
   ]
  },
  {
   "cell_type": "code",
   "execution_count": 103,
   "metadata": {},
   "outputs": [],
   "source": [
    "fragment_4 = {}\n",
    "fragment_4['original_sentence'] = \"The were no feelings. You were completely numb.\"\n",
    "fragment_4['fragment_label']= \"The were no feelings. You were completely numb.\""
   ]
  },
  {
   "cell_type": "code",
   "execution_count": 105,
   "metadata": {},
   "outputs": [],
   "source": [
    "fragment_5 = {}\n",
    "fragment_5['original_sentence'] = \"It was all numb and just – couldn’t have any feeling, it felt like just you – you know how your leg – how something goes to sleep when you’re [indecipherable] that’s the way it felt.\"\n",
    "fragment_5['fragment_label']= \"It was all numb and just – couldn’t have any feeling\"\n"
   ]
  },
  {
   "cell_type": "markdown",
   "metadata": {},
   "source": [
    "### 6.  No cry"
   ]
  },
  {
   "cell_type": "code",
   "execution_count": 111,
   "metadata": {},
   "outputs": [],
   "source": [
    "lemmas =['cry','numb']"
   ]
  },
  {
   "cell_type": "code",
   "execution_count": 112,
   "metadata": {},
   "outputs": [],
   "source": [
    "query = create_contextual_query(lemmas)"
   ]
  },
  {
   "cell_type": "code",
   "execution_count": 113,
   "metadata": {},
   "outputs": [
    {
     "name": "stdout",
     "output_type": "stream",
     "text": [
      "([lemma=\"cry\"][]{0,50}[lemma=\"numb\"])|([lemma=\"numb\"][]{0,50}[lemma=\"cry\"])\n"
     ]
    }
   ],
   "source": [
    "print (query)"
   ]
  },
  {
   "cell_type": "code",
   "execution_count": 114,
   "metadata": {},
   "outputs": [],
   "source": [
    "domain_term = 'cry'"
   ]
  },
  {
   "cell_type": "code",
   "execution_count": 98,
   "metadata": {},
   "outputs": [],
   "source": [
    "fragment_1 = {}\n",
    "fragment_1['original_sentence'] = \"You never cried. You so...it was so numb...it's...it's very hard to explain.\"\n",
    "fragment_1['fragment_label']=\"You never cried. You so...it was so numb...it's...it's very hard to explain.\""
   ]
  },
  {
   "cell_type": "code",
   "execution_count": 45,
   "metadata": {},
   "outputs": [],
   "source": [
    "fragment_2 = {}\n",
    "fragment_2['original_sentence'] = \"That was--we were numb. We couldn't--it wasn't a question--we weren't crying but we were--we were like num--just pieces of would.\"\n",
    "fragment_2['fragment_label']=\"(..)we were numb. We couldn't--it wasn't a question--we weren't crying (..)\""
   ]
  },
  {
   "cell_type": "code",
   "execution_count": 45,
   "metadata": {},
   "outputs": [],
   "source": [
    "fragment_3 = {}\n",
    "fragment_3['original_sentence'] = \"But I-- at that time, I was like-- I felt like I, I was-- I couldn't even cry anymore. Just couldn't. I mean, there just-- I was numb.\"\n",
    "fragment_3['fragment_label']=\"I couldn't even cry anymore. Just couldn't. I mean, there just-- I was numb.\""
   ]
  },
  {
   "cell_type": "code",
   "execution_count": 115,
   "metadata": {},
   "outputs": [],
   "source": [
    "fragment_4 = {}\n",
    "fragment_4['original_sentence'] = \"And after about four hours-- and I probably was numb; I couldn't cry or say [?\"\n",
    "fragment_4['fragment_label']=\"I probably was numb; I couldn't cry\""
   ]
  },
  {
   "cell_type": "code",
   "execution_count": null,
   "metadata": {},
   "outputs": [],
   "source": [
    "fragment_5 = {}\n",
    "fragment_5['original_sentence'] = \"I was numb. I didn’t express any emotions or anything like that, I didn’t cry.\"\n",
    "fragment_5['fragment_label']=\"I was numb. I didn’t express any emotions or anything like that, I didn’t cry.\""
   ]
  },
  {
   "cell_type": "code",
   "execution_count": null,
   "metadata": {},
   "outputs": [],
   "source": []
  }
 ],
 "metadata": {
  "kernelspec": {
   "display_name": "base",
   "language": "python",
   "name": "base"
  },
  "language_info": {
   "codemirror_mode": {
    "name": "ipython",
    "version": 3
   },
   "file_extension": ".py",
   "mimetype": "text/x-python",
   "name": "python",
   "nbconvert_exporter": "python",
   "pygments_lexer": "ipython3",
   "version": "3.7.2"
  }
 },
 "nbformat": 4,
 "nbformat_minor": 2
}
