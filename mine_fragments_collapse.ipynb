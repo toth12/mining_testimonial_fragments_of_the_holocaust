{
 "cells": [
  {
   "cell_type": "markdown",
   "metadata": {},
   "source": [
    "# Mining testimonial fragments of the Holocaust"
   ]
  },
  {
   "cell_type": "markdown",
   "metadata": {},
   "source": [
    "**Experience domain: sit**"
   ]
  },
  {
   "cell_type": "markdown",
   "metadata": {},
   "source": [
    "### Load the necessary libraries"
   ]
  },
  {
   "cell_type": "code",
   "execution_count": 406,
   "metadata": {},
   "outputs": [],
   "source": [
    "import sys; sys.path.insert(0, '..')\n",
    "import itertools"
   ]
  },
  {
   "cell_type": "code",
   "execution_count": 407,
   "metadata": {},
   "outputs": [],
   "source": [
    "import get_topic_model_concordance as topic_concordancer\n",
    "from utils import blacklab, db, text\n",
    "mongo = db.get_db()"
   ]
  },
  {
   "cell_type": "code",
   "execution_count": 408,
   "metadata": {},
   "outputs": [
    {
     "data": {
      "text/html": [
       "<style>.container { width:100% !important; }</style>"
      ],
      "text/plain": [
       "<IPython.core.display.HTML object>"
      ]
     },
     "metadata": {},
     "output_type": "display_data"
    }
   ],
   "source": [
    "%config Completer.use_jedi = False\n",
    "from IPython.core.display import display, HTML\n",
    "display(HTML(\"<style>.container { width:100% !important; }</style>\"))\n",
    "import random"
   ]
  },
  {
   "cell_type": "markdown",
   "metadata": {},
   "source": [
    "### Helper functions"
   ]
  },
  {
   "cell_type": "code",
   "execution_count": 409,
   "metadata": {},
   "outputs": [],
   "source": [
    "def create_contextual_query(lemmas,context_length=50):\n",
    "    permutations = itertools.permutations(lemmas,len(lemmas))\n",
    "    final_result = []\n",
    "    for element in list(permutations):\n",
    "        temp_result = []\n",
    "        for el in element:\n",
    "            temp_result.append('[lemma=\"'+el+'\"]')\n",
    "        temp_result = '('+('[]{0,'+str(context_length)+'}').join(temp_result)+')'\n",
    "        final_result.append(temp_result)\n",
    "    final_result = '|'.join(final_result)\n",
    "    return final_result\n",
    "        \n",
    "        \n",
    "            "
   ]
  },
  {
   "cell_type": "code",
   "execution_count": 410,
   "metadata": {},
   "outputs": [],
   "source": [
    "from utils import blacklab, db, text\n",
    "import requests\n",
    "import json\n",
    "def find_sentence_id(label):\n",
    "    props = {'annotators': 'tokenize'}\n",
    "\n",
    "    # set the encoding of the annotator\n",
    "    requests.encoding = 'utf-8'\n",
    "    # make a request\n",
    "    r = requests.post('http://localhost:9000/', params={'properties':\n",
    "                      json.dumps(props)},\n",
    "                      data=label.encode('utf-8'))\n",
    "    result = json.loads(r.text, encoding='utf-8')\n",
    "    query = []\n",
    "    for i, token in enumerate(result['tokens']):\n",
    "\n",
    "        if ('...'in token['word'] and ((i == 0) or\n",
    "           i == len(result['tokens']) - 1)):\n",
    "            continue\n",
    "        elif ('...'in token['word']):\n",
    "            query.append('[]{0,50}')\n",
    "        elif ('-'in token['word']):\n",
    "            query.append('[]{0,3}')\n",
    "        elif (\"n't\"in token['word']):\n",
    "            query.append('[]')\n",
    "        elif (\"'re\"in token['word']):\n",
    "            query.append('[]')\n",
    "        elif (\"?\"in token['word']):\n",
    "            query.append('[]')\n",
    "        elif (\".\"in token['word']):\n",
    "            query.append('[]')\n",
    "        elif (\"'s\"in token['word']):\n",
    "            query.append('[]')\n",
    "        elif (\",\"in token['word']):\n",
    "            query.append('[]')\n",
    "        else:\n",
    "            query.append('[\"' + token['word'] + '\"]')\n",
    "\n",
    "    query = ' '.join(query)\n",
    "    try:\n",
    "        sentence = blacklab.search_blacklab(query, window=0,\n",
    "                                            lemma=False,\n",
    "                                            include_match=True)\n",
    "        token_end = sentence[0]['token_end']\n",
    "        token_start = sentence[0]['token_start']\n",
    "        print (sentence[0])\n",
    "        mongo = db.get_db()\n",
    "        results = mongo.tokens.find({'testimony_id':\n",
    "                                    sentence[0]['testimony_id']},\n",
    "                                    {'_id': 0})\n",
    "        tokens = list(results)[0]['tokens']\n",
    "        sentenceStart = tokens[token_start]['sentence_index']\n",
    "        sentenceEnd = tokens[token_end]['sentence_index']\n",
    "        originalsentence = sentence[0]['complete_match']\n",
    "        return (sentenceStart,sentenceEnd,sentence[0]['testimony_id'])\n",
    "    except:\n",
    "        print(\"The following query returned a null result\")\n",
    "        print(query)\n",
    "        \n",
    "            \n"
   ]
  },
  {
   "cell_type": "code",
   "execution_count": 411,
   "metadata": {},
   "outputs": [],
   "source": [
    "def create_parent_node(label):\n",
    "    \"\"\"Generate a root node for a tree structure.\"\"\"\n",
    "    testimony_id = random.randint(1, 20)\n",
    "    node = {}\n",
    "    node['label'] = label\n",
    "    fragment = {'label': label,\n",
    "                'essay_id': random.randint(1, 20),\n",
    "                'tree': get_node(testimony_id, node, is_parent=True)}\n",
    "    fragment['tree']['label'] = label\n",
    "\n",
    "    return fragment"
   ]
  },
  {
   "cell_type": "code",
   "execution_count": 412,
   "metadata": {},
   "outputs": [],
   "source": [
    "def get_node(testimony_id, node, is_parent=False):\n",
    "    \"\"\"Generate a parent or leaf node for a tree structure.\"\"\"\n",
    "    if is_parent:\n",
    "        return {\n",
    "            'label': node['label'],\n",
    "            'testimony_id': random.randint(1, 20),\n",
    "            'media_index': random.randint(1, 20),\n",
    "            'media_offset': random.randint(1, 20),\n",
    "            'start_sentence_index': random.randint(1, 20),\n",
    "            'end_sentence_index': random.randint(1, 20),\n",
    "            'children': [], }\n",
    "    else:\n",
    "        return {'label': node['label'],\n",
    "                'testimony_id': node['testimony_id'],\n",
    "                'media_index': float(node['media_index']),\n",
    "                'media_offset': float(node['media_offset']),\n",
    "                'start_sentence_index': float(node['start_sentence_index']),\n",
    "                'end_sentence_index': float(node['end_sentence_index']),\n",
    "                'children': [], }"
   ]
  },
  {
   "cell_type": "code",
   "execution_count": 413,
   "metadata": {},
   "outputs": [],
   "source": [
    "def check_if_main_node_exist(node):\n",
    "    results = mongo.fragments.find({'label':node},{'_id': 0})\n",
    "    if len(results[0])==0:\n",
    "        return False\n",
    "    else:\n",
    "        return True"
   ]
  },
  {
   "cell_type": "code",
   "execution_count": 414,
   "metadata": {},
   "outputs": [],
   "source": [
    "def add_main_node(label):\n",
    "    mongo.fragments.insert(create_parent_node(label))"
   ]
  },
  {
   "cell_type": "code",
   "execution_count": 415,
   "metadata": {},
   "outputs": [],
   "source": [
    "def delete_main_node(label):\n",
    "    mongo.fragments.delete_one({'label':label})"
   ]
  },
  {
   "cell_type": "code",
   "execution_count": 416,
   "metadata": {},
   "outputs": [],
   "source": [
    "def add_testimonial_fragments(fragments):\n",
    "    if check_if_main_node_exist(fragments['main_node']):\n",
    "        results = mongo.fragments.find({'label':fragments['main_node']},{'_id':0})[0]\n",
    "        mid_nodes = [element['label'] for element in results['tree']['children']]\n",
    "        if fragments['mid_node'] in mid_nodes:\n",
    "            print (\"mid node exists cannot be added\")\n",
    "        else:\n",
    "            \n",
    "            mid_node = get_node('r',{'label':fragments['mid_node']},is_parent=True)\n",
    "            for fragment in fragments['fragments']:\n",
    "                leaf = get_node(fragment['testimony_id'],fragment)\n",
    "                mid_node['children'].append(leaf)\n",
    "            results['tree']['children'].append(mid_node)\n",
    "            mongo.fragments.replace_one({'label':fragments['main_node']},results)"
   ]
  },
  {
   "cell_type": "markdown",
   "metadata": {},
   "source": [
    "### Add the main node"
   ]
  },
  {
   "cell_type": "code",
   "execution_count": 417,
   "metadata": {},
   "outputs": [
    {
     "name": "stderr",
     "output_type": "stream",
     "text": [
      "/miniconda3/lib/python3.7/site-packages/ipykernel_launcher.py:2: DeprecationWarning: insert is deprecated. Use insert_one or insert_many instead.\n",
      "  \n"
     ]
    }
   ],
   "source": [
    "main_node = \"collapse\"\n",
    "#delete_main_node(main_node)\n",
    "add_main_node(main_node)"
   ]
  },
  {
   "cell_type": "markdown",
   "metadata": {},
   "source": [
    "### Set up the query"
   ]
  },
  {
   "cell_type": "code",
   "execution_count": 418,
   "metadata": {},
   "outputs": [],
   "source": [
    "query = '[lemma=\"collapse\"]'"
   ]
  },
  {
   "cell_type": "markdown",
   "metadata": {},
   "source": [
    "result = topic_concordancer.main(query,window=10,topicn=25)"
   ]
  },
  {
   "cell_type": "markdown",
   "metadata": {},
   "source": [
    "### Print the key topics"
   ]
  },
  {
   "cell_type": "markdown",
   "metadata": {},
   "source": [
    "for i,element in enumerate(result['topic_documents']):\n",
    "    print (i)\n",
    "    topic_words =  element['topic_words'][1]\n",
    "    print (topic_words)\n",
    "    print ('\\n')"
   ]
  },
  {
   "cell_type": "markdown",
   "metadata": {},
   "source": [
    "### Analyze documents"
   ]
  },
  {
   "cell_type": "markdown",
   "metadata": {},
   "source": [
    "i=5\n",
    "for text in result['topic_documents'][i]['texts'][0:25]:\n",
    "    print (text['matched_text_words'])\n",
    "    print ('\\n')"
   ]
  },
  {
   "cell_type": "markdown",
   "metadata": {},
   "source": [
    "## Testimonial fragments"
   ]
  },
  {
   "cell_type": "markdown",
   "metadata": {},
   "source": [
    "### 1.  my whole world"
   ]
  },
  {
   "cell_type": "code",
   "execution_count": 419,
   "metadata": {},
   "outputs": [],
   "source": [
    "lemmas = [\"world\",\"collapse\"]"
   ]
  },
  {
   "cell_type": "code",
   "execution_count": 420,
   "metadata": {},
   "outputs": [
    {
     "name": "stdout",
     "output_type": "stream",
     "text": [
      "([lemma=\"world\"][]{0,50}[lemma=\"collapse\"])|([lemma=\"collapse\"][]{0,50}[lemma=\"world\"])\n"
     ]
    }
   ],
   "source": [
    "query = create_contextual_query(lemmas,context_length=50)\n",
    "print (query)"
   ]
  },
  {
   "cell_type": "code",
   "execution_count": 421,
   "metadata": {},
   "outputs": [],
   "source": [
    "domain_term = \"my whole world\""
   ]
  },
  {
   "cell_type": "code",
   "execution_count": 422,
   "metadata": {},
   "outputs": [],
   "source": [
    "fragments = {}\n",
    "fragments['main_node'] = main_node\n",
    "fragments['mid_node'] = domain_term\n",
    "fragments['fragments'] = []"
   ]
  },
  {
   "cell_type": "code",
   "execution_count": 423,
   "metadata": {},
   "outputs": [
    {
     "name": "stdout",
     "output_type": "stream",
     "text": [
      "http://localhost:8080/blacklab-server-2.1.0/lts/hits?patt=%5B%22And%22%5D+%5B%5D+%5B%22um%22%5D+%5B%5D+%5B%22I%22%5D+%5B%22felt%22%5D+%5B%22and%22%5D+%5B%22I%22%5D+%5B%22realized%22%5D+%5B%22or%22%5D+%5B%22recognized%22%5D+%5B%22the%22%5D+%5B%22fact%22%5D+%5B%22that%22%5D+%5B%22is%22%5D+%5B%5D%7B0%2C3%7D+%5B%22this%22%5D+%5B%22is%22%5D+%5B%22my%22%5D+%5B%22world%22%5D+%5B%22is%22%5D+%5B%22collapsing%22%5D+%5B%5D&waitfortotal=true&outputformat=json&prettyprint=no&wordsaroundhit=0\n",
      "{'left': '', 'match_word': 'And , um , I felt and I realized or recognized the fact that is -- this is my world is collapsing . ', 'right': '', 'complete_match': 'And , um , I felt and I realized or recognized the fact that is -- this is my world is collapsing . ', 'testimony_id': 'HVT-11', 'shelfmark': ['Fortunoff HVT-11'], 'token_start': 558, 'token_end': 581}\n"
     ]
    }
   ],
   "source": [
    "fragment_1 = {}\n",
    "fragment_1['original_sentence'] = \"And, um, I felt and I realized or recognized the fact that is-- this is my world is collapsing.\"\n",
    "fragment_1['label']=\"And, um, I felt and I realized or recognized the fact that is-- this is my world is collapsing.\"\n",
    "indices = find_sentence_id(fragment_1['original_sentence'])\n",
    "fragment_1['start_sentence_index']=indices[0]\n",
    "fragment_1['end_sentence_index']=indices[1]\n",
    "fragment_1['media_offset'] = 0\n",
    "fragment_1['media_index'] = 0\n",
    "fragment_1['testimony_id'] = indices[2]\n",
    "fragments['fragments'].append(fragment_1)"
   ]
  },
  {
   "cell_type": "code",
   "execution_count": 424,
   "metadata": {},
   "outputs": [
    {
     "name": "stdout",
     "output_type": "stream",
     "text": [
      "http://localhost:8080/blacklab-server-2.1.0/lts/hits?patt=%5B%22So%22%5D+%5B%22once%22%5D+%5B%22he%22%5D+%5B%22said%22%5D+%5B%22this%22%5D+%5B%5D+%5B%22we%22%5D+%5B%22all%22%5D+%5B%22felt%22%5D+%5B%22that%22%5D+%5B%22the%22%5D+%5B%22whole%22%5D+%5B%22world%22%5D+%5B%22collapsed%22%5D+%5B%22you%22%5D+%5B%22know%22%5D+%5B%22around%22%5D+%5B%22us%22%5D+%5B%22because%22%5D+%5B%22there%22%5D+%5B%22was%22%5D+%5B%22no%22%5D+%5B%22really%22%5D&waitfortotal=true&outputformat=json&prettyprint=no&wordsaroundhit=0\n",
      "{'left': '', 'match_word': 'So once he said this , we all felt that the whole world collapsed you know around us because there was no really ', 'right': '', 'complete_match': 'So once he said this , we all felt that the whole world collapsed you know around us because there was no really ', 'testimony_id': 'irn504755', 'shelfmark': ['USHMM RG-50.030*0271'], 'token_start': 13935, 'token_end': 13958}\n"
     ]
    }
   ],
   "source": [
    "fragment_2 = {}\n",
    "fragment_2['original_sentence'] = \"So once he said this, we all felt that the whole world collapsed you know around us because there was no really \"\n",
    "fragment_2['label']=\"we all felt that the whole world collapsed\"\n",
    "indices = find_sentence_id(fragment_2['original_sentence'])\n",
    "fragment_2['start_sentence_index']=indices[0]\n",
    "fragment_2['end_sentence_index']=indices[1]\n",
    "fragment_2['media_offset'] = 0\n",
    "fragment_2['media_index'] = 0\n",
    "fragment_2['testimony_id'] = indices[2]\n",
    "fragments['fragments'].append(fragment_2)\n"
   ]
  },
  {
   "cell_type": "code",
   "execution_count": 425,
   "metadata": {},
   "outputs": [
    {
     "name": "stdout",
     "output_type": "stream",
     "text": [
      "http://localhost:8080/blacklab-server-2.1.0/lts/hits?patt=%5B%22Our%22%5D+%5B%22world%22%5D+%5B%22collapsed%22%5D+%5B%5D+%5B%22Our%22%5D+%5B%22life%22%5D+%5B%22has%22%5D+%5B%22changed%22%5D+%5B%22forever%22%5D+%5B%5D&waitfortotal=true&outputformat=json&prettyprint=no&wordsaroundhit=0\n",
      "{'left': '', 'match_word': 'Our world collapsed . Our life has changed forever . ', 'right': '', 'complete_match': 'Our world collapsed . Our life has changed forever . ', 'testimony_id': 'usc_shoah_151', 'shelfmark': ['USC 151'], 'token_start': 16806, 'token_end': 16816}\n"
     ]
    }
   ],
   "source": [
    "fragment_3 = {}\n",
    "fragment_3['original_sentence'] = \" Our world collapsed. Our life has changed forever.\"\n",
    "fragment_3['label']=\" Our world collapsed. Our life has changed forever.\"\n",
    "indices = find_sentence_id(fragment_3['original_sentence'])\n",
    "fragment_3['start_sentence_index']=indices[0]\n",
    "fragment_3['end_sentence_index']=indices[1]\n",
    "fragment_3['media_offset'] = 0\n",
    "fragment_3['media_index'] = 0\n",
    "fragment_3['testimony_id'] = indices[2]\n",
    "fragments['fragments'].append(fragment_3)"
   ]
  },
  {
   "cell_type": "code",
   "execution_count": 426,
   "metadata": {},
   "outputs": [
    {
     "name": "stdout",
     "output_type": "stream",
     "text": [
      "http://localhost:8080/blacklab-server-2.1.0/lts/hits?patt=%5B%22And%22%5D+%5B%22I%22%5D+%5B%22felt%22%5D+%5B%22like%22%5D+%5B%22my%22%5D+%5B%22whole%22%5D+%5B%22world%22%5D+%5B%22had%22%5D+%5B%22collapsed%22%5D+%5B%5D+%5B%22because%22%5D+%5B%22this%22%5D+%5B%22man%22%5D+%5B%5D+%5B%22to%22%5D+%5B%22me%22%5D+%5B%5D+%5B%22was%22%5D+%5B%22going%22%5D+%5B%22to%22%5D+%5B%22take%22%5D+%5B%22my%22%5D+%5B%22mother%22%5D+%5B%22and%22%5D+%5B%22father%22%5D+%5B%5D+%5B%22place%22%5D+%5B%5D+%5B%22and%22%5D+%5B%22now%22%5D+%5B%22he%22%5D+%5B%22%27d%22%5D+%5B%22gone%22%5D+%5B%5D&waitfortotal=true&outputformat=json&prettyprint=no&wordsaroundhit=0\n",
      "{'left': '', 'match_word': \"And I felt like my whole world had collapsed , because this man , to me , was going to take my mother and father 's place , and now he 'd gone . \", 'right': '', 'complete_match': \"And I felt like my whole world had collapsed , because this man , to me , was going to take my mother and father 's place , and now he 'd gone . \", 'testimony_id': 'usc_shoah_5103', 'shelfmark': ['USC 5103'], 'token_start': 5076, 'token_end': 5110}\n"
     ]
    }
   ],
   "source": [
    "fragment_4 = {}\n",
    "fragment_4['original_sentence'] = \"And I felt like my whole world had collapsed, because this man, to me, was going to take my mother and father's place, and now he'd gone.\"\n",
    "fragment_4['label']= \"And I felt like my whole world had collapsed (..).\"\n",
    "indices = find_sentence_id(fragment_4['original_sentence'])\n",
    "fragment_4['start_sentence_index']=indices[0]\n",
    "fragment_4['end_sentence_index']=indices[1]\n",
    "fragment_4['media_offset'] = 0\n",
    "fragment_4['media_index'] = 0\n",
    "fragment_4['testimony_id'] = indices[2]\n",
    "fragments['fragments'].append(fragment_4)\n"
   ]
  },
  {
   "cell_type": "code",
   "execution_count": 427,
   "metadata": {},
   "outputs": [
    {
     "name": "stdout",
     "output_type": "stream",
     "text": [
      "http://localhost:8080/blacklab-server-2.1.0/lts/hits?patt=%5B%5D%7B0%2C3%7D+%5B%22PAUSES%22%5D+%5B%22FOR%22%5D+%5B%227%22%5D+%5B%22SECONDS%22%5D+%5B%5D%7B0%2C3%7D+%5B%22Our%22%5D+%5B%22world%22%5D+%5B%22collapsed%22%5D+%5B%22completely%22%5D+%5B%5D&waitfortotal=true&outputformat=json&prettyprint=no&wordsaroundhit=0\n",
      "{'left': '', 'match_word': 'arms . [ PAUSES FOR 7 SECONDS ] Our world collapsed completely . ', 'right': '', 'complete_match': 'arms . [ PAUSES FOR 7 SECONDS ] Our world collapsed completely . ', 'testimony_id': 'usc_shoah_27347', 'shelfmark': ['USC 27347'], 'token_start': 4570, 'token_end': 4583}\n"
     ]
    }
   ],
   "source": [
    "fragment_5 = {}\n",
    "fragment_5['original_sentence'] = \"[PAUSES FOR 7 SECONDS] Our world collapsed completely.\"\n",
    "fragment_5['label']= \"Our world collapsed completely\"\n",
    "indices = find_sentence_id(fragment_5['original_sentence'])\n",
    "fragment_5['start_sentence_index']=indices[0]\n",
    "fragment_5['end_sentence_index']=indices[1]\n",
    "fragment_5['media_offset'] = 0\n",
    "fragment_5['media_index'] = 0\n",
    "fragment_5['testimony_id'] = indices[2]\n",
    "fragments['fragments'].append(fragment_5)"
   ]
  },
  {
   "cell_type": "code",
   "execution_count": 428,
   "metadata": {},
   "outputs": [],
   "source": [
    "add_testimonial_fragments(fragments)"
   ]
  },
  {
   "cell_type": "markdown",
   "metadata": {},
   "source": [
    "### 2.  die"
   ]
  },
  {
   "cell_type": "code",
   "execution_count": 429,
   "metadata": {},
   "outputs": [],
   "source": [
    "lemmas = [\"die\",\"collapse\"]"
   ]
  },
  {
   "cell_type": "code",
   "execution_count": 430,
   "metadata": {},
   "outputs": [
    {
     "name": "stdout",
     "output_type": "stream",
     "text": [
      "([lemma=\"die\"][]{0,25}[lemma=\"collapse\"])|([lemma=\"collapse\"][]{0,25}[lemma=\"die\"])\n"
     ]
    }
   ],
   "source": [
    "query = create_contextual_query(lemmas,context_length=25)\n",
    "print (query)"
   ]
  },
  {
   "cell_type": "code",
   "execution_count": 431,
   "metadata": {},
   "outputs": [],
   "source": [
    "domain_term = \"die\""
   ]
  },
  {
   "cell_type": "code",
   "execution_count": 432,
   "metadata": {},
   "outputs": [],
   "source": [
    "fragments = {}\n",
    "fragments['main_node'] = main_node\n",
    "fragments['mid_node'] = domain_term\n",
    "fragments['fragments'] = []"
   ]
  },
  {
   "cell_type": "code",
   "execution_count": 433,
   "metadata": {},
   "outputs": [
    {
     "name": "stdout",
     "output_type": "stream",
     "text": [
      "http://localhost:8080/blacklab-server-2.1.0/lts/hits?patt=%5B%22And%22%5D+%5B%22when%22%5D+%5B%22we%22%5D+%5B%22went%22%5D+%5B%22back%22%5D+%5B%5D+%5B%22people%22%5D+%5B%22collapsed%22%5D+%5B%5D+%5B%22died%22%5D+%5B%5D&waitfortotal=true&outputformat=json&prettyprint=no&wordsaroundhit=0\n",
      "{'left': '', 'match_word': 'And when we went back , people collapsed , died . ', 'right': '', 'complete_match': 'And when we went back , people collapsed , died . ', 'testimony_id': 'HVT-160', 'shelfmark': ['Fortunoff HVT-160'], 'token_start': 4690, 'token_end': 4701}\n"
     ]
    }
   ],
   "source": [
    "fragment_1 = {}\n",
    "fragment_1['original_sentence'] = \"And when we went back, people collapsed, died.\"\n",
    "fragment_1['label']=\"And when we went back, people collapsed, died.\"\n",
    "indices = find_sentence_id(fragment_1['original_sentence'])\n",
    "fragment_1['start_sentence_index']=indices[0]\n",
    "fragment_1['end_sentence_index']=indices[1]\n",
    "fragment_1['media_offset'] = 0\n",
    "fragment_1['media_index'] = 0\n",
    "fragment_1['testimony_id'] = indices[2]\n",
    "fragments['fragments'].append(fragment_1)"
   ]
  },
  {
   "cell_type": "code",
   "execution_count": 434,
   "metadata": {},
   "outputs": [
    {
     "name": "stdout",
     "output_type": "stream",
     "text": [
      "http://localhost:8080/blacklab-server-2.1.0/lts/hits?patt=%5B%22than%22%5D+%5B%22she%22%5D+%5B%22collapsed%22%5D+%5B%5D+%5B%22I%22%5D+%5B%22guess%22%5D+%5B%5D+%5B%22cause%22%5D+%5B%22what%22%5D+%5B%22we%22%5D+%5B%22saw%22%5D+%5B%22is%22%5D+%5B%22they%22%5D+%5B%22were%22%5D+%5B%22dead%22%5D+%5B%5D+%5B%22And%22%5D+%5B%22she%22%5D+%5B%22died%22%5D+%5B%5D+%5B%22and%22%5D+%5B%22the%22%5D+%5B%22baby%22%5D+%5B%22outlived%22%5D+%5B%22the%22%5D+%5B%22mother%22%5D+%5B%5D&waitfortotal=true&outputformat=json&prettyprint=no&wordsaroundhit=0\n",
      "{'left': '', 'match_word': 'than she collapsed , I guess , cause what we saw is they were dead . And she died , and the baby outlived the mother . ', 'right': '', 'complete_match': 'than she collapsed , I guess , cause what we saw is they were dead . And she died , and the baby outlived the mother . ', 'testimony_id': 'irn41517', 'shelfmark': ['USHMM RG-50.030*0567'], 'token_start': 7300, 'token_end': 7327}\n"
     ]
    }
   ],
   "source": [
    "fragment_2 = {}\n",
    "fragment_2['original_sentence'] = \"than she collapsed, I guess, cause what we saw is they were dead. And she died, and the baby outlived the mother.\"\n",
    "fragment_2['label']=\"(..) than she collapsed (..) And she died, and the baby outlived the mother.\"\n",
    "indices = find_sentence_id(fragment_2['original_sentence'])\n",
    "fragment_2['start_sentence_index']=indices[0]\n",
    "fragment_2['end_sentence_index']=indices[1]\n",
    "fragment_2['media_offset'] = 0\n",
    "fragment_2['media_index'] = 0\n",
    "fragment_2['testimony_id'] = indices[2]\n",
    "fragments['fragments'].append(fragment_2)\n"
   ]
  },
  {
   "cell_type": "code",
   "execution_count": 435,
   "metadata": {},
   "outputs": [
    {
     "name": "stdout",
     "output_type": "stream",
     "text": [
      "http://localhost:8080/blacklab-server-2.1.0/lts/hits?patt=%5B%22A%22%5D+%5B%22lot%22%5D+%5B%22of%22%5D+%5B%22them%22%5D+%5B%22died%22%5D+%5B%22on%22%5D+%5B%22the%22%5D+%5B%22steps%22%5D+%5B%22from%22%5D+%5B%22the%22%5D+%5B%22hitting%22%5D+%5B%5D+%5B%22They%22%5D+%5B%22collapsed%22%5D+%5B%5D&waitfortotal=true&outputformat=json&prettyprint=no&wordsaroundhit=0\n",
      "{'left': '', 'match_word': 'A lot of them died on the steps from the hitting . They collapsed . ', 'right': '', 'complete_match': 'A lot of them died on the steps from the hitting . They collapsed . ', 'testimony_id': 'irn504889', 'shelfmark': ['USHMM RG-50.030*0424'], 'token_start': 14271, 'token_end': 14286}\n"
     ]
    }
   ],
   "source": [
    "fragment_3 = {}\n",
    "fragment_3['original_sentence'] = \"A lot of them died on the steps from the hitting. They collapsed.\"\n",
    "fragment_3['label']=\"A lot of them died on the steps from the hitting. They collapsed.\"\n",
    "indices = find_sentence_id(fragment_3['original_sentence'])\n",
    "fragment_3['start_sentence_index']=indices[0]\n",
    "fragment_3['end_sentence_index']=indices[1]\n",
    "fragment_3['media_offset'] = 0\n",
    "fragment_3['media_index'] = 0\n",
    "fragment_3['testimony_id'] = indices[2]\n",
    "fragments['fragments'].append(fragment_3)"
   ]
  },
  {
   "cell_type": "code",
   "execution_count": 436,
   "metadata": {},
   "outputs": [
    {
     "name": "stdout",
     "output_type": "stream",
     "text": [
      "http://localhost:8080/blacklab-server-2.1.0/lts/hits?patt=%5B%22What%22%5D+%5B%22actually%22%5D+%5B%22happened%22%5D+%5B%22during%22%5D+%5B%22the%22%5D+%5B%22death%22%5D+%5B%22march%22%5D+%5B%22from%22%5D+%5B%22Auschwitz%22%5D+%5B%5D+%5B%22one%22%5D+%5B%22of%22%5D+%5B%22the%22%5D+%5B%22people%22%5D+%5B%22who%22%5D+%5B%22died%22%5D+%5B%22collapsed%22%5D+%5B%22on%22%5D+%5B%22the%22%5D+%5B%22road%22%5D+%5B%5D&waitfortotal=true&outputformat=json&prettyprint=no&wordsaroundhit=0\n",
      "{'left': '', 'match_word': 'What actually happened during the death march from Auschwitz , one of the people who died collapsed on the road . ', 'right': '', 'complete_match': 'What actually happened during the death march from Auschwitz , one of the people who died collapsed on the road . ', 'testimony_id': 'usc_shoah_5758', 'shelfmark': ['USC 5758'], 'token_start': 27189, 'token_end': 27210}\n"
     ]
    }
   ],
   "source": [
    "fragment_4 = {}\n",
    "fragment_4['original_sentence'] = \"What actually happened during the death march from Auschwitz, one of the people who died collapsed on the road.\"\n",
    "fragment_4['label']= \"What actually happened during the death march (..), one of the people who died collapsed on the road.\"\n",
    "indices = find_sentence_id(fragment_4['original_sentence'])\n",
    "fragment_4['start_sentence_index']=indices[0]\n",
    "fragment_4['end_sentence_index']=indices[1]\n",
    "fragment_4['media_offset'] = 0\n",
    "fragment_4['media_index'] = 0\n",
    "fragment_4['testimony_id'] = indices[2]\n",
    "fragments['fragments'].append(fragment_4)"
   ]
  },
  {
   "cell_type": "code",
   "execution_count": 437,
   "metadata": {},
   "outputs": [],
   "source": [
    "add_testimonial_fragments(fragments)"
   ]
  },
  {
   "cell_type": "markdown",
   "metadata": {},
   "source": [
    "### 3.  shoot"
   ]
  },
  {
   "cell_type": "code",
   "execution_count": 438,
   "metadata": {},
   "outputs": [],
   "source": [
    "lemmas = [\"shoot\",\"collapse\"]"
   ]
  },
  {
   "cell_type": "code",
   "execution_count": 439,
   "metadata": {},
   "outputs": [
    {
     "name": "stdout",
     "output_type": "stream",
     "text": [
      "([lemma=\"shoot\"][]{0,25}[lemma=\"collapse\"])|([lemma=\"collapse\"][]{0,25}[lemma=\"shoot\"])\n"
     ]
    }
   ],
   "source": [
    "query = create_contextual_query(lemmas,context_length=25)\n",
    "print (query)"
   ]
  },
  {
   "cell_type": "code",
   "execution_count": 440,
   "metadata": {},
   "outputs": [],
   "source": [
    "domain_term = \"shoot\""
   ]
  },
  {
   "cell_type": "code",
   "execution_count": 441,
   "metadata": {},
   "outputs": [],
   "source": [
    "fragments = {}\n",
    "fragments['main_node'] = main_node\n",
    "fragments['mid_node'] = domain_term\n",
    "fragments['fragments'] = []"
   ]
  },
  {
   "cell_type": "code",
   "execution_count": 442,
   "metadata": {},
   "outputs": [
    {
     "name": "stdout",
     "output_type": "stream",
     "text": [
      "http://localhost:8080/blacklab-server-2.1.0/lts/hits?patt=%5B%22And%22%5D+%5B%22they%22%5D+%5B%22collapsed%22%5D+%5B%5D+%5B%22even%22%5D+%5B%22in%22%5D+%5B%22Theresienstadt%22%5D+%5B%5D+%5B%22they%22%5D+%5B%22would%22%5D+%5B%22shoot%22%5D+%5B%22them%22%5D+%5B%22on%22%5D+%5B%22the%22%5D+%5B%22spot%22%5D+%5B%5D&waitfortotal=true&outputformat=json&prettyprint=no&wordsaroundhit=0\n",
      "{'left': '', 'match_word': 'And they collapsed , even in Theresienstadt , they would shoot them on the spot . ', 'right': '', 'complete_match': 'And they collapsed , even in Theresienstadt , they would shoot them on the spot . ', 'testimony_id': 'HVT-66', 'shelfmark': ['Fortunoff HVT-66'], 'token_start': 9352, 'token_end': 9368}\n"
     ]
    }
   ],
   "source": [
    "fragment_1 = {}\n",
    "fragment_1['original_sentence'] = \"And they collapsed, even in Theresienstadt, they would shoot them on the spot. \"\n",
    "fragment_1['label']=\"And they collapsed, (..) they would shoot them on the spot. \"\n",
    "indices = find_sentence_id(fragment_1['original_sentence'])\n",
    "fragment_1['start_sentence_index']=indices[0]\n",
    "fragment_1['end_sentence_index']=indices[1]\n",
    "fragment_1['media_offset'] = 0\n",
    "fragment_1['media_index'] = 0\n",
    "fragment_1['testimony_id'] = indices[2]\n",
    "fragments['fragments'].append(fragment_1)"
   ]
  },
  {
   "cell_type": "code",
   "execution_count": 443,
   "metadata": {},
   "outputs": [
    {
     "name": "stdout",
     "output_type": "stream",
     "text": [
      "http://localhost:8080/blacklab-server-2.1.0/lts/hits?patt=%5B%22people%22%5D+%5B%22collapsed%22%5D+%5B%22left%22%5D+%5B%5D+%5B%22right%22%5D+%5B%22and%22%5D+%5B%22center%22%5D+%5B%5D+%5B%22and%22%5D+%5B%22those%22%5D+%5B%22who%22%5D+%5B%22collapsed%22%5D+%5B%22were%22%5D+%5B%22shot%22%5D+%5B%22in%22%5D+%5B%22the%22%5D+%5B%22head%22%5D+%5B%22by%22%5D+%5B%22the%22%5D+%5B%22SS%22%5D+%5B%22there%22%5D+%5B%22and%22%5D+%5B%22then%22%5D&waitfortotal=true&outputformat=json&prettyprint=no&wordsaroundhit=0\n",
      "{'left': '', 'match_word': 'people collapsed left , right and center , and those who collapsed were shot in the head by the SS there and then ', 'right': '', 'complete_match': 'people collapsed left , right and center , and those who collapsed were shot in the head by the SS there and then ', 'testimony_id': 'irn518264', 'shelfmark': ['USHMM RG-50.562*0010'], 'token_start': 15499, 'token_end': 15522}\n"
     ]
    }
   ],
   "source": [
    "fragment_2 = {}\n",
    "fragment_2['original_sentence'] = \"people collapsed left, right and center, and those who collapsed were shot in the head by the SS there and then\"\n",
    "fragment_2['label']=\"(..)people collapsed left, right and center, and those who collapsed were shot in the head by the SS there and then (..)\"\n",
    "indices = find_sentence_id(fragment_2['original_sentence'])\n",
    "fragment_2['start_sentence_index']=indices[0]\n",
    "fragment_2['end_sentence_index']=indices[1]\n",
    "fragment_2['media_offset'] = 0\n",
    "fragment_2['media_index'] = 0\n",
    "fragment_2['testimony_id'] = indices[2]\n",
    "fragments['fragments'].append(fragment_2)\n"
   ]
  },
  {
   "cell_type": "code",
   "execution_count": 444,
   "metadata": {},
   "outputs": [
    {
     "name": "stdout",
     "output_type": "stream",
     "text": [
      "http://localhost:8080/blacklab-server-2.1.0/lts/hits?patt=%5B%22But%22%5D+%5B%22again%22%5D+%5B%5D+%5B%22SS%22%5D+%5B%22shot%22%5D+%5B%22them%22%5D+%5B%5D+%5B%22And%22%5D+%5B%22when%22%5D+%5B%22people%22%5D+%5B%22collapsed%22%5D+%5B%5D+%5B%22they%22%5D+%5B%22were%22%5D+%5B%22shot%22%5D+%5B%5D&waitfortotal=true&outputformat=json&prettyprint=no&wordsaroundhit=0\n",
      "{'left': '', 'match_word': 'But again , SS shot them . And when people collapsed , they were shot . ', 'right': '', 'complete_match': 'But again , SS shot them . And when people collapsed , they were shot . ', 'testimony_id': 'usc_shoah_5758', 'shelfmark': ['USC 5758'], 'token_start': 19944, 'token_end': 19960}\n"
     ]
    }
   ],
   "source": [
    "fragment_3 = {}\n",
    "fragment_3['original_sentence'] = \"But again, SS shot them. And when people collapsed, they were shot.\"\n",
    "fragment_3['label']=\"But again, SS shot them. And when people collapsed, they were shot.\"\n",
    "indices = find_sentence_id(fragment_3['original_sentence'])\n",
    "fragment_3['start_sentence_index']=indices[0]\n",
    "fragment_3['end_sentence_index']=indices[1]\n",
    "fragment_3['media_offset'] = 0\n",
    "fragment_3['media_index'] = 0\n",
    "fragment_3['testimony_id'] = indices[2]\n",
    "fragments['fragments'].append(fragment_3)"
   ]
  },
  {
   "cell_type": "code",
   "execution_count": 445,
   "metadata": {},
   "outputs": [
    {
     "name": "stdout",
     "output_type": "stream",
     "text": [
      "http://localhost:8080/blacklab-server-2.1.0/lts/hits?patt=%5B%22And%22%5D+%5B%22during%22%5D+%5B%22this%22%5D+%5B%22death%22%5D+%5B%22march%22%5D+%5B%5D+%5B%22anybody%22%5D+%5B%22who%22%5D+%5B%22collapsed%22%5D+%5B%5D+%5B%22anybody%22%5D+%5B%5D%7B0%2C3%7D+%5B%22and%22%5D+%5B%22there%22%5D+%5B%22were%22%5D+%5B%22very%22%5D+%5B%22many%22%5D+%5B%5D%7B0%2C3%7D+%5B%22they%22%5D+%5B%22were%22%5D+%5B%22shot%22%5D+%5B%22on%22%5D+%5B%22the%22%5D+%5B%22spot%22%5D+%5B%22and%22%5D+%5B%22left%22%5D+%5B%22there%22%5D+%5B%5D&waitfortotal=true&outputformat=json&prettyprint=no&wordsaroundhit=0\n",
      "{'left': '', 'match_word': 'And during this death march , anybody who collapsed , anybody -- and there were very many -- they were shot on the spot and left there . ', 'right': '', 'complete_match': 'And during this death march , anybody who collapsed , anybody -- and there were very many -- they were shot on the spot and left there . ', 'testimony_id': 'usc_shoah_7093', 'shelfmark': ['USC 7093'], 'token_start': 24481, 'token_end': 24509}\n"
     ]
    }
   ],
   "source": [
    "fragment_4 = {}\n",
    "fragment_4['original_sentence'] = \"And during this death march, anybody who collapsed, anybody-- and there were very many-- they were shot on the spot and left there.\"\n",
    "fragment_4['label']= \"anybody who collapsed (..) they were shot on the spot and left there.\"\n",
    "indices = find_sentence_id(fragment_4['original_sentence'])\n",
    "fragment_4['start_sentence_index']=indices[0]\n",
    "fragment_4['end_sentence_index']=indices[1]\n",
    "fragment_4['media_offset'] = 0\n",
    "fragment_4['media_index'] = 0\n",
    "fragment_4['testimony_id'] = indices[2]\n",
    "fragments['fragments'].append(fragment_4)\n"
   ]
  },
  {
   "cell_type": "code",
   "execution_count": 446,
   "metadata": {},
   "outputs": [
    {
     "name": "stdout",
     "output_type": "stream",
     "text": [
      "http://localhost:8080/blacklab-server-2.1.0/lts/hits?patt=%5B%22you%22%5D+%5B%22said%22%5D+%5B%5D+%5B%22I%22%5D+%5B%22have%22%5D+%5B%22to%22%5D+%5B%22sit%22%5D+%5B%22down%22%5D+%5B%22to%22%5D+%5B%22lie%22%5D+%5B%22down%22%5D+%5B%5D+%5B%22the%22%5D+%5B%22SS%22%5D+%5B%22shot%22%5D+%5B%22you%22%5D+%5B%5D&waitfortotal=true&outputformat=json&prettyprint=no&wordsaroundhit=0\n",
      "{'left': '', 'match_word': 'you said , I have to sit down to lie down , the SS shot you . ', 'right': '', 'complete_match': 'you said , I have to sit down to lie down , the SS shot you . ', 'testimony_id': 'usc_shoah_17135', 'shelfmark': ['USC 17135'], 'token_start': 14856, 'token_end': 14873}\n"
     ]
    }
   ],
   "source": [
    "fragment_5 = {}\n",
    "fragment_5['original_sentence'] = \"you said, I have to sit down to lie down, the SS shot you.\"\n",
    "fragment_5['label']= \"Because the minute that you collapse, or (..) you said, I have to sit down to lie down, the SS shot you.\"\n",
    "indices = find_sentence_id(fragment_5['original_sentence'])\n",
    "fragment_5['start_sentence_index']=indices[0]\n",
    "fragment_5['end_sentence_index']=indices[1]\n",
    "fragment_5['media_offset'] = 0\n",
    "fragment_5['media_index'] = 0\n",
    "fragment_5['testimony_id'] = indices[2]\n",
    "fragments['fragments'].append(fragment_5)\n"
   ]
  },
  {
   "cell_type": "code",
   "execution_count": 447,
   "metadata": {},
   "outputs": [],
   "source": [
    "add_testimonial_fragments(fragments)"
   ]
  },
  {
   "cell_type": "markdown",
   "metadata": {},
   "source": [
    "### 4.  Leave"
   ]
  },
  {
   "cell_type": "code",
   "execution_count": 448,
   "metadata": {},
   "outputs": [],
   "source": [
    "lemmas = [\"leave\",\"collapse\"]"
   ]
  },
  {
   "cell_type": "code",
   "execution_count": 449,
   "metadata": {},
   "outputs": [
    {
     "name": "stdout",
     "output_type": "stream",
     "text": [
      "([lemma=\"leave\"][]{0,40}[lemma=\"collapse\"])|([lemma=\"collapse\"][]{0,40}[lemma=\"leave\"])\n"
     ]
    }
   ],
   "source": [
    "query = create_contextual_query(lemmas,context_length=40)\n",
    "print (query)"
   ]
  },
  {
   "cell_type": "code",
   "execution_count": 450,
   "metadata": {},
   "outputs": [],
   "source": [
    "domain_term = \"leave\""
   ]
  },
  {
   "cell_type": "code",
   "execution_count": 451,
   "metadata": {},
   "outputs": [],
   "source": [
    "fragments = {}\n",
    "fragments['main_node'] = main_node\n",
    "fragments['mid_node'] = domain_term\n",
    "fragments['fragments'] = []"
   ]
  },
  {
   "cell_type": "code",
   "execution_count": 452,
   "metadata": {},
   "outputs": [
    {
     "name": "stdout",
     "output_type": "stream",
     "text": [
      "http://localhost:8080/blacklab-server-2.1.0/lts/hits?patt=%5B%22People%22%5D+%5B%22just%22%5D+%5B%22collapsed%22%5D+%5B%5D+%5B%22and%22%5D+%5B%22they%22%5D+%5B%22left%22%5D+%5B%22them%22%5D+%5B%22there%22%5D+%5B%5D&waitfortotal=true&outputformat=json&prettyprint=no&wordsaroundhit=0\n",
      "{'left': '', 'match_word': 'People just collapsed , and they left them there . ', 'right': '', 'complete_match': 'People just collapsed , and they left them there . ', 'testimony_id': 'HVT-22', 'shelfmark': ['Fortunoff HVT-22'], 'token_start': 14023, 'token_end': 14033}\n"
     ]
    }
   ],
   "source": [
    "fragment_1 = {}\n",
    "fragment_1['original_sentence'] = \"People just collapsed, and they left them there.\"\n",
    "fragment_1['label']=\"People just collapsed, and they left them there.\"\n",
    "indices = find_sentence_id(fragment_1['original_sentence'])\n",
    "fragment_1['start_sentence_index']=indices[0]\n",
    "fragment_1['end_sentence_index']=indices[1]\n",
    "fragment_1['media_offset'] = 0\n",
    "fragment_1['media_index'] = 0\n",
    "fragment_1['testimony_id'] = indices[2]\n",
    "fragments['fragments'].append(fragment_1)"
   ]
  },
  {
   "cell_type": "code",
   "execution_count": 453,
   "metadata": {},
   "outputs": [
    {
     "name": "stdout",
     "output_type": "stream",
     "text": [
      "http://localhost:8080/blacklab-server-2.1.0/lts/hits?patt=%5B%22They%22%5D+%5B%22collapsed%22%5D+%5B%5D+%5B%22they%22%5D+%5B%22killed%22%5D+%5B%22them%22%5D+%5B%5D+%5B%22and%22%5D+%5B%22left%22%5D+%5B%22them%22%5D+%5B%5D&waitfortotal=true&outputformat=json&prettyprint=no&wordsaroundhit=0\n",
      "{'left': '', 'match_word': 'They collapsed , they killed them , and left them . ', 'right': '', 'complete_match': 'They collapsed , they killed them , and left them . ', 'testimony_id': 'usc_shoah_2938', 'shelfmark': ['USC 2938'], 'token_start': 12352, 'token_end': 12363}\n"
     ]
    }
   ],
   "source": [
    "fragment_2 = {}\n",
    "fragment_2['original_sentence'] = \"They collapsed, they killed them, and left them.\"\n",
    "fragment_2['label']=\"They collapsed, they killed them, and left them.\"\n",
    "indices = find_sentence_id(fragment_2['original_sentence'])\n",
    "fragment_2['start_sentence_index']=indices[0]\n",
    "fragment_2['end_sentence_index']=indices[1]\n",
    "fragment_2['media_offset'] = 0\n",
    "fragment_2['media_index'] = 0\n",
    "fragment_2['testimony_id'] = indices[2]\n",
    "fragments['fragments'].append(fragment_2)\n"
   ]
  },
  {
   "cell_type": "code",
   "execution_count": 454,
   "metadata": {},
   "outputs": [
    {
     "name": "stdout",
     "output_type": "stream",
     "text": [
      "http://localhost:8080/blacklab-server-2.1.0/lts/hits?patt=%5B%22And%22%5D+%5B%22during%22%5D+%5B%22this%22%5D+%5B%22death%22%5D+%5B%22march%22%5D+%5B%5D+%5B%22anybody%22%5D+%5B%22who%22%5D+%5B%22collapsed%22%5D+%5B%5D+%5B%22anybody%22%5D+%5B%5D%7B0%2C3%7D+%5B%22and%22%5D+%5B%22there%22%5D+%5B%22were%22%5D+%5B%22very%22%5D+%5B%22many%22%5D+%5B%5D%7B0%2C3%7D+%5B%22they%22%5D+%5B%22were%22%5D+%5B%22shot%22%5D+%5B%22on%22%5D+%5B%22the%22%5D+%5B%22spot%22%5D+%5B%22and%22%5D+%5B%22left%22%5D+%5B%22there%22%5D+%5B%5D&waitfortotal=true&outputformat=json&prettyprint=no&wordsaroundhit=0\n",
      "{'left': '', 'match_word': 'And during this death march , anybody who collapsed , anybody -- and there were very many -- they were shot on the spot and left there . ', 'right': '', 'complete_match': 'And during this death march , anybody who collapsed , anybody -- and there were very many -- they were shot on the spot and left there . ', 'testimony_id': 'usc_shoah_7093', 'shelfmark': ['USC 7093'], 'token_start': 24481, 'token_end': 24509}\n"
     ]
    }
   ],
   "source": [
    "fragment_3 = {}\n",
    "fragment_3['original_sentence'] = \"And during this death march, anybody who collapsed, anybody-- and there were very many-- they were shot on the spot and left there. \"\n",
    "fragment_3['label']=\"anybody who collapsed (..) they were shot on the spot and left there. \"\n",
    "indices = find_sentence_id(fragment_3['original_sentence'])\n",
    "fragment_3['start_sentence_index']=indices[0]\n",
    "fragment_3['end_sentence_index']=indices[1]\n",
    "fragment_3['media_offset'] = 0\n",
    "fragment_3['media_index'] = 0\n",
    "fragment_3['testimony_id'] = indices[2]\n",
    "fragments['fragments'].append(fragment_3)"
   ]
  },
  {
   "cell_type": "code",
   "execution_count": 455,
   "metadata": {},
   "outputs": [],
   "source": [
    "add_testimonial_fragments(fragments)"
   ]
  },
  {
   "cell_type": "markdown",
   "metadata": {},
   "source": [
    "### 5.  "
   ]
  },
  {
   "cell_type": "code",
   "execution_count": 456,
   "metadata": {},
   "outputs": [],
   "source": [
    "lemmas = [\"work\",\"collapse\"]"
   ]
  },
  {
   "cell_type": "code",
   "execution_count": 457,
   "metadata": {},
   "outputs": [
    {
     "name": "stdout",
     "output_type": "stream",
     "text": [
      "([lemma=\"work\"][]{0,25}[lemma=\"collapse\"])|([lemma=\"collapse\"][]{0,25}[lemma=\"work\"])\n"
     ]
    }
   ],
   "source": [
    "query = create_contextual_query(lemmas,context_length=25)\n",
    "print (query)"
   ]
  },
  {
   "cell_type": "code",
   "execution_count": 458,
   "metadata": {},
   "outputs": [],
   "source": [
    "domain_term = \"work\""
   ]
  },
  {
   "cell_type": "code",
   "execution_count": 459,
   "metadata": {},
   "outputs": [],
   "source": [
    "fragments = {}\n",
    "fragments['main_node'] = main_node\n",
    "fragments['mid_node'] = domain_term\n",
    "fragments['fragments'] = []"
   ]
  },
  {
   "cell_type": "code",
   "execution_count": 460,
   "metadata": {},
   "outputs": [
    {
     "name": "stdout",
     "output_type": "stream",
     "text": [
      "http://localhost:8080/blacklab-server-2.1.0/lts/hits?patt=%5B%22It%22%5D+%5B%22was%22%5D+%5B%22hard%22%5D+%5B%22work%22%5D+%5B%5D+%5B%22I%22%5D+%5B%22remember%22%5D+%5B%22one%22%5D+%5B%22day%22%5D+%5B%22one%22%5D+%5B%22of%22%5D+%5B%22the%22%5D+%5B%22prisoners%22%5D+%5B%22collapsed%22%5D+%5B%22on%22%5D+%5B%22the%22%5D+%5B%22ramp%22%5D+%5B%22with%22%5D+%5B%22his%22%5D+%5B%22sack%22%5D+%5B%22of%22%5D+%5B%22cement%22%5D+%5B%5D&waitfortotal=true&outputformat=json&prettyprint=no&wordsaroundhit=0\n",
      "{'left': '', 'match_word': 'It was hard work . I remember one day one of the prisoners collapsed on the ramp with his sack of cement . ', 'right': '', 'complete_match': 'It was hard work . I remember one day one of the prisoners collapsed on the ramp with his sack of cement . ', 'testimony_id': 'irn506634', 'shelfmark': ['USHMM RG-50.106*0122'], 'token_start': 13398, 'token_end': 13421}\n"
     ]
    }
   ],
   "source": [
    "fragment_1 = {}\n",
    "fragment_1['original_sentence'] = \"It was hard work. I remember one day one of the prisoners collapsed on the ramp with his sack of cement.\"\n",
    "fragment_1['label']=\"It was hard work. (..) one day one of the prisoners collapsed on the ramp with his sack of cement.\"\n",
    "indices = find_sentence_id(fragment_1['original_sentence'])\n",
    "fragment_1['start_sentence_index']=indices[0]\n",
    "fragment_1['end_sentence_index']=indices[1]\n",
    "fragment_1['media_offset'] = 0\n",
    "fragment_1['media_index'] = 0\n",
    "fragment_1['testimony_id'] = indices[2]\n",
    "fragments['fragments'].append(fragment_1)"
   ]
  },
  {
   "cell_type": "code",
   "execution_count": 461,
   "metadata": {},
   "outputs": [
    {
     "name": "stdout",
     "output_type": "stream",
     "text": [
      "http://localhost:8080/blacklab-server-2.1.0/lts/hits?patt=%5B%22One%22%5D+%5B%22day%22%5D+%5B%5D+%5B%22I%22%5D+%5B%22was%22%5D+%5B%22sitting%22%5D+%5B%22after%22%5D+%5B%22work%22%5D+%5B%22in%22%5D+%5B%22the%22%5D+%5B%22bunk%22%5D+%5B%22there%22%5D+%5B%5D+%5B%22in%22%5D+%5B%22the%22%5D+%5B%22barrack%22%5D+%5B%5D+%5B%22and%22%5D+%5B%22I%22%5D+%5B%22collapsed%22%5D+%5B%5D&waitfortotal=true&outputformat=json&prettyprint=no&wordsaroundhit=0\n",
      "{'left': '', 'match_word': 'One day , I was sitting after work in the bunk there , in the barrack , and I collapsed . ', 'right': '', 'complete_match': 'One day , I was sitting after work in the bunk there , in the barrack , and I collapsed . ', 'testimony_id': 'usc_shoah_10710', 'shelfmark': ['USC 10710'], 'token_start': 12778, 'token_end': 12799}\n"
     ]
    }
   ],
   "source": [
    "fragment_2 = {}\n",
    "fragment_2['original_sentence'] = \"One day, I was sitting after work in the bunk there, in the barrack, and I collapsed.\"\n",
    "fragment_2['label']=\"One day, I was sitting after work in the bunk there, in the barrack, and I collapsed.\"\n",
    "indices = find_sentence_id(fragment_2['original_sentence'])\n",
    "fragment_2['start_sentence_index']=indices[0]\n",
    "fragment_2['end_sentence_index']=indices[1]\n",
    "fragment_2['media_offset'] = 0\n",
    "fragment_2['media_index'] = 0\n",
    "fragment_2['testimony_id'] = indices[2]\n",
    "fragments['fragments'].append(fragment_2)\n"
   ]
  },
  {
   "cell_type": "code",
   "execution_count": 462,
   "metadata": {},
   "outputs": [
    {
     "name": "stdout",
     "output_type": "stream",
     "text": [
      "http://localhost:8080/blacklab-server-2.1.0/lts/hits?patt=%5B%22going%22%5D+%5B%22to%22%5D+%5B%22work%22%5D+%5B%5D+%5B%22come%22%5D+%5B%22late%22%5D+%5B%5D+%5B%22and%22%5D+%5B%22collapsing%22%5D+%5B%5D+%5B%5D%7B0%2C3%7D+%5B%22SIGHS%22%5D+%5B%5D%7B0%2C3%7D+%5B%22nothing%22%5D+%5B%22more%22%5D+%5B%5D&waitfortotal=true&outputformat=json&prettyprint=no&wordsaroundhit=0\n",
      "{'left': '', 'match_word': 'going to work , come late , and collapsing , [ SIGHS ] nothing more . ', 'right': '', 'complete_match': 'going to work , come late , and collapsing , [ SIGHS ] nothing more . ', 'testimony_id': 'usc_shoah_13063', 'shelfmark': ['USC 13063'], 'token_start': 15905, 'token_end': 15921}\n"
     ]
    }
   ],
   "source": [
    "fragment_3 = {}\n",
    "fragment_3['original_sentence'] = \"going to work, come late, and collapsing, [SIGHS] nothing more.\"\n",
    "fragment_3['label']=\"It was ghetto life, going to work, come late, and collapsing, nothing more.\"\n",
    "indices = find_sentence_id(fragment_3['original_sentence'])\n",
    "fragment_3['start_sentence_index']=indices[0]\n",
    "fragment_3['end_sentence_index']=indices[1]\n",
    "fragment_3['media_offset'] = 0\n",
    "fragment_3['media_index'] = 0\n",
    "fragment_3['testimony_id'] = indices[2]\n",
    "fragments['fragments'].append(fragment_3)"
   ]
  },
  {
   "cell_type": "code",
   "execution_count": 463,
   "metadata": {},
   "outputs": [
    {
     "name": "stdout",
     "output_type": "stream",
     "text": [
      "http://localhost:8080/blacklab-server-2.1.0/lts/hits?patt=%5B%22The%22%5D+%5B%22third%22%5D+%5B%22day%22%5D+%5B%5D+%5B%22I%22%5D+%5B%22was%22%5D+%5B%22so%22%5D+%5B%22sick%22%5D+%5B%22that%22%5D+%5B%22I%22%5D+%5B%22collapsed%22%5D+%5B%22in%22%5D+%5B%22the%22%5D+%5B%22working%22%5D+%5B%22trenches%22%5D+%5B%5D+%5B%22where%22%5D+%5B%22we%22%5D+%5B%22were%22%5D+%5B%22working%22%5D+%5B%5D&waitfortotal=true&outputformat=json&prettyprint=no&wordsaroundhit=0\n",
      "{'left': '', 'match_word': 'The third day , I was so sick that I collapsed in the working trenches , where we were working . ', 'right': '', 'complete_match': 'The third day , I was so sick that I collapsed in the working trenches , where we were working . ', 'testimony_id': 'usc_shoah_3341', 'shelfmark': ['USC 3341'], 'token_start': 9848, 'token_end': 9869}\n"
     ]
    }
   ],
   "source": [
    "fragment_4 = {}\n",
    "fragment_4['original_sentence'] = \"The third day, I was so sick that I collapsed in the working trenches, where we were working.\"\n",
    "fragment_4['label']= \"(..) I was so sick that I collapsed in the working trenches, where we were working.\"\n",
    "indices = find_sentence_id(fragment_4['original_sentence'])\n",
    "fragment_4['start_sentence_index']=indices[0]\n",
    "fragment_4['end_sentence_index']=indices[1]\n",
    "fragment_4['media_offset'] = 0\n",
    "fragment_4['media_index'] = 0\n",
    "fragment_4['testimony_id'] = indices[2]\n",
    "fragments['fragments'].append(fragment_4)\n"
   ]
  },
  {
   "cell_type": "code",
   "execution_count": 464,
   "metadata": {},
   "outputs": [
    {
     "name": "stdout",
     "output_type": "stream",
     "text": [
      "http://localhost:8080/blacklab-server-2.1.0/lts/hits?patt=%5B%22I%22%5D+%5B%22mean%22%5D+%5B%5D+%5B%22we%22%5D+%5B%22collapsed%22%5D+%5B%5D+%5B%22It%22%5D+%5B%22was%22%5D+%5B%22very%22%5D+%5B%22difficult%22%5D+%5B%22work%22%5D+%5B%22for%22%5D+%5B%22women%22%5D+%5B%5D&waitfortotal=true&outputformat=json&prettyprint=no&wordsaroundhit=0\n",
      "{'left': '', 'match_word': 'I mean , we collapsed . It was very difficult work for women . ', 'right': '', 'complete_match': 'I mean , we collapsed . It was very difficult work for women . ', 'testimony_id': 'HVT-150', 'shelfmark': ['Fortunoff HVT-150'], 'token_start': 13527, 'token_end': 13541}\n"
     ]
    }
   ],
   "source": [
    "fragment_5 = {}\n",
    "fragment_5['original_sentence'] = \" I mean, we collapsed. It was very difficult work for women.\"\n",
    "fragment_5['label']= \"I mean, we collapsed. It was very difficult work for women.\"\n",
    "indices = find_sentence_id(fragment_5['original_sentence'])\n",
    "fragment_5['start_sentence_index']=indices[0]\n",
    "fragment_5['end_sentence_index']=indices[1]\n",
    "fragment_5['media_offset'] = 0\n",
    "fragment_5['media_index'] = 0\n",
    "fragment_5['testimony_id'] = indices[2]\n",
    "fragments['fragments'].append(fragment_5)"
   ]
  },
  {
   "cell_type": "code",
   "execution_count": 465,
   "metadata": {},
   "outputs": [],
   "source": [
    "add_testimonial_fragments(fragments)"
   ]
  },
  {
   "cell_type": "markdown",
   "metadata": {},
   "source": [
    "### 6. stand "
   ]
  },
  {
   "cell_type": "code",
   "execution_count": 466,
   "metadata": {},
   "outputs": [],
   "source": [
    "lemmas = ['stand','collapse']"
   ]
  },
  {
   "cell_type": "code",
   "execution_count": 467,
   "metadata": {},
   "outputs": [
    {
     "name": "stdout",
     "output_type": "stream",
     "text": [
      "([lemma=\"stand\"][]{0,25}[lemma=\"collapse\"])|([lemma=\"collapse\"][]{0,25}[lemma=\"stand\"])\n"
     ]
    }
   ],
   "source": [
    "query = create_contextual_query(lemmas,context_length=25)\n",
    "print (query)"
   ]
  },
  {
   "cell_type": "code",
   "execution_count": 468,
   "metadata": {},
   "outputs": [],
   "source": [
    "domain_term = \"stand\""
   ]
  },
  {
   "cell_type": "code",
   "execution_count": 469,
   "metadata": {},
   "outputs": [],
   "source": [
    "fragments = {}\n",
    "fragments['main_node'] = main_node\n",
    "fragments['mid_node'] = domain_term\n",
    "fragments['fragments'] = []"
   ]
  },
  {
   "cell_type": "code",
   "execution_count": 470,
   "metadata": {},
   "outputs": [
    {
     "name": "stdout",
     "output_type": "stream",
     "text": [
      "http://localhost:8080/blacklab-server-2.1.0/lts/hits?patt=%5B%22You%22%5D+%5B%22stood%22%5D+%5B%22there%22%5D+%5B%22for%22%5D+%5B%2216%22%5D+%5B%5D+%5B%2212%22%5D+%5B%22hours%22%5D+%5B%5D+%5B%22That%22%5D+%5B%22depends%22%5D+%5B%5D+%5B%22We%22%5D+%5B%22always%22%5D+%5B%22left%22%5D+%5B%22a%22%5D+%5B%22few%22%5D+%5B%22of%22%5D+%5B%22them%22%5D+%5B%22out%22%5D+%5B%22there%22%5D+%5B%5D+%5B%22And%22%5D+%5B%22when%22%5D+%5B%22we%22%5D+%5B%22went%22%5D+%5B%22back%22%5D+%5B%5D+%5B%22people%22%5D+%5B%22collapsed%22%5D+%5B%5D+%5B%22died%22%5D+%5B%5D&waitfortotal=true&outputformat=json&prettyprint=no&wordsaroundhit=0\n",
      "{'left': '', 'match_word': 'You stood there for 16 , 12 hours . That depends . We always left a few of them out there . And when we went back , people collapsed , died . ', 'right': '', 'complete_match': 'You stood there for 16 , 12 hours . That depends . We always left a few of them out there . And when we went back , people collapsed , died . ', 'testimony_id': 'HVT-160', 'shelfmark': ['Fortunoff HVT-160'], 'token_start': 4668, 'token_end': 4701}\n"
     ]
    }
   ],
   "source": [
    "fragment_1 = {}\n",
    "fragment_1['original_sentence'] = \" You stood there for 16, 12 hours. That depends. We always left a few of them out there. And when we went back, people collapsed, died.\"\n",
    "fragment_1['label']=\"You stood there for 16, 12 hours. That depends. (..) And when we went back, people collapsed, died.\"\n",
    "indices = find_sentence_id(fragment_1['original_sentence'])\n",
    "fragment_1['start_sentence_index']=indices[0]\n",
    "fragment_1['end_sentence_index']=indices[1]\n",
    "fragment_1['media_offset'] = 0\n",
    "fragment_1['media_index'] = 0\n",
    "fragment_1['testimony_id'] = indices[2]\n",
    "fragments['fragments'].append(fragment_1)"
   ]
  },
  {
   "cell_type": "code",
   "execution_count": 471,
   "metadata": {},
   "outputs": [
    {
     "name": "stdout",
     "output_type": "stream",
     "text": [
      "http://localhost:8080/blacklab-server-2.1.0/lts/hits?patt=%5B%22And%22%5D+%5B%22then%22%5D+%5B%22the%22%5D+%5B%22next%22%5D+%5B%22thing%22%5D+%5B%5D+%5B%22the%22%5D+%5B%22elderly%22%5D+%5B%22could%22%5D+%5B%5D+%5B%22stand%22%5D+%5B%22on%22%5D+%5B%22their%22%5D+%5B%22feet%22%5D+%5B%5D+%5B%22They%22%5D+%5B%22started%22%5D+%5B%22collapsing%22%5D+%5B%5D&waitfortotal=true&outputformat=json&prettyprint=no&wordsaroundhit=0\n",
      "{'left': '', 'match_word': \"And then the next thing , the elderly could n't stand on their feet . They started collapsing . \", 'right': '', 'complete_match': \"And then the next thing , the elderly could n't stand on their feet . They started collapsing . \", 'testimony_id': 'usc_shoah_11272', 'shelfmark': ['USC 11272'], 'token_start': 5730, 'token_end': 5749}\n"
     ]
    }
   ],
   "source": [
    "fragment_2 = {}\n",
    "fragment_2['original_sentence'] = \"And then the next thing, the elderly couldn't stand on their feet. They started collapsing. \"\n",
    "fragment_2['label']=\"And then the next thing, the elderly couldn't stand on their feet. They started collapsing.\"\n",
    "indices = find_sentence_id(fragment_2['original_sentence'])\n",
    "fragment_2['start_sentence_index']=indices[0]\n",
    "fragment_2['end_sentence_index']=indices[1]\n",
    "fragment_2['media_offset'] = 0\n",
    "fragment_2['media_index'] = 0\n",
    "fragment_2['testimony_id'] = indices[2]\n",
    "fragments['fragments'].append(fragment_2)\n"
   ]
  },
  {
   "cell_type": "code",
   "execution_count": 472,
   "metadata": {},
   "outputs": [
    {
     "name": "stdout",
     "output_type": "stream",
     "text": [
      "http://localhost:8080/blacklab-server-2.1.0/lts/hits?patt=%5B%22And%22%5D+%5B%22the%22%5D+%5B%22next%22%5D+%5B%22day%22%5D+%5B%5D+%5B%22they%22%5D+%5B%22took%22%5D+%5B%22us%22%5D+%5B%22%3B%22%5D+%5B%22and%22%5D+%5B%22we%22%5D+%5B%22been%22%5D+%5B%22standing%22%5D+%5B%22in%22%5D+%5B%22the%22%5D+%5B%22freezing%22%5D+%5B%22cold%22%5D+%5B%5D+%5B%22And%22%5D+%5B%22some%22%5D+%5B%22girls%22%5D+%5B%22collapsed%22%5D+%5B%5D&waitfortotal=true&outputformat=json&prettyprint=no&wordsaroundhit=0\n",
      "{'left': '', 'match_word': 'And the next day , they took us ; and we been standing in the freezing cold . And some girls collapsed . ', 'right': '', 'complete_match': 'And the next day , they took us ; and we been standing in the freezing cold . And some girls collapsed . ', 'testimony_id': 'irn504535', 'shelfmark': ['USHMM RG-50.030*0030'], 'token_start': 4591, 'token_end': 4614}\n"
     ]
    }
   ],
   "source": [
    "fragment_3 = {}\n",
    "fragment_3['original_sentence'] = \"And the next day, they took us; and we been standing in the freezing cold. And some girls collapsed.\"\n",
    "fragment_3['label']=\"(..) we been standing in the freezing cold. And some girls collapsed.\"\n",
    "indices = find_sentence_id(fragment_3['original_sentence'])\n",
    "fragment_3['start_sentence_index']=indices[0]\n",
    "fragment_3['end_sentence_index']=indices[1]\n",
    "fragment_3['media_offset'] = 0\n",
    "fragment_3['media_index'] = 0\n",
    "fragment_3['testimony_id'] = indices[2]\n",
    "fragments['fragments'].append(fragment_3)"
   ]
  },
  {
   "cell_type": "code",
   "execution_count": 473,
   "metadata": {},
   "outputs": [
    {
     "name": "stdout",
     "output_type": "stream",
     "text": [
      "http://localhost:8080/blacklab-server-2.1.0/lts/hits?patt=%5B%22I%22%5D+%5B%22%27m%22%5D+%5B%22standing%22%5D+%5B%22in%22%5D+%5B%22line%22%5D+%5B%22and%22%5D+%5B%22it%22%5D+%5B%5D+%5B%22muddy%22%5D+%5B%22and%22%5D+%5B%22it%22%5D+%5B%5D+%5B%22cold%22%5D+%5B%5D+%5B%22This%22%5D+%5B%22happened%22%5D+%5B%22May%22%5D+%5B%22the%22%5D+%5B%221st%22%5D+%5B%5D+%5B%22May%22%5D+%5B%22the%22%5D+%5B%222nd%22%5D+%5B%5D+%5B%22And%22%5D+%5B%22I%22%5D+%5B%22collapse%22%5D+%5B%5D+%5B%22I%22%5D+%5B%22black%22%5D+%5B%22out%22%5D+%5B%5D&waitfortotal=true&outputformat=json&prettyprint=no&wordsaroundhit=0\n",
      "{'left': '', 'match_word': \"I 'm standing in line and it 's muddy and it 's cold . This happened May the 1st , May the 2nd . And I collapse , I black out . \", 'right': '', 'complete_match': \"I 'm standing in line and it 's muddy and it 's cold . This happened May the 1st , May the 2nd . And I collapse , I black out . \", 'testimony_id': 'usc_shoah_17526', 'shelfmark': ['USC 17526'], 'token_start': 15272, 'token_end': 15304}\n"
     ]
    }
   ],
   "source": [
    "fragment_4 = {}\n",
    "fragment_4['original_sentence'] = \"I'm standing in line and it's muddy and it's cold. This happened May the 1st, May the 2nd. And I collapse, I black out.\"\n",
    "fragment_4['label']= \"I'm standing in line and it's muddy and it's cold. (..) And I collapse, I black out.\"\n",
    "indices = find_sentence_id(fragment_4['original_sentence'])\n",
    "fragment_4['start_sentence_index']=indices[0]\n",
    "fragment_4['end_sentence_index']=indices[1]\n",
    "fragment_4['media_offset'] = 0\n",
    "fragment_4['media_index'] = 0\n",
    "fragment_4['testimony_id'] = indices[2]\n",
    "fragments['fragments'].append(fragment_4)\n"
   ]
  },
  {
   "cell_type": "code",
   "execution_count": 474,
   "metadata": {},
   "outputs": [
    {
     "name": "stdout",
     "output_type": "stream",
     "text": [
      "http://localhost:8080/blacklab-server-2.1.0/lts/hits?patt=%5B%22And%22%5D+%5B%22then%22%5D+%5B%22they%22%5D+%5B%22let%22%5D+%5B%22us%22%5D+%5B%22stand%22%5D+%5B%5D+%5B%22And%22%5D+%5B%22lot%22%5D+%5B%22of%22%5D+%5B%22girls%22%5D+%5B%22collapse%22%5D+%5B%5D+%5B%22fainted%22%5D+%5B%5D&waitfortotal=true&outputformat=json&prettyprint=no&wordsaroundhit=0\n",
      "{'left': '', 'match_word': 'And then they let us stand . And lot of girls collapse , fainted . ', 'right': '', 'complete_match': 'And then they let us stand . And lot of girls collapse , fainted . ', 'testimony_id': 'usc_shoah_19441', 'shelfmark': ['USC 19441'], 'token_start': 7016, 'token_end': 7031}\n"
     ]
    }
   ],
   "source": [
    "fragment_5 = {}\n",
    "fragment_5['original_sentence'] = \"And then they let us stand. And lot of girls collapse, fainted.\"\n",
    "fragment_5['label']= \"And then they let us stand. And lot of girls collapse, fainted.\"\n",
    "indices = find_sentence_id(fragment_5['original_sentence'])\n",
    "fragment_5['start_sentence_index']=indices[0]\n",
    "fragment_5['end_sentence_index']=indices[1]\n",
    "fragment_5['media_offset'] = 0\n",
    "fragment_5['media_index'] = 0\n",
    "fragment_5['testimony_id'] = indices[2]\n",
    "fragments['fragments'].append(fragment_5)"
   ]
  },
  {
   "cell_type": "code",
   "execution_count": 475,
   "metadata": {},
   "outputs": [],
   "source": [
    "add_testimonial_fragments(fragments)"
   ]
  },
  {
   "cell_type": "markdown",
   "metadata": {},
   "source": [
    "### 6.  Hit"
   ]
  },
  {
   "cell_type": "code",
   "execution_count": 476,
   "metadata": {},
   "outputs": [],
   "source": [
    "lemmas = [\"hit\",\"collapse\"]"
   ]
  },
  {
   "cell_type": "code",
   "execution_count": 477,
   "metadata": {},
   "outputs": [
    {
     "name": "stdout",
     "output_type": "stream",
     "text": [
      "([lemma=\"hit\"][]{0,50}[lemma=\"collapse\"])|([lemma=\"collapse\"][]{0,50}[lemma=\"hit\"])\n"
     ]
    }
   ],
   "source": [
    "query = create_contextual_query(lemmas,context_length=50)\n",
    "print (query)"
   ]
  },
  {
   "cell_type": "code",
   "execution_count": 478,
   "metadata": {},
   "outputs": [],
   "source": [
    "domain_term = \"hit\""
   ]
  },
  {
   "cell_type": "code",
   "execution_count": 479,
   "metadata": {},
   "outputs": [],
   "source": [
    "fragments = {}\n",
    "fragments['main_node'] = main_node\n",
    "fragments['mid_node'] = domain_term\n",
    "fragments['fragments'] = []"
   ]
  },
  {
   "cell_type": "code",
   "execution_count": 480,
   "metadata": {},
   "outputs": [
    {
     "name": "stdout",
     "output_type": "stream",
     "text": [
      "http://localhost:8080/blacklab-server-2.1.0/lts/hits?patt=%5B%5D%7B0%2C3%7D+%5B%22PAUSES%22%5D+%5B%22FOR%22%5D+%5B%223%22%5D+%5B%22SECONDS%22%5D+%5B%5D%7B0%2C3%7D+%5B%22And%22%5D+%5B%22he%22%5D+%5B%22hit%22%5D+%5B%22this%22%5D+%5B%22inmate%22%5D+%5B%22with%22%5D+%5B%22his%22%5D+%5B%22rifle%22%5D+%5B%22butt%22%5D+%5B%22in%22%5D+%5B%22his%22%5D+%5B%22face%22%5D+%5B%5D+%5B%22The%22%5D+%5B%22guy%22%5D&waitfortotal=true&outputformat=json&prettyprint=no&wordsaroundhit=0\n",
      "{'left': '', 'match_word': 'stop . [ PAUSES FOR 3 SECONDS ] And he hit this inmate with his rifle butt in his face . The guy ', 'right': '', 'complete_match': 'stop . [ PAUSES FOR 3 SECONDS ] And he hit this inmate with his rifle butt in his face . The guy ', 'testimony_id': 'usc_shoah_12413', 'shelfmark': ['USC 12413'], 'token_start': 9699, 'token_end': 9722}\n"
     ]
    }
   ],
   "source": [
    "fragment_1 = {}\n",
    "fragment_1['original_sentence'] = \"[PAUSES FOR 3 SECONDS] And he hit this inmate with his rifle butt in his face. The guy\"\n",
    "fragment_1['label']=\"And he hit this inmate with his rifle butt in his face. The (..) guy collapsed\"\n",
    "indices = find_sentence_id(fragment_1['original_sentence'])\n",
    "fragment_1['start_sentence_index']=indices[0]\n",
    "fragment_1['end_sentence_index']=indices[1]\n",
    "fragment_1['media_offset'] = 0\n",
    "fragment_1['media_index'] = 0\n",
    "fragment_1['testimony_id'] = indices[2]\n",
    "fragments['fragments'].append(fragment_1)"
   ]
  },
  {
   "cell_type": "code",
   "execution_count": 481,
   "metadata": {},
   "outputs": [
    {
     "name": "stdout",
     "output_type": "stream",
     "text": [
      "http://localhost:8080/blacklab-server-2.1.0/lts/hits?patt=%5B%22And%22%5D+%5B%22I%22%5D+%5B%22see%22%5D+%5B%22the%22%5D+%5B%22SS%22%5D+%5B%22guard%22%5D+%5B%22hitting%22%5D+%5B%22him%22%5D+%5B%5D+%5B%22and%22%5D+%5B%22hitting%22%5D+%5B%22him%22%5D+%5B%5D+%5B%22and%22%5D+%5B%22hitting%22%5D+%5B%22him%22%5D+%5B%5D+%5B%22And%22%5D+%5B%22he%22%5D+%5B%22collapses%22%5D+%5B%5D&waitfortotal=true&outputformat=json&prettyprint=no&wordsaroundhit=0\n",
      "{'left': '', 'match_word': 'And I see the SS guard hitting him , and hitting him , and hitting him . And he collapses . ', 'right': '', 'complete_match': 'And I see the SS guard hitting him , and hitting him , and hitting him . And he collapses . ', 'testimony_id': 'usc_shoah_8947', 'shelfmark': ['USC 8947'], 'token_start': 17574, 'token_end': 17595}\n"
     ]
    }
   ],
   "source": [
    "fragment_2 = {}\n",
    "fragment_2['original_sentence'] = \"And I see the SS guard hitting him, and hitting him, and hitting him. And he collapses.\"\n",
    "fragment_2['label']=\"And I see the SS guard hitting him, and hitting him, and hitting him. And he collapses.\"\n",
    "indices = find_sentence_id(fragment_2['original_sentence'])\n",
    "fragment_2['start_sentence_index']=indices[0]\n",
    "fragment_2['end_sentence_index']=indices[1]\n",
    "fragment_2['media_offset'] = 0\n",
    "fragment_2['media_index'] = 0\n",
    "fragment_2['testimony_id'] = indices[2]\n",
    "fragments['fragments'].append(fragment_2)\n"
   ]
  },
  {
   "cell_type": "code",
   "execution_count": 482,
   "metadata": {},
   "outputs": [
    {
     "name": "stdout",
     "output_type": "stream",
     "text": [
      "http://localhost:8080/blacklab-server-2.1.0/lts/hits?patt=%5B%22And%22%5D+%5B%22suddenly%22%5D+%5B%22I%22%5D+%5B%22saw%22%5D+%5B%22this%22%5D+%5B%22German%22%5D+%5B%22soldier%22%5D+%5B%22with%22%5D+%5B%22his%22%5D+%5B%22rifle%22%5D+%5B%22butt%22%5D+%5B%5D+%5B%22you%22%5D+%5B%22know%22%5D+%5B%5D+%5B%22hitting%22%5D+%5B%22that%22%5D+%5B%22man%22%5D+%5B%22over%22%5D+%5B%22the%22%5D+%5B%22head%22%5D+%5B%5D+%5B%22And%22%5D+%5B%22the%22%5D+%5B%22man%22%5D+%5B%22collapsed%22%5D+%5B%5D+%5B%22cursing%22%5D+%5B%22at%22%5D+%5B%22him%22%5D+%5B%5D&waitfortotal=true&outputformat=json&prettyprint=no&wordsaroundhit=0\n",
      "{'left': '', 'match_word': 'And suddenly I saw this German soldier with his rifle butt , you know , hitting that man over the head . And the man collapsed , cursing at him . ', 'right': '', 'complete_match': 'And suddenly I saw this German soldier with his rifle butt , you know , hitting that man over the head . And the man collapsed , cursing at him . ', 'testimony_id': 'usc_shoah_10406', 'shelfmark': ['USC 10406'], 'token_start': 8096, 'token_end': 8127}\n"
     ]
    }
   ],
   "source": [
    "fragment_3 = {}\n",
    "fragment_3['original_sentence'] = \"And suddenly I saw this German soldier with his rifle butt, you know, hitting that man over the head. And the man collapsed, cursing at him.\"\n",
    "fragment_3['label']=\"(..) I saw this German soldier with his rifle butt, you know, hitting that man over the head. And the man collapsed (..)\"\n",
    "indices = find_sentence_id(fragment_3['original_sentence'])\n",
    "fragment_3['start_sentence_index']=indices[0]\n",
    "fragment_3['end_sentence_index']=indices[1]\n",
    "fragment_3['media_offset'] = 0\n",
    "fragment_3['media_index'] = 0\n",
    "fragment_3['testimony_id'] = indices[2]\n",
    "fragments['fragments'].append(fragment_3)"
   ]
  },
  {
   "cell_type": "code",
   "execution_count": 483,
   "metadata": {},
   "outputs": [],
   "source": [
    "add_testimonial_fragments(fragments)"
   ]
  }
 ],
 "metadata": {
  "kernelspec": {
   "display_name": "base",
   "language": "python",
   "name": "base"
  }
 },
 "nbformat": 4,
 "nbformat_minor": 2
}
