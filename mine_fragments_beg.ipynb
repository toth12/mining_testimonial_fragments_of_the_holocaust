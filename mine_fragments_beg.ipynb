{
 "cells": [
  {
   "cell_type": "markdown",
   "metadata": {},
   "source": [
    "# Mining testimonial fragments of the Holocaust"
   ]
  },
  {
   "cell_type": "markdown",
   "metadata": {},
   "source": [
    "**Experience domain:**"
   ]
  },
  {
   "cell_type": "markdown",
   "metadata": {},
   "source": [
    "### Load the necessary libraries"
   ]
  },
  {
   "cell_type": "code",
   "execution_count": 1,
   "metadata": {},
   "outputs": [],
   "source": [
    "import sys; sys.path.insert(0, '..')\n",
    "import itertools"
   ]
  },
  {
   "cell_type": "code",
   "execution_count": 2,
   "metadata": {},
   "outputs": [],
   "source": [
    "import get_topic_model_concordance as topic_concordancer\n",
    "from utils import blacklab, db, text\n",
    "mongo = db.get_db()"
   ]
  },
  {
   "cell_type": "code",
   "execution_count": 3,
   "metadata": {},
   "outputs": [
    {
     "data": {
      "text/html": [
       "<style>.container { width:100% !important; }</style>"
      ],
      "text/plain": [
       "<IPython.core.display.HTML object>"
      ]
     },
     "metadata": {},
     "output_type": "display_data"
    }
   ],
   "source": [
    "%config Completer.use_jedi = False\n",
    "from IPython.core.display import display, HTML\n",
    "display(HTML(\"<style>.container { width:100% !important; }</style>\"))\n",
    "import random"
   ]
  },
  {
   "cell_type": "markdown",
   "metadata": {},
   "source": [
    "### Helper functions"
   ]
  },
  {
   "cell_type": "code",
   "execution_count": 4,
   "metadata": {},
   "outputs": [],
   "source": [
    "def create_contextual_query(lemmas,context_length=50):\n",
    "    permutations = itertools.permutations(lemmas,len(lemmas))\n",
    "    final_result = []\n",
    "    for element in list(permutations):\n",
    "        temp_result = []\n",
    "        for el in element:\n",
    "            temp_result.append('[lemma=\"'+el+'\"]')\n",
    "        temp_result = '('+('[]{0,'+str(context_length)+'}').join(temp_result)+')'\n",
    "        final_result.append(temp_result)\n",
    "    final_result = '|'.join(final_result)\n",
    "    return final_result\n",
    "        \n",
    "        \n",
    "            "
   ]
  },
  {
   "cell_type": "code",
   "execution_count": 5,
   "metadata": {},
   "outputs": [],
   "source": [
    "from utils import blacklab, db, text\n",
    "import requests\n",
    "import json\n",
    "def find_sentence_id(label):\n",
    "    props = {'annotators': 'tokenize'}\n",
    "\n",
    "    # set the encoding of the annotator\n",
    "    requests.encoding = 'utf-8'\n",
    "    # make a request\n",
    "    r = requests.post('http://localhost:9000/', params={'properties':\n",
    "                      json.dumps(props)},\n",
    "                      data=label.encode('utf-8'))\n",
    "    result = json.loads(r.text, encoding='utf-8')\n",
    "    query = []\n",
    "    for i, token in enumerate(result['tokens']):\n",
    "\n",
    "        if ('...'in token['word'] and ((i == 0) or\n",
    "           i == len(result['tokens']) - 1)):\n",
    "            continue\n",
    "        elif ('...'in token['word']):\n",
    "            query.append('[]{0,50}')\n",
    "        elif ('-'in token['word']):\n",
    "            query.append('[]{0,3}')\n",
    "        elif (\"n't\"in token['word']):\n",
    "            query.append('[]')\n",
    "        elif (\"'re\"in token['word']):\n",
    "            query.append('[]')\n",
    "        elif (\"?\"in token['word']):\n",
    "            query.append('[]')\n",
    "        elif (\".\"in token['word']):\n",
    "            query.append('[]')\n",
    "        elif (\"'s\"in token['word']):\n",
    "            query.append('[]')\n",
    "        elif (\",\"in token['word']):\n",
    "            query.append('[]')\n",
    "        else:\n",
    "            query.append('[\"' + token['word'] + '\"]')\n",
    "\n",
    "    query = ' '.join(query)\n",
    "    try:\n",
    "        sentence = blacklab.search_blacklab(query, window=0,\n",
    "                                            lemma=False,\n",
    "                                            include_match=True)\n",
    "        token_end = sentence[0]['token_end']\n",
    "        token_start = sentence[0]['token_start']\n",
    "        print (sentence[0])\n",
    "        mongo = db.get_db()\n",
    "        results = mongo.tokens.find({'testimony_id':\n",
    "                                    sentence[0]['testimony_id']},\n",
    "                                    {'_id': 0})\n",
    "        tokens = list(results)[0]['tokens']\n",
    "        sentenceStart = tokens[token_start]['sentence_index']\n",
    "        sentenceEnd = tokens[token_end]['sentence_index']\n",
    "        originalsentence = sentence[0]['complete_match']\n",
    "        return (sentenceStart,sentenceEnd,sentence[0]['testimony_id'])\n",
    "    except:\n",
    "        print(\"The following query returned a null result\")\n",
    "        print(query)\n",
    "        \n",
    "            \n"
   ]
  },
  {
   "cell_type": "code",
   "execution_count": 6,
   "metadata": {},
   "outputs": [],
   "source": [
    "def create_parent_node(label):\n",
    "    \"\"\"Generate a root node for a tree structure.\"\"\"\n",
    "    testimony_id = random.randint(1, 20)\n",
    "    node = {}\n",
    "    node['label'] = label\n",
    "    fragment = {'label': label,\n",
    "                'essay_id': random.randint(1, 20),\n",
    "                'tree': get_node(testimony_id, node, is_parent=True)}\n",
    "    fragment['tree']['label'] = label\n",
    "\n",
    "    return fragment"
   ]
  },
  {
   "cell_type": "code",
   "execution_count": 7,
   "metadata": {},
   "outputs": [],
   "source": [
    "def get_node(testimony_id, node, is_parent=False):\n",
    "    \"\"\"Generate a parent or leaf node for a tree structure.\"\"\"\n",
    "    if is_parent:\n",
    "        return {\n",
    "            'label': node['label'],\n",
    "            'testimony_id': random.randint(1, 20),\n",
    "            'media_index': random.randint(1, 20),\n",
    "            'media_offset': random.randint(1, 20),\n",
    "            'start_sentence_index': random.randint(1, 20),\n",
    "            'end_sentence_index': random.randint(1, 20),\n",
    "            'children': [], }\n",
    "    else:\n",
    "        return {'label': node['label'],\n",
    "                'testimony_id': node['testimony_id'],\n",
    "                'media_index': float(node['media_index']),\n",
    "                'media_offset': float(node['media_offset']),\n",
    "                'start_sentence_index': float(node['start_sentence_index']),\n",
    "                'end_sentence_index': float(node['end_sentence_index']),\n",
    "                'children': [], }"
   ]
  },
  {
   "cell_type": "code",
   "execution_count": 8,
   "metadata": {},
   "outputs": [],
   "source": [
    "def check_if_main_node_exist(node):\n",
    "    results = mongo.fragments.find({'label':node},{'_id': 0})\n",
    "    if len(results[0])==0:\n",
    "        return False\n",
    "    else:\n",
    "        return True"
   ]
  },
  {
   "cell_type": "code",
   "execution_count": 9,
   "metadata": {},
   "outputs": [],
   "source": [
    "def add_main_node(label):\n",
    "    mongo.fragments.insert(create_parent_node(label))"
   ]
  },
  {
   "cell_type": "code",
   "execution_count": 10,
   "metadata": {},
   "outputs": [],
   "source": [
    "def delete_main_node(label):\n",
    "    mongo.fragments.delete_one({'label':label})"
   ]
  },
  {
   "cell_type": "code",
   "execution_count": 11,
   "metadata": {},
   "outputs": [],
   "source": [
    "def add_testimonial_fragments(fragments):\n",
    "    if check_if_main_node_exist(fragments['main_node']):\n",
    "        results = mongo.fragments.find({'label':fragments['main_node']},{'_id':0})[0]\n",
    "        mid_nodes = [element['label'] for element in results['tree']['children']]\n",
    "        if fragments['mid_node'] in mid_nodes:\n",
    "            print (\"mid node exists cannot be added\")\n",
    "        else:\n",
    "            \n",
    "            mid_node = get_node('r',{'label':fragments['mid_node']},is_parent=True)\n",
    "            for fragment in fragments['fragments']:\n",
    "                leaf = get_node(fragment['testimony_id'],fragment)\n",
    "                mid_node['children'].append(leaf)\n",
    "            results['tree']['children'].append(mid_node)\n",
    "            mongo.fragments.replace_one({'label':fragments['main_node']},results)"
   ]
  },
  {
   "cell_type": "markdown",
   "metadata": {},
   "source": [
    "### Add the main node"
   ]
  },
  {
   "cell_type": "code",
   "execution_count": 12,
   "metadata": {},
   "outputs": [
    {
     "name": "stderr",
     "output_type": "stream",
     "text": [
      "/miniconda3/lib/python3.7/site-packages/ipykernel_launcher.py:2: DeprecationWarning: insert is deprecated. Use insert_one or insert_many instead.\n",
      "  \n"
     ]
    }
   ],
   "source": [
    "main_node = \"beg\"\n",
    "delete_main_node(main_node)\n",
    "add_main_node(main_node)"
   ]
  },
  {
   "cell_type": "markdown",
   "metadata": {},
   "source": [
    "### Set up the query"
   ]
  },
  {
   "cell_type": "code",
   "execution_count": 17,
   "metadata": {},
   "outputs": [],
   "source": [
    "query = '[lemma=\"beg\"]'"
   ]
  },
  {
   "cell_type": "code",
   "execution_count": 18,
   "metadata": {},
   "outputs": [
    {
     "name": "stdout",
     "output_type": "stream",
     "text": [
      "Training lda model began\n",
      "http://localhost:8080/blacklab-server-2.1.0/lts/hits?patt=%5Blemma%3D%22beg%22%5D&waitfortotal=true&outputformat=json&prettyprint=no&wordsaroundhit=50\n",
      "training of gensim corpus began\n",
      "gensim corpus done\n"
     ]
    }
   ],
   "source": [
    "result = topic_concordancer.main(query,window=50,topicn=25)"
   ]
  },
  {
   "cell_type": "markdown",
   "metadata": {},
   "source": [
    "### Print the key topics"
   ]
  },
  {
   "cell_type": "code",
   "execution_count": 19,
   "metadata": {},
   "outputs": [
    {
     "name": "stdout",
     "output_type": "stream",
     "text": [
      "0\n",
      "0.194*\"do_not\" + 0.136*\"walk\" + 0.129*\"camp\" + 0.116*\"find\" + 0.114*\"eat\" + 0.025*\"go_through\" + 0.022*\"every_day\" + 0.019*\"body\" + 0.017*\"Americans\" + 0.015*\"strength\"\n",
      "\n",
      "\n",
      "1\n",
      "0.142*\"pardon_?\" + 0.111*\"send\" + 0.059*\"MB\" + 0.055*\"write\" + 0.042*\"letter\" + 0.041*\"kind_of\" + 0.040*\"thing\" + 0.034*\"America\" + 0.034*\"Beg\" + 0.028*\"answer\"\n",
      "\n",
      "\n",
      "2\n",
      "0.137*\"back\" + 0.089*\"go_back\" + 0.088*\"come_back\" + 0.082*\"do_not\" + 0.061*\"able_to\" + 0.058*\"school\" + 0.057*\"little_bit\" + 0.049*\"let_'s\" + 0.029*\"order\" + 0.027*\"end\"\n",
      "\n",
      "\n",
      "3\n",
      "0.168*\"stay\" + 0.148*\"day\" + 0.112*\"place\" + 0.068*\"night\" + 0.059*\"finally\" + 0.046*\"move\" + 0.041*\"doctor\" + 0.040*\"sleep\" + 0.028*\"winter\" + 0.027*\"russian\"\n",
      "\n",
      "\n",
      "4\n",
      "0.136*\"jewish\" + 0.090*\"home\" + 0.059*\"afraid\" + 0.058*\"speak\" + 0.058*\"village\" + 0.055*\"polish\" + 0.047*\"boy\" + 0.035*\"decide\" + 0.035*\"good\" + 0.035*\"job\"\n",
      "\n",
      "\n",
      "5\n",
      "0.266*\"food\" + 0.144*\"house\" + 0.048*\"farmer\" + 0.044*\"potato\" + 0.040*\"group\" + 0.032*\"at_night\" + 0.028*\"car\" + 0.023*\"wagon\" + 0.023*\"horse\" + 0.021*\"most_of\"\n",
      "\n",
      "\n",
      "6\n",
      "0.231*\"my_father\" + 0.170*\"my_mother\" + 0.139*\"ghetto\" + 0.134*\"seconds\" + 0.085*\"survive\" + 0.031*\"arrive\" + 0.027*\"people_who\" + 0.019*\"part_of\" + 0.015*\"break\" + 0.013*\"PAUSES\"\n",
      "\n",
      "\n",
      "7\n",
      "0.273*\"child\" + 0.138*\"cry\" + 0.096*\"mother\" + 0.080*\"hear\" + 0.056*\"baby\" + 0.044*\"parent\" + 0.037*\"scream\" + 0.037*\"terrible\" + 0.027*\"young\" + 0.025*\"daughter\"\n",
      "\n",
      "\n",
      "8\n",
      "0.190*\"live\" + 0.146*\"family\" + 0.070*\"pardon\" + 0.047*\"room\" + 0.033*\"business\" + 0.026*\"hour\" + 0.024*\"chance\" + 0.024*\"half\" + 0.023*\"question\" + 0.023*\"lady\"\n",
      "\n",
      "\n",
      "9\n",
      "0.246*\"could_not\" + 0.077*\"guy\" + 0.053*\"close\" + 0.050*\"anymore\" + 0.037*\"morning\" + 0.036*\"stand\" + 0.024*\"tape\" + 0.023*\"finish\" + 0.023*\"come_home\" + 0.022*\"continue\"\n",
      "\n",
      "\n",
      "10\n",
      "0.246*\"remember\" + 0.171*\"time\" + 0.048*\"fact\" + 0.036*\"Auschwitz\" + 0.036*\"fight\" + 0.034*\"show\" + 0.033*\"week\" + 0.031*\"wait\" + 0.030*\"wood\" + 0.028*\"begin\"\n",
      "\n",
      "\n",
      "11\n",
      "0.096*\"war\" + 0.091*\"pardon_?\" + 0.072*\"year\" + 0.072*\"feel\" + 0.056*\"Germany\" + 0.042*\"Poland\" + 0.036*\"bear\" + 0.036*\"meet\" + 0.031*\"ep\" + 0.030*\"my_husband\"\n",
      "\n",
      "\n",
      "12\n",
      "0.278*\"leave\" + 0.149*\"die\" + 0.085*\"my_brother\" + 0.053*\"my_parent\" + 0.040*\"find_out\" + 0.032*\"alive\" + 0.030*\"death\" + 0.027*\"gon_na\" + 0.025*\"line\" + 0.023*\"friend\"\n",
      "\n",
      "\n",
      "13\n",
      "0.151*\"put\" + 0.126*\"bring\" + 0.108*\"try_to\" + 0.069*\"save\" + 0.051*\"what_happen\" + 0.033*\"escape\" + 0.028*\"steal\" + 0.027*\"dog\" + 0.026*\"officer\" + 0.025*\"watch\"\n",
      "\n",
      "\n",
      "14\n",
      "0.255*\"work\" + 0.113*\"happen\" + 0.083*\"money\" + 0.049*\"of_course\" + 0.044*\"good\" + 0.035*\"buy\" + 0.034*\"wife\" + 0.029*\"one_day\" + 0.028*\"german\" + 0.026*\"pass\"\n",
      "\n",
      "\n",
      "15\n",
      "0.180*\"start\" + 0.131*\"run\" + 0.119*\"Germans\" + 0.063*\"throw\" + 0.059*\"city\" + 0.044*\"jew\" + 0.040*\"Russians\" + 0.035*\"over_there\" + 0.033*\"Russia\" + 0.031*\"run_away\"\n",
      "\n",
      "\n",
      "16\n",
      "0.631*\"do_not\" + 0.094*\"life\" + 0.038*\"story\" + 0.021*\"realize\" + 0.020*\"free\" + 0.016*\"long\" + 0.015*\"care\" + 0.015*\"absolutely\" + 0.015*\"understand\" + 0.015*\"hungarian\"\n",
      "\n",
      "\n",
      "17\n",
      "0.155*\"time\" + 0.115*\"call\" + 0.103*\"thing\" + 0.072*\"hide\" + 0.067*\"talk\" + 0.032*\"my_aunt\" + 0.031*\"my_uncle\" + 0.026*\"concentration_camp\" + 0.024*\"of_course\" + 0.022*\"bad\"\n",
      "\n",
      "\n",
      "18\n",
      "0.498*\"people\" + 0.089*\"a_lot\" + 0.077*\"street\" + 0.048*\"hospital\" + 0.047*\"dead\" + 0.041*\"police\" + 0.033*\"sick\" + 0.018*\"beginning\" + 0.017*\"beggar\" + 0.014*\"these_people\"\n",
      "\n",
      "\n",
      "19\n",
      "0.211*\"kill\" + 0.179*\"do_not\" + 0.128*\"shoot\" + 0.069*\"friend\" + 0.041*\"kid\" + 0.035*\"truck\" + 0.030*\"front_of\" + 0.030*\"German\" + 0.030*\"march\" + 0.028*\"ss_man\"\n",
      "\n",
      "\n",
      "20\n",
      "0.180*\"make\" + 0.127*\"woman\" + 0.073*\"town\" + 0.060*\"sit\" + 0.058*\"big\" + 0.049*\"son\" + 0.027*\"stand\" + 0.023*\"pay\" + 0.021*\"play\" + 0.019*\"understand\"\n",
      "\n",
      "\n",
      "21\n",
      "0.139*\"man\" + 0.134*\"german\" + 0.100*\"Jews\" + 0.059*\"door\" + 0.058*\"stop\" + 0.045*\"catch\" + 0.045*\"soldier\" + 0.043*\"open\" + 0.038*\"guard\" + 0.033*\"look_at\"\n",
      "\n",
      "\n",
      "22\n",
      "0.102*\"my_sister\" + 0.089*\"girl\" + 0.086*\"sister\" + 0.085*\"brother\" + 0.075*\"father\" + 0.043*\"lose\" + 0.042*\"Israel\" + 0.038*\"husband\" + 0.038*\"se_:\" + 0.037*\"picture\"\n",
      "\n",
      "\n",
      "23\n",
      "0.089*\"my_mother\" + 0.082*\"start\" + 0.061*\"hand\" + 0.058*\"God\" + 0.051*\"fall\" + 0.046*\"head\" + 0.043*\"ss\" + 0.038*\"knee\" + 0.036*\"beat\" + 0.035*\"hit\"\n",
      "\n",
      "\n",
      "24\n",
      "0.407*\"give\" + 0.133*\"bread\" + 0.100*\"water\" + 0.100*\"train\" + 0.057*\"piece_of\" + 0.031*\"hungry\" + 0.029*\"window\" + 0.028*\"drink\" + 0.020*\"kitchen\" + 0.017*\"soup\"\n",
      "\n",
      "\n"
     ]
    }
   ],
   "source": [
    "for i,element in enumerate(result['topic_documents']):\n",
    "    print (i)\n",
    "    topic_words =  element['topic_words'][1]\n",
    "    print (topic_words)\n",
    "    print ('\\n')"
   ]
  },
  {
   "cell_type": "markdown",
   "metadata": {},
   "source": [
    "### Analyze documents"
   ]
  },
  {
   "cell_type": "code",
   "execution_count": 20,
   "metadata": {},
   "outputs": [
    {
     "name": "stdout",
     "output_type": "stream",
     "text": [
      "So what did you do ? They opened displaced persons camps , and they flooded them with food from America , from England , you know ? And people , so many people , died from overeating . They got sick . They could n't take it . And I begged them , please , eat slowly . You are like a baby . First , the mother milk , and then you get the cereal . You did n't eat for four , five years this kind of food . You will get sick . Eat slowly . You do \n",
      "\n",
      "\n",
      "second day at night , they were looking over the -- the hiding places . They found many people , children . We heard children 's screams . Mothers -- do n't hit her . Please . Why are you doing it to us ? Do n't shoot us , begging . And then on the third night , it 's quieted down . Just the smell of burning bodies . So I walked out . I could hardly walk after sitting down for -- for two -- two days -- three days like this . INTERVIEWER : Did you think \n",
      "\n",
      "\n",
      "walking . It took 28 arduous days to get to my hometown . INT : And how did you survive during that long walk ? MP : I ate -- INT : Food . MP : I ate what I could find , find in the fields , or just begged wherever I could . And whatever I could do , that 's how I survived . I survived many more months of this kind of experience after I found myself in the woods . That was later on , after the concentration camps . INT : The returning to your \n",
      "\n",
      "\n",
      "with lice . And and -- but I could hardly walk . And when we walked , we do n't -- we did n't see anything . We could not walk straight . There was nothing . It was always either dead body or dying people . And they were begging , please , help . And we could not . You could not even walk without stepping on somebody . It was thousand and thousand , hundred of thousand people . And in one more days , I feel I would 've been dead too . I could not take \n",
      "\n",
      "\n",
      "was signs typhus , typhus , typhus , you do n't -- ca n't go through . So she says , she 's dead , OK . She do n't look for me anymore . So I did n't know that she was looking for me . Finally , I begged this nurse and the doctor , I said , I want to go to my sister . She said , OK , we have transport . We got girls from Polish , from -- from -- all kind cities . So tomorrow morning , you come here , you take \n",
      "\n",
      "\n",
      "camp . The insignia of the badges turned into a combined yellow-purple star , yeah and so that commander of the camp , whose name was Miller , he was there only for two months , had a secretary who was one of those Jew lovers and , and she begged for mercy . I , because I was sitting there just to be loaded onto the trucks and while walking she walked from her barrack during lunchtime or so , to her office , which was in front of the entrance of the temp women 's camp and I called \n",
      "\n",
      "\n",
      ", they would take away from us , the -- take it away and that was a repeat , every single day , until we got used to , know -- you know , until we saw that we getting normal , three -- . Yeah , they would always beg us , “ Do n't go out and eat , you know , anything else , ” because -- because our bodies were in such a state , that by eating too much or -- y-you would get sick and you could die , because our resistance was so low \n",
      "\n",
      "\n",
      "day . And then if there was , there was a there a , a search . So , they were not allowed to find , if they would find the bread , they would take it away and they would still beat me up . So , I would beg my sister to help me eat , help me , they 're going to , to beat me up if they find bread , so she would cry why she has to that she is eating my bread , and I will have that much less and , and , \n",
      "\n",
      "\n",
      "who can walk , the young men , young men who can walk , will walk to the camp . It 's approximately a half an hour of -- of walking . [ PAUSES FOR 4 SECONDS ] They -- [ PAUSES FOR 3 SECONDS ] one woman , who begged an SS man to -- not to be -- she said , I 'm young . I can walk with my husband . He said , no , you 're going to go on that bus like all the other women . And you will be a reunited in the \n",
      "\n",
      "\n",
      "until everybody went away , until it got quiet , and I start walking backwards . As I walk backwards , I was afraid to walk with the street . I was walk with the fields . I finally come into a town from the back , and I was begging food . They said , what are you doing here ? I says , I 'm a Polack . I was in the Polish camp , and they bombarded the camp . And [ PAUSES FOR 4 SECONDS ] I 'm looking for work . Please give me work . \n",
      "\n",
      "\n",
      "arrived to Bergen-Belsen . This is what I -- and I did n't eat . I absolutely could not . The smell , it could be the smell of these burned bodies or fear , you know . I stopped eating . I could n't . Just water . I begged for water , but I could n't get water . So when we arrived to Bergen-Belsen , and they told us to get out and the Nazis came with those big , big dogs , with the wolfs , and they asked us , who can not walk , is \n",
      "\n",
      "\n",
      "be careful about was who we talked to in the villages . We could not trust all the individuals . Of course , we had to make sure that those we could n’t trust did n’t know where we were . As I told you , we used to go begging in order to eat . Q : Did you go every day ? A : No ! No ! If we went every day and everybody would give us something we would have too much food . we could n’t eat so much . So we went about twice a \n",
      "\n",
      "\n",
      "n't speak German , how to approach this commander to beg him to let me go cross . And he told me , do n't tell him that is your girlfriend or something . You tell him that 's your sister . They do n't know . Ask him and beg him to let you go to that camp . So he told me , you tell him [ INAUDIBLE ] commandant she was there , and I explain it how . So I approached this commander and doing the working things , and I told him in German how I \n",
      "\n",
      "\n",
      "you have to go . And my sister , you have to go . So I found one of the -- not SS , because he was not a -- one -- one of the German guards . I went over to him . I says , please . I begged him to leave my mother there , because she did n't have any strength , and -- and leave my sister there because she did n't have any strength , to leave them in a -- in a camp , which he did . He granted it . He says \n",
      "\n",
      "\n",
      "there was -- they were taking us either to Palestine or to England . No , no England just Palestine . we were talking about taking the children . And I , I left . And she came in the station . So did his two sisters , crying , begging us to stay behind . No . And we met another boy , that we met from the camp or we knew from the camp , [ INAUDIBLE ] [ ? Meltz , ? ] who lives in England now . And all , all the papers we had was \n",
      "\n",
      "\n",
      "rice no more . And it was the first year what they had snow . And we walked and walked . And I did n't have the shoes . I put on -- they were torn already . And I walked on the ice and the snow . And I begged Gordon . Leave me . I 'll die . I can not do it . But you go farther . Maybe you 'll find . And from far we saw a little bit of -- from the chimney . INT : Smoke . ST : The smoke . And he \n",
      "\n",
      "\n",
      "live , yeah . End of Tape # 4 Tape # 5 07:53 A : So , we walked on this highway , we left Neustadt-Glewe and we went through the Russian , you know , he let us through . It was a hard job , we had to beg him . But , we got on this highway and there were woods on both sides on this highway . Actually , we really enjoyed this walk because it was for the first time that you walked and no one said , Schnell and Raus . You do n't realize \n",
      "\n",
      "\n",
      "very uncomfortable , because they could n't lie down and they did n't have anything to drink , anything to eat . And the facilities , to toilet facilities , it was very , very depressed . INT : What did it smell like in the truck ? MB : Beg pardon ? INT : What did it smell like ? MB : Terrible . So many people together and no proper facilities . Terrible . INT : You said that you ca n't remember how long you were in the truck . But do you know if it was more \n",
      "\n",
      "\n",
      "the summer we could find occasionally a stream where we could wash up , therefore we were full of lice . We had no food , practically . We were starving . We ate whatever we could catch in the forest . And occasionally , we would go out and beg for food . I lost most of my teeth during that period . They just rotted out . How we did n't get typhus or whatever , I do n't know . But without hygiene , without food , it was just a nightmare . Now , to go out \n",
      "\n",
      "\n",
      "the Americans . INT : How long did it take before you got to Hungary ? GM : Well , it has taken quite a long time because I was in that hospital for a while . And then later on , we had to go out and back for beg from Austrians for food because the food which we have received from the Americans was n't satisfactory . They gave us dried peas , and it was mushy . And we were sick . We were not ready to eat dried -- and so we went out , and we \n",
      "\n",
      "\n",
      "Austrians for food because the food which we have received from the Americans was n't satisfactory . They gave us dried peas , and it was mushy . And we were sick . We were not ready to eat dried -- and so we went out , and we were begging for food . And we were getting some soup and some bread and something which we could eat . Well , eventually , after about three weeks , four weeks , we were put on a train . And interestingly , they did n't leave us anything to eat . \n",
      "\n",
      "\n",
      ". And all of a sudden , there was meat for people . We had -- we had food to eat -- to eat during those times . I never felt any -- any -- I did n't feel any problems . But I do know people were walking about begging . There was people sitting around not having anything to eat . But somehow my parents were able to manage during those times to provide food and shelter for us . INT : What did you think was going on ? What did it seem like to you ? AE \n",
      "\n",
      "\n",
      "around 4:00 o'clock in the morning , we got up and we started to walk towards Prague . And we walked and we walked and we walked all day long , 'til around noontime we caught onto a Russian column , a horse -- a horse-drawn wagon . And we begged them that they should take us on , which they did . And they took us on . And we traveled with them , until we came to a village in Czechoslovakia . We did n't know where we were , but we traveled with them . And they -- \n",
      "\n",
      "\n",
      ", and he found a knife somehow , and he carved the messages onto these pieces of wood . Kept saying , you must live , you must live . The messages were always the same . And he would throw it to the next camp , and he would beg people to throw it to the next camp , until it finally will reach the Katz girls . And every day , for about three weeks , we got such a note . Such the ingenious communicator , you know ? The ultimate communicator . And we got his messages \n",
      "\n",
      "\n",
      "walked down -- . I was allowed to get about three inches worth of milk in a coke-sized bottle . My mother made me share that with my brother . You had to walk to the store and they measured this out , walk back . There were always walks begging for bread in the bakery . That was my job , I think I told you about that . Q : Right , it was cute . A : Just last year , when I was interviewing my brother , I said to him , did anybody think how demeaning \n",
      "\n",
      "\n"
     ]
    }
   ],
   "source": [
    "i=0\n",
    "for text in result['topic_documents'][i]['texts'][0:25]:\n",
    "    print (text['matched_text_words'])\n",
    "    print ('\\n')"
   ]
  },
  {
   "cell_type": "markdown",
   "metadata": {},
   "source": [
    "## Testimonial fragments"
   ]
  },
  {
   "cell_type": "markdown",
   "metadata": {},
   "source": [
    "### 1.  "
   ]
  },
  {
   "cell_type": "code",
   "execution_count": 19,
   "metadata": {},
   "outputs": [],
   "source": [
    "lemmas = [\"beg\",\"child\"]"
   ]
  },
  {
   "cell_type": "code",
   "execution_count": 20,
   "metadata": {},
   "outputs": [
    {
     "name": "stdout",
     "output_type": "stream",
     "text": [
      "([lemma=\"beg\"][]{0,25}[lemma=\"child\"])|([lemma=\"child\"][]{0,25}[lemma=\"beg\"])\n"
     ]
    }
   ],
   "source": [
    "query = create_contextual_query(lemmas,context_length=25)\n",
    "print (query)"
   ]
  },
  {
   "cell_type": "code",
   "execution_count": 21,
   "metadata": {},
   "outputs": [],
   "source": [
    "domain_term = \"for the child\""
   ]
  },
  {
   "cell_type": "code",
   "execution_count": 22,
   "metadata": {},
   "outputs": [],
   "source": [
    "fragments = {}\n",
    "fragments['main_node'] = main_node\n",
    "fragments['mid_node'] = domain_term\n",
    "fragments['fragments'] = []"
   ]
  },
  {
   "cell_type": "code",
   "execution_count": 23,
   "metadata": {},
   "outputs": [
    {
     "name": "stdout",
     "output_type": "stream",
     "text": [
      "http://localhost:8080/blacklab-server-2.1.0/lts/hits?patt=%5B%22He%22%5D+%5B%5D+%5B%22he%22%5D+%5B%22begged%22%5D+%5B%22them%22%5D+%5B%22to%22%5D+%5B%22let%22%5D+%5B%22to%22%5D+%5B%22let%22%5D+%5B%22the%22%5D+%5B%22children%22%5D+%5B%22that%22%5D+%5B%22somebody%22%5D+%5B%22should%22%5D+%5B%22come%22%5D+%5B%22and%22%5D+%5B%22pick%22%5D+%5B%22up%22%5D+%5B%22the%22%5D+%5B%22children%22%5D+%5B%5D&waitfortotal=true&outputformat=json&prettyprint=no&wordsaroundhit=0\n",
      "{'left': '', 'match_word': 'He , he begged them to let to let the children that somebody should come and pick up the children . ', 'right': '', 'complete_match': 'He , he begged them to let to let the children that somebody should come and pick up the children . ', 'testimony_id': 'irn504601', 'shelfmark': ['USHMM RG-50.030*0107'], 'token_start': 3956, 'token_end': 3977}\n"
     ]
    }
   ],
   "source": [
    "fragment_1 = {}\n",
    "fragment_1['original_sentence'] = \"He, he begged them to let to let the children that somebody should come and pick up the children.\"\n",
    "fragment_1['label']=\"He, he begged them to let to let the children that somebody should come and pick up the children.\"\n",
    "indices = find_sentence_id(fragment_1['original_sentence'])\n",
    "fragment_1['start_sentence_index']=indices[0]\n",
    "fragment_1['end_sentence_index']=indices[1]\n",
    "fragment_1['media_offset'] = 0\n",
    "fragment_1['media_index'] = 0\n",
    "fragment_1['testimony_id'] = indices[2]\n",
    "fragments['fragments'].append(fragment_1)"
   ]
  },
  {
   "cell_type": "code",
   "execution_count": 24,
   "metadata": {},
   "outputs": [
    {
     "name": "stdout",
     "output_type": "stream",
     "text": [
      "http://localhost:8080/blacklab-server-2.1.0/lts/hits?patt=%5B%22some%22%5D+%5B%22of%22%5D+%5B%22the%22%5D+%5B%22mothers%22%5D+%5B%22were%22%5D+%5B%22begging%22%5D+%5B%22the%22%5D+%5B%22Nazis%22%5D+%5B%22to%22%5D+%5B%22allow%22%5D+%5B%22them%22%5D+%5B%22to%22%5D+%5B%22escort%22%5D+%5B%22their%22%5D+%5B%22children%22%5D+%5B%5D&waitfortotal=true&outputformat=json&prettyprint=no&wordsaroundhit=0\n",
      "{'left': '', 'match_word': 'some of the mothers were begging the Nazis to allow them to escort their children . ', 'right': '', 'complete_match': 'some of the mothers were begging the Nazis to allow them to escort their children . ', 'testimony_id': 'usc_shoah_19111', 'shelfmark': ['USC Shoah Foundation 19111'], 'token_start': 11561, 'token_end': 11577}\n"
     ]
    }
   ],
   "source": [
    "fragment_2 = {}\n",
    "fragment_2['original_sentence'] = \"some of the mothers were begging the Nazis to allow them to escort their children.\"\n",
    "fragment_2['label']=\"(..) some of the mothers were begging the Nazis to allow them to escort their children.\"\n",
    "indices = find_sentence_id(fragment_2['original_sentence'])\n",
    "fragment_2['start_sentence_index']=indices[0]\n",
    "fragment_2['end_sentence_index']=indices[1]\n",
    "fragment_2['media_offset'] = 0\n",
    "fragment_2['media_index'] = 0\n",
    "fragment_2['testimony_id'] = indices[2]\n",
    "fragments['fragments'].append(fragment_2)\n"
   ]
  },
  {
   "cell_type": "code",
   "execution_count": 25,
   "metadata": {},
   "outputs": [
    {
     "name": "stdout",
     "output_type": "stream",
     "text": [
      "http://localhost:8080/blacklab-server-2.1.0/lts/hits?patt=%5B%22Leave%22%5D+%5B%22the%22%5D+%5B%22child%22%5D+%5B%22with%22%5D+%5B%22me%22%5D+%5B%5D+%5B%22you%22%5D+%5B%22know%22%5D+%5B%5D+%5B%22And%22%5D+%5B%22she%22%5D+%5B%22was%22%5D+%5B%22begging%22%5D+%5B%5D+%5B%22you%22%5D+%5B%22know%22%5D+%5B%5D+%5B%22to%22%5D+%5B%22leave%22%5D+%5B%22this%22%5D+%5B%22baby%22%5D+%5B%22with%22%5D+%5B%22her%22%5D+%5B%5D&waitfortotal=true&outputformat=json&prettyprint=no&wordsaroundhit=0\n",
      "{'left': '', 'match_word': 'Leave the child with me , you know . And she was begging , you know , to leave this baby with her . ', 'right': '', 'complete_match': 'Leave the child with me , you know . And she was begging , you know , to leave this baby with her . ', 'testimony_id': 'usc_shoah_942', 'shelfmark': ['USC Shoah Foundation 942'], 'token_start': 10119, 'token_end': 10143}\n"
     ]
    }
   ],
   "source": [
    "fragment_3 = {}\n",
    "fragment_3['original_sentence'] = \"Leave the child with me, you know. And she was begging, you know, to leave this baby with her.\"\n",
    "fragment_3['label']=\"Leave the child with me, you know. And she was begging, you know, to leave this baby with her.\"\n",
    "indices = find_sentence_id(fragment_3['original_sentence'])\n",
    "fragment_3['start_sentence_index']=indices[0]\n",
    "fragment_3['end_sentence_index']=indices[1]\n",
    "fragment_3['media_offset'] = 0\n",
    "fragment_3['media_index'] = 0\n",
    "fragment_3['testimony_id'] = indices[2]\n",
    "fragments['fragments'].append(fragment_3)"
   ]
  },
  {
   "cell_type": "code",
   "execution_count": 26,
   "metadata": {},
   "outputs": [
    {
     "name": "stdout",
     "output_type": "stream",
     "text": [
      "http://localhost:8080/blacklab-server-2.1.0/lts/hits?patt=%5B%22mothers%22%5D+%5B%22and%22%5D+%5B%22father%22%5D+%5B%22kneeling%22%5D+%5B%22on%22%5D+%5B%22their%22%5D+%5B%22hands%22%5D+%5B%22and%22%5D+%5B%22knees%22%5D+%5B%22begging%22%5D+%5B%22the%22%5D+%5B%22Germans%22%5D+%5B%22to%22%5D+%5B%22leave%22%5D+%5B%22their%22%5D+%5B%22children%22%5D+%5B%22alone%22%5D+%5B%5D&waitfortotal=true&outputformat=json&prettyprint=no&wordsaroundhit=0\n",
      "{'left': '', 'match_word': 'mothers and father kneeling on their hands and knees begging the Germans to leave their children alone . ', 'right': '', 'complete_match': 'mothers and father kneeling on their hands and knees begging the Germans to leave their children alone . ', 'testimony_id': 'irn504520', 'shelfmark': ['USHMM RG-50.002*0015'], 'token_start': 5789, 'token_end': 5807}\n"
     ]
    }
   ],
   "source": [
    "fragment_4 = {}\n",
    "fragment_4['original_sentence'] = \" mothers and father kneeling on their hands and knees begging the Germans to leave their children alone.\"\n",
    "fragment_4['label']= \"(..) mothers and father kneeling on their hands and knees begging the Germans to leave their children alone.\"\n",
    "indices = find_sentence_id(fragment_4['original_sentence'])\n",
    "fragment_4['start_sentence_index']=indices[0]\n",
    "fragment_4['end_sentence_index']=indices[1]\n",
    "fragment_4['media_offset'] = 0\n",
    "fragment_4['media_index'] = 0\n",
    "fragment_4['testimony_id'] = indices[2]\n",
    "fragments['fragments'].append(fragment_4)\n"
   ]
  },
  {
   "cell_type": "code",
   "execution_count": 27,
   "metadata": {},
   "outputs": [
    {
     "name": "stdout",
     "output_type": "stream",
     "text": [
      "http://localhost:8080/blacklab-server-2.1.0/lts/hits?patt=%5B%22His%22%5D+%5B%22struggle%22%5D+%5B%22was%22%5D+%5B%22like%22%5D+%5B%22survival%22%5D+%5B%5D+%5B%22but%22%5D+%5B%22not%22%5D+%5B%22for%22%5D+%5B%22him%22%5D+%5B%5D+%5B%22but%22%5D+%5B%22for%22%5D+%5B%22the%22%5D+%5B%22children%22%5D+%5B%5D+%5B%22He%22%5D+%5B%22virtually%22%5D+%5B%22got%22%5D+%5B%22out%22%5D+%5B%22and%22%5D+%5B%22begged%22%5D+%5B%5D+%5B%22He%22%5D+%5B%22begged%22%5D+%5B%22for%22%5D+%5B%22my%22%5D+%5B%22children%22%5D+%5B%22he%22%5D+%5B%22begged%22%5D+%5B%5D+%5B%22you%22%5D+%5B%22know%22%5D+%5B%5D&waitfortotal=true&outputformat=json&prettyprint=no&wordsaroundhit=0\n",
      "{'left': '', 'match_word': 'His struggle was like survival , but not for him , but for the children . He virtually got out and begged . He begged for my children he begged , you know . ', 'right': '', 'complete_match': 'His struggle was like survival , but not for him , but for the children . He virtually got out and begged . He begged for my children he begged , you know . ', 'testimony_id': 'irn504529', 'shelfmark': ['USHMM RG-50.030*0016'], 'token_start': 7043, 'token_end': 7077}\n"
     ]
    }
   ],
   "source": [
    "fragment_5 = {}\n",
    "fragment_5['original_sentence'] = \"His struggle was like survival, but not for him, but for the children. He virtually got out and begged. He begged for my children he begged, you know.\"\n",
    "fragment_5['label']= \"His struggle was like survival, but not for him, but for the children. (..) He begged for my children he begged (..).\"\n",
    "indices = find_sentence_id(fragment_5['original_sentence'])\n",
    "fragment_5['start_sentence_index']=indices[0]\n",
    "fragment_5['end_sentence_index']=indices[1]\n",
    "fragment_5['media_offset'] = 0\n",
    "fragment_5['media_index'] = 0\n",
    "fragment_5['testimony_id'] = indices[2]\n",
    "fragments['fragments'].append(fragment_5)"
   ]
  },
  {
   "cell_type": "code",
   "execution_count": 28,
   "metadata": {},
   "outputs": [],
   "source": [
    "add_testimonial_fragments(fragments)"
   ]
  },
  {
   "cell_type": "markdown",
   "metadata": {},
   "source": [
    "### 2.  "
   ]
  },
  {
   "cell_type": "code",
   "execution_count": 29,
   "metadata": {},
   "outputs": [],
   "source": [
    "lemmas = []"
   ]
  },
  {
   "cell_type": "code",
   "execution_count": 30,
   "metadata": {},
   "outputs": [
    {
     "name": "stdout",
     "output_type": "stream",
     "text": [
      "()\n"
     ]
    }
   ],
   "source": [
    "query = create_contextual_query(lemmas,context_length=50)\n",
    "print (query)"
   ]
  },
  {
   "cell_type": "code",
   "execution_count": 31,
   "metadata": {},
   "outputs": [],
   "source": [
    "domain_term = \"children\""
   ]
  },
  {
   "cell_type": "code",
   "execution_count": 32,
   "metadata": {},
   "outputs": [],
   "source": [
    "fragments = {}\n",
    "fragments['main_node'] = main_node\n",
    "fragments['mid_node'] = domain_term\n",
    "fragments['fragments'] = []"
   ]
  },
  {
   "cell_type": "code",
   "execution_count": 33,
   "metadata": {},
   "outputs": [
    {
     "name": "stdout",
     "output_type": "stream",
     "text": [
      "http://localhost:8080/blacklab-server-2.1.0/lts/hits?patt=%5B%22You%22%5D+%5B%22saw%22%5D+%5B%22little%22%5D+%5B%22orphaned%22%5D+%5B%22children%22%5D+%5B%22in%22%5D+%5B%22the%22%5D+%5B%22street%22%5D+%5B%22begging%22%5D+%5B%22for%22%5D+%5B%22food%22%5D+%5B%5D&waitfortotal=true&outputformat=json&prettyprint=no&wordsaroundhit=0\n",
      "{'left': '', 'match_word': 'You saw little orphaned children in the street begging for food . ', 'right': '', 'complete_match': 'You saw little orphaned children in the street begging for food . ', 'testimony_id': 'irn504908', 'shelfmark': ['USHMM RG-50.030*0435'], 'token_start': 14468, 'token_end': 14480}\n"
     ]
    }
   ],
   "source": [
    "fragment_1 = {}\n",
    "fragment_1['original_sentence'] = \"You saw little orphaned children in the street begging for food.\"\n",
    "fragment_1['label']=\"You saw little orphaned children in the street begging for food.\"\n",
    "indices = find_sentence_id(fragment_1['original_sentence'])\n",
    "fragment_1['start_sentence_index']=indices[0]\n",
    "fragment_1['end_sentence_index']=indices[1]\n",
    "fragment_1['media_offset'] = 0\n",
    "fragment_1['media_index'] = 0\n",
    "fragment_1['testimony_id'] = indices[2]\n",
    "fragments['fragments'].append(fragment_1)"
   ]
  },
  {
   "cell_type": "code",
   "execution_count": 34,
   "metadata": {},
   "outputs": [
    {
     "name": "stdout",
     "output_type": "stream",
     "text": [
      "http://localhost:8080/blacklab-server-2.1.0/lts/hits?patt=%5B%22I%22%5D+%5B%22remember%22%5D+%5B%22seeing%22%5D+%5B%22children%22%5D+%5B%22dying%22%5D+%5B%22and%22%5D+%5B%22begging%22%5D+%5B%22for%22%5D+%5B%22food%22%5D+%5B%5D&waitfortotal=true&outputformat=json&prettyprint=no&wordsaroundhit=0\n",
      "{'left': '', 'match_word': 'I remember seeing children dying and begging for food . ', 'right': '', 'complete_match': 'I remember seeing children dying and begging for food . ', 'testimony_id': 'irn509226', 'shelfmark': ['USHMM RG-50.233*0144'], 'token_start': 3641, 'token_end': 3651}\n"
     ]
    }
   ],
   "source": [
    "fragment_2 = {}\n",
    "fragment_2['original_sentence'] = \"I remember seeing children dying and begging for food.\"\n",
    "fragment_2['label']=\"I remember seeing children dying and begging for food.\"\n",
    "indices = find_sentence_id(fragment_2['original_sentence'])\n",
    "fragment_2['start_sentence_index']=indices[0]\n",
    "fragment_2['end_sentence_index']=indices[1]\n",
    "fragment_2['media_offset'] = 0\n",
    "fragment_2['media_index'] = 0\n",
    "fragment_2['testimony_id'] = indices[2]\n",
    "fragments['fragments'].append(fragment_2)\n"
   ]
  },
  {
   "cell_type": "code",
   "execution_count": 35,
   "metadata": {},
   "outputs": [
    {
     "name": "stdout",
     "output_type": "stream",
     "text": [
      "http://localhost:8080/blacklab-server-2.1.0/lts/hits?patt=%5B%22the%22%5D+%5B%22little%22%5D+%5B%22children%22%5D+%5B%22sometimes%22%5D+%5B%22were%22%5D+%5B%22walking%22%5D+%5B%22here%22%5D+%5B%22and%22%5D+%5B%22there%22%5D+%5B%5D+%5B%22maybe%22%5D+%5B%22begging%22%5D+%5B%22or%22%5D+%5B%22something%22%5D+%5B%5D&waitfortotal=true&outputformat=json&prettyprint=no&wordsaroundhit=0\n",
      "{'left': '', 'match_word': 'the little children sometimes were walking here and there , maybe begging or something , ', 'right': '', 'complete_match': 'the little children sometimes were walking here and there , maybe begging or something , ', 'testimony_id': 'irn87783', 'shelfmark': ['USHMM RG-50.030*0770'], 'token_start': 24654, 'token_end': 24669}\n"
     ]
    }
   ],
   "source": [
    "fragment_3 = {}\n",
    "fragment_3['original_sentence'] = \"the little children sometimes were walking here and there, maybe begging or something,\"\n",
    "fragment_3['label']=\"(..) the little children sometimes were walking here and there, maybe begging or something (..)\"\n",
    "indices = find_sentence_id(fragment_3['original_sentence'])\n",
    "fragment_3['start_sentence_index']=indices[0]\n",
    "fragment_3['end_sentence_index']=indices[1]\n",
    "fragment_3['media_offset'] = 0\n",
    "fragment_3['media_index'] = 0\n",
    "fragment_3['testimony_id'] = indices[2]\n",
    "fragments['fragments'].append(fragment_3)"
   ]
  },
  {
   "cell_type": "code",
   "execution_count": 36,
   "metadata": {},
   "outputs": [
    {
     "name": "stdout",
     "output_type": "stream",
     "text": [
      "http://localhost:8080/blacklab-server-2.1.0/lts/hits?patt=%5B%22And%22%5D+%5B%22the%22%5D+%5B%22children%22%5D+%5B%5D%7B0%2C3%7D+%5B%22it%22%5D+%5B%22was%22%5D+%5B%22terrible%22%5D+%5B%5D%7B0%2C3%7D+%5B%22just%22%5D+%5B%22to%22%5D+%5B%22look%22%5D+%5B%22on%22%5D+%5B%22them%22%5D+%5B%5D+%5B%22you%22%5D+%5B%22know%22%5D+%5B%5D+%5B%22walking%22%5D+%5B%22around%22%5D+%5B%5D+%5B%22begging%22%5D+%5B%22for%22%5D+%5B%22food%22%5D&waitfortotal=true&outputformat=json&prettyprint=no&wordsaroundhit=0\n",
      "{'left': '', 'match_word': 'And the children -- it was terrible -- just to look on them , you know , walking around , begging for food ', 'right': '', 'complete_match': 'And the children -- it was terrible -- just to look on them , you know , walking around , begging for food ', 'testimony_id': 'usc_shoah_11296', 'shelfmark': ['USC Shoah Foundation 11296'], 'token_start': 5615, 'token_end': 5638}\n"
     ]
    }
   ],
   "source": [
    "fragment_4 = {}\n",
    "fragment_4['original_sentence'] = \"And the children-- it was terrible-- just to look on them, you know, walking around, begging for food\"\n",
    "fragment_4['label']= \"And the children (..) just to look on them, you know, walking around, begging for food(..).\"\n",
    "indices = find_sentence_id(fragment_4['original_sentence'])\n",
    "fragment_4['start_sentence_index']=indices[0]\n",
    "fragment_4['end_sentence_index']=indices[1]\n",
    "fragment_4['media_offset'] = 0\n",
    "fragment_4['media_index'] = 0\n",
    "fragment_4['testimony_id'] = indices[2]\n",
    "fragments['fragments'].append(fragment_4)\n"
   ]
  },
  {
   "cell_type": "code",
   "execution_count": 37,
   "metadata": {},
   "outputs": [
    {
     "name": "stdout",
     "output_type": "stream",
     "text": [
      "http://localhost:8080/blacklab-server-2.1.0/lts/hits?patt=%5B%22There%22%5D+%5B%22were%22%5D+%5B%22other%22%5D+%5B%22children%22%5D+%5B%22begging%22%5D+%5B%5D+%5B%22going%22%5D+%5B%22around%22%5D+%5B%22yards%22%5D+%5B%5D+%5B%22singing%22%5D+%5B%22songs%22%5D+%5B%22and%22%5D+%5B%22begging%22%5D+%5B%5D&waitfortotal=true&outputformat=json&prettyprint=no&wordsaroundhit=0\n",
      "{'left': '', 'match_word': 'There were other children begging , going around yards , singing songs and begging . ', 'right': '', 'complete_match': 'There were other children begging , going around yards , singing songs and begging . ', 'testimony_id': 'usc_shoah_23438', 'shelfmark': ['USC Shoah Foundation 23438'], 'token_start': 7905, 'token_end': 7920}\n"
     ]
    }
   ],
   "source": [
    "fragment_5 = {}\n",
    "fragment_5['original_sentence'] = \"There were other children begging, going around yards, singing songs and begging.\"\n",
    "fragment_5['label']= \"There were other children begging, going around yards, singing songs and begging.\"\n",
    "indices = find_sentence_id(fragment_5['original_sentence'])\n",
    "fragment_5['start_sentence_index']=indices[0]\n",
    "fragment_5['end_sentence_index']=indices[1]\n",
    "fragment_5['media_offset'] = 0\n",
    "fragment_5['media_index'] = 0\n",
    "fragment_5['testimony_id'] = indices[2]\n",
    "fragments['fragments'].append(fragment_5)"
   ]
  },
  {
   "cell_type": "code",
   "execution_count": 38,
   "metadata": {},
   "outputs": [],
   "source": [
    "add_testimonial_fragments(fragments)"
   ]
  },
  {
   "cell_type": "markdown",
   "metadata": {},
   "source": [
    "### 3.  "
   ]
  },
  {
   "cell_type": "code",
   "execution_count": 39,
   "metadata": {},
   "outputs": [],
   "source": [
    "lemmas = []"
   ]
  },
  {
   "cell_type": "code",
   "execution_count": 40,
   "metadata": {},
   "outputs": [
    {
     "name": "stdout",
     "output_type": "stream",
     "text": [
      "()\n"
     ]
    }
   ],
   "source": [
    "query = create_contextual_query(lemmas,context_length=50)\n",
    "print (query)"
   ]
  },
  {
   "cell_type": "code",
   "execution_count": 41,
   "metadata": {},
   "outputs": [],
   "source": [
    "domain_term = \"leave him\""
   ]
  },
  {
   "cell_type": "code",
   "execution_count": 42,
   "metadata": {},
   "outputs": [],
   "source": [
    "fragments = {}\n",
    "fragments['main_node'] = main_node\n",
    "fragments['mid_node'] = domain_term\n",
    "fragments['fragments'] = []"
   ]
  },
  {
   "cell_type": "code",
   "execution_count": 43,
   "metadata": {},
   "outputs": [
    {
     "name": "stdout",
     "output_type": "stream",
     "text": [
      "http://localhost:8080/blacklab-server-2.1.0/lts/hits?patt=%5B%22And%22%5D+%5B%22it%22%5D+%5B%22was%22%5D+%5B%22then%22%5D+%5B%22that%22%5D+%5B%22my%22%5D+%5B%22mother%22%5D+%5B%22started%22%5D+%5B%22pleading%22%5D+%5B%22and%22%5D+%5B%22crying%22%5D+%5B%5D+%5B%22saying%22%5D+%5B%22he%22%5D+%5B%22is%22%5D+%5B%22only%22%5D+%5B%22a%22%5D+%5B%22little%22%5D+%5B%22boy%22%5D+%5B%5D+%5B%22he%22%5D+%5B%22has%22%5D+%5B%5D+%5B%22done%22%5D+%5B%22anything%22%5D+%5B%5D+%5B%22and%22%5D+%5B%22please%22%5D+%5B%22leave%22%5D+%5B%22him%22%5D+%5B%22alone%22%5D+%5B%5D+%5B%22you%22%5D+%5B%22know%22%5D+%5B%5D%7B0%2C3%7D+%5B%22you%22%5D+%5B%22know%22%5D+%5B%5D+%5B%22just%22%5D+%5B%22begging%22%5D+%5B%22him%22%5D+%5B%5D&waitfortotal=true&outputformat=json&prettyprint=no&wordsaroundhit=0\n",
      "{'left': '', 'match_word': 'And it was then that my mother started pleading and crying , saying he is only a little boy , he has n’t done anything , and please leave him alone , you know – you know , just begging him . ', 'right': '', 'complete_match': 'And it was then that my mother started pleading and crying , saying he is only a little boy , he has n’t done anything , and please leave him alone , you know – you know , just begging him . ', 'testimony_id': 'irn42208', 'shelfmark': ['USHMM RG-50.030*0595'], 'token_start': 9672, 'token_end': 9714}\n"
     ]
    }
   ],
   "source": [
    "fragment_1 = {}\n",
    "fragment_1['original_sentence'] = \" And it was then that my mother started pleading and crying, saying he is only a little boy, he hasn’t done anything, and please leave him alone, you know – you know, just begging him.\"\n",
    "fragment_1['label']=\" And it was then that my mother started pleading and crying, saying he is only a little boy, he hasn’t done anything, and please leave him alone(..)\"\n",
    "indices = find_sentence_id(fragment_1['original_sentence'])\n",
    "fragment_1['start_sentence_index']=indices[0]\n",
    "fragment_1['end_sentence_index']=indices[1]\n",
    "fragment_1['media_offset'] = 0\n",
    "fragment_1['media_index'] = 0\n",
    "fragment_1['testimony_id'] = indices[2]\n",
    "fragments['fragments'].append(fragment_1)"
   ]
  },
  {
   "cell_type": "code",
   "execution_count": 44,
   "metadata": {},
   "outputs": [
    {
     "name": "stdout",
     "output_type": "stream",
     "text": [
      "http://localhost:8080/blacklab-server-2.1.0/lts/hits?patt=%5B%22My%22%5D+%5B%22mother%22%5D+%5B%22had%22%5D+%5B%22to%22%5D+%5B%22kneel%22%5D+%5B%22down%22%5D+%5B%22and%22%5D+%5B%22beg%22%5D+%5B%22them%22%5D+%5B%22to%22%5D+%5B%22leave%22%5D+%5B%22me%22%5D+%5B%22alone%22%5D+%5B%5D&waitfortotal=true&outputformat=json&prettyprint=no&wordsaroundhit=0\n",
      "{'left': '', 'match_word': 'My mother had to kneel down and beg them to leave me alone . ', 'right': '', 'complete_match': 'My mother had to kneel down and beg them to leave me alone . ', 'testimony_id': 'irn504820', 'shelfmark': ['USHMM RG-50.030*0326'], 'token_start': 22905, 'token_end': 22919}\n"
     ]
    }
   ],
   "source": [
    "fragment_2 = {}\n",
    "fragment_2['original_sentence'] = \"My mother had to kneel down and beg them to leave me alone.\"\n",
    "fragment_2['label']=\"My mother had to kneel down and beg them to leave me alone.\"\n",
    "indices = find_sentence_id(fragment_2['original_sentence'])\n",
    "fragment_2['start_sentence_index']=indices[0]\n",
    "fragment_2['end_sentence_index']=indices[1]\n",
    "fragment_2['media_offset'] = 0\n",
    "fragment_2['media_index'] = 0\n",
    "fragment_2['testimony_id'] = indices[2]\n",
    "fragments['fragments'].append(fragment_2)\n"
   ]
  },
  {
   "cell_type": "code",
   "execution_count": 45,
   "metadata": {},
   "outputs": [
    {
     "name": "stdout",
     "output_type": "stream",
     "text": [
      "http://localhost:8080/blacklab-server-2.1.0/lts/hits?patt=%5B%22We%22%5D+%5B%22listened%22%5D+%5B%22to%22%5D+%5B%22the%22%5D+%5B%22neighbors%22%5D+%5B%22as%22%5D+%5B%22she%22%5D+%5B%22was%22%5D+%5B%22begging%22%5D+%5B%22them%22%5D+%5B%5D&waitfortotal=true&outputformat=json&prettyprint=no&wordsaroundhit=0\n",
      "{'left': '', 'match_word': 'We listened to the neighbors as she was begging them , ', 'right': '', 'complete_match': 'We listened to the neighbors as she was begging them , ', 'testimony_id': 'irn510468', 'shelfmark': ['USHMM RG-50.322*0014'], 'token_start': 13751, 'token_end': 13762}\n"
     ]
    }
   ],
   "source": [
    "fragment_3 = {}\n",
    "fragment_3['original_sentence'] = \"We listened to the neighbors as she was begging them,\"\n",
    "fragment_3['label']=\"We listened to the neighbors as she was begging them, “Why? Just leave me, let me live!” \"\n",
    "indices = find_sentence_id(fragment_3['original_sentence'])\n",
    "fragment_3['start_sentence_index']=indices[0]\n",
    "fragment_3['end_sentence_index']=indices[1]\n",
    "fragment_3['media_offset'] = 0\n",
    "fragment_3['media_index'] = 0\n",
    "fragment_3['testimony_id'] = indices[2]\n",
    "fragments['fragments'].append(fragment_3)"
   ]
  },
  {
   "cell_type": "code",
   "execution_count": 46,
   "metadata": {},
   "outputs": [
    {
     "name": "stdout",
     "output_type": "stream",
     "text": [
      "http://localhost:8080/blacklab-server-2.1.0/lts/hits?patt=%5B%22And%22%5D+%5B%22she%22%5D+%5B%22begged%22%5D+%5B%22him%22%5D+%5B%22to%22%5D+%5B%5D%7B0%2C3%7D+%5B%22to%22%5D+%5B%5D%7B0%2C3%7D+%5B%22to%22%5D+%5B%22leave%22%5D+%5B%22her%22%5D+%5B%22son%22%5D+%5B%5D+%5B%22And%22%5D+%5B%22oh%22%5D+%5B%5D+%5B%22that%22%5D+%5B%22was%22%5D+%5B%22so%22%5D+%5B%22tragic%22%5D+%5B%22there%22%5D+%5B%5D&waitfortotal=true&outputformat=json&prettyprint=no&wordsaroundhit=0\n",
      "{'left': '', 'match_word': 'And she begged him to -- to -- to leave her son . And oh , that was so tragic there . ', 'right': '', 'complete_match': 'And she begged him to -- to -- to leave her son . And oh , that was so tragic there . ', 'testimony_id': 'usc_shoah_2533', 'shelfmark': ['USC Shoah Foundation 2533'], 'token_start': 13732, 'token_end': 13754}\n"
     ]
    }
   ],
   "source": [
    "fragment_4 = {}\n",
    "fragment_4['original_sentence'] = \"And she begged him to-- to-- to leave her son. And oh, that was so tragic there.\"\n",
    "fragment_4['label']= \"And she begged him to-- to-- to leave her son. And oh, that was so tragic there.\"\n",
    "indices = find_sentence_id(fragment_4['original_sentence'])\n",
    "fragment_4['start_sentence_index']=indices[0]\n",
    "fragment_4['end_sentence_index']=indices[1]\n",
    "fragment_4['media_offset'] = 0\n",
    "fragment_4['media_index'] = 0\n",
    "fragment_4['testimony_id'] = indices[2]\n",
    "fragments['fragments'].append(fragment_4)\n"
   ]
  },
  {
   "cell_type": "code",
   "execution_count": 47,
   "metadata": {},
   "outputs": [],
   "source": [
    "add_testimonial_fragments(fragments)"
   ]
  },
  {
   "cell_type": "markdown",
   "metadata": {},
   "source": [
    "### 4.  "
   ]
  },
  {
   "cell_type": "code",
   "execution_count": 48,
   "metadata": {},
   "outputs": [],
   "source": [
    "lemmas = [\"kill\",\"beg\"]"
   ]
  },
  {
   "cell_type": "code",
   "execution_count": 49,
   "metadata": {},
   "outputs": [
    {
     "name": "stdout",
     "output_type": "stream",
     "text": [
      "([lemma=\"kill\"][]{0,10}[lemma=\"beg\"])|([lemma=\"beg\"][]{0,10}[lemma=\"kill\"])\n"
     ]
    }
   ],
   "source": [
    "query = create_contextual_query(lemmas,context_length=10)\n",
    "print (query)"
   ]
  },
  {
   "cell_type": "code",
   "execution_count": 50,
   "metadata": {},
   "outputs": [],
   "source": [
    "domain_term = \"kill me\""
   ]
  },
  {
   "cell_type": "code",
   "execution_count": 51,
   "metadata": {},
   "outputs": [],
   "source": [
    "fragments = {}\n",
    "fragments['main_node'] = main_node\n",
    "fragments['mid_node'] = domain_term\n",
    "fragments['fragments'] = []"
   ]
  },
  {
   "cell_type": "code",
   "execution_count": 52,
   "metadata": {},
   "outputs": [
    {
     "name": "stdout",
     "output_type": "stream",
     "text": [
      "http://localhost:8080/blacklab-server-2.1.0/lts/hits?patt=%5B%22She%22%5D+%5B%22begged%22%5D+%5B%22them%22%5D+%5B%22kill%22%5D+%5B%22me%22%5D+%5B%5D+%5B%22kill%22%5D+%5B%22me%22%5D+%5B%5D&waitfortotal=true&outputformat=json&prettyprint=no&wordsaroundhit=0\n",
      "{'left': '', 'match_word': 'She begged them kill me , kill me . ', 'right': '', 'complete_match': 'She begged them kill me , kill me . ', 'testimony_id': 'irn509153', 'shelfmark': ['USHMM RG-50.233*0070'], 'token_start': 18647, 'token_end': 18656}\n"
     ]
    }
   ],
   "source": [
    "fragment_1 = {}\n",
    "fragment_1['original_sentence'] = \"She begged them kill me, kill me.\"\n",
    "fragment_1['label']=\"She begged them kill me, kill me.\"\n",
    "indices = find_sentence_id(fragment_1['original_sentence'])\n",
    "fragment_1['start_sentence_index']=indices[0]\n",
    "fragment_1['end_sentence_index']=indices[1]\n",
    "fragment_1['media_offset'] = 0\n",
    "fragment_1['media_index'] = 0\n",
    "fragment_1['testimony_id'] = indices[2]\n",
    "fragments['fragments'].append(fragment_1)"
   ]
  },
  {
   "cell_type": "code",
   "execution_count": 53,
   "metadata": {},
   "outputs": [
    {
     "name": "stdout",
     "output_type": "stream",
     "text": [
      "http://localhost:8080/blacklab-server-2.1.0/lts/hits?patt=%5B%22What%22%5D+%5B%22I%22%5D+%5B%22just%22%5D+%5B%22mentioned%22%5D+%5B%22to%22%5D+%5B%22you%22%5D+%5B%22before%22%5D+%5B%5D+%5B%22the%22%5D+%5B%22guy%22%5D+%5B%22who%22%5D+%5B%22begged%22%5D+%5B%22him%22%5D+%5B%5D+%5B%22kill%22%5D+%5B%22me%22%5D+%5B%5D&waitfortotal=true&outputformat=json&prettyprint=no&wordsaroundhit=0\n",
      "{'left': '', 'match_word': 'What I just mentioned to you before , the guy who begged him , kill me . ', 'right': '', 'complete_match': 'What I just mentioned to you before , the guy who begged him , kill me . ', 'testimony_id': 'usc_shoah_1419', 'shelfmark': ['USC Shoah Foundation 1419'], 'token_start': 12416, 'token_end': 12433}\n"
     ]
    }
   ],
   "source": [
    "fragment_2 = {}\n",
    "fragment_2['original_sentence'] = \"What I just mentioned to you before, the guy who begged him, kill me.\"\n",
    "fragment_2['label']=\"What I just mentioned to you before, the guy who begged him, kill me. \"\n",
    "indices = find_sentence_id(fragment_2['original_sentence'])\n",
    "fragment_2['start_sentence_index']=indices[0]\n",
    "fragment_2['end_sentence_index']=indices[1]\n",
    "fragment_2['media_offset'] = 0\n",
    "fragment_2['media_index'] = 0\n",
    "fragment_2['testimony_id'] = indices[2]\n",
    "fragments['fragments'].append(fragment_2)\n"
   ]
  },
  {
   "cell_type": "code",
   "execution_count": 54,
   "metadata": {},
   "outputs": [
    {
     "name": "stdout",
     "output_type": "stream",
     "text": [
      "http://localhost:8080/blacklab-server-2.1.0/lts/hits?patt=%5B%22It%22%5D+%5B%22took%22%5D+%5B%22three%22%5D+%5B%22shots%22%5D+%5B%5D+%5B%22because%22%5D+%5B%22Raul%22%5D+%5B%22was%22%5D+%5B%22begging%22%5D+%5B%22him%22%5D+%5B%22to%22%5D+%5B%22kill%22%5D+%5B%22him%22%5D+%5B%5D+%5B%22Three%22%5D+%5B%22shots%22%5D+%5B%5D+%5B%22and%22%5D+%5B%22Raul%22%5D+%5B%22to%22%5D+%5B%22get%22%5D+%5B%22killed%22%5D+%5B%5D&waitfortotal=true&outputformat=json&prettyprint=no&wordsaroundhit=0\n",
      "{'left': '', 'match_word': 'It took three shots , because Raul was begging him to kill him . Three shots , and Raul to get killed . ', 'right': '', 'complete_match': 'It took three shots , because Raul was begging him to kill him . Three shots , and Raul to get killed . ', 'testimony_id': 'usc_shoah_20405', 'shelfmark': ['USC Shoah Foundation 20405'], 'token_start': 21199, 'token_end': 21222}\n"
     ]
    }
   ],
   "source": [
    "fragment_3 = {}\n",
    "fragment_3['original_sentence'] = \"It took three shots, because Raul was begging him to kill him. Three shots, and Raul to get killed.\"\n",
    "fragment_3['label']=\"It took three shots, because Raul was begging him to kill him. Three shots, and Raul to get killed.\"\n",
    "indices = find_sentence_id(fragment_3['original_sentence'])\n",
    "fragment_3['start_sentence_index']=indices[0]\n",
    "fragment_3['end_sentence_index']=indices[1]\n",
    "fragment_3['media_offset'] = 0\n",
    "fragment_3['media_index'] = 0\n",
    "fragment_3['testimony_id'] = indices[2]\n",
    "fragments['fragments'].append(fragment_3)"
   ]
  },
  {
   "cell_type": "code",
   "execution_count": 55,
   "metadata": {},
   "outputs": [
    {
     "name": "stdout",
     "output_type": "stream",
     "text": [
      "http://localhost:8080/blacklab-server-2.1.0/lts/hits?patt=%5B%22He%22%5D+%5B%22was%22%5D+%5B%22begging%22%5D+%5B%22them%22%5D+%5B%5D+%5B%22kill%22%5D+%5B%22me%22%5D+%5B%5D+%5B%22kill%22%5D+%5B%22me%22%5D+%5B%5D+%5B%22and%22%5D+%5B%22no%22%5D+%5B%22one%22%5D+%5B%22killed%22%5D+%5B%22him%22%5D+%5B%5D&waitfortotal=true&outputformat=json&prettyprint=no&wordsaroundhit=0\n",
      "{'left': '', 'match_word': 'He was begging them , kill me , kill me , and no one killed him . ', 'right': '', 'complete_match': 'He was begging them , kill me , kill me , and no one killed him . ', 'testimony_id': 'usc_shoah_4919', 'shelfmark': ['USC Shoah Foundation 4919'], 'token_start': 13690, 'token_end': 13707}\n"
     ]
    }
   ],
   "source": [
    "fragment_4 = {}\n",
    "fragment_4['original_sentence'] = \"He was begging them, kill me, kill me, and no one killed him.\"\n",
    "fragment_4['label']= \"He was begging them, kill me, kill me, and no one killed him.\"\n",
    "indices = find_sentence_id(fragment_4['original_sentence'])\n",
    "fragment_4['start_sentence_index']=indices[0]\n",
    "fragment_4['end_sentence_index']=indices[1]\n",
    "fragment_4['media_offset'] = 0\n",
    "fragment_4['media_index'] = 0\n",
    "fragment_4['testimony_id'] = indices[2]\n",
    "fragments['fragments'].append(fragment_4)\n"
   ]
  },
  {
   "cell_type": "code",
   "execution_count": 56,
   "metadata": {},
   "outputs": [
    {
     "name": "stdout",
     "output_type": "stream",
     "text": [
      "http://localhost:8080/blacklab-server-2.1.0/lts/hits?patt=%5B%22And%22%5D+%5B%22he%22%5D+%5B%22begged%22%5D+%5B%22that%22%5D+%5B%22they%22%5D+%5B%22kill%22%5D+%5B%22him%22%5D+%5B%5D+%5B%22And%22%5D+%5B%22they%22%5D+%5B%22shot%22%5D+%5B%22him%22%5D+%5B%5D&waitfortotal=true&outputformat=json&prettyprint=no&wordsaroundhit=0\n",
      "{'left': '', 'match_word': 'And he begged that they kill him . And they shot him . ', 'right': '', 'complete_match': 'And he begged that they kill him . And they shot him . ', 'testimony_id': 'HVT-136', 'shelfmark': ['Fortunoff Archive HVT-136'], 'token_start': 5773, 'token_end': 5786}\n"
     ]
    }
   ],
   "source": [
    "fragment_5 = {}\n",
    "fragment_5['original_sentence'] = \"And he begged that they kill him. And they shot him.\"\n",
    "fragment_5['label']= \"And he begged that they kill him. And they shot him.\"\n",
    "indices = find_sentence_id(fragment_5['original_sentence'])\n",
    "fragment_5['start_sentence_index']=indices[0]\n",
    "fragment_5['end_sentence_index']=indices[1]\n",
    "fragment_5['media_offset'] = 0\n",
    "fragment_5['media_index'] = 0\n",
    "fragment_5['testimony_id'] = indices[2]\n",
    "fragments['fragments'].append(fragment_5)"
   ]
  },
  {
   "cell_type": "code",
   "execution_count": 57,
   "metadata": {},
   "outputs": [],
   "source": [
    "add_testimonial_fragments(fragments)"
   ]
  },
  {
   "cell_type": "markdown",
   "metadata": {},
   "source": [
    "### 5.  "
   ]
  },
  {
   "cell_type": "code",
   "execution_count": 58,
   "metadata": {},
   "outputs": [],
   "source": [
    "lemmas = []"
   ]
  },
  {
   "cell_type": "code",
   "execution_count": 59,
   "metadata": {},
   "outputs": [
    {
     "name": "stdout",
     "output_type": "stream",
     "text": [
      "()\n"
     ]
    }
   ],
   "source": [
    "query = create_contextual_query(lemmas,context_length=50)\n",
    "print (query)"
   ]
  },
  {
   "cell_type": "code",
   "execution_count": 60,
   "metadata": {},
   "outputs": [],
   "source": [
    "domain_term = \"don't kill me\""
   ]
  },
  {
   "cell_type": "code",
   "execution_count": 61,
   "metadata": {},
   "outputs": [],
   "source": [
    "fragments = {}\n",
    "fragments['main_node'] = main_node\n",
    "fragments['mid_node'] = domain_term\n",
    "fragments['fragments'] = []"
   ]
  },
  {
   "cell_type": "code",
   "execution_count": 62,
   "metadata": {},
   "outputs": [
    {
     "name": "stdout",
     "output_type": "stream",
     "text": [
      "http://localhost:8080/blacklab-server-2.1.0/lts/hits?patt=%5B%22Do%22%5D+%5B%5D+%5B%22kill%22%5D+%5B%22me%22%5D+%5B%5D+%5B%22And%22%5D+%5B%22I%22%5D+%5B%22%27m%22%5D+%5B%22begging%22%5D+%5B%22for%22%5D+%5B%22my%22%5D+%5B%22life%22%5D+%5B%5D&waitfortotal=true&outputformat=json&prettyprint=no&wordsaroundhit=0\n",
      "{'left': '', 'match_word': \"Do n't kill me . And I 'm begging for my life . \", 'right': '', 'complete_match': \"Do n't kill me . And I 'm begging for my life . \", 'testimony_id': 'usc_shoah_7455', 'shelfmark': ['USC Shoah Foundation 7455'], 'token_start': 42673, 'token_end': 42686}\n"
     ]
    }
   ],
   "source": [
    "fragment_1 = {}\n",
    "fragment_1['original_sentence'] = \"Don't kill me. And I'm begging for my life.\"\n",
    "fragment_1['label']=\"Don't kill me. And I'm begging for my life.\"\n",
    "indices = find_sentence_id(fragment_1['original_sentence'])\n",
    "fragment_1['start_sentence_index']=indices[0]\n",
    "fragment_1['end_sentence_index']=indices[1]\n",
    "fragment_1['media_offset'] = 0\n",
    "fragment_1['media_index'] = 0\n",
    "fragment_1['testimony_id'] = indices[2]\n",
    "fragments['fragments'].append(fragment_1)"
   ]
  },
  {
   "cell_type": "code",
   "execution_count": 63,
   "metadata": {},
   "outputs": [
    {
     "name": "stdout",
     "output_type": "stream",
     "text": [
      "http://localhost:8080/blacklab-server-2.1.0/lts/hits?patt=%5B%22As%22%5D+%5B%22I%22%5D+%5B%22told%22%5D+%5B%22him%22%5D+%5B%5D+%5B%22he%22%5D+%5B%5D+%5B%22killed%22%5D+%5B%5D+%5B%22I%22%5D+%5B%22begged%22%5D+%5B%22him%22%5D+%5B%22not%22%5D+%5B%22to%22%5D+%5B%22shoot%22%5D+%5B%22at%22%5D+%5B%22to%22%5D+%5B%22me%22%5D+%5B%5D&waitfortotal=true&outputformat=json&prettyprint=no&wordsaroundhit=0\n",
      "{'left': '', 'match_word': \"As I told him , he 's killed . I begged him not to shoot at to me . \", 'right': '', 'complete_match': \"As I told him , he 's killed . I begged him not to shoot at to me . \", 'testimony_id': 'usc_shoah_1873', 'shelfmark': ['USC Shoah Foundation 1873'], 'token_start': 29247, 'token_end': 29266}\n"
     ]
    }
   ],
   "source": [
    "fragment_2 = {}\n",
    "fragment_2['original_sentence'] = \"As I told him, he's killed. I begged him not to shoot at to me. \"\n",
    "fragment_2['label']=\"As I told him, he's killed. I begged him not to shoot at to me. \"\n",
    "indices = find_sentence_id(fragment_2['original_sentence'])\n",
    "fragment_2['start_sentence_index']=indices[0]\n",
    "fragment_2['end_sentence_index']=indices[1]\n",
    "fragment_2['media_offset'] = 0\n",
    "fragment_2['media_index'] = 0\n",
    "fragment_2['testimony_id'] = indices[2]\n",
    "fragments['fragments'].append(fragment_2)\n"
   ]
  },
  {
   "cell_type": "code",
   "execution_count": 64,
   "metadata": {},
   "outputs": [
    {
     "name": "stdout",
     "output_type": "stream",
     "text": [
      "http://localhost:8080/blacklab-server-2.1.0/lts/hits?patt=%5B%22And%22%5D+%5B%22we%22%5D+%5B%22begged%22%5D+%5B%22them%22%5D+%5B%5D+%5B%22please%22%5D+%5B%5D+%5B%22do%22%5D+%5B%5D+%5B%22shoot%22%5D+%5B%5D&waitfortotal=true&outputformat=json&prettyprint=no&wordsaroundhit=0\n",
      "{'left': '', 'match_word': \"And we begged them , please , do n't shoot . \", 'right': '', 'complete_match': \"And we begged them , please , do n't shoot . \", 'testimony_id': 'usc_shoah_7238', 'shelfmark': ['USC Shoah Foundation 7238'], 'token_start': 10708, 'token_end': 10719}\n"
     ]
    }
   ],
   "source": [
    "fragment_3 = {}\n",
    "fragment_3['original_sentence'] = \"And we begged them, please, don't shoot.\"\n",
    "fragment_3['label']=\" And we begged them, please, don't shoot.\"\n",
    "indices = find_sentence_id(fragment_3['original_sentence'])\n",
    "fragment_3['start_sentence_index']=indices[0]\n",
    "fragment_3['end_sentence_index']=indices[1]\n",
    "fragment_3['media_offset'] = 0\n",
    "fragment_3['media_index'] = 0\n",
    "fragment_3['testimony_id'] = indices[2]\n",
    "fragments['fragments'].append(fragment_3)"
   ]
  },
  {
   "cell_type": "code",
   "execution_count": 65,
   "metadata": {},
   "outputs": [],
   "source": [
    "add_testimonial_fragments(fragments)"
   ]
  },
  {
   "cell_type": "markdown",
   "metadata": {},
   "source": [
    "### 6.  "
   ]
  },
  {
   "cell_type": "code",
   "execution_count": 66,
   "metadata": {},
   "outputs": [],
   "source": [
    "lemmas = [\"beg\",\"water\"]"
   ]
  },
  {
   "cell_type": "code",
   "execution_count": 67,
   "metadata": {},
   "outputs": [
    {
     "name": "stdout",
     "output_type": "stream",
     "text": [
      "([lemma=\"beg\"][]{0,10}[lemma=\"water\"])|([lemma=\"water\"][]{0,10}[lemma=\"beg\"])\n"
     ]
    }
   ],
   "source": [
    "query = create_contextual_query(lemmas,context_length=10)\n",
    "print (query)"
   ]
  },
  {
   "cell_type": "code",
   "execution_count": 68,
   "metadata": {},
   "outputs": [],
   "source": [
    "domain_term = \"water\""
   ]
  },
  {
   "cell_type": "code",
   "execution_count": 69,
   "metadata": {},
   "outputs": [],
   "source": [
    "fragments = {}\n",
    "fragments['main_node'] = main_node\n",
    "fragments['mid_node'] = domain_term\n",
    "fragments['fragments'] = []"
   ]
  },
  {
   "cell_type": "code",
   "execution_count": 70,
   "metadata": {},
   "outputs": [
    {
     "name": "stdout",
     "output_type": "stream",
     "text": [
      "http://localhost:8080/blacklab-server-2.1.0/lts/hits?patt=%5B%22to%22%5D+%5B%22go%22%5D+%5B%22from%22%5D+%5B%22villager%22%5D+%5B%22to%22%5D+%5B%22villager%22%5D+%5B%22begging%22%5D+%5B%22for%22%5D+%5B%22a%22%5D+%5B%22little%22%5D+%5B%22bit%22%5D+%5B%22of%22%5D+%5B%22water%22%5D+%5B%22to%22%5D+%5B%22fill%22%5D+%5B%22the%22%5D+%5B%22canteen%22%5D+%5B%5D&waitfortotal=true&outputformat=json&prettyprint=no&wordsaroundhit=0\n",
      "{'left': '', 'match_word': 'to go from villager to villager begging for a little bit of water to fill the canteen . ', 'right': '', 'complete_match': 'to go from villager to villager begging for a little bit of water to fill the canteen . ', 'testimony_id': 'irn42018', 'shelfmark': ['USHMM RG-50.030*0586'], 'token_start': 27042, 'token_end': 27060}\n"
     ]
    }
   ],
   "source": [
    "fragment_1 = {}\n",
    "fragment_1['original_sentence'] = \"to go from villager to villager begging for a little bit of water to fill the canteen.\"\n",
    "fragment_1['label']=\"(..) to go from villager to villager begging for a little bit of water to fill the canteen.\"\n",
    "indices = find_sentence_id(fragment_1['original_sentence'])\n",
    "fragment_1['start_sentence_index']=indices[0]\n",
    "fragment_1['end_sentence_index']=indices[1]\n",
    "fragment_1['media_offset'] = 0\n",
    "fragment_1['media_index'] = 0\n",
    "fragment_1['testimony_id'] = indices[2]\n",
    "fragments['fragments'].append(fragment_1)"
   ]
  },
  {
   "cell_type": "code",
   "execution_count": 71,
   "metadata": {},
   "outputs": [
    {
     "name": "stdout",
     "output_type": "stream",
     "text": [
      "http://localhost:8080/blacklab-server-2.1.0/lts/hits?patt=%5B%22We%22%5D+%5B%22begged%22%5D+%5B%22a%22%5D+%5B%22little%22%5D+%5B%22waters%22%5D+%5B%22from%22%5D+%5B%22the%22%5D+%5B%22SS%22%5D+%5B%5D+%5B%22Nobody%22%5D+%5B%22was%22%5D+%5B%22hearing%22%5D+%5B%22us%22%5D+%5B%5D&waitfortotal=true&outputformat=json&prettyprint=no&wordsaroundhit=0\n",
      "{'left': '', 'match_word': 'We begged a little waters from the SS . Nobody was hearing us . ', 'right': '', 'complete_match': 'We begged a little waters from the SS . Nobody was hearing us . ', 'testimony_id': 'irn504715', 'shelfmark': ['USHMM RG-50.030*0224'], 'token_start': 5395, 'token_end': 5409}\n"
     ]
    }
   ],
   "source": [
    "fragment_2 = {}\n",
    "fragment_2['original_sentence'] = \"We begged a little waters from the SS. Nobody was hearing us.\"\n",
    "fragment_2['label']=\"We begged a little waters from the SS. Nobody was hearing us.\"\n",
    "indices = find_sentence_id(fragment_2['original_sentence'])\n",
    "fragment_2['start_sentence_index']=indices[0]\n",
    "fragment_2['end_sentence_index']=indices[1]\n",
    "fragment_2['media_offset'] = 0\n",
    "fragment_2['media_index'] = 0\n",
    "fragment_2['testimony_id'] = indices[2]\n",
    "fragments['fragments'].append(fragment_2)\n"
   ]
  },
  {
   "cell_type": "code",
   "execution_count": 72,
   "metadata": {},
   "outputs": [
    {
     "name": "stdout",
     "output_type": "stream",
     "text": [
      "http://localhost:8080/blacklab-server-2.1.0/lts/hits?patt=%5B%22You%22%5D+%5B%22could%22%5D+%5B%22hear%22%5D+%5B%22them%22%5D+%5B%22yell%22%5D+%5B%5D+%5B%22scream%22%5D+%5B%5D+%5B%22and%22%5D+%5B%22beg%22%5D+%5B%22for%22%5D+%5B%22water%22%5D+%5B%5D+%5B%22beg%22%5D+%5B%22for%22%5D+%5B%5D+%5B%22for%22%5D+%5B%22help%22%5D+%5B%5D&waitfortotal=true&outputformat=json&prettyprint=no&wordsaroundhit=0\n",
      "{'left': '', 'match_word': 'You could hear them yell , scream , and beg for water , beg for , for help . ', 'right': '', 'complete_match': 'You could hear them yell , scream , and beg for water , beg for , for help . ', 'testimony_id': 'irn504722', 'shelfmark': ['USHMM RG-50.030*0240'], 'token_start': 19575, 'token_end': 19594}\n"
     ]
    }
   ],
   "source": [
    "fragment_3 = {}\n",
    "fragment_3['original_sentence'] = \"You could hear them yell, scream, and beg for water, beg for, for help.\"\n",
    "fragment_3['label']=\"You could hear them yell, scream, and beg for water, beg for, for help.\"\n",
    "indices = find_sentence_id(fragment_3['original_sentence'])\n",
    "fragment_3['start_sentence_index']=indices[0]\n",
    "fragment_3['end_sentence_index']=indices[1]\n",
    "fragment_3['media_offset'] = 0\n",
    "fragment_3['media_index'] = 0\n",
    "fragment_3['testimony_id'] = indices[2]\n",
    "fragments['fragments'].append(fragment_3)"
   ]
  },
  {
   "cell_type": "code",
   "execution_count": 73,
   "metadata": {},
   "outputs": [
    {
     "name": "stdout",
     "output_type": "stream",
     "text": [
      "http://localhost:8080/blacklab-server-2.1.0/lts/hits?patt=%5B%22The%22%5D+%5B%22only%22%5D+%5B%22thing%22%5D+%5B%22is%22%5D+%5B%5D+%5B%22we%22%5D+%5B%22were%22%5D+%5B%22so%22%5D+%5B%22thirsty%22%5D+%5B%5D%7B0%2C3%7D+%5B%22we%22%5D+%5B%22were%22%5D+%5B%5D+%5B%22hungry%22%5D+%5B%5D%7B0%2C3%7D+%5B%22we%22%5D+%5B%22begged%22%5D+%5B%22for%22%5D+%5B%22water%22%5D+%5B%5D+%5B%22We%22%5D+%5B%22never%22%5D+%5B%22got%22%5D+%5B%22water%22%5D+%5B%5D&waitfortotal=true&outputformat=json&prettyprint=no&wordsaroundhit=0\n",
      "{'left': '', 'match_word': \"The only thing is , we were so thirsty -- we were n't hungry -- we begged for water . We never got water . \", 'right': '', 'complete_match': \"The only thing is , we were so thirsty -- we were n't hungry -- we begged for water . We never got water . \", 'testimony_id': 'usc_shoah_26585', 'shelfmark': ['USC Shoah Foundation 26585'], 'token_start': 20593, 'token_end': 20618}\n"
     ]
    }
   ],
   "source": [
    "fragment_4 = {}\n",
    "fragment_4['original_sentence'] = \"The only thing is, we were so thirsty-- we weren't hungry-- we begged for water. We never got water.\"\n",
    "fragment_4['label']= \"The only thing is, we were so thirsty-- we weren't hungry-- we begged for water. We never got water.\"\n",
    "indices = find_sentence_id(fragment_4['original_sentence'])\n",
    "fragment_4['start_sentence_index']=indices[0]\n",
    "fragment_4['end_sentence_index']=indices[1]\n",
    "fragment_4['media_offset'] = 0\n",
    "fragment_4['media_index'] = 0\n",
    "fragment_4['testimony_id'] = indices[2]\n",
    "fragments['fragments'].append(fragment_4)\n"
   ]
  },
  {
   "cell_type": "code",
   "execution_count": 74,
   "metadata": {},
   "outputs": [
    {
     "name": "stdout",
     "output_type": "stream",
     "text": [
      "http://localhost:8080/blacklab-server-2.1.0/lts/hits?patt=%5B%22the%22%5D+%5B%22begging%22%5D+%5B%22of%22%5D+%5B%22the%22%5D+%5B%22sick%22%5D+%5B%22people%22%5D+%5B%22for%22%5D+%5B%22medication%22%5D+%5B%22or%22%5D+%5B%22water%22%5D+%5B%5D%7B0%2C3%7D+%5B%22that%22%5D+%5B%22was%22%5D+%5B%22unbearable%22%5D+%5B%5D&waitfortotal=true&outputformat=json&prettyprint=no&wordsaroundhit=0\n",
      "{'left': '', 'match_word': 'the begging of the sick people for medication or water -- that was unbearable . ', 'right': '', 'complete_match': 'the begging of the sick people for medication or water -- that was unbearable . ', 'testimony_id': 'usc_shoah_4753', 'shelfmark': ['USC Shoah Foundation 4753'], 'token_start': 5396, 'token_end': 5411}\n"
     ]
    }
   ],
   "source": [
    "fragment_5 = {}\n",
    "fragment_5['original_sentence'] = \"the begging of the sick people for medication or water-- that was unbearable.\"\n",
    "fragment_5['label']= \"the begging of the sick people for medication or water-- that was unbearable.\"\n",
    "indices = find_sentence_id(fragment_5['original_sentence'])\n",
    "fragment_5['start_sentence_index']=indices[0]\n",
    "fragment_5['end_sentence_index']=indices[1]\n",
    "fragment_5['media_offset'] = 0\n",
    "fragment_5['media_index'] = 0\n",
    "fragment_5['testimony_id'] = indices[2]\n",
    "fragments['fragments'].append(fragment_5)"
   ]
  },
  {
   "cell_type": "code",
   "execution_count": 75,
   "metadata": {},
   "outputs": [],
   "source": [
    "add_testimonial_fragments(fragments)"
   ]
  },
  {
   "cell_type": "markdown",
   "metadata": {},
   "source": [
    "### 7.  "
   ]
  },
  {
   "cell_type": "code",
   "execution_count": 76,
   "metadata": {},
   "outputs": [],
   "source": [
    "lemmas = [\"bread\",\"beg\"]"
   ]
  },
  {
   "cell_type": "code",
   "execution_count": 77,
   "metadata": {},
   "outputs": [
    {
     "name": "stdout",
     "output_type": "stream",
     "text": [
      "([lemma=\"bread\"][]{0,50}[lemma=\"beg\"])|([lemma=\"beg\"][]{0,50}[lemma=\"bread\"])\n"
     ]
    }
   ],
   "source": [
    "query = create_contextual_query(lemmas,context_length=50)\n",
    "print (query)"
   ]
  },
  {
   "cell_type": "code",
   "execution_count": 78,
   "metadata": {},
   "outputs": [],
   "source": [
    "domain_term = \"bread\""
   ]
  },
  {
   "cell_type": "code",
   "execution_count": 79,
   "metadata": {},
   "outputs": [],
   "source": [
    "fragments = {}\n",
    "fragments['main_node'] = main_node\n",
    "fragments['mid_node'] = domain_term\n",
    "fragments['fragments'] = []"
   ]
  },
  {
   "cell_type": "code",
   "execution_count": 80,
   "metadata": {},
   "outputs": [
    {
     "name": "stdout",
     "output_type": "stream",
     "text": [
      "http://localhost:8080/blacklab-server-2.1.0/lts/hits?patt=%5B%22I%22%5D+%5B%22feel%22%5D+%5B%22like%22%5D+%5B%22it%22%5D+%5B%5D+%5B%22given%22%5D+%5B%22to%22%5D+%5B%22me%22%5D+%5B%22because%22%5D+%5B%22I%22%5D+%5B%22was%22%5D+%5B%22begging%22%5D+%5B%22bread%22%5D+%5B%5D+%5B%22I%22%5D+%5B%22was%22%5D+%5B%22begging%22%5D+%5B%22from%22%5D+%5B%22the%22%5D+%5B%22farmers%22%5D&waitfortotal=true&outputformat=json&prettyprint=no&wordsaroundhit=0\n",
      "{'left': '', 'match_word': \"I feel like it 's given to me because I was begging bread . I was begging from the farmers \", 'right': '', 'complete_match': \"I feel like it 's given to me because I was begging bread . I was begging from the farmers \", 'testimony_id': 'usc_shoah_24615', 'shelfmark': ['USC Shoah Foundation 24615'], 'token_start': 27433, 'token_end': 27453}\n"
     ]
    }
   ],
   "source": [
    "fragment_1 = {}\n",
    "fragment_1['original_sentence'] = \"I feel like it's given to me because I was begging bread. I was begging from the farmers\"\n",
    "fragment_1['label']=\"I feel like it's given to me because I was begging bread. I was begging from the farmers (..).\"\n",
    "indices = find_sentence_id(fragment_1['original_sentence'])\n",
    "fragment_1['start_sentence_index']=indices[0]\n",
    "fragment_1['end_sentence_index']=indices[1]\n",
    "fragment_1['media_offset'] = 0\n",
    "fragment_1['media_index'] = 0\n",
    "fragment_1['testimony_id'] = indices[2]\n",
    "fragments['fragments'].append(fragment_1)"
   ]
  },
  {
   "cell_type": "code",
   "execution_count": 81,
   "metadata": {},
   "outputs": [
    {
     "name": "stdout",
     "output_type": "stream",
     "text": [
      "http://localhost:8080/blacklab-server-2.1.0/lts/hits?patt=%5B%22We%22%5D+%5B%22went%22%5D+%5B%22into%22%5D+%5B%22some%22%5D+%5B%22houses%22%5D+%5B%5D+%5B%22and%22%5D+%5B%22we%22%5D+%5B%22begged%22%5D+%5B%22for%22%5D+%5B%22bread%22%5D+%5B%5D+%5B%22for%22%5D+%5B%22some%22%5D+%5B%22things%22%5D+%5B%5D&waitfortotal=true&outputformat=json&prettyprint=no&wordsaroundhit=0\n",
      "{'left': '', 'match_word': 'We went into some houses , and we begged for bread , for some things . ', 'right': '', 'complete_match': 'We went into some houses , and we begged for bread , for some things . ', 'testimony_id': 'usc_shoah_3952', 'shelfmark': ['USC Shoah Foundation 3952'], 'token_start': 23792, 'token_end': 23808}\n"
     ]
    }
   ],
   "source": [
    "fragment_2 = {}\n",
    "fragment_2['original_sentence'] = \"We went into some houses, and we begged for bread, for some things.\"\n",
    "fragment_2['label']=\"We went into some houses, and we begged for bread, for some things.\"\n",
    "indices = find_sentence_id(fragment_2['original_sentence'])\n",
    "fragment_2['start_sentence_index']=indices[0]\n",
    "fragment_2['end_sentence_index']=indices[1]\n",
    "fragment_2['media_offset'] = 0\n",
    "fragment_2['media_index'] = 0\n",
    "fragment_2['testimony_id'] = indices[2]\n",
    "fragments['fragments'].append(fragment_2)\n"
   ]
  },
  {
   "cell_type": "code",
   "execution_count": 82,
   "metadata": {},
   "outputs": [
    {
     "name": "stdout",
     "output_type": "stream",
     "text": [
      "http://localhost:8080/blacklab-server-2.1.0/lts/hits?patt=%5B%22And%22%5D+%5B%22then%22%5D+%5B%22I%22%5D+%5B%22would%22%5D+%5B%22come%22%5D+%5B%22to%22%5D+%5B%22a%22%5D+%5B%22village%22%5D+%5B%22and%22%5D+%5B%22beg%22%5D+%5B%22for%22%5D+%5B%22bread%22%5D+%5B%5D+%5B%22beg%22%5D+%5B%22for%22%5D+%5B%22food%22%5D+%5B%5D+%5B%22beg%22%5D+%5B%22for%22%5D+%5B%22a%22%5D+%5B%22place%22%5D+%5B%22to%22%5D+%5B%22stay%22%5D+%5B%5D&waitfortotal=true&outputformat=json&prettyprint=no&wordsaroundhit=0\n",
      "{'left': '', 'match_word': 'And then I would come to a village and beg for bread , beg for food , beg for a place to stay . ', 'right': '', 'complete_match': 'And then I would come to a village and beg for bread , beg for food , beg for a place to stay . ', 'testimony_id': 'usc_shoah_12455', 'shelfmark': ['USC Shoah Foundation 12455'], 'token_start': 2764, 'token_end': 2788}\n"
     ]
    }
   ],
   "source": [
    "fragment_3 = {}\n",
    "fragment_3['original_sentence'] = \"And then I would come to a village and beg for bread, beg for food, beg for a place to stay.\"\n",
    "fragment_3['label']=\"And then I would come to a village and beg for bread, beg for food, beg for a place to stay.\"\n",
    "indices = find_sentence_id(fragment_3['original_sentence'])\n",
    "fragment_3['start_sentence_index']=indices[0]\n",
    "fragment_3['end_sentence_index']=indices[1]\n",
    "fragment_3['media_offset'] = 0\n",
    "fragment_3['media_index'] = 0\n",
    "fragment_3['testimony_id'] = indices[2]\n",
    "fragments['fragments'].append(fragment_3)"
   ]
  },
  {
   "cell_type": "code",
   "execution_count": 83,
   "metadata": {},
   "outputs": [
    {
     "name": "stdout",
     "output_type": "stream",
     "text": [
      "http://localhost:8080/blacklab-server-2.1.0/lts/hits?patt=%5B%22I%22%5D+%5B%22used%22%5D+%5B%22to%22%5D+%5B%22go%22%5D+%5B%22to%22%5D+%5B%22the%22%5D+%5B%22farmers%22%5D+%5B%22and%22%5D+%5B%5D+%5B%22actually%22%5D+%5B%5D+%5B%22sometimes%22%5D+%5B%22beg%22%5D+%5B%5D+%5B%22Beg%22%5D+%5B%22for%22%5D+%5B%22a%22%5D+%5B%22piece%22%5D+%5B%22of%22%5D+%5B%22bread%22%5D+%5B%5D&waitfortotal=true&outputformat=json&prettyprint=no&wordsaroundhit=0\n",
      "{'left': '', 'match_word': 'I used to go to the farmers and , actually , sometimes beg . Beg for a piece of bread . ', 'right': '', 'complete_match': 'I used to go to the farmers and , actually , sometimes beg . Beg for a piece of bread . ', 'testimony_id': 'usc_shoah_23572', 'shelfmark': ['USC Shoah Foundation 23572'], 'token_start': 14456, 'token_end': 14477}\n"
     ]
    }
   ],
   "source": [
    "fragment_4 = {}\n",
    "fragment_4['original_sentence'] = \"I used to go to the farmers and, actually, sometimes beg. Beg for a piece of bread.\"\n",
    "fragment_4['label']= \" I used to go to the farmers and, actually, sometimes beg. Beg for a piece of bread.\"\n",
    "indices = find_sentence_id(fragment_4['original_sentence'])\n",
    "fragment_4['start_sentence_index']=indices[0]\n",
    "fragment_4['end_sentence_index']=indices[1]\n",
    "fragment_4['media_offset'] = 0\n",
    "fragment_4['media_index'] = 0\n",
    "fragment_4['testimony_id'] = indices[2]\n",
    "fragments['fragments'].append(fragment_4)\n"
   ]
  },
  {
   "cell_type": "code",
   "execution_count": 84,
   "metadata": {},
   "outputs": [
    {
     "name": "stdout",
     "output_type": "stream",
     "text": [
      "http://localhost:8080/blacklab-server-2.1.0/lts/hits?patt=%5B%22And%22%5D+%5B%22I%22%5D+%5B%22went%22%5D+%5B%22to%22%5D+%5B%22the%22%5D+%5B%22civilians%22%5D+%5B%5D+%5B%22the%22%5D+%5B%22French%22%5D+%5B%22or%22%5D+%5B%22the%22%5D+%5B%22other%22%5D+%5B%22ones%22%5D+%5B%5D+%5B%22and%22%5D+%5B%22begged%22%5D+%5B%22them%22%5D+%5B%22for%22%5D+%5B%22bread%22%5D+%5B%22or%22%5D+%5B%22other%22%5D+%5B%22things%22%5D+%5B%5D&waitfortotal=true&outputformat=json&prettyprint=no&wordsaroundhit=0\n",
      "{'left': '', 'match_word': 'And I went to the civilians , the French or the other ones , and begged them for bread or other things . ', 'right': '', 'complete_match': 'And I went to the civilians , the French or the other ones , and begged them for bread or other things . ', 'testimony_id': 'usc_shoah_6526', 'shelfmark': ['USC Shoah Foundation 6526'], 'token_start': 22842, 'token_end': 22865}\n"
     ]
    }
   ],
   "source": [
    "fragment_5 = {}\n",
    "fragment_5['original_sentence'] = \"And I went to the civilians, the French or the other ones, and begged them for bread or other things.\"\n",
    "fragment_5['label']= \"And I went to the civilians, the French or the other ones, and begged them for bread or other things.\"\n",
    "indices = find_sentence_id(fragment_5['original_sentence'])\n",
    "fragment_5['start_sentence_index']=indices[0]\n",
    "fragment_5['end_sentence_index']=indices[1]\n",
    "fragment_5['media_offset'] = 0\n",
    "fragment_5['media_index'] = 0\n",
    "fragment_5['testimony_id'] = indices[2]\n",
    "fragments['fragments'].append(fragment_5)"
   ]
  },
  {
   "cell_type": "code",
   "execution_count": 85,
   "metadata": {},
   "outputs": [],
   "source": [
    "add_testimonial_fragments(fragments)"
   ]
  },
  {
   "cell_type": "code",
   "execution_count": null,
   "metadata": {},
   "outputs": [],
   "source": []
  }
 ],
 "metadata": {
  "kernelspec": {
   "display_name": "base",
   "language": "python",
   "name": "base"
  },
  "language_info": {
   "codemirror_mode": {
    "name": "ipython",
    "version": 3
   },
   "file_extension": ".py",
   "mimetype": "text/x-python",
   "name": "python",
   "nbconvert_exporter": "python",
   "pygments_lexer": "ipython3",
   "version": "3.7.2"
  }
 },
 "nbformat": 4,
 "nbformat_minor": 2
}
