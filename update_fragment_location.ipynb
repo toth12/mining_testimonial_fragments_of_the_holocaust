{
 "cells": [
  {
   "cell_type": "markdown",
   "metadata": {},
   "source": [
    "# Mining testimonial fragments of the Holocaust"
   ]
  },
  {
   "cell_type": "markdown",
   "metadata": {},
   "source": [
    "**Experience domain:**"
   ]
  },
  {
   "cell_type": "markdown",
   "metadata": {},
   "source": [
    "### Load the necessary libraries"
   ]
  },
  {
   "cell_type": "code",
   "execution_count": 3,
   "metadata": {},
   "outputs": [],
   "source": [
    "import sys; sys.path.insert(0, '..')\n",
    "import itertools"
   ]
  },
  {
   "cell_type": "code",
   "execution_count": 4,
   "metadata": {},
   "outputs": [],
   "source": [
    "import get_topic_model_concordance as topic_concordancer\n",
    "from utils import blacklab, db, text\n",
    "mongo = db.get_db()"
   ]
  },
  {
   "cell_type": "code",
   "execution_count": 5,
   "metadata": {},
   "outputs": [
    {
     "data": {
      "text/html": [
       "<style>.container { width:100% !important; }</style>"
      ],
      "text/plain": [
       "<IPython.core.display.HTML object>"
      ]
     },
     "metadata": {},
     "output_type": "display_data"
    }
   ],
   "source": [
    "%config Completer.use_jedi = False\n",
    "from IPython.core.display import display, HTML\n",
    "display(HTML(\"<style>.container { width:100% !important; }</style>\"))\n",
    "import random\n",
    "import pandas as pd"
   ]
  },
  {
   "cell_type": "markdown",
   "metadata": {},
   "source": [
    "### Helper functions"
   ]
  },
  {
   "cell_type": "code",
   "execution_count": 6,
   "metadata": {},
   "outputs": [],
   "source": [
    "def create_contextual_query(lemmas,context_length=50):\n",
    "    permutations = itertools.permutations(lemmas,len(lemmas))\n",
    "    final_result = []\n",
    "    for element in list(permutations):\n",
    "        temp_result = []\n",
    "        for el in element:\n",
    "            temp_result.append('[lemma=\"'+el+'\"]')\n",
    "        temp_result = '('+('[]{0,'+str(context_length)+'}').join(temp_result)+')'\n",
    "        final_result.append(temp_result)\n",
    "    final_result = '|'.join(final_result)\n",
    "    return final_result\n",
    "        \n",
    "        \n",
    "            "
   ]
  },
  {
   "cell_type": "code",
   "execution_count": 7,
   "metadata": {},
   "outputs": [],
   "source": [
    "from utils import blacklab, db, text\n",
    "import requests\n",
    "import json\n",
    "def find_sentence_id(label):\n",
    "    props = {'annotators': 'tokenize'}\n",
    "\n",
    "    # set the encoding of the annotator\n",
    "    requests.encoding = 'utf-8'\n",
    "    # make a request\n",
    "    r = requests.post('http://localhost:9000/', params={'properties':\n",
    "                      json.dumps(props)},\n",
    "                      data=label.encode('utf-8'))\n",
    "    result = json.loads(r.text, encoding='utf-8')\n",
    "    query = []\n",
    "    for i, token in enumerate(result['tokens']):\n",
    "\n",
    "        if ('...'in token['word'] and ((i == 0) or\n",
    "           i == len(result['tokens']) - 1)):\n",
    "            continue\n",
    "        elif ('...'in token['word']):\n",
    "            query.append('[]{0,50}')\n",
    "        elif ('-'in token['word']):\n",
    "            query.append('[]{0,3}')\n",
    "        elif (\"n't\"in token['word']):\n",
    "            query.append('[]')\n",
    "        elif (\"'re\"in token['word']):\n",
    "            query.append('[]')\n",
    "        elif (\"?\"in token['word']):\n",
    "            query.append('[]')\n",
    "        elif (\".\"in token['word']):\n",
    "            query.append('[]')\n",
    "        elif (\"'s\"in token['word']):\n",
    "            query.append('[]')\n",
    "        elif (\",\"in token['word']):\n",
    "            query.append('[]')\n",
    "        else:\n",
    "            query.append('[\"' + token['word'] + '\"]')\n",
    "\n",
    "    query = ' '.join(query)\n",
    "    try:\n",
    "        sentence = blacklab.search_blacklab(query, window=0,\n",
    "                                            lemma=False,\n",
    "                                            include_match=True)\n",
    "        token_end = sentence[0]['token_end']\n",
    "        token_start = sentence[0]['token_start']\n",
    "        print (sentence[0])\n",
    "        mongo = db.get_db()\n",
    "        results = mongo.tokens.find({'testimony_id':\n",
    "                                    sentence[0]['testimony_id']},\n",
    "                                    {'_id': 0})\n",
    "        tokens = list(results)[0]['tokens']\n",
    "        sentenceStart = tokens[token_start]['sentence_index']\n",
    "        sentenceEnd = tokens[token_end]['sentence_index']\n",
    "        originalsentence = sentence[0]['complete_match']\n",
    "        return (sentenceStart,sentenceEnd,sentence[0]['testimony_id'])\n",
    "    except:\n",
    "        print(\"The following query returned a null result\")\n",
    "        print(query)\n",
    "        \n",
    "            \n"
   ]
  },
  {
   "cell_type": "code",
   "execution_count": 8,
   "metadata": {},
   "outputs": [],
   "source": [
    "def create_parent_node(label):\n",
    "    \"\"\"Generate a root node for a tree structure.\"\"\"\n",
    "    testimony_id = random.randint(1, 20)\n",
    "    node = {}\n",
    "    node['label'] = label\n",
    "    fragment = {'label': label,\n",
    "                'essay_id': random.randint(1, 20),\n",
    "                'tree': get_node(testimony_id, node, is_parent=True)}\n",
    "    fragment['tree']['label'] = label\n",
    "\n",
    "    return fragment"
   ]
  },
  {
   "cell_type": "code",
   "execution_count": 9,
   "metadata": {},
   "outputs": [],
   "source": [
    "def get_node(testimony_id, node, is_parent=False):\n",
    "    \"\"\"Generate a parent or leaf node for a tree structure.\"\"\"\n",
    "    if is_parent:\n",
    "        return {\n",
    "            'label': node['label'],\n",
    "            'testimony_id': random.randint(1, 20),\n",
    "            'media_index': random.randint(1, 20),\n",
    "            'media_offset': random.randint(1, 20),\n",
    "            'start_sentence_index': random.randint(1, 20),\n",
    "            'end_sentence_index': random.randint(1, 20),\n",
    "            'children': [], }\n",
    "    else:\n",
    "        return {'label': node['label'],\n",
    "                'testimony_id': node['testimony_id'],\n",
    "                'media_index': float(node['media_index']),\n",
    "                'media_offset': float(node['media_offset']),\n",
    "                'start_sentence_index': float(node['start_sentence_index']),\n",
    "                'end_sentence_index': float(node['end_sentence_index']),\n",
    "                'children': [], }"
   ]
  },
  {
   "cell_type": "code",
   "execution_count": 10,
   "metadata": {},
   "outputs": [],
   "source": [
    "def check_if_main_node_exist(node):\n",
    "    results = mongo.fragments.find({'label':node},{'_id': 0})\n",
    "    if len(results[0])==0:\n",
    "        return False\n",
    "    else:\n",
    "        return True"
   ]
  },
  {
   "cell_type": "code",
   "execution_count": 11,
   "metadata": {},
   "outputs": [],
   "source": [
    "def add_main_node(label):\n",
    "    mongo.fragments.insert(create_parent_node(label))"
   ]
  },
  {
   "cell_type": "code",
   "execution_count": 12,
   "metadata": {},
   "outputs": [],
   "source": [
    "def delete_main_node(label):\n",
    "    mongo.fragments.delete_one({'label':label})"
   ]
  },
  {
   "cell_type": "code",
   "execution_count": 13,
   "metadata": {},
   "outputs": [],
   "source": [
    "def add_testimonial_fragments(fragments):\n",
    "    if check_if_main_node_exist(fragments['main_node']):\n",
    "        results = mongo.fragments.find({'label':fragments['main_node']},{'_id':0})[0]\n",
    "        mid_nodes = [element['label'] for element in results['tree']['children']]\n",
    "        if fragments['mid_node'] in mid_nodes:\n",
    "            print (\"mid node exists cannot be added\")\n",
    "        else:\n",
    "            \n",
    "            mid_node = get_node('r',{'label':fragments['mid_node']},is_parent=True)\n",
    "            for fragment in fragments['fragments']:\n",
    "                leaf = get_node(fragment['testimony_id'],fragment)\n",
    "                mid_node['children'].append(leaf)\n",
    "            results['tree']['children'].append(mid_node)\n",
    "            mongo.fragments.replace_one({'label':fragments['main_node']},results)"
   ]
  },
  {
   "cell_type": "code",
   "execution_count": 47,
   "metadata": {},
   "outputs": [],
   "source": [
    "def update_fragments(main_node_label,mid_node_label,testimony_id,attributes):\n",
    "    results = mongo.fragments.find({'label':main_node_label},{'_id':0})[0]\n",
    "    mongo_id= mongo.fragments.find({'label':main_node_label},{'_id':1})[0]\n",
    "    retrieved = False\n",
    "    for x,element in enumerate(results['tree']['children']):\n",
    "        if element['label']==mid_node_label:\n",
    "            retrieved = True\n",
    "            for n,leaves in enumerate(element['children']):\n",
    "                if leaves['testimony_id'] == testimony_id:\n",
    "                    for attr in attributes:\n",
    "                        results['tree']['children'][x]['children'][n][list(attr.keys())[0]]=attr[list(attr.keys())[0]]\n",
    "    if retrieved:\n",
    "        replace = mongo.fragments.replace_one(mongo_id,results)\n",
    "    else:\n",
    "        print ('not found')\n",
    "        print (main_node_label)\n",
    "        print (mid_node_label)\n",
    "        print (testimony_id)\n"
   ]
  },
  {
   "cell_type": "markdown",
   "metadata": {},
   "source": [
    "1. Read the CSV file\n",
    "2. Iterate through\n",
    "3. Find beginning and end sentence again\n",
    "4. Try to update the fragment,if not, print it out"
   ]
  },
  {
   "cell_type": "code",
   "execution_count": 53,
   "metadata": {},
   "outputs": [],
   "source": [
    "input_data = \"data/Input/Fragments/testimonial_fragments_old_for_reprocessing.csv\""
   ]
  },
  {
   "cell_type": "code",
   "execution_count": 63,
   "metadata": {},
   "outputs": [
    {
     "name": "stdout",
     "output_type": "stream",
     "text": [
      "http://localhost:8080/blacklab-server-2.1.0/lts/hits?patt=%5B%22to%22%5D+%5B%22a%22%5D+%5B%22young%22%5D+%5B%22kid%22%5D+%5B%22to%22%5D+%5B%22see%22%5D+%5B%22all%22%5D+%5B%22these%22%5D+%5B%22naked%22%5D+%5B%5D%7B0%2C3%7D+%5B%22I%22%5D+%5B%22never%22%5D+%5B%22even%22%5D+%5B%22saw%22%5D+%5B%22my%22%5D+%5B%22mother%22%5D+%5B%22naked%22%5D&waitfortotal=true&outputformat=json&prettyprint=no&wordsaroundhit=0\n",
      "{'left': '', 'match_word': 'to a young kid to see all these naked -- I never even saw my mother naked ', 'right': '', 'complete_match': 'to a young kid to see all these naked -- I never even saw my mother naked ', 'testimony_id': 'usc_shoah_1029', 'shelfmark': ['USC Shoah Foundation 1029'], 'token_start': 8905, 'token_end': 8922}\n",
      "http://localhost:8080/blacklab-server-2.1.0/lts/hits?patt=%5B%22Because%22%5D+%5B%22I%22%5D+%5B%22could%22%5D+%5B%22never%22%5D+%5B%22see%22%5D+%5B%22anybody%22%5D+%5B%22staring%22%5D+%5B%22at%22%5D+%5B%22me%22%5D+%5B%22while%22%5D+%5B%22I%22%5D+%5B%22was%22%5D+%5B%22naked%22%5D+%5B%5D&waitfortotal=true&outputformat=json&prettyprint=no&wordsaroundhit=0\n",
      "{'left': '', 'match_word': 'Because I could never see anybody staring at me while I was naked . ', 'right': '', 'complete_match': 'Because I could never see anybody staring at me while I was naked . ', 'testimony_id': 'irn504640', 'shelfmark': ['USHMM RG-50.030*0146'], 'token_start': 5967, 'token_end': 5981}\n",
      "http://localhost:8080/blacklab-server-2.1.0/lts/hits?patt=%5B%22we%22%5D+%5B%22were%22%5D+%5B%22standing%22%5D+%5B%22completely%22%5D+%5B%22in%22%5D+%5B%22the%22%5D+%5B%22nude%22%5D+%5B%22and%22%5D+%5B%22I%22%5D+%5B%22was%22%5D+%5B%22frightened%22%5D+%5B%5D+%5B%22I%22%5D+%5B%22was%22%5D+%5B%22thirteen%22%5D+%5B%22years%22%5D+%5B%22old%22%5D+%5B%5D&waitfortotal=true&outputformat=json&prettyprint=no&wordsaroundhit=0\n",
      "{'left': '', 'match_word': 'we were standing completely in the nude and I was frightened . I was thirteen years old . ', 'right': '', 'complete_match': 'we were standing completely in the nude and I was frightened . I was thirteen years old . ', 'testimony_id': 'irn504659', 'shelfmark': ['USHMM RG-50.030*0161'], 'token_start': 3802, 'token_end': 3820}\n",
      "http://localhost:8080/blacklab-server-2.1.0/lts/hits?patt=%5B%22I%22%5D+%5B%22was%22%5D+%5B%2214%22%5D+%5B%5D+%5B%22For%22%5D+%5B%22the%22%5D+%5B%22first%22%5D+%5B%22time%22%5D+%5B%22in%22%5D+%5B%22my%22%5D+%5B%22life%22%5D+%5B%22that%22%5D+%5B%22I%22%5D+%5B%22saw%22%5D+%5B%22a%22%5D+%5B%22naked%22%5D+%5B%22man%22%5D+%5B%5D&waitfortotal=true&outputformat=json&prettyprint=no&wordsaroundhit=0\n",
      "{'left': '', 'match_word': 'I was 14 . For the first time in my life that I saw a naked man . ', 'right': '', 'complete_match': 'I was 14 . For the first time in my life that I saw a naked man . ', 'testimony_id': 'irn504752', 'shelfmark': ['USHMM RG-50.030*0258'], 'token_start': 5349, 'token_end': 5367}\n",
      "http://localhost:8080/blacklab-server-2.1.0/lts/hits?patt=%5B%22I%22%5D+%5B%22think%22%5D+%5B%22I%22%5D+%5B%22was%22%5D+%5B%22shocked%22%5D+%5B%22because%22%5D+%5B%22I%22%5D+%5B%22had%22%5D+%5B%22never%22%5D+%5B%22seen%22%5D+%5B%22a%22%5D+%5B%22naked%22%5D+%5B%22male%22%5D+%5B%5D+%5B%22not%22%5D+%5B%22even%22%5D+%5B%22my%22%5D+%5B%22own%22%5D+%5B%22brothers%22%5D+%5B%5D+%5B%22It%22%5D+%5B%22was%22%5D+%5B%22shocking%22%5D+%5B%5D&waitfortotal=true&outputformat=json&prettyprint=no&wordsaroundhit=0\n",
      "{'left': '', 'match_word': 'I think I was shocked because I had never seen a naked male , not even my own brothers . It was shocking . ', 'right': '', 'complete_match': 'I think I was shocked because I had never seen a naked male , not even my own brothers . It was shocking . ', 'testimony_id': 'irn504798', 'shelfmark': ['USHMM RG-50.030*0303'], 'token_start': 4297, 'token_end': 4321}\n",
      "http://localhost:8080/blacklab-server-2.1.0/lts/hits?patt=%5B%22I%22%5D+%5B%22never%22%5D+%5B%22undressed%22%5D+%5B%5D+%5B%22even%22%5D+%5B%22from%22%5D+%5B%22my%22%5D+%5B%22own%22%5D+%5B%22parents%22%5D+%5B%22in%22%5D+%5B%22front%22%5D&waitfortotal=true&outputformat=json&prettyprint=no&wordsaroundhit=0\n",
      "{'left': '', 'match_word': 'I never undressed , even from my own parents in front ', 'right': '', 'complete_match': 'I never undressed , even from my own parents in front ', 'testimony_id': 'usc_shoah_10588', 'shelfmark': ['USC Shoah Foundation 10588'], 'token_start': 23797, 'token_end': 23808}\n",
      "http://localhost:8080/blacklab-server-2.1.0/lts/hits?patt=%5B%22I%22%5D+%5B%22was%22%5D+%5B%22shocked%22%5D+%5B%22to%22%5D+%5B%22see%22%5D+%5B%22so%22%5D+%5B%22much%22%5D+%5B%22naked%22%5D+%5B%22bodies%22%5D&waitfortotal=true&outputformat=json&prettyprint=no&wordsaroundhit=0\n",
      "{'left': '', 'match_word': 'I was shocked to see so much naked bodies ', 'right': '', 'complete_match': 'I was shocked to see so much naked bodies ', 'testimony_id': 'usc_shoah_1160', 'shelfmark': ['USC Shoah Foundation 1160'], 'token_start': 12277, 'token_end': 12286}\n",
      "http://localhost:8080/blacklab-server-2.1.0/lts/hits?patt=%5B%22I%22%5D+%5B%22%27ve%22%5D+%5B%22never%22%5D+%5B%22seen%22%5D+%5B%22a%22%5D+%5B%22naked%22%5D+%5B%22woman%22%5D+%5B%5D+%5B%22and%22%5D+%5B%22for%22%5D+%5B%22the%22%5D+%5B%22first%22%5D+%5B%22time%22%5D+%5B%22in%22%5D+%5B%22my%22%5D+%5B%22life%22%5D+%5B%5D+%5B%22I%22%5D+%5B%22suddenly%22%5D+%5B%22saw%22%5D+%5B%22a%22%5D+%5B%22few%22%5D+%5B%22hundred%22%5D+%5B%22women%22%5D&waitfortotal=true&outputformat=json&prettyprint=no&wordsaroundhit=0\n",
      "{'left': '', 'match_word': \"I 've never seen a naked woman , and for the first time in my life , I suddenly saw a few hundred women \", 'right': '', 'complete_match': \"I 've never seen a naked woman , and for the first time in my life , I suddenly saw a few hundred women \", 'testimony_id': 'usc_shoah_26576', 'shelfmark': ['USC Shoah Foundation 26576'], 'token_start': 7488, 'token_end': 7512}\n",
      "http://localhost:8080/blacklab-server-2.1.0/lts/hits?patt=%5B%22at%22%5D+%5B%2211%22%5D+%5B%22or%22%5D+%5B%2212%22%5D+%5B%22years%22%5D+%5B%22old%22%5D+%5B%5D+%5B%22to%22%5D+%5B%22see%22%5D+%5B%22a%22%5D+%5B%22naked%22%5D+%5B%22lady%22%5D+%5B%22in%22%5D+%5B%22front%22%5D+%5B%22of%22%5D+%5B%22you%22%5D+%5B%5D+%5B%22it%22%5D+%5B%22rather%22%5D+%5B%22left%22%5D+%5B%22an%22%5D+%5B%22impact%22%5D+%5B%22on%22%5D+%5B%22me%22%5D&waitfortotal=true&outputformat=json&prettyprint=no&wordsaroundhit=0\n",
      "{'left': '', 'match_word': 'at 11 or 12 years old , to see a naked lady in front of you , it rather left an impact on me ', 'right': '', 'complete_match': 'at 11 or 12 years old , to see a naked lady in front of you , it rather left an impact on me ', 'testimony_id': 'irn79568', 'shelfmark': ['USHMM RG-50.030*0746'], 'token_start': 6330, 'token_end': 6354}\n",
      "http://localhost:8080/blacklab-server-2.1.0/lts/hits?patt=%5B%22And%22%5D+%5B%22I%22%5D+%5B%22remember%22%5D+%5B%22the%22%5D+%5B%22horror%22%5D+%5B%22for%22%5D+%5B%22the%22%5D+%5B%22first%22%5D+%5B%22time%22%5D+%5B%22in%22%5D+%5B%22my%22%5D+%5B%22life%22%5D+%5B%5D+%5B%22that%22%5D+%5B%22I%22%5D+%5B%22have%22%5D+%5B%22seen%22%5D+%5B%22adults%22%5D+%5B%22naked%22%5D&waitfortotal=true&outputformat=json&prettyprint=no&wordsaroundhit=0\n",
      "{'left': '', 'match_word': 'And I remember the horror for the first time in my life , that I have seen adults naked ', 'right': '', 'complete_match': 'And I remember the horror for the first time in my life , that I have seen adults naked ', 'testimony_id': 'irn504845', 'shelfmark': ['USHMM RG-50.030*0352'], 'token_start': 7432, 'token_end': 7451}\n",
      "http://localhost:8080/blacklab-server-2.1.0/lts/hits?patt=%5B%22And%22%5D+%5B%22they%22%5D+%5B%22had%22%5D+%5B%22us%22%5D+%5B%22wait%22%5D+%5B%22for%22%5D+%5B%22hours%22%5D+%5B%22and%22%5D+%5B%22hours%22%5D+%5B%22on%22%5D+%5B%22the%22%5D+%5B%22street%22%5D+%5B%22naked%22%5D&waitfortotal=true&outputformat=json&prettyprint=no&wordsaroundhit=0\n",
      "{'left': '', 'match_word': 'And they had us wait for hours and hours on the street naked ', 'right': '', 'complete_match': 'And they had us wait for hours and hours on the street naked ', 'testimony_id': 'irn510154', 'shelfmark': ['USHMM RG-50.061*0010'], 'token_start': 9854, 'token_end': 9867}\n",
      "http://localhost:8080/blacklab-server-2.1.0/lts/hits?patt=%5B%22So%22%5D+%5B%22we%22%5D+%5B%22had%22%5D+%5B%22to%22%5D+%5B%22stand%22%5D+%5B%22for%22%5D+%5B%22hours%22%5D+%5B%22and%22%5D+%5B%22hours%22%5D+%5B%22in%22%5D+%5B%22rows%22%5D+%5B%22naked%22%5D+%5B%5D&waitfortotal=true&outputformat=json&prettyprint=no&wordsaroundhit=0\n"
     ]
    },
    {
     "name": "stdout",
     "output_type": "stream",
     "text": [
      "{'left': '', 'match_word': 'So we had to stand for hours and hours in rows naked , ', 'right': '', 'complete_match': 'So we had to stand for hours and hours in rows naked , ', 'testimony_id': 'usc_shoah_20088', 'shelfmark': ['USC Shoah Foundation 20088'], 'token_start': 15944, 'token_end': 15957}\n",
      "http://localhost:8080/blacklab-server-2.1.0/lts/hits?patt=%5B%22The%22%5D+%5B%22women%22%5D+%5B%22were%22%5D+%5B%22kept%22%5D+%5B%22naked%22%5D+%5B%22for%22%5D+%5B%22about%22%5D+%5B%22five%22%5D+%5B%22hours%22%5D+%5B%5D+%5B%22It%22%5D+%5B%22was%22%5D+%5B%22just%22%5D+%5B%22one%22%5D+%5B%22of%22%5D+%5B%22these%22%5D+%5B%22German%22%5D+%5B%22things%22%5D+%5B%5D&waitfortotal=true&outputformat=json&prettyprint=no&wordsaroundhit=0\n",
      "{'left': '', 'match_word': 'The women were kept naked for about five hours . It was just one of these German things . ', 'right': '', 'complete_match': 'The women were kept naked for about five hours . It was just one of these German things . ', 'testimony_id': 'usc_shoah_25651', 'shelfmark': ['USC Shoah Foundation 25651'], 'token_start': 44664, 'token_end': 44683}\n",
      "http://localhost:8080/blacklab-server-2.1.0/lts/hits?patt=%5B%22And%22%5D+%5B%22they%22%5D+%5B%22put%22%5D+%5B%22us%22%5D+%5B%22naked%22%5D+%5B%22if%22%5D+%5B%5D%7B0%2C3%7D+%5B%22in%22%5D+%5B%5D+%5B%22in%22%5D+%5B%22a%22%5D+%5B%22like%22%5D+%5B%22a%22%5D+%5B%22big%22%5D+%5B%22stable%22%5D+%5B%22was%22%5D+%5B%22there%22%5D+%5B%5D+%5B%22And%22%5D+%5B%22we%22%5D+%5B%22were%22%5D+%5B%22there%22%5D+%5B%22a%22%5D+%5B%22whole%22%5D+%5B%22night%22%5D&waitfortotal=true&outputformat=json&prettyprint=no&wordsaroundhit=0\n",
      "{'left': '', 'match_word': 'And they put us naked if -- in , in a like a big stable was there . And we were there a whole night ', 'right': '', 'complete_match': 'And they put us naked if -- in , in a like a big stable was there . And we were there a whole night ', 'testimony_id': 'usc_shoah_24130', 'shelfmark': ['USC Shoah Foundation 24130'], 'token_start': 26686, 'token_end': 26711}\n",
      "http://localhost:8080/blacklab-server-2.1.0/lts/hits?patt=%5B%22I%22%5D+%5B%22remember%22%5D+%5B%22one%22%5D+%5B%22time%22%5D+%5B%22standing%22%5D+%5B%22in%22%5D+%5B%22the%22%5D+%5B%22snow%22%5D+%5B%22with%22%5D+%5B%22the%22%5D+%5B%22shoes%22%5D+%5B%22on%22%5D+%5B%5D+%5B%22no%22%5D+%5B%22clothes%22%5D+%5B%22whatsoever%22%5D+%5B%5D&waitfortotal=true&outputformat=json&prettyprint=no&wordsaroundhit=0\n",
      "{'left': '', 'match_word': 'I remember one time standing in the snow with the shoes on , no clothes whatsoever . ', 'right': '', 'complete_match': 'I remember one time standing in the snow with the shoes on , no clothes whatsoever . ', 'testimony_id': 'irn504539', 'shelfmark': ['USHMM RG-50.030*0035'], 'token_start': 7445, 'token_end': 7462}\n",
      "http://localhost:8080/blacklab-server-2.1.0/lts/hits?patt=%5B%22About%22%5D+%5B%22two%22%5D+%5B%22or%22%5D+%5B%22three%22%5D+%5B%22feet%22%5D+%5B%22snow%22%5D+%5B%5D+%5B%22frost%22%5D+%5B%5D+%5B%22They%22%5D+%5B%22took%22%5D+%5B%22us%22%5D+%5B%22in%22%5D+%5B%22one%22%5D+%5B%22barrack%22%5D+%5B%5D+%5B%22Take%22%5D+%5B%22off%22%5D+%5B%22all%22%5D+%5B%22the%22%5D+%5B%22clothes%22%5D&waitfortotal=true&outputformat=json&prettyprint=no&wordsaroundhit=0\n",
      "{'left': '', 'match_word': 'About two or three feet snow , frost . They took us in one barrack . Take off all the clothes ', 'right': '', 'complete_match': 'About two or three feet snow , frost . They took us in one barrack . Take off all the clothes ', 'testimony_id': 'irn504603', 'shelfmark': ['USHMM RG-50.030*0109'], 'token_start': 1611, 'token_end': 1632}\n",
      "http://localhost:8080/blacklab-server-2.1.0/lts/hits?patt=%5B%22we%22%5D+%5B%22were%22%5D+%5B%22completely%22%5D+%5B%22naked%22%5D+%5B%5D+%5B%22That%22%5D+%5B%22was%22%5D+%5B%22the%22%5D+%5B%22end%22%5D+%5B%22of%22%5D+%5B%221944%22%5D+%5B%5D+%5B%22in%22%5D+%5B%22December%22%5D+%5B%5D+%5B%22and%22%5D+%5B%22the%22%5D+%5B%22snow%22%5D+%5B%22was%22%5D+%5B%22three%22%5D+%5B%22or%22%5D+%5B%22four%22%5D+%5B%22or%22%5D+%5B%22five%22%5D+%5B%22feet%22%5D+%5B%22high%22%5D+%5B%5D&waitfortotal=true&outputformat=json&prettyprint=no&wordsaroundhit=0\n",
      "{'left': '', 'match_word': 'we were completely naked . That was the end of 1944 , in December , and the snow was three or four or five feet high . ', 'right': '', 'complete_match': 'we were completely naked . That was the end of 1944 , in December , and the snow was three or four or five feet high . ', 'testimony_id': 'irn508628', 'shelfmark': ['USHMM RG-50.462*0007'], 'token_start': 19227, 'token_end': 19254}\n",
      "http://localhost:8080/blacklab-server-2.1.0/lts/hits?patt=%5B%22there%22%5D+%5B%5D+%5B%22snow%22%5D+%5B%5D+%5B%22And%22%5D+%5B%22the%22%5D+%5B%22next%22%5D+%5B%22building%22%5D+%5B%22is%22%5D+%5B%2250%22%5D+%5B%22feet%22%5D+%5B%22away%22%5D+%5B%5D+%5B%22And%22%5D+%5B%22I%22%5D+%5B%22%27m%22%5D+%5B%5D%7B0%2C3%7D+%5B%22I%22%5D+%5B%22%27m%22%5D+%5B%22stark%22%5D+%5B%22naked%22%5D+%5B%5D&waitfortotal=true&outputformat=json&prettyprint=no&wordsaroundhit=0\n",
      "{'left': '', 'match_word': \"there 's snow . And the next building is 50 feet away . And I 'm -- I 'm stark naked . \", 'right': '', 'complete_match': \"there 's snow . And the next building is 50 feet away . And I 'm -- I 'm stark naked . \", 'testimony_id': 'usc_shoah_10549', 'shelfmark': ['USC Shoah Foundation 10549'], 'token_start': 7641, 'token_end': 7663}\n",
      "http://localhost:8080/blacklab-server-2.1.0/lts/hits?patt=%5B%22I%22%5D+%5B%22remember%22%5D+%5B%22we%22%5D+%5B%22had%22%5D+%5B%22to%22%5D+%5B%22stand%22%5D+%5B%22naked%22%5D+%5B%22there%22%5D+%5B%5D+%5B%22We%22%5D+%5B%22had%22%5D+%5B%22to%22%5D+%5B%22crawl%22%5D+%5B%22in%22%5D+%5B%22the%22%5D+%5B%22snow%22%5D&waitfortotal=true&outputformat=json&prettyprint=no&wordsaroundhit=0\n",
      "{'left': '', 'match_word': 'I remember we had to stand naked there . We had to crawl in the snow ', 'right': '', 'complete_match': 'I remember we had to stand naked there . We had to crawl in the snow ', 'testimony_id': 'usc_shoah_11000', 'shelfmark': ['USC Shoah Foundation 11000'], 'token_start': 8209, 'token_end': 8225}\n",
      "http://localhost:8080/blacklab-server-2.1.0/lts/hits?patt=%5B%22That%22%5D+%5B%22was%22%5D+%5B%22winter%22%5D+%5B%22time%22%5D+%5B%5D+%5B%22cold%22%5D+%5B%5D+%5B%22naked%22%5D+%5B%5D&waitfortotal=true&outputformat=json&prettyprint=no&wordsaroundhit=0\n",
      "{'left': '', 'match_word': 'That was winter time , cold , naked . ', 'right': '', 'complete_match': 'That was winter time , cold , naked . ', 'testimony_id': 'HVT-9', 'shelfmark': ['Fortunoff Archive HVT-9'], 'token_start': 8306, 'token_end': 8315}\n",
      "http://localhost:8080/blacklab-server-2.1.0/lts/hits?patt=%5B%22after%22%5D+%5B%22the%22%5D+%5B%22shower%22%5D+%5B%5D+%5B%22out%22%5D+%5B%22in%22%5D+%5B%22the%22%5D+%5B%22cold%22%5D+%5B%22again%22%5D+%5B%5D+%5B%22out%22%5D+%5B%22in%22%5D+%5B%22the%22%5D+%5B%22rain%22%5D+%5B%5D+%5B%22naked%22%5D+%5B%5D&waitfortotal=true&outputformat=json&prettyprint=no&wordsaroundhit=0\n",
      "{'left': '', 'match_word': 'after the shower , out in the cold again , out in the rain , naked . ', 'right': '', 'complete_match': 'after the shower , out in the cold again , out in the rain , naked . ', 'testimony_id': 'usc_shoah_5758', 'shelfmark': ['USC Shoah Foundation 5758'], 'token_start': 15194, 'token_end': 15211}\n",
      "http://localhost:8080/blacklab-server-2.1.0/lts/hits?patt=%5B%22And%22%5D+%5B%22they%22%5D+%5B%22took%22%5D+%5B%22us%22%5D+%5B%22in%22%5D+%5B%22a%22%5D+%5B%22very%22%5D+%5B%22cold%22%5D+%5B%22room%22%5D+%5B%5D+%5B%22I%22%5D+%5B%22was%22%5D+%5B%22freezing%22%5D+%5B%5D+%5B%22all%22%5D+%5B%22naked%22%5D&waitfortotal=true&outputformat=json&prettyprint=no&wordsaroundhit=0\n",
      "{'left': '', 'match_word': 'And they took us in a very cold room . I was freezing , all naked ', 'right': '', 'complete_match': 'And they took us in a very cold room . I was freezing , all naked ', 'testimony_id': 'irn504557', 'shelfmark': ['USHMM RG-50.030*0061'], 'token_start': 9837, 'token_end': 9853}\n",
      "http://localhost:8080/blacklab-server-2.1.0/lts/hits?patt=%5B%22Everybody%22%5D+%5B%22was%22%5D+%5B%22half%22%5D+%5B%22naked%22%5D+%5B%22outside%22%5D+%5B%22and%22%5D+%5B%22was%22%5D+%5B%22February%22%5D+%5B%5D+%5B%22I%22%5D+%5B%22think%22%5D+%5B%5D+%5B%22the%22%5D+%5B%22beginning%22%5D+%5B%22of%22%5D+%5B%22March%22%5D+%5B%22cold%22%5D+%5B%5D+%5B%22Terribly%22%5D+%5B%5D+%5B%22And%22%5D+%5B%22a%22%5D+%5B%22lot%22%5D+%5B%22of%22%5D+%5B%22us%22%5D+%5B%22got%22%5D+%5B%22pneumonia%22%5D+%5B%5D&waitfortotal=true&outputformat=json&prettyprint=no&wordsaroundhit=0\n"
     ]
    },
    {
     "name": "stdout",
     "output_type": "stream",
     "text": [
      "{'left': '', 'match_word': 'Everybody was half naked outside and was February , I think – the beginning of March cold . Terribly . And a lot of us got pneumonia . ', 'right': '', 'complete_match': 'Everybody was half naked outside and was February , I think – the beginning of March cold . Terribly . And a lot of us got pneumonia . ', 'testimony_id': 'irn504582', 'shelfmark': ['USHMM RG-50.030*0087'], 'token_start': 6437, 'token_end': 6465}\n",
      "http://localhost:8080/blacklab-server-2.1.0/lts/hits?patt=%5B%22we%22%5D+%5B%22found%22%5D+%5B%22once%22%5D+%5B%22in%22%5D+%5B%22a%22%5D+%5B%22while%22%5D+%5B%22in%22%5D+%5B%22the%22%5D+%5B%22forest%22%5D+%5B%22in%22%5D+%5B%22the%22%5D+%5B%22little%22%5D+%5B%22streams%22%5D+%5B%5D+%5B%22We%22%5D+%5B%22found%22%5D+%5B%5D%7B0%2C50%7D+%5B%22it%22%5D+%5B%22was%22%5D+%5B%22cold%22%5D+%5B%5D+%5B%22We%22%5D+%5B%22were%22%5D+%5B%22almost%22%5D+%5B%22naked%22%5D+%5B%5D+%5B%22No%22%5D+%5B%22clothes%22%5D+%5B%5D&waitfortotal=true&outputformat=json&prettyprint=no&wordsaroundhit=0\n",
      "{'left': '', 'match_word': 'we found once in a while in the forest in the little streams . We found ... it was cold . We were almost naked . No clothes . ', 'right': '', 'complete_match': 'we found once in a while in the forest in the little streams . We found ... it was cold . We were almost naked . No clothes . ', 'testimony_id': 'irn504690', 'shelfmark': ['USHMM RG-50.030*0195'], 'token_start': 4631, 'token_end': 4660}\n",
      "http://localhost:8080/blacklab-server-2.1.0/lts/hits?patt=%5B%22And%22%5D+%5B%22for%22%5D+%5B%22four%22%5D+%5B%22days%22%5D+%5B%22and%22%5D+%5B%22four%22%5D+%5B%22nights%22%5D+%5B%5D+%5B%22we%22%5D+%5B%22were%22%5D+%5B%22kept%22%5D+%5B%22naked%22%5D+%5B%5D&waitfortotal=true&outputformat=json&prettyprint=no&wordsaroundhit=0\n",
      "{'left': '', 'match_word': 'And for four days and four nights , we were kept naked . ', 'right': '', 'complete_match': 'And for four days and four nights , we were kept naked . ', 'testimony_id': 'usc_shoah_3022', 'shelfmark': ['USC Shoah Foundation 3022'], 'token_start': 17484, 'token_end': 17497}\n",
      "http://localhost:8080/blacklab-server-2.1.0/lts/hits?patt=%5B%22I%22%5D+%5B%22was%22%5D+%5B%22there%22%5D+%5B%22day%22%5D+%5B%22and%22%5D+%5B%22night%22%5D+%5B%5D+%5B%22I%22%5D+%5B%22did%22%5D+%5B%5D+%5B%22have%22%5D+%5B%22anything%22%5D+%5B%22to%22%5D+%5B%22wear%22%5D&waitfortotal=true&outputformat=json&prettyprint=no&wordsaroundhit=0\n",
      "{'left': '', 'match_word': \"I was there day and night . I did n't have anything to wear \", 'right': '', 'complete_match': \"I was there day and night . I did n't have anything to wear \", 'testimony_id': 'usc_shoah_7415', 'shelfmark': ['USC Shoah Foundation 7415'], 'token_start': 10322, 'token_end': 10336}\n",
      "http://localhost:8080/blacklab-server-2.1.0/lts/hits?patt=%5B%22we%22%5D+%5B%22had%22%5D+%5B%22to%22%5D+%5B%22take%22%5D+%5B%22off%22%5D+%5B%22every%22%5D+%5B%22cloth%22%5D+%5B%22again%22%5D+%5B%5D+%5B%22We%22%5D+%5B%22were%22%5D+%5B%22naked%22%5D+%5B%22on%22%5D+%5B%22the%22%5D+%5B%5D%7B0%2C3%7D+%5B%22all%22%5D+%5B%22day%22%5D+%5B%22in%22%5D+%5B%22the%22%5D+%5B%22yard%22%5D+%5B%5D+%5B%22at%22%5D+%5B%22night%22%5D&waitfortotal=true&outputformat=json&prettyprint=no&wordsaroundhit=0\n",
      "{'left': '', 'match_word': 'we had to take off every cloth again . We were naked on the -- all day in the yard , at night ', 'right': '', 'complete_match': 'we had to take off every cloth again . We were naked on the -- all day in the yard , at night ', 'testimony_id': 'usc_shoah_2097', 'shelfmark': ['USC Shoah Foundation 2097'], 'token_start': 13585, 'token_end': 13608}\n",
      "http://localhost:8080/blacklab-server-2.1.0/lts/hits?patt=%5B%22we%22%5D+%5B%22walked%22%5D+%5B%22around%22%5D+%5B%22naked%22%5D+%5B%5D+%5B%22day%22%5D+%5B%22and%22%5D+%5B%22night%22%5D+%5B%5D%7B0%2C3%7D+%5B%22just%22%5D+%5B%22again%22%5D+%5B%5D+%5B%22four%22%5D+%5B%22days%22%5D+%5B%22and%22%5D+%5B%22four%22%5D+%5B%22nights%22%5D+%5B%5D&waitfortotal=true&outputformat=json&prettyprint=no&wordsaroundhit=0\n",
      "{'left': '', 'match_word': 'we walked around naked , day and night -- just again , four days and four nights . ', 'right': '', 'complete_match': 'we walked around naked , day and night -- just again , four days and four nights . ', 'testimony_id': 'HVT-61', 'shelfmark': ['Fortunoff Archive HVT-61'], 'token_start': 5917, 'token_end': 5935}\n",
      "http://localhost:8080/blacklab-server-2.1.0/lts/hits?patt=%5B%22And%22%5D+%5B%22there%22%5D+%5B%22we%22%5D+%5B%22had%22%5D+%5B%22to%22%5D+%5B%22take%22%5D+%5B%22our%22%5D+%5B%22clothes%22%5D+%5B%22off%22%5D+%5B%22and%22%5D+%5B%22remain%22%5D+%5B%22there%22%5D+%5B%22the%22%5D+%5B%22whole%22%5D+%5B%22night%22%5D+%5B%22without%22%5D+%5B%22any%22%5D+%5B%22clothing%22%5D&waitfortotal=true&outputformat=json&prettyprint=no&wordsaroundhit=0\n",
      "{'left': '', 'match_word': 'And there we had to take our clothes off and remain there the whole night without any clothing ', 'right': '', 'complete_match': 'And there we had to take our clothes off and remain there the whole night without any clothing ', 'testimony_id': 'usc_shoah_1183', 'shelfmark': ['USC Shoah Foundation 1183'], 'token_start': 9304, 'token_end': 9322}\n",
      "http://localhost:8080/blacklab-server-2.1.0/lts/hits?patt=%5B%22And%22%5D+%5B%22we%22%5D+%5B%22were%22%5D+%5B%22hundred%22%5D+%5B%5D+%5B%22per%22%5D+%5B%22hundred%22%5D+%5B%5D+%5B%22They%22%5D+%5B%22took%22%5D+%5B%22us%22%5D+%5B%22all%22%5D+%5B%22naked%22%5D+%5B%22strip%22%5D+%5B%5D+%5B%22marching%22%5D+%5B%22down%22%5D+%5B%22the%22%5D+%5B%22road%22%5D+%5B%22to%22%5D+%5B%22the%22%5D+%5B%22river%22%5D&waitfortotal=true&outputformat=json&prettyprint=no&wordsaroundhit=0\n",
      "{'left': '', 'match_word': 'And we were hundred , per hundred . They took us all naked strip , marching down the road to the river ', 'right': '', 'complete_match': 'And we were hundred , per hundred . They took us all naked strip , marching down the road to the river ', 'testimony_id': 'HVT-4', 'shelfmark': ['Fortunoff Archive HVT-4'], 'token_start': 20575, 'token_end': 20597}\n",
      "http://localhost:8080/blacklab-server-2.1.0/lts/hits?patt=%5B%22I%22%5D+%5B%22was%22%5D+%5B%22very%22%5D+%5B%22miserable%22%5D+%5B%5D+%5B%22uncomfortable%22%5D+%5B%22and%22%5D+%5B%22uh%22%5D+%5B%22half%22%5D+%5B%22naked%22%5D+%5B%22and%22%5D+%5B%22uh%22%5D+%5B%22going%22%5D+%5B%22into%22%5D+%5B%22uh%22%5D+%5B%22marched%22%5D&waitfortotal=true&outputformat=json&prettyprint=no&wordsaroundhit=0\n",
      "{'left': '', 'match_word': 'I was very miserable , uncomfortable and uh half naked and uh going into uh marched ', 'right': '', 'complete_match': 'I was very miserable , uncomfortable and uh half naked and uh going into uh marched ', 'testimony_id': 'irn511027', 'shelfmark': ['USHMM RG-50.471*0010'], 'token_start': 6927, 'token_end': 6943}\n",
      "http://localhost:8080/blacklab-server-2.1.0/lts/hits?patt=%5B%22So%22%5D+%5B%22it%22%5D+%5B%22was%22%5D+%5B%2212%22%5D+%5B%22kilometer%22%5D+%5B%5D+%5B%22again%22%5D+%5B%22to%22%5D+%5B%22march%22%5D+%5B%5D+%5B%22I%22%5D+%5B%22was%22%5D+%5B%22practically%22%5D+%5B%22still%22%5D+%5B%22naked%22%5D+%5B%5D&waitfortotal=true&outputformat=json&prettyprint=no&wordsaroundhit=0\n",
      "{'left': '', 'match_word': 'So it was 12 kilometer , again to march . I was practically still naked . ', 'right': '', 'complete_match': 'So it was 12 kilometer , again to march . I was practically still naked . ', 'testimony_id': 'usc_shoah_523', 'shelfmark': ['USC Shoah Foundation 523'], 'token_start': 11933, 'token_end': 11949}\n",
      "http://localhost:8080/blacklab-server-2.1.0/lts/hits?patt=%5B%22As%22%5D+%5B%22we%22%5D+%5B%22were%22%5D+%5B%22marching%22%5D+%5B%22down%22%5D+%5B%22in%22%5D+%5B%22Hamburg%22%5D+%5B%5D+%5B%22we%22%5D+%5B%22encountered%22%5D+%5B%22a%22%5D+%5B%22group%22%5D+%5B%22of%22%5D+%5B%22French%22%5D+%5B%22prisoners%22%5D+%5B%22who%22%5D+%5B%22were%22%5D+%5B%22their%22%5D+%5B%22prisoners%22%5D+%5B%22of%22%5D+%5B%22war%22%5D+%5B%5D+%5B%22But%22%5D+%5B%22they%22%5D+%5B%22were%22%5D+%5B%22still%22%5D+%5B%22getting%22%5D+%5B%22packages%22%5D+%5B%22through%22%5D+%5B%22the%22%5D+%5B%22Red%22%5D+%5B%22Cross%22%5D+%5B%5D+%5B%22But%22%5D+%5B%22when%22%5D+%5B%22they%22%5D+%5B%22saw%22%5D+%5B%22us%22%5D+%5B%22half%22%5D+%5B%22naked%22%5D+%5B%5D+%5B%22starved%22%5D+%5B%5D+%5B%22women%22%5D+%5B%5D+%5B%22they%22%5D+%5B%22started%22%5D+%5B%22to%22%5D+%5B%22take%22%5D+%5B%22off%22%5D+%5B%22their%22%5D+%5B%22jackets%22%5D&waitfortotal=true&outputformat=json&prettyprint=no&wordsaroundhit=0\n"
     ]
    },
    {
     "name": "stdout",
     "output_type": "stream",
     "text": [
      "{'left': '', 'match_word': 'As we were marching down in Hamburg , we encountered a group of French prisoners who were their prisoners of war . But they were still getting packages through the Red Cross . But when they saw us half naked , starved , women , they started to take off their jackets ', 'right': '', 'complete_match': 'As we were marching down in Hamburg , we encountered a group of French prisoners who were their prisoners of war . But they were still getting packages through the Red Cross . But when they saw us half naked , starved , women , they started to take off their jackets ', 'testimony_id': 'HVT-34', 'shelfmark': ['Fortunoff Archive HVT-34'], 'token_start': 11331, 'token_end': 11383}\n",
      "http://localhost:8080/blacklab-server-2.1.0/lts/hits?patt=%5B%22We%22%5D+%5B%22had%22%5D+%5B%22to%22%5D+%5B%22undress%22%5D+%5B%22and%22%5D+%5B%22march%22%5D+%5B%22naked%22%5D&waitfortotal=true&outputformat=json&prettyprint=no&wordsaroundhit=0\n",
      "{'left': '', 'match_word': 'We had to undress and march naked ', 'right': '', 'complete_match': 'We had to undress and march naked ', 'testimony_id': 'usc_shoah_22734', 'shelfmark': ['USC Shoah Foundation 22734'], 'token_start': 22489, 'token_end': 22496}\n",
      "http://localhost:8080/blacklab-server-2.1.0/lts/hits?patt=%5B%22in%22%5D+%5B%22the%22%5D+%5B%22gas%22%5D+%5B%22chambers%22%5D+%5B%5D+%5B%22All%22%5D+%5B%22these%22%5D+%5B%22people%22%5D+%5B%22were%22%5D+%5B%22all%22%5D+%5B%22naked%22%5D+%5B%22without%22%5D+%5B%22any%22%5D+%5B%22clothing%22%5D+%5B%5D&waitfortotal=true&outputformat=json&prettyprint=no&wordsaroundhit=0\n",
      "{'left': '', 'match_word': 'in the gas chambers . All these people were all naked without any clothing . ', 'right': '', 'complete_match': 'in the gas chambers . All these people were all naked without any clothing . ', 'testimony_id': 'irn504538', 'shelfmark': ['USHMM RG-50.030*0033'], 'token_start': 14243, 'token_end': 14258}\n",
      "http://localhost:8080/blacklab-server-2.1.0/lts/hits?patt=%5B%22to%22%5D+%5B%22take%22%5D+%5B%22them%22%5D+%5B%22down%22%5D+%5B%22to%22%5D+%5B%22undress%22%5D+%5B%22and%22%5D+%5B%22to%22%5D+%5B%22gas%22%5D+%5B%22them%22%5D+%5B%22and%22%5D+%5B%22then%22%5D+%5B%22later%22%5D+%5B%22to%22%5D+%5B%22cremate%22%5D+%5B%22them%22%5D&waitfortotal=true&outputformat=json&prettyprint=no&wordsaroundhit=0\n",
      "{'left': '', 'match_word': 'to take them down to undress and to gas them and then later to cremate them ', 'right': '', 'complete_match': 'to take them down to undress and to gas them and then later to cremate them ', 'testimony_id': 'irn509201', 'shelfmark': ['USHMM RG-50.233*0119'], 'token_start': 11585, 'token_end': 11601}\n",
      "http://localhost:8080/blacklab-server-2.1.0/lts/hits?patt=%5B%22before%22%5D+%5B%22the%22%5D+%5B%22gas%22%5D+%5B%22chamber%22%5D+%5B%22was%22%5D+%5B%22a%22%5D+%5B%22barrack%22%5D+%5B%22where%22%5D+%5B%22they%22%5D+%5B%22left%22%5D+%5B%22their%22%5D+%5B%22luggage%22%5D+%5B%22and%22%5D+%5B%22they%22%5D+%5B%22had%22%5D+%5B%22to%22%5D+%5B%22undress%22%5D&waitfortotal=true&outputformat=json&prettyprint=no&wordsaroundhit=0\n",
      "{'left': '', 'match_word': 'before the gas chamber was a barrack where they left their luggage and they had to undress ', 'right': '', 'complete_match': 'before the gas chamber was a barrack where they left their luggage and they had to undress ', 'testimony_id': 'irn504562', 'shelfmark': ['USHMM RG-50.030*0066'], 'token_start': 6831, 'token_end': 6848}\n",
      "http://localhost:8080/blacklab-server-2.1.0/lts/hits?patt=%5B%22Two%22%5D+%5B%22barraccks%22%5D+%5B%22where%22%5D+%5B%22the%22%5D+%5B%22people%22%5D+%5B%22took%22%5D+%5B%22off%22%5D+%5B%22their%22%5D+%5B%22belongings%22%5D+%5B%22and%22%5D+%5B%22then%22%5D+%5B%22they%22%5D+%5B%22were%22%5D+%5B%22pulled%22%5D+%5B%22to%22%5D+%5B%22these%22%5D+%5B%22gas%22%5D+%5B%22chambers%22%5D+%5B%22naked%22%5D&waitfortotal=true&outputformat=json&prettyprint=no&wordsaroundhit=0\n",
      "{'left': '', 'match_word': 'Two barraccks where the people took off their belongings and then they were pulled to these gas chambers naked ', 'right': '', 'complete_match': 'Two barraccks where the people took off their belongings and then they were pulled to these gas chambers naked ', 'testimony_id': 'irn504613', 'shelfmark': ['USHMM RG-50.030*0119'], 'token_start': 11517, 'token_end': 11536}\n",
      "http://localhost:8080/blacklab-server-2.1.0/lts/hits?patt=%5B%22This%22%5D+%5B%22was%22%5D+%5B%22typical%22%5D+%5B%5D%7B0%2C50%7D+%5B%22this%22%5D+%5B%22the%22%5D+%5B%22thing%22%5D+%5B%5D%7B0%2C50%7D+%5B%22undress%22%5D+%5B%5D%7B0%2C50%7D+%5B%22go%22%5D+%5B%22in%22%5D+%5B%22naked%22%5D+%5B%5D&waitfortotal=true&outputformat=json&prettyprint=no&wordsaroundhit=0\n",
      "{'left': '', 'match_word': 'This was typical ... this the thing ... undress ... go in naked . ', 'right': '', 'complete_match': 'This was typical ... this the thing ... undress ... go in naked . ', 'testimony_id': 'irn504694', 'shelfmark': ['USHMM RG-50.030*0200'], 'token_start': 9317, 'token_end': 9331}\n",
      "http://localhost:8080/blacklab-server-2.1.0/lts/hits?patt=%5B%22But%22%5D+%5B%5D+%5B%22and%22%5D+%5B%22they%22%5D+%5B%22laughed%22%5D+%5B%22and%22%5D+%5B%22laughed%22%5D+%5B%22that%22%5D+%5B%22they%22%5D+%5B%22left%22%5D+%5B%22them%22%5D+%5B%22alive%22%5D+%5B%22but%22%5D+%5B%22completely%22%5D+%5B%22naked%22%5D+%5B%22and%22%5D+%5B%22took%22%5D+%5B%22away%22%5D+%5B%22their%22%5D+%5B%22clothes%22%5D+%5B%5D&waitfortotal=true&outputformat=json&prettyprint=no&wordsaroundhit=0\n",
      "The following query returned a null result\n",
      "[\"But\"] [] [\"and\"] [\"they\"] [\"laughed\"] [\"and\"] [\"laughed\"] [\"that\"] [\"they\"] [\"left\"] [\"them\"] [\"alive\"] [\"but\"] [\"completely\"] [\"naked\"] [\"and\"] [\"took\"] [\"away\"] [\"their\"] [\"clothes\"] []\n",
      "not found\n",
      "main_leaf                                                       nakedness\n",
      "mid_leaf                                                            laugh\n",
      "label                   But, and they laughed and laughed that they le...\n",
      "testimony_id                                                    irn508479\n",
      "media_offset                                                            0\n",
      "media_index                                                             0\n",
      "original_sentences      But, and they laughed and laughed that they le...\n",
      "end_sentence_index                                 laughed that they left\n",
      "start_sentence_index                                                  NaN\n",
      "Name: 39, dtype: object\n",
      "http://localhost:8080/blacklab-server-2.1.0/lts/hits?patt=%5B%22And%22%5D+%5B%22there%22%5D+%5B%22we%22%5D+%5B%22were%22%5D+%5B%22standing%22%5D+%5B%5D+%5B%22five%22%5D+%5B%22of%22%5D+%5B%22us%22%5D+%5B%5D+%5B%22nude%22%5D+%5B%22on%22%5D+%5B%22the%22%5D+%5B%22middle%22%5D+%5B%22of%22%5D+%5B%22that%22%5D+%5B%22place%22%5D+%5B%5D+%5B%22And%22%5D+%5B%22he%22%5D+%5B%22laughing%22%5D+%5B%5D&waitfortotal=true&outputformat=json&prettyprint=no&wordsaroundhit=0\n",
      "{'left': '', 'match_word': 'And there we were standing , five of us , nude on the middle of that place . And he laughing . ', 'right': '', 'complete_match': 'And there we were standing , five of us , nude on the middle of that place . And he laughing . ', 'testimony_id': 'usc_shoah_27687', 'shelfmark': ['USC Shoah Foundation 27687'], 'token_start': 14839, 'token_end': 14861}\n",
      "http://localhost:8080/blacklab-server-2.1.0/lts/hits?patt=%5B%22the%22%5D+%5B%22Germans%22%5D+%5B%22looking%22%5D+%5B%22on%22%5D+%5B%22while%22%5D+%5B%22we%22%5D+%5B%22undressed%22%5D+%5B%5D+%5B%22laughing%22%5D+%5B%5D+%5B%22smiling%22%5D+%5B%22benevolently%22%5D+%5B%5D+%5B%22not%22%5D+%5B%22brutally%22%5D+%5B%5D&waitfortotal=true&outputformat=json&prettyprint=no&wordsaroundhit=0\n",
      "{'left': '', 'match_word': 'the Germans looking on while we undressed , laughing , smiling benevolently , not brutally . ', 'right': '', 'complete_match': 'the Germans looking on while we undressed , laughing , smiling benevolently , not brutally . ', 'testimony_id': 'HVT-98', 'shelfmark': ['Fortunoff Archive HVT-98'], 'token_start': 17093, 'token_end': 17109}\n",
      "http://localhost:8080/blacklab-server-2.1.0/lts/hits?patt=%5B%22They%22%5D+%5B%22was%22%5D+%5B%22standing%22%5D+%5B%22there%22%5D+%5B%22talking%22%5D+%5B%22to%22%5D+%5B%22one%22%5D+%5B%22another%22%5D+%5B%5D+%5B%22laughing%22%5D+%5B%22their%22%5D+%5B%22head%22%5D+%5B%22off%22%5D+%5B%22that%22%5D+%5B%22we%22%5D+%5B%22were%22%5D+%5B%22all%22%5D+%5B%22standing%22%5D+%5B%22there%22%5D+%5B%22in%22%5D+%5B%5D+%5B%22with%22%5D+%5B%22nothing%22%5D+%5B%22on%22%5D+%5B%22helplessly%22%5D+%5B%5D&waitfortotal=true&outputformat=json&prettyprint=no&wordsaroundhit=0\n"
     ]
    },
    {
     "name": "stdout",
     "output_type": "stream",
     "text": [
      "{'left': '', 'match_word': 'They was standing there talking to one another , laughing their head off that we were all standing there in – with nothing on helplessly . ', 'right': '', 'complete_match': 'They was standing there talking to one another , laughing their head off that we were all standing there in – with nothing on helplessly . ', 'testimony_id': 'irn504539', 'shelfmark': ['USHMM RG-50.030*0035'], 'token_start': 7412, 'token_end': 7438}\n",
      "http://localhost:8080/blacklab-server-2.1.0/lts/hits?patt=%5B%22We%22%5D+%5B%22were%22%5D+%5B%22told%22%5D+%5B%22to%22%5D+%5B%22get%22%5D+%5B%22completely%22%5D+%5B%22undressed%22%5D+%5B%22naked%22%5D+%5B%5D+%5B%22the%22%5D+%5B%22guards%22%5D+%5B%22standing%22%5D+%5B%22around%22%5D+%5B%22and%22%5D+%5B%22around%22%5D+%5B%5D+%5B%22You%22%5D+%5B%22know%22%5D+%5B%22when%22%5D+%5B%22I%22%5D+%5B%22think%22%5D+%5B%22of%22%5D+%5B%22that%22%5D+%5B%22moment%22%5D+%5B%22I%22%5D+%5B%22still%22%5D+%5B%22remember%22%5D+%5B%22how%22%5D+%5B%22I%22%5D+%5B%22did%22%5D+%5B%22not%22%5D+%5B%22know%22%5D+%5B%22which%22%5D+%5B%22part%22%5D+%5B%22to%22%5D+%5B%22hide%22%5D+%5B%5D+%5B%22Should%22%5D+%5B%22I%22%5D+%5B%22cover%22%5D+%5B%22the%22%5D+%5B%22top%22%5D+%5B%5D+%5B%22should%22%5D+%5B%22I%22%5D+%5B%22cover%22%5D+%5B%22the%22%5D+%5B%22bottom%22%5D+%5B%5D+%5B%5D%7B0%2C3%7D+%5B%22unclear%22%5D+%5B%22word%22%5D+%5B%5D%7B0%2C3%7D+%5B%22bending%22%5D+%5B%22over%22%5D+%5B%22and%22%5D+%5B%22they%22%5D+%5B%22laughing%22%5D+%5B%22and%22%5D+%5B%22singing%22%5D+%5B%22songs%22%5D+%5B%22and%22%5D+%5B%22making%22%5D+%5B%22fun%22%5D+%5B%22of%22%5D+%5B%22us%22%5D&waitfortotal=true&outputformat=json&prettyprint=no&wordsaroundhit=0\n",
      "{'left': '', 'match_word': 'We were told to get completely undressed naked , the guards standing around and around . You know when I think of that moment I still remember how I did not know which part to hide . Should I cover the top , should I cover the bottom . ( unclear word ) bending over and they laughing and singing songs and making fun of us ', 'right': '', 'complete_match': 'We were told to get completely undressed naked , the guards standing around and around . You know when I think of that moment I still remember how I did not know which part to hide . Should I cover the top , should I cover the bottom . ( unclear word ) bending over and they laughing and singing songs and making fun of us ', 'testimony_id': 'irn504575', 'shelfmark': ['USHMM RG-50.030*0080'], 'token_start': 8767, 'token_end': 8833}\n",
      "http://localhost:8080/blacklab-server-2.1.0/lts/hits?patt=%5B%22But%22%5D+%5B%22nothing%22%5D+%5B%22was%22%5D+%5B%22kept%22%5D+%5B%5D+%5B%22what%22%5D+%5B%22we%22%5D+%5B%22had%22%5D+%5B%5D+%5B%22everything%22%5D+%5B%22was%22%5D+%5B%22taken%22%5D+%5B%22away%22%5D+%5B%5D+%5B%22Because%22%5D+%5B%22for%22%5D+%5B%22three%22%5D+%5B%22days%22%5D+%5B%22in%22%5D+%5B%22Auschwitz%22%5D+%5B%5D+%5B%22we%22%5D+%5B%22were%22%5D+%5B%22naked%22%5D+%5B%5D&waitfortotal=true&outputformat=json&prettyprint=no&wordsaroundhit=0\n",
      "{'left': '', 'match_word': 'But nothing was kept , what we had , everything was taken away . Because for three days in Auschwitz , we were naked . ', 'right': '', 'complete_match': 'But nothing was kept , what we had , everything was taken away . Because for three days in Auschwitz , we were naked . ', 'testimony_id': 'HVT-136', 'shelfmark': ['Fortunoff Archive HVT-136'], 'token_start': 6115, 'token_end': 6140}\n",
      "http://localhost:8080/blacklab-server-2.1.0/lts/hits?patt=%5B%22And%22%5D+%5B%22then%22%5D+%5B%22checked%22%5D+%5B%22the%22%5D+%5B%22ears%22%5D+%5B%22or%22%5D+%5B%22rings%22%5D+%5B%22or%22%5D+%5B%22everything%22%5D+%5B%5D+%5B%22And%22%5D+%5B%22they%22%5D+%5B%22pulled%22%5D+%5B%22out%22%5D+%5B%22a%22%5D+%5B%22tooth%22%5D+%5B%5D+%5B%22they%22%5D+%5B%22ripped%22%5D+%5B%22off%22%5D+%5B%22the%22%5D+%5B%22earrings%22%5D+%5B%22if%22%5D+%5B%22they%22%5D+%5B%22did%22%5D+%5B%5D+%5B%22come%22%5D+%5B%22out%22%5D+%5B%22easy%22%5D+%5B%5D&waitfortotal=true&outputformat=json&prettyprint=no&wordsaroundhit=0\n",
      "{'left': '', 'match_word': \"And then checked the ears or rings or everything . And they pulled out a tooth , they ripped off the earrings if they did n't come out easy . \", 'right': '', 'complete_match': \"And then checked the ears or rings or everything . And they pulled out a tooth , they ripped off the earrings if they did n't come out easy . \", 'testimony_id': 'HVT-163', 'shelfmark': ['Fortunoff Archive HVT-163'], 'token_start': 12795, 'token_end': 12825}\n",
      "http://localhost:8080/blacklab-server-2.1.0/lts/hits?patt=%5B%22no%22%5D+%5B%22way%22%5D+%5B%22anybody%22%5D+%5B%22is%22%5D+%5B%22going%22%5D+%5B%22to%22%5D+%5B%22take%22%5D+%5B%22away%22%5D+%5B%22my%22%5D+%5B%22comb%22%5D+%5B%5D+%5B%22But%22%5D+%5B%22what%22%5D+%5B%22do%22%5D+%5B%22I%22%5D+%5B%22do%22%5D+%5B%5D+%5B%22They%22%5D+%5B%22searched%22%5D+%5B%22us%22%5D+%5B%5D+%5B%22they%22%5D+%5B%5D+%5B%22we%22%5D+%5B%5D+%5B%22they%22%5D+%5B%22stripped%22%5D+%5B%22us%22%5D&waitfortotal=true&outputformat=json&prettyprint=no&wordsaroundhit=0\n",
      "{'left': '', 'match_word': 'no way anybody is going to take away my comb . But what do I do ? They searched us , they – we – they stripped us ', 'right': '', 'complete_match': 'no way anybody is going to take away my comb . But what do I do ? They searched us , they – we – they stripped us ', 'testimony_id': 'irn42014', 'shelfmark': ['USHMM RG-50.030*0584'], 'token_start': 15451, 'token_end': 15479}\n",
      "http://localhost:8080/blacklab-server-2.1.0/lts/hits?patt=%5B%22And%22%5D+%5B%22all%22%5D+%5B%22the%22%5D+%5B%22valuables%22%5D+%5B%22that%22%5D+%5B%22we%22%5D+%5B%22were%22%5D+%5B%22told%22%5D+%5B%22to%22%5D+%5B%22bring%22%5D+%5B%22with%22%5D+%5B%22us%22%5D+%5B%22are%22%5D+%5B%22taken%22%5D+%5B%22off%22%5D+%5B%22you%22%5D+%5B%5D+%5B%22So%22%5D+%5B%22it%22%5D+%5B%5D+%5B%5D+%5B%22it%22%5D+%5B%5D+%5B%22robbery%22%5D&waitfortotal=true&outputformat=json&prettyprint=no&wordsaroundhit=0\n",
      "{'left': '', 'match_word': \"And all the valuables that we were told to bring with us are taken off you . So it 's , it 's robbery \", 'right': '', 'complete_match': \"And all the valuables that we were told to bring with us are taken off you . So it 's , it 's robbery \", 'testimony_id': 'usc_shoah_25651', 'shelfmark': ['USC Shoah Foundation 25651'], 'token_start': 14973, 'token_end': 14997}\n",
      "http://localhost:8080/blacklab-server-2.1.0/lts/hits?patt=%5B%22We%22%5D+%5B%22took%22%5D+%5B%22out%22%5D+%5B%22everything%22%5D+%5B%5D+%5B%22They%22%5D+%5B%22took%22%5D+%5B%22away%22%5D+%5B%22everything%22%5D+%5B%22from%22%5D+%5B%22there%22%5D+%5B%5D+%5B%22So%22%5D+%5B%22we%22%5D+%5B%22were%22%5D+%5B%22all%22%5D+%5B%22naked%22%5D+%5B%22there%22%5D+%5B%5D&waitfortotal=true&outputformat=json&prettyprint=no&wordsaroundhit=0\n",
      "{'left': '', 'match_word': 'We took out everything . They took away everything from there . So we were all naked there . ', 'right': '', 'complete_match': 'We took out everything . They took away everything from there . So we were all naked there . ', 'testimony_id': 'usc_shoah_27767', 'shelfmark': ['USC Shoah Foundation 27767'], 'token_start': 16171, 'token_end': 16190}\n",
      "http://localhost:8080/blacklab-server-2.1.0/lts/hits?patt=%5B%22I%22%5D+%5B%22was%22%5D+%5B%22burning%22%5D+%5B%22up%22%5D+%5B%22and%22%5D+%5B%22shaking%22%5D+%5B%22like%22%5D+%5B%22crazy%22%5D+%5B%22from%22%5D+%5B%22that%22%5D+%5B%22cold%22%5D+%5B%5D+%5B%22from%22%5D+%5B%22that%22%5D+%5B%22wet%22%5D+%5B%5D+%5B%22cold%22%5D+%5B%22air%22%5D+%5B%5D&waitfortotal=true&outputformat=json&prettyprint=no&wordsaroundhit=0\n",
      "{'left': '', 'match_word': 'I was burning up and shaking like crazy from that cold , from that wet , cold air . ', 'right': '', 'complete_match': 'I was burning up and shaking like crazy from that cold , from that wet , cold air . ', 'testimony_id': 'usc_shoah_14429', 'shelfmark': ['USC Shoah Foundation 14429'], 'token_start': 12552, 'token_end': 12571}\n",
      "http://localhost:8080/blacklab-server-2.1.0/lts/hits?patt=%5B%22We%22%5D+%5B%22are%22%5D+%5B%22soaked%22%5D+%5B%22from%22%5D+%5B%22top%22%5D+%5B%22to%22%5D+%5B%22bottom%22%5D+%5B%5D+%5B%22soaked%22%5D+%5B%5D+%5B%22cold%22%5D+%5B%5D+%5B%22shivering%22%5D&waitfortotal=true&outputformat=json&prettyprint=no&wordsaroundhit=0\n",
      "{'left': '', 'match_word': 'We are soaked from top to bottom , soaked , cold , shivering ', 'right': '', 'complete_match': 'We are soaked from top to bottom , soaked , cold , shivering ', 'testimony_id': 'usc_shoah_232', 'shelfmark': ['USC Shoah Foundation 232'], 'token_start': 4589, 'token_end': 4602}\n"
     ]
    },
    {
     "name": "stdout",
     "output_type": "stream",
     "text": [
      "http://localhost:8080/blacklab-server-2.1.0/lts/hits?patt=%5B%22it%22%5D+%5B%22was%22%5D+%5B%22impossible%22%5D+%5B%22to%22%5D+%5B%22believe%22%5D+%5B%5D+%5B%22We%22%5D+%5B%22shivered%22%5D+%5B%5D+%5B%22We%22%5D+%5B%22were%22%5D+%5B%22cold%22%5D&waitfortotal=true&outputformat=json&prettyprint=no&wordsaroundhit=0\n",
      "{'left': '', 'match_word': 'it was impossible to believe . We shivered . We were cold ', 'right': '', 'complete_match': 'it was impossible to believe . We shivered . We were cold ', 'testimony_id': 'irn508685', 'shelfmark': ['USHMM RG-50.462*0061'], 'token_start': 1752, 'token_end': 1764}\n",
      "http://localhost:8080/blacklab-server-2.1.0/lts/hits?patt=%5B%22I%22%5D+%5B%22shall%22%5D+%5B%22never%22%5D+%5B%22forget%22%5D+%5B%22that%22%5D+%5B%5D+%5B%22That%22%5D+%5B%22shivering%22%5D+%5B%5D+%5B%22my%22%5D+%5B%22head%22%5D+%5B%22was%22%5D+%5B%22the%22%5D+%5B%22worse%22%5D+%5B%22in%22%5D+%5B%22the%22%5D+%5B%22cold%22%5D+%5B%5D&waitfortotal=true&outputformat=json&prettyprint=no&wordsaroundhit=0\n",
      "{'left': '', 'match_word': 'I shall never forget that . That shivering , my head was the worse in the cold . ', 'right': '', 'complete_match': 'I shall never forget that . That shivering , my head was the worse in the cold . ', 'testimony_id': 'usc_shoah_280', 'shelfmark': ['USC Shoah Foundation 280'], 'token_start': 10220, 'token_end': 10238}\n",
      "http://localhost:8080/blacklab-server-2.1.0/lts/hits?patt=%5B%22we%22%5D+%5B%22were%22%5D+%5B%22working%22%5D+%5B%22outside%22%5D+%5B%22in%22%5D+%5B%22the%22%5D+%5B%22rain%22%5D+%5B%5D+%5B%22snow%22%5D+%5B%5D+%5B%22cold%22%5D+%5B%5D+%5B%22We%22%5D+%5B%22were%22%5D+%5B%22shaking%22%5D+%5B%22and%22%5D+%5B%22shivering%22%5D+%5B%5D&waitfortotal=true&outputformat=json&prettyprint=no&wordsaroundhit=0\n",
      "{'left': '', 'match_word': 'we were working outside in the rain , snow , cold . We were shaking and shivering . ', 'right': '', 'complete_match': 'we were working outside in the rain , snow , cold . We were shaking and shivering . ', 'testimony_id': 'usc_shoah_18626', 'shelfmark': ['USC Shoah Foundation 18626'], 'token_start': 37081, 'token_end': 37099}\n",
      "http://localhost:8080/blacklab-server-2.1.0/lts/hits?patt=%5B%22We%22%5D+%5B%22begged%22%5D+%5B%22him%22%5D+%5B%5D+%5B%22So%22%5D+%5B%22we%22%5D+%5B%22turn%22%5D+%5B%22back%22%5D+%5B%22home%22%5D+%5B%5D+%5B%22My%22%5D+%5B%22brother%22%5D+%5B%22was%22%5D+%5B%22shaking%22%5D+%5B%5D&waitfortotal=true&outputformat=json&prettyprint=no&wordsaroundhit=0\n",
      "{'left': '', 'match_word': 'We begged him . So we turn back home . My brother was shaking . ', 'right': '', 'complete_match': 'We begged him . So we turn back home . My brother was shaking . ', 'testimony_id': 'HVT-34', 'shelfmark': ['Fortunoff Archive HVT-34'], 'token_start': 3838, 'token_end': 3853}\n",
      "http://localhost:8080/blacklab-server-2.1.0/lts/hits?patt=%5B%22We%22%5D+%5B%22would%22%5D+%5B%22go%22%5D+%5B%22to%22%5D+%5B%22Israel%22%5D+%5B%22or%22%5D+%5B%22to%22%5D+%5B%22America%22%5D+%5B%5D+%5B%22And%22%5D+%5B%22my%22%5D+%5B%22mother%22%5D+%5B%22kept%22%5D+%5B%22shaking%22%5D+%5B%5D+%5B%22turning%22%5D+%5B%22her%22%5D+%5B%22head%22%5D+%5B%5D+%5B%22It%22%5D+%5B%5D+%5B%22impossible%22%5D&waitfortotal=true&outputformat=json&prettyprint=no&wordsaroundhit=0\n",
      "{'left': '', 'match_word': \"We would go to Israel or to America . And my mother kept shaking , turning her head . It 's impossible \", 'right': '', 'complete_match': \"We would go to Israel or to America . And my mother kept shaking , turning her head . It 's impossible \", 'testimony_id': 'HVT-136', 'shelfmark': ['Fortunoff Archive HVT-136'], 'token_start': 9258, 'token_end': 9280}\n",
      "http://localhost:8080/blacklab-server-2.1.0/lts/hits?patt=%5B%22we%22%5D+%5B%22took%22%5D+%5B%5D%7B0%2C3%7D+%5B%22we%22%5D+%5B%22held%22%5D+%5B%22onto%22%5D+%5B%22him%22%5D+%5B%5D+%5B%22He%22%5D+%5B%22was%22%5D+%5B%22shivering%22%5D+%5B%5D+%5B%22And%22%5D+%5B%22we%22%5D+%5B%22cried%22%5D+%5B%5D+%5B%22My%22%5D+%5B%22parents%22%5D+%5B%22cried%22%5D&waitfortotal=true&outputformat=json&prettyprint=no&wordsaroundhit=0\n",
      "{'left': '', 'match_word': 'we took -- we held onto him . He was shivering . And we cried . My parents cried ', 'right': '', 'complete_match': 'we took -- we held onto him . He was shivering . And we cried . My parents cried ', 'testimony_id': 'usc_shoah_7455', 'shelfmark': ['USC Shoah Foundation 7455'], 'token_start': 8530, 'token_end': 8549}\n",
      "http://localhost:8080/blacklab-server-2.1.0/lts/hits?patt=%5B%22And%22%5D+%5B%22you%22%5D+%5B%22have%22%5D+%5B%22no%22%5D+%5B%22clothes%22%5D+%5B%5D+%5B%22And%22%5D+%5B%22you%22%5D+%5B%22shiver%22%5D+%5B%5D+%5B%22And%22%5D+%5B%22you%22%5D+%5B%22can%22%5D+%5B%22not%22%5D+%5B%22sleep%22%5D+%5B%5D&waitfortotal=true&outputformat=json&prettyprint=no&wordsaroundhit=0\n",
      "{'left': '', 'match_word': 'And you have no clothes . And you shiver . And you can not sleep . ', 'right': '', 'complete_match': 'And you have no clothes . And you shiver . And you can not sleep . ', 'testimony_id': 'usc_shoah_2758', 'shelfmark': ['USC Shoah Foundation 2758'], 'token_start': 12311, 'token_end': 12327}\n",
      "http://localhost:8080/blacklab-server-2.1.0/lts/hits?patt=%5B%22terrible%22%5D+%5B%22screaming%22%5D+%5B%5D+%5B%22all%22%5D+%5B%22sweat%22%5D+%5B%22and%22%5D+%5B%22shaking%22%5D+%5B%5D+%5B%22I%22%5D+%5B%22could%22%5D+%5B%5D+%5B%5D%7B0%2C3%7D+%5B%22I%22%5D+%5B%22could%22%5D+%5B%22never%22%5D+%5B%22go%22%5D+%5B%22back%22%5D+%5B%22to%22%5D+%5B%22sleep%22%5D&waitfortotal=true&outputformat=json&prettyprint=no&wordsaroundhit=0\n",
      "{'left': '', 'match_word': \"terrible screaming , all sweat and shaking . I could n't -- I could never go back to sleep \", 'right': '', 'complete_match': \"terrible screaming , all sweat and shaking . I could n't -- I could never go back to sleep \", 'testimony_id': 'HVT-152', 'shelfmark': ['Fortunoff Archive HVT-152'], 'token_start': 9874, 'token_end': 9893}\n",
      "http://localhost:8080/blacklab-server-2.1.0/lts/hits?patt=%5B%22He%22%5D+%5B%22would%22%5D+%5B%22have%22%5D+%5B%22terrible%22%5D+%5B%22nightmares%22%5D+%5B%22at%22%5D+%5B%22night%22%5D+%5B%22during%22%5D+%5B%22his%22%5D+%5B%22sleep%22%5D+%5B%5D+%5B%22He%22%5D+%5B%22would%22%5D+%5B%22shiver%22%5D+%5B%5D&waitfortotal=true&outputformat=json&prettyprint=no&wordsaroundhit=0\n",
      "{'left': '', 'match_word': 'He would have terrible nightmares at night during his sleep . He would shiver . ', 'right': '', 'complete_match': 'He would have terrible nightmares at night during his sleep . He would shiver . ', 'testimony_id': 'usc_shoah_18474', 'shelfmark': ['USC Shoah Foundation 18474'], 'token_start': 16068, 'token_end': 16083}\n",
      "http://localhost:8080/blacklab-server-2.1.0/lts/hits?patt=%5B%22I%22%5D+%5B%22was%22%5D+%5B%22shaking%22%5D+%5B%5D+%5B%22I%22%5D+%5B%22was%22%5D+%5B%22crying%22%5D+%5B%5D+%5B%22My%22%5D+%5B%22mother%22%5D+%5B%22was%22%5D+%5B%22crying%22%5D+%5B%5D&waitfortotal=true&outputformat=json&prettyprint=no&wordsaroundhit=0\n",
      "{'left': '', 'match_word': 'I was shaking . I was crying . My mother was crying . ', 'right': '', 'complete_match': 'I was shaking . I was crying . My mother was crying . ', 'testimony_id': 'HVT-165', 'shelfmark': ['Fortunoff Archive HVT-165'], 'token_start': 1164, 'token_end': 1177}\n",
      "http://localhost:8080/blacklab-server-2.1.0/lts/hits?patt=%5B%22I%22%5D+%5B%22was%22%5D+%5B%22a%22%5D+%5B%22frightened%22%5D+%5B%22to%22%5D+%5B%22sleep%22%5D+%5B%5D+%5B%22As%22%5D+%5B%22soon%22%5D+%5B%22as%22%5D+%5B%22I%22%5D+%5B%22dream%22%5D+%5B%22I%22%5D+%5B%22was%22%5D+%5B%22shaking%22%5D+%5B%22like%22%5D+%5B%22this%22%5D&waitfortotal=true&outputformat=json&prettyprint=no&wordsaroundhit=0\n",
      "{'left': '', 'match_word': 'I was a frightened to sleep . As soon as I dream I was shaking like this ', 'right': '', 'complete_match': 'I was a frightened to sleep . As soon as I dream I was shaking like this ', 'testimony_id': 'usc_shoah_20800', 'shelfmark': ['USC Shoah Foundation 20800'], 'token_start': 8716, 'token_end': 8733}\n",
      "http://localhost:8080/blacklab-server-2.1.0/lts/hits?patt=%5B%22Those%22%5D+%5B%22were%22%5D+%5B%22the%22%5D+%5B%22worst%22%5D+%5B%22nightmares%22%5D+%5B%5D+%5B%22There%22%5D+%5B%22I%22%5D+%5B%22was%22%5D+%5B%5D%7B0%2C3%7D+%5B%22I%22%5D+%5B%22was%22%5D+%5B%22shaking%22%5D+%5B%22for%22%5D+%5B%22the%22%5D+%5B%22longest%22%5D+%5B%22time%22%5D+%5B%22after%22%5D+%5B%22waking%22%5D+%5B%22up%22%5D+%5B%22already%22%5D&waitfortotal=true&outputformat=json&prettyprint=no&wordsaroundhit=0\n"
     ]
    },
    {
     "name": "stdout",
     "output_type": "stream",
     "text": [
      "{'left': '', 'match_word': 'Those were the worst nightmares . There I was -- I was shaking for the longest time after waking up already ', 'right': '', 'complete_match': 'Those were the worst nightmares . There I was -- I was shaking for the longest time after waking up already ', 'testimony_id': 'usc_shoah_4272', 'shelfmark': ['USC Shoah Foundation 4272'], 'token_start': 13206, 'token_end': 13227}\n",
      "http://localhost:8080/blacklab-server-2.1.0/lts/hits?patt=%5B%22I%22%5D+%5B%22screamed%22%5D+%5B%22and%22%5D+%5B%22ran%22%5D+%5B%22home%22%5D+%5B%22to%22%5D+%5B%22my%22%5D+%5B%22mother%22%5D+%5B%5D%7B0%2C3%7D+%5B%22and%22%5D+%5B%22crying%22%5D+%5B%22and%22%5D+%5B%22shaking%22%5D+%5B%5D&waitfortotal=true&outputformat=json&prettyprint=no&wordsaroundhit=0\n",
      "{'left': '', 'match_word': 'I screamed and ran home to my mother -- and crying and shaking . ', 'right': '', 'complete_match': 'I screamed and ran home to my mother -- and crying and shaking . ', 'testimony_id': 'HVT-16', 'shelfmark': ['Fortunoff Archive HVT-16'], 'token_start': 1857, 'token_end': 1871}\n",
      "http://localhost:8080/blacklab-server-2.1.0/lts/hits?patt=%5B%22I%22%5D+%5B%22got%22%5D+%5B%22a%22%5D+%5B%22kind%22%5D+%5B%22of%22%5D+%5B%22a%22%5D+%5B%22nervous%22%5D+%5B%22breakdown%22%5D+%5B%5D+%5B%22I%22%5D+%5B%22was%22%5D+%5B%22shaking%22%5D+%5B%22and%22%5D+%5B%22crying%22%5D+%5B%5D+%5B%22I%22%5D+%5B%22could%22%5D+%5B%5D+%5B%22%27%27%22%5D+%5B%22t%22%5D+%5B%22control%22%5D+%5B%22anything%22%5D+%5B%22I%22%5D+%5B%22was%22%5D+%5B%22doing%22%5D+%5B%5D&waitfortotal=true&outputformat=json&prettyprint=no&wordsaroundhit=0\n",
      "The following query returned a null result\n",
      "[\"I\"] [\"got\"] [\"a\"] [\"kind\"] [\"of\"] [\"a\"] [\"nervous\"] [\"breakdown\"] [] [\"I\"] [\"was\"] [\"shaking\"] [\"and\"] [\"crying\"] [] [\"I\"] [\"could\"] [] [\"''\"] [\"t\"] [\"control\"] [\"anything\"] [\"I\"] [\"was\"] [\"doing\"] []\n",
      "not found\n",
      "main_leaf                                                         shaking\n",
      "mid_leaf                                                              cry\n",
      "label                   I got a kind of a nervous breakdown. I was sha...\n",
      "testimony_id                                                    irn506651\n",
      "media_offset                                                            0\n",
      "media_index                                                             0\n",
      "original_sentences      I got a kind of a nervous breakdown . I was sh...\n",
      "end_sentence_index                                                    248\n",
      "start_sentence_index                                                  251\n",
      "Name: 64, dtype: object\n",
      "http://localhost:8080/blacklab-server-2.1.0/lts/hits?patt=%5B%22Their%22%5D+%5B%22trembling%22%5D+%5B%22hands%22%5D+%5B%22wave%22%5D+%5B%5D%7B0%2C3%7D+%5B%5D+%5B%22not%22%5D+%5B%22knowing%22%5D+%5B%22that%22%5D+%5B%22I%22%5D+%5B%22see%22%5D+%5B%22them%22%5D+%5B%22for%22%5D+%5B%22the%22%5D+%5B%22last%22%5D+%5B%22time%22%5D+%5B%5D&waitfortotal=true&outputformat=json&prettyprint=no&wordsaroundhit=0\n",
      "{'left': '', 'match_word': 'Their trembling hands wave good-bye , not knowing that I see them for the last time . ', 'right': '', 'complete_match': 'Their trembling hands wave good-bye , not knowing that I see them for the last time . ', 'testimony_id': 'usc_shoah_19982', 'shelfmark': ['USC Shoah Foundation 19982'], 'token_start': 15926, 'token_end': 15943}\n",
      "http://localhost:8080/blacklab-server-2.1.0/lts/hits?patt=%5B%22And%22%5D+%5B%22we%22%5D+%5B%22stayed%22%5D+%5B%22there%22%5D+%5B%5D+%5B%22and%22%5D+%5B%22everybody%22%5D+%5B%22was%22%5D+%5B%22shaking%22%5D+%5B%22like%22%5D+%5B%22mad%22%5D+%5B%5D+%5B%22We%22%5D+%5B%22did%22%5D+%5B%5D+%5B%22have%22%5D+%5B%22nothing%22%5D+%5B%22to%22%5D+%5B%22eat%22%5D&waitfortotal=true&outputformat=json&prettyprint=no&wordsaroundhit=0\n",
      "{'left': '', 'match_word': \"And we stayed there , and everybody was shaking like mad . We did n't have nothing to eat \", 'right': '', 'complete_match': \"And we stayed there , and everybody was shaking like mad . We did n't have nothing to eat \", 'testimony_id': 'usc_shoah_20800', 'shelfmark': ['USC Shoah Foundation 20800'], 'token_start': 21303, 'token_end': 21322}\n",
      "http://localhost:8080/blacklab-server-2.1.0/lts/hits?patt=%5B%22I%22%5D+%5B%22was%22%5D+%5B%22hungry%22%5D+%5B%5D+%5B%22and%22%5D+%5B%22shivering%22%5D+%5B%5D+%5B%22in%22%5D+%5B%22middle%22%5D+%5B%22of%22%5D+%5B%22the%22%5D+%5B%22night%22%5D&waitfortotal=true&outputformat=json&prettyprint=no&wordsaroundhit=0\n",
      "{'left': '', 'match_word': 'I was hungry , and shivering , in middle of the night ', 'right': '', 'complete_match': 'I was hungry , and shivering , in middle of the night ', 'testimony_id': 'irn506715', 'shelfmark': ['USHMM RG-50.549.02*0058'], 'token_start': 16581, 'token_end': 16593}\n",
      "http://localhost:8080/blacklab-server-2.1.0/lts/hits?patt=%5B%22I%22%5D+%5B%22was%22%5D+%5B%22left%22%5D+%5B%22all%22%5D+%5B%22on%22%5D+%5B%22my%22%5D+%5B%22own%22%5D+%5B%5D+%5B%22I%22%5D+%5B%22was%22%5D+%5B%22scared%22%5D+%5B%5D+%5B%22I%22%5D+%5B%22was%22%5D+%5B%22shaking%22%5D+%5B%5D+%5B%22I%22%5D+%5B%22was%22%5D+%5B%22shivering%22%5D+%5B%5D+%5B%22I%22%5D+%5B%22wanted%22%5D+%5B%22my%22%5D+%5B%22mother%22%5D+%5B%22and%22%5D+%5B%22my%22%5D+%5B%22father%22%5D&waitfortotal=true&outputformat=json&prettyprint=no&wordsaroundhit=0\n",
      "{'left': '', 'match_word': 'I was left all on my own . I was scared . I was shaking . I was shivering . I wanted my mother and my father ', 'right': '', 'complete_match': 'I was left all on my own . I was scared . I was shaking . I was shivering . I wanted my mother and my father ', 'testimony_id': 'HVT-165', 'shelfmark': ['Fortunoff Archive HVT-165'], 'token_start': 5347, 'token_end': 5374}\n",
      "http://localhost:8080/blacklab-server-2.1.0/lts/hits?patt=%5B%22I%22%5D+%5B%22could%22%5D+%5B%5D+%5B%22swallow%22%5D+%5B%22food%22%5D+%5B%5D+%5B%22I%22%5D+%5B%22was%22%5D+%5B%22shaking%22%5D+%5B%22inside%22%5D+%5B%5D&waitfortotal=true&outputformat=json&prettyprint=no&wordsaroundhit=0\n",
      "{'left': '', 'match_word': \"I could n't swallow food . I was shaking inside . \", 'right': '', 'complete_match': \"I could n't swallow food . I was shaking inside . \", 'testimony_id': 'usc_shoah_16442', 'shelfmark': ['USC Shoah Foundation 16442'], 'token_start': 10089, 'token_end': 10100}\n",
      "http://localhost:8080/blacklab-server-2.1.0/lts/hits?patt=%5B%22I%22%5D+%5B%22got%22%5D+%5B%22a%22%5D+%5B%22sort%22%5D+%5B%22of%22%5D+%5B%22nervous%22%5D+%5B%22breakdown%22%5D+%5B%5D+%5B%22And%22%5D+%5B%22I%22%5D+%5B%22started%22%5D+%5B%22shaking%22%5D+%5B%5D+%5B%22I%22%5D+%5B%22shook%22%5D+%5B%22so%22%5D+%5B%22violently%22%5D+%5B%22that%22%5D+%5B%22I%22%5D+%5B%22could%22%5D+%5B%5D+%5B%22talk%22%5D+%5B%5D&waitfortotal=true&outputformat=json&prettyprint=no&wordsaroundhit=0\n",
      "{'left': '', 'match_word': \"I got a sort of nervous breakdown . And I started shaking . I shook so violently that I could n't talk . \", 'right': '', 'complete_match': \"I got a sort of nervous breakdown . And I started shaking . I shook so violently that I could n't talk . \", 'testimony_id': 'usc_shoah_25773', 'shelfmark': ['USC Shoah Foundation 25773'], 'token_start': 18359, 'token_end': 18382}\n",
      "http://localhost:8080/blacklab-server-2.1.0/lts/hits?patt=%5B%22I%22%5D+%5B%22was%22%5D+%5B%22shaking%22%5D+%5B%22like%22%5D+%5B%22that%22%5D+%5B%5D+%5B%22I%22%5D+%5B%22really%22%5D+%5B%22could%22%5D+%5B%5D+%5B%22put%22%5D+%5B%22a%22%5D+%5B%22straight%22%5D+%5B%22step%22%5D&waitfortotal=true&outputformat=json&prettyprint=no&wordsaroundhit=0\n",
      "{'left': '', 'match_word': \"I was shaking like that . I really could n't put a straight step \", 'right': '', 'complete_match': \"I was shaking like that . I really could n't put a straight step \", 'testimony_id': 'irn504834', 'shelfmark': ['USHMM RG-50.030*0340'], 'token_start': 20106, 'token_end': 20120}\n",
      "http://localhost:8080/blacklab-server-2.1.0/lts/hits?patt=%5B%22she%22%5D+%5B%22wiped%22%5D+%5B%22her%22%5D+%5B%22hand%22%5D+%5B%22and%22%5D+%5B%22shivered%22%5D+%5B%5D+%5B%22She%22%5D+%5B%22never%22%5D+%5B%22touched%22%5D+%5B%22it%22%5D+%5B%5D+%5B%22never%22%5D+%5B%22touched%22%5D+%5B%22her%22%5D+%5B%22soup%22%5D+%5B%5D+%5B%22She%22%5D+%5B%22could%22%5D+%5B%5D+%5B%22drink%22%5D&waitfortotal=true&outputformat=json&prettyprint=no&wordsaroundhit=0\n",
      "{'left': '', 'match_word': \"she wiped her hand and shivered . She never touched it , never touched her soup . She could n't drink \", 'right': '', 'complete_match': \"she wiped her hand and shivered . She never touched it , never touched her soup . She could n't drink \", 'testimony_id': 'usc_shoah_151', 'shelfmark': ['USC Shoah Foundation 151'], 'token_start': 5417, 'token_end': 5438}\n"
     ]
    },
    {
     "name": "stdout",
     "output_type": "stream",
     "text": [
      "http://localhost:8080/blacklab-server-2.1.0/lts/hits?patt=%5B%22And%22%5D+%5B%22I%22%5D+%5B%22%27ll%22%5D+%5B%22never%22%5D+%5B%22forget%22%5D+%5B%5D%7B0%2C3%7D+%5B%22never%22%5D+%5B%22forget%22%5D+%5B%22the%22%5D+%5B%22trembling%22%5D+%5B%22sensation%22%5D+%5B%5D+%5B%22the%22%5D+%5B%22fears%22%5D+%5B%5D&waitfortotal=true&outputformat=json&prettyprint=no&wordsaroundhit=0\n",
      "{'left': '', 'match_word': \"And I 'll never forget -- never forget the trembling sensation , the fears . \", 'right': '', 'complete_match': \"And I 'll never forget -- never forget the trembling sensation , the fears . \", 'testimony_id': 'usc_shoah_17526', 'shelfmark': ['USC Shoah Foundation 17526'], 'token_start': 12464, 'token_end': 12479}\n",
      "http://localhost:8080/blacklab-server-2.1.0/lts/hits?patt=%5B%22We%22%5D+%5B%22were%22%5D+%5B%22just%22%5D+%5B%22allowed%22%5D+%5B%22fear%22%5D+%5B%5D+%5B%22fear%22%5D+%5B%22and%22%5D+%5B%22trembling%22%5D+%5B%5D&waitfortotal=true&outputformat=json&prettyprint=no&wordsaroundhit=0\n",
      "{'left': '', 'match_word': 'We were just allowed fear , fear and trembling . ', 'right': '', 'complete_match': 'We were just allowed fear , fear and trembling . ', 'testimony_id': 'irn504828', 'shelfmark': ['USHMM RG-50.030*0334'], 'token_start': 4398, 'token_end': 4408}\n",
      "http://localhost:8080/blacklab-server-2.1.0/lts/hits?patt=%5B%22my%22%5D+%5B%22father%22%5D+%5B%22told%22%5D+%5B%22me%22%5D+%5B%22not%22%5D+%5B%22to%22%5D+%5B%22fear%22%5D+%5B%22anything%22%5D+%5B%5D+%5B%22But%22%5D+%5B%22that%22%5D+%5B%22time%22%5D+%5B%22I%22%5D+%5B%22was%22%5D+%5B%22just%22%5D+%5B%22shaking%22%5D+%5B%5D&waitfortotal=true&outputformat=json&prettyprint=no&wordsaroundhit=0\n",
      "{'left': '', 'match_word': 'my father told me not to fear anything . But that time I was just shaking . ', 'right': '', 'complete_match': 'my father told me not to fear anything . But that time I was just shaking . ', 'testimony_id': 'irn508651', 'shelfmark': ['USHMM RG-50.462*0031'], 'token_start': 20057, 'token_end': 20074}\n",
      "http://localhost:8080/blacklab-server-2.1.0/lts/hits?patt=%5B%22But%22%5D+%5B%22I%22%5D+%5B%22did%22%5D+%5B%5D+%5B%22only%22%5D+%5B%22shiver%22%5D+%5B%22from%22%5D+%5B%22the%22%5D+%5B%22cold%22%5D+%5B%22but%22%5D+%5B%22from%22%5D+%5B%22the%22%5D+%5B%22fear%22%5D+%5B%22of%22%5D+%5B%22what%22%5D+%5B%22is%22%5D+%5B%22ahead%22%5D+%5B%22of%22%5D+%5B%22me%22%5D&waitfortotal=true&outputformat=json&prettyprint=no&wordsaroundhit=0\n",
      "{'left': '', 'match_word': \"But I did n't only shiver from the cold but from the fear of what is ahead of me \", 'right': '', 'complete_match': \"But I did n't only shiver from the cold but from the fear of what is ahead of me \", 'testimony_id': 'usc_shoah_20083', 'shelfmark': ['USC Shoah Foundation 20083'], 'token_start': 9548, 'token_end': 9567}\n",
      "http://localhost:8080/blacklab-server-2.1.0/lts/hits?patt=%5B%22fearing%22%5D+%5B%22a%22%5D+%5B%22uniform%22%5D+%5B%5D+%5B%22even%22%5D+%5B%22when%22%5D+%5B%22I%22%5D+%5B%22saw%22%5D+%5B%22it%22%5D+%5B%22from%22%5D+%5B%2210%22%5D+%5B%22blocks%22%5D+%5B%22away%22%5D+%5B%5D+%5B%22shaking%22%5D+%5B%22in%22%5D+%5B%22my%22%5D&waitfortotal=true&outputformat=json&prettyprint=no&wordsaroundhit=0\n",
      "{'left': '', 'match_word': 'fearing a uniform , even when I saw it from 10 blocks away , shaking in my ', 'right': '', 'complete_match': 'fearing a uniform , even when I saw it from 10 blocks away , shaking in my ', 'testimony_id': 'irn506665', 'shelfmark': ['USHMM RG-50.549.02*0013'], 'token_start': 58708, 'token_end': 58725}\n",
      "http://localhost:8080/blacklab-server-2.1.0/lts/hits?patt=%5B%22And%22%5D+%5B%22every%22%5D+%5B%22morning%22%5D+%5B%5D+%5B%22we%22%5D+%5B%22would%22%5D+%5B%22just%22%5D+%5B%22stand%22%5D+%5B%22there%22%5D+%5B%22and%22%5D+%5B%22shiver%22%5D+%5B%5D&waitfortotal=true&outputformat=json&prettyprint=no&wordsaroundhit=0\n",
      "{'left': '', 'match_word': 'And every morning , we would just stand there and shiver . ', 'right': '', 'complete_match': 'And every morning , we would just stand there and shiver . ', 'testimony_id': 'HVT-5', 'shelfmark': ['Fortunoff Archive HVT-5'], 'token_start': 10300, 'token_end': 10312}\n",
      "http://localhost:8080/blacklab-server-2.1.0/lts/hits?patt=%5B%22It%22%5D+%5B%22was%22%5D+%5B%22still%22%5D+%5B%22dark%22%5D+%5B%22outside%22%5D+%5B%5D+%5B%22And%22%5D+%5B%22we%22%5D+%5B%22have%22%5D+%5B%22to%22%5D+%5B%22stand%22%5D+%5B%5D+%5B%22shiver%22%5D+%5B%22in%22%5D+%5B%22the%22%5D+%5B%22cold%22%5D+%5B%22morning%22%5D+%5B%5D&waitfortotal=true&outputformat=json&prettyprint=no&wordsaroundhit=0\n",
      "{'left': '', 'match_word': 'It was still dark outside . And we have to stand , shiver in the cold morning . ', 'right': '', 'complete_match': 'It was still dark outside . And we have to stand , shiver in the cold morning . ', 'testimony_id': 'usc_shoah_747', 'shelfmark': ['USC Shoah Foundation 747'], 'token_start': 12260, 'token_end': 12278}\n",
      "http://localhost:8080/blacklab-server-2.1.0/lts/hits?patt=%5B%22We%22%5D+%5B%22were%22%5D+%5B%22standing%22%5D+%5B%22shivering%22%5D+%5B%22and%22%5D+%5B%22the%22%5D+%5B%22dogs%22%5D+%5B%5D%7B0%2C50%7D+%5B%22you%22%5D+%5B%22got%22%5D+%5B%22if%22%5D+%5B%22you%22%5D+%5B%22turned%22%5D+%5B%22right%22%5D+%5B%22or%22%5D+%5B%22left%22%5D+%5B%22they%22%5D+%5B%22jumped%22%5D+%5B%22you%22%5D+%5B%5D&waitfortotal=true&outputformat=json&prettyprint=no&wordsaroundhit=0\n",
      "{'left': '', 'match_word': 'We were standing shivering and the dogs ... you got if you turned right or left they jumped you . ', 'right': '', 'complete_match': 'We were standing shivering and the dogs ... you got if you turned right or left they jumped you . ', 'testimony_id': 'irn504707', 'shelfmark': ['USHMM RG-50.030*0215'], 'token_start': 9554, 'token_end': 9574}\n",
      "http://localhost:8080/blacklab-server-2.1.0/lts/hits?patt=%5B%22Blood%22%5D+%5B%22was%22%5D+%5B%22all%22%5D+%5B%22over%22%5D+%5B%5D+%5B%22And%22%5D+%5B%5D+%5B%22yeah%22%5D+%5B%5D+%5B%22after%22%5D+%5B%5D+%5B%22I%22%5D+%5B%22was%22%5D+%5B%22shaking%22%5D+%5B%5D+%5B%22I%22%5D+%5B%22could%22%5D+%5B%5D&waitfortotal=true&outputformat=json&prettyprint=no&wordsaroundhit=0\n",
      "{'left': '', 'match_word': \"Blood was all over . And , yeah , after , I was shaking . I could n't \", 'right': '', 'complete_match': \"Blood was all over . And , yeah , after , I was shaking . I could n't \", 'testimony_id': 'usc_shoah_268', 'shelfmark': ['USC Shoah Foundation 268'], 'token_start': 31202, 'token_end': 31220}\n",
      "http://localhost:8080/blacklab-server-2.1.0/lts/hits?patt=%5B%22the%22%5D+%5B%22German%22%5D+%5B%22voices%22%5D+%5B%22and%22%5D+%5B%22the%22%5D+%5B%22dogs%22%5D+%5B%5D+%5B%22particularly%22%5D+%5B%22the%22%5D+%5B%22dogs%22%5D+%5B%22and%22%5D+%5B%22until%22%5D+%5B%22maybe%22%5D+%5B%22ten%22%5D+%5B%22years%22%5D+%5B%22ago%22%5D+%5B%22I%22%5D+%5B%22had%22%5D+%5B%22to%22%5D+%5B%22run%22%5D+%5B%22if%22%5D+%5B%22I%22%5D+%5B%22saw%22%5D+%5B%22any%22%5D+%5B%22dog%22%5D+%5B%22or%22%5D+%5B%22heard%22%5D+%5B%22a%22%5D+%5B%22dog%22%5D+%5B%5D+%5B%22So%22%5D+%5B%5D+%5B%22I%22%5D+%5B%22%27ve%22%5D+%5B%22overcome%22%5D+%5B%22that%22%5D+%5B%22too%22%5D+%5B%5D+%5B%22but%22%5D+%5B%22I%22%5D+%5B%22really%22%5D+%5B%22was%22%5D+%5B%22very%22%5D+%5B%22shaken%22%5D+%5B%22by%22%5D+%5B%22a%22%5D+%5B%22dog%22%5D+%5B%5D&waitfortotal=true&outputformat=json&prettyprint=no&wordsaroundhit=0\n",
      "{'left': '', 'match_word': \"the German voices and the dogs , particularly the dogs and until maybe ten years ago I had to run if I saw any dog or heard a dog . So , I 've overcome that too , but I really was very shaken by a dog . \", 'right': '', 'complete_match': \"the German voices and the dogs , particularly the dogs and until maybe ten years ago I had to run if I saw any dog or heard a dog . So , I 've overcome that too , but I really was very shaken by a dog . \", 'testimony_id': 'irn504770', 'shelfmark': ['USHMM RG-50.030*0286'], 'token_start': 1343, 'token_end': 1391}\n",
      "http://localhost:8080/blacklab-server-2.1.0/lts/hits?patt=%5B%22And%22%5D+%5B%22shivering%22%5D+%5B%22and%22%5D+%5B%5D+%5B%22you%22%5D+%5B%22know%22%5D+%5B%5D+%5B%22the%22%5D+%5B%22screaming%22%5D+%5B%22and%22%5D+%5B%22yelling%22%5D+%5B%22of%22%5D+%5B%22the%22%5D+%5B%5D%7B0%2C3%7D+%5B%22of%22%5D+%5B%22the%22%5D+%5B%22dogs%22%5D+%5B%5D&waitfortotal=true&outputformat=json&prettyprint=no&wordsaroundhit=0\n"
     ]
    },
    {
     "name": "stdout",
     "output_type": "stream",
     "text": [
      "{'left': '', 'match_word': 'And shivering and , you know , the screaming and yelling of the -- of the dogs . ', 'right': '', 'complete_match': 'And shivering and , you know , the screaming and yelling of the -- of the dogs . ', 'testimony_id': 'usc_shoah_22979', 'shelfmark': ['USC Shoah Foundation 22979'], 'token_start': 19871, 'token_end': 19889}\n",
      "http://localhost:8080/blacklab-server-2.1.0/lts/hits?patt=%5B%22I%22%5D+%5B%22started%22%5D+%5B%22shaking%22%5D+%5B%22and%22%5D+%5B%22shivering%22%5D+%5B%22so%22%5D+%5B%22bad%22%5D+%5B%5D+%5B%22It%22%5D+%5B%22was%22%5D+%5B%22terrible%22%5D+%5B%5D+%5B%22There%22%5D+%5B%22was%22%5D+%5B%22Mengele%22%5D+%5B%22with%22%5D+%5B%22two%22%5D+%5B%22dogs%22%5D+%5B%22and%22%5D+%5B%22a%22%5D+%5B%22German%22%5D+%5B%22woman%22%5D&waitfortotal=true&outputformat=json&prettyprint=no&wordsaroundhit=0\n",
      "{'left': '', 'match_word': 'I started shaking and shivering so bad . It was terrible . There was Mengele with two dogs and a German woman ', 'right': '', 'complete_match': 'I started shaking and shivering so bad . It was terrible . There was Mengele with two dogs and a German woman ', 'testimony_id': 'HVT-165', 'shelfmark': ['Fortunoff Archive HVT-165'], 'token_start': 6737, 'token_end': 6759}\n",
      "http://localhost:8080/blacklab-server-2.1.0/lts/hits?patt=%5B%22If%22%5D+%5B%22I%22%5D+%5B%22saw%22%5D+%5B%22the%22%5D+%5B%22SS%22%5D+%5B%5D+%5B%22I%22%5D+%5B%22was%22%5D+%5B%22trembling%22%5D&waitfortotal=true&outputformat=json&prettyprint=no&wordsaroundhit=0\n",
      "{'left': '', 'match_word': 'If I saw the SS , I was trembling ', 'right': '', 'complete_match': 'If I saw the SS , I was trembling ', 'testimony_id': 'irn504936', 'shelfmark': ['USHMM RG-50.549.01*0027'], 'token_start': 1304, 'token_end': 1313}\n",
      "http://localhost:8080/blacklab-server-2.1.0/lts/hits?patt=%5B%22the%22%5D+%5B%22woman%22%5D+%5B%5D+%5B%22husband%22%5D+%5B%22was%22%5D+%5B%22shaking%22%5D+%5B%22he%22%5D+%5B%22was%22%5D+%5B%22afraid%22%5D+%5B%22to%22%5D+%5B%22go%22%5D+%5B%22down%22%5D+%5B%5D+%5B%22He%22%5D+%5B%22was%22%5D+%5B%22an%22%5D+%5B%22old%22%5D+%5B%22man%22%5D+%5B%5D&waitfortotal=true&outputformat=json&prettyprint=no&wordsaroundhit=0\n",
      "{'left': '', 'match_word': \"the woman 's husband was shaking he was afraid to go down . He was an old man . \", 'right': '', 'complete_match': \"the woman 's husband was shaking he was afraid to go down . He was an old man . \", 'testimony_id': 'irn504467', 'shelfmark': ['USHMM RG-50.030*0001'], 'token_start': 15315, 'token_end': 15334}\n",
      "http://localhost:8080/blacklab-server-2.1.0/lts/hits?patt=%5B%22fearing%22%5D+%5B%22a%22%5D+%5B%22uniform%22%5D+%5B%5D+%5B%22even%22%5D+%5B%22when%22%5D+%5B%22I%22%5D+%5B%22saw%22%5D+%5B%22it%22%5D+%5B%22from%22%5D+%5B%2210%22%5D+%5B%22blocks%22%5D+%5B%22away%22%5D+%5B%5D+%5B%22shaking%22%5D+%5B%22in%22%5D+%5B%22my%22%5D+%5B%22sh%22%5D+%5B%5D%7B0%2C3%7D+%5B%22boots%22%5D&waitfortotal=true&outputformat=json&prettyprint=no&wordsaroundhit=0\n",
      "{'left': '', 'match_word': 'fearing a uniform , even when I saw it from 10 blocks away , shaking in my sh -- boots ', 'right': '', 'complete_match': 'fearing a uniform , even when I saw it from 10 blocks away , shaking in my sh -- boots ', 'testimony_id': 'irn506665', 'shelfmark': ['USHMM RG-50.549.02*0013'], 'token_start': 58708, 'token_end': 58728}\n",
      "http://localhost:8080/blacklab-server-2.1.0/lts/hits?patt=%5B%22this%22%5D+%5B%22man%22%5D+%5B%22was%22%5D+%5B%22shaking%22%5D+%5B%22for%22%5D+%5B%22the%22%5D+%5B%22rest%22%5D+%5B%22of%22%5D+%5B%22the%22%5D+%5B%22day%22%5D+%5B%22because%22%5D+%5B%22he%22%5D+%5B%22was%22%5D+%5B%22dead%22%5D+%5B%22right%22%5D+%5B%22away%22%5D+%5B%5D+%5B%22brain%22%5D+%5B%22dead%22%5D&waitfortotal=true&outputformat=json&prettyprint=no&wordsaroundhit=0\n",
      "{'left': '', 'match_word': 'this man was shaking for the rest of the day because he was dead right away , brain dead ', 'right': '', 'complete_match': 'this man was shaking for the rest of the day because he was dead right away , brain dead ', 'testimony_id': 'usc_shoah_8786', 'shelfmark': ['USC Shoah Foundation 8786'], 'token_start': 16464, 'token_end': 16483}\n",
      "http://localhost:8080/blacklab-server-2.1.0/lts/hits?patt=%5B%22And%22%5D+%5B%22we%22%5D+%5B%22were%22%5D+%5B%22shivering%22%5D+%5B%5D+%5B%22and%22%5D+%5B%22they%22%5D+%5B%22were%22%5D+%5B%22all%22%5D+%5B%22dressed%22%5D+%5B%22up%22%5D+%5B%5D&waitfortotal=true&outputformat=json&prettyprint=no&wordsaroundhit=0\n",
      "{'left': '', 'match_word': 'And we were shivering , and they were all dressed up . ', 'right': '', 'complete_match': 'And we were shivering , and they were all dressed up . ', 'testimony_id': 'HVT-4', 'shelfmark': ['Fortunoff Archive HVT-4'], 'token_start': 21032, 'token_end': 21044}\n",
      "http://localhost:8080/blacklab-server-2.1.0/lts/hits?patt=%5B%22terrible%22%5D+%5B%22picture%22%5D+%5B%22to%22%5D+%5B%22see%22%5D+%5B%5D+%5B%22you%22%5D+%5B%22know%22%5D+%5B%5D+%5B%22a%22%5D+%5B%22person%22%5D+%5B%22who%22%5D+%5B%5D+%5B%22dead%22%5D+%5B%22that%22%5D+%5B%5D+%5B%22shaking%22%5D+%5B%22like%22%5D+%5B%22this%22%5D+%5B%5D&waitfortotal=true&outputformat=json&prettyprint=no&wordsaroundhit=0\n",
      "{'left': '', 'match_word': \"terrible picture to see , you know , a person who 's dead that 's shaking like this . \", 'right': '', 'complete_match': \"terrible picture to see , you know , a person who 's dead that 's shaking like this . \", 'testimony_id': 'usc_shoah_5559', 'shelfmark': ['USC Shoah Foundation 5559'], 'token_start': 11690, 'token_end': 11709}\n",
      "http://localhost:8080/blacklab-server-2.1.0/lts/hits?patt=%5B%22I%22%5D+%5B%22saw%22%5D+%5B%22a%22%5D+%5B%22man%22%5D+%5B%22dying%22%5D+%5B%22who%22%5D+%5B%22was%22%5D+%5B%22out%22%5D+%5B%22of%22%5D+%5B%22his%22%5D+%5B%22mind%22%5D+%5B%5D+%5B%22shivering%22%5D+%5B%5D+%5B%22things%22%5D+%5B%22like%22%5D+%5B%22that%22%5D+%5B%5D&waitfortotal=true&outputformat=json&prettyprint=no&wordsaroundhit=0\n",
      "{'left': '', 'match_word': 'I saw a man dying who was out of his mind , shivering , things like that . ', 'right': '', 'complete_match': 'I saw a man dying who was out of his mind , shivering , things like that . ', 'testimony_id': 'irn509224', 'shelfmark': ['USHMM RG-50.233*0142'], 'token_start': 10596, 'token_end': 10614}\n",
      "http://localhost:8080/blacklab-server-2.1.0/lts/hits?patt=%5B%22you%22%5D+%5B%22know%22%5D+%5B%22the%22%5D+%5B%2275%22%5D+%5B%22year%22%5D+%5B%22old%22%5D+%5B%22men%22%5D+%5B%22without%22%5D+%5B%22teeth%22%5D+%5B%22and%22%5D+%5B%22shaking%22%5D+%5B%22all%22%5D+%5B%22over%22%5D&waitfortotal=true&outputformat=json&prettyprint=no&wordsaroundhit=0\n",
      "{'left': '', 'match_word': 'you know the 75 year old men without teeth and shaking all over ', 'right': '', 'complete_match': 'you know the 75 year old men without teeth and shaking all over ', 'testimony_id': 'irn510484', 'shelfmark': ['USHMM RG-50.322*0030'], 'token_start': 20242, 'token_end': 20255}\n",
      "http://localhost:8080/blacklab-server-2.1.0/lts/hits?patt=%5B%22a%22%5D+%5B%22man%22%5D+%5B%22shivering%22%5D+%5B%5D+%5B%22naked%22%5D+%5B%5D+%5B%22half%22%5D+%5B%22dead%22%5D+%5B%22in%22%5D+%5B%22a%22%5D+%5B%22dog%22%5D+%5B%22cage%22%5D+%5B%5D+%5B%22dying%22%5D+%5B%22slowly%22%5D&waitfortotal=true&outputformat=json&prettyprint=no&wordsaroundhit=0\n",
      "{'left': '', 'match_word': 'a man shivering , naked , half dead in a dog cage , dying slowly ', 'right': '', 'complete_match': 'a man shivering , naked , half dead in a dog cage , dying slowly ', 'testimony_id': 'irn538198', 'shelfmark': ['USHMM RG-50.926*0006'], 'token_start': 7571, 'token_end': 7586}\n",
      "http://localhost:8080/blacklab-server-2.1.0/lts/hits?patt=%5B%22I%22%5D+%5B%22%27ve%22%5D+%5B%22never%22%5D+%5B%22seen%22%5D+%5B%22soldiers%22%5D+%5B%22like%22%5D+%5B%22that%22%5D+%5B%22in%22%5D+%5B%22my%22%5D+%5B%22life%22%5D+%5B%5D+%5B%22I%22%5D+%5B%22remember%22%5D+%5B%22the%22%5D+%5B%22shivers%22%5D+%5B%22going%22%5D+%5B%22through%22%5D+%5B%5D&waitfortotal=true&outputformat=json&prettyprint=no&wordsaroundhit=0\n",
      "{'left': '', 'match_word': \"I 've never seen soldiers like that in my life . I remember the shivers going through . \", 'right': '', 'complete_match': \"I 've never seen soldiers like that in my life . I remember the shivers going through . \", 'testimony_id': 'usc_shoah_942', 'shelfmark': ['USC Shoah Foundation 942'], 'token_start': 8353, 'token_end': 8371}\n"
     ]
    },
    {
     "name": "stdout",
     "output_type": "stream",
     "text": [
      "http://localhost:8080/blacklab-server-2.1.0/lts/hits?patt=%5B%22we%22%5D+%5B%22were%22%5D+%5B%22all%22%5D+%5B%22sort%22%5D+%5B%22of%22%5D+%5B%22sitting%22%5D+%5B%22together%22%5D+%5B%22and%22%5D+%5B%5D%7B0%2C3%7D+%5B%22and%22%5D+%5B%5D+%5B%22you%22%5D+%5B%22know%22%5D+%5B%5D+%5B%22trembling%22%5D+%5B%5D&waitfortotal=true&outputformat=json&prettyprint=no&wordsaroundhit=0\n",
      "{'left': '', 'match_word': 'we were all sort of sitting together and -- and , you know , trembling . ', 'right': '', 'complete_match': 'we were all sort of sitting together and -- and , you know , trembling . ', 'testimony_id': 'usc_shoah_10818', 'shelfmark': ['USC Shoah Foundation 10818'], 'token_start': 10620, 'token_end': 10636}\n",
      "not found\n",
      "shaking\n",
      "together\n",
      "usc_shoah_10818\n",
      "http://localhost:8080/blacklab-server-2.1.0/lts/hits?patt=%5B%22And%22%5D+%5B%22children%22%5D+%5B%22were%22%5D+%5B%22taken%22%5D+%5B%22away%22%5D+%5B%5D+%5B%22Children%22%5D+%5B%22were%22%5D+%5B%22killed%22%5D+%5B%5D+%5B%22And%22%5D+%5B%22they%22%5D+%5B%22always%22%5D+%5B%22shivered%22%5D+%5B%5D&waitfortotal=true&outputformat=json&prettyprint=no&wordsaroundhit=0\n",
      "{'left': '', 'match_word': 'And children were taken away . Children were killed . And they always shivered . ', 'right': '', 'complete_match': 'And children were taken away . Children were killed . And they always shivered . ', 'testimony_id': 'usc_shoah_1491', 'shelfmark': ['USC Shoah Foundation 1491'], 'token_start': 2895, 'token_end': 2910}\n",
      "http://localhost:8080/blacklab-server-2.1.0/lts/hits?patt=%5B%22we%22%5D+%5B%22come%22%5D+%5B%22in%22%5D+%5B%22two%22%5D+%5B%22children%22%5D+%5B%5D+%5B%22you%22%5D+%5B%22know%22%5D+%5B%5D+%5B%22scared%22%5D+%5B%22and%22%5D+%5B%22shaking%22%5D&waitfortotal=true&outputformat=json&prettyprint=no&wordsaroundhit=0\n",
      "{'left': '', 'match_word': 'we come in two children , you know , scared and shaking ', 'right': '', 'complete_match': 'we come in two children , you know , scared and shaking ', 'testimony_id': 'irn504593', 'shelfmark': ['USHMM RG-50.030*0099'], 'token_start': 9259, 'token_end': 9271}\n",
      "http://localhost:8080/blacklab-server-2.1.0/lts/hits?patt=%5B%22We%22%5D+%5B%22tried%22%5D+%5B%22to%22%5D+%5B%22revive%22%5D+%5B%22him%22%5D+%5B%5D+%5B%22I%22%5D+%5B%22took%22%5D+%5B%22snow%22%5D+%5B%5D+%5B%22I%22%5D+%5B%22put%22%5D+%5B%22on%22%5D+%5B%22his%22%5D+%5B%22face%22%5D+%5B%5D+%5B%5D%7B0%2C3%7D+%5B%22PAUSES%22%5D+%5B%22FOR%22%5D+%5B%224%22%5D+%5B%22SECONDS%22%5D+%5B%5D%7B0%2C3%7D+%5B%22He%22%5D+%5B%22was%22%5D+%5B%5D%7B0%2C3%7D+%5B%22his%22%5D+%5B%22body%22%5D+%5B%22was%22%5D+%5B%22trembling%22%5D+%5B%5D+%5B%22shivering%22%5D+%5B%5D&waitfortotal=true&outputformat=json&prettyprint=no&wordsaroundhit=0\n",
      "{'left': '', 'match_word': 'We tried to revive him . I took snow . I put on his face . [ PAUSES FOR 4 SECONDS ] He was -- his body was trembling , shivering . ', 'right': '', 'complete_match': 'We tried to revive him . I took snow . I put on his face . [ PAUSES FOR 4 SECONDS ] He was -- his body was trembling , shivering . ', 'testimony_id': 'usc_shoah_12413', 'shelfmark': ['USC Shoah Foundation 12413'], 'token_start': 9807, 'token_end': 9839}\n",
      "http://localhost:8080/blacklab-server-2.1.0/lts/hits?patt=%5B%22They%22%5D+%5B%22were%22%5D+%5B%22spic%22%5D+%5B%22and%22%5D+%5B%22span%22%5D+%5B%22in%22%5D+%5B%22their%22%5D+%5B%22boots%22%5D+%5B%22and%22%5D+%5B%22terrifying%22%5D+%5B%5D+%5B%22absolutely%22%5D+%5B%22shivering%22%5D+%5B%5D+%5B%22shivering%22%5D+%5B%5D&waitfortotal=true&outputformat=json&prettyprint=no&wordsaroundhit=0\n",
      "{'left': '', 'match_word': 'They were spic and span in their boots and terrifying , absolutely shivering , shivering . ', 'right': '', 'complete_match': 'They were spic and span in their boots and terrifying , absolutely shivering , shivering . ', 'testimony_id': 'usc_shoah_512', 'shelfmark': ['USC Shoah Foundation 512'], 'token_start': 4527, 'token_end': 4543}\n",
      "http://localhost:8080/blacklab-server-2.1.0/lts/hits?patt=%5B%22He%22%5D+%5B%22gets%22%5D+%5B%22up%22%5D+%5B%22from%22%5D+%5B%22the%22%5D+%5B%22chair%22%5D+%5B%5D+%5B%22shaking%22%5D+%5B%5D+%5B%22and%22%5D+%5B%22he%22%5D+%5B%22embraces%22%5D+%5B%22me%22%5D+%5B%5D+%5B%22and%22%5D+%5B%22he%22%5D+%5B%22starts%22%5D+%5B%22crying%22%5D+%5B%5D&waitfortotal=true&outputformat=json&prettyprint=no&wordsaroundhit=0\n",
      "{'left': '', 'match_word': 'He gets up from the chair , shaking , and he embraces me , and he starts crying . ', 'right': '', 'complete_match': 'He gets up from the chair , shaking , and he embraces me , and he starts crying . ', 'testimony_id': 'irn513271', 'shelfmark': ['USHMM RG-50.030*0475'], 'token_start': 47467, 'token_end': 47486}\n",
      "http://localhost:8080/blacklab-server-2.1.0/lts/hits?patt=%5B%22I%22%5D+%5B%22was%22%5D+%5B%22sitting%22%5D+%5B%22there%22%5D+%5B%5D+%5B%2215%22%5D+%5B%22years%22%5D+%5B%22old%22%5D+%5B%5D+%5B%22all%22%5D+%5B%22alone%22%5D+%5B%22and%22%5D+%5B%22shivering%22%5D&waitfortotal=true&outputformat=json&prettyprint=no&wordsaroundhit=0\n",
      "{'left': '', 'match_word': 'I was sitting there , 15 years old , all alone and shivering ', 'right': '', 'complete_match': 'I was sitting there , 15 years old , all alone and shivering ', 'testimony_id': 'usc_shoah_10283', 'shelfmark': ['USC Shoah Foundation 10283'], 'token_start': 3381, 'token_end': 3394}\n",
      "http://localhost:8080/blacklab-server-2.1.0/lts/hits?patt=%5B%22we%22%5D+%5B%22were%22%5D+%5B%22children%22%5D+%5B%5D+%5B%22I%22%5D+%5B%22was%22%5D+%5B%22shaking%22%5D+%5B%22from%22%5D+%5B%22head%22%5D+%5B%22to%22%5D+%5B%22toe%22%5D&waitfortotal=true&outputformat=json&prettyprint=no&wordsaroundhit=0\n",
      "{'left': '', 'match_word': 'we were children . I was shaking from head to toe ', 'right': '', 'complete_match': 'we were children . I was shaking from head to toe ', 'testimony_id': 'irn504888', 'shelfmark': ['USHMM RG-50.549.05*0002'], 'token_start': 3525, 'token_end': 3536}\n",
      "http://localhost:8080/blacklab-server-2.1.0/lts/hits?patt=%5B%22although%22%5D+%5B%22children%22%5D+%5B%22do%22%5D+%5B%5D+%5B%22%27%27%22%5D+%5B%22t%22%5D+%5B%22usually%22%5D+%5B%5D+%5B%22but%22%5D+%5B%22I%22%5D+%5B%22was%22%5D+%5B%22trembling%22%5D+%5B%22and%22%5D+%5B%22I%22%5D+%5B%22was%22%5D+%5B%22petrified%22%5D+%5B%5D&waitfortotal=true&outputformat=json&prettyprint=no&wordsaroundhit=0\n",
      "The following query returned a null result\n",
      "[\"although\"] [\"children\"] [\"do\"] [] [\"''\"] [\"t\"] [\"usually\"] [] [\"but\"] [\"I\"] [\"was\"] [\"trembling\"] [\"and\"] [\"I\"] [\"was\"] [\"petrified\"] []\n",
      "not found\n",
      "main_leaf                                                         shaking\n",
      "mid_leaf                                                         children\n",
      "label                   ...although children do n?ó»t usually, but I w...\n",
      "testimony_id                                                    irn506627\n",
      "media_offset                                                            0\n",
      "media_index                                                             0\n",
      "original_sentences      although children do n?ó»t usually , but I was...\n",
      "end_sentence_index                                                   1177\n",
      "start_sentence_index                                                 1178\n",
      "Name: 103, dtype: object\n",
      "http://localhost:8080/blacklab-server-2.1.0/lts/hits?patt=%5B%22some%22%5D+%5B%22of%22%5D+%5B%22the%22%5D+%5B%22children%22%5D+%5B%22were%22%5D+%5B%22shivering%22%5D+%5B%5D&waitfortotal=true&outputformat=json&prettyprint=no&wordsaroundhit=0\n",
      "{'left': '', 'match_word': 'some of the children were shivering . ', 'right': '', 'complete_match': 'some of the children were shivering . ', 'testimony_id': 'HVT-10', 'shelfmark': ['Fortunoff Archive HVT-10'], 'token_start': 12654, 'token_end': 12661}\n",
      "http://localhost:8080/blacklab-server-2.1.0/lts/hits?patt=%5B%22the%22%5D+%5B%22old%22%5D+%5B%22man%22%5D+%5B%5D+%5B%22the%22%5D+%5B%22woman%22%5D+%5B%5D+%5B%22husband%22%5D+%5B%22was%22%5D+%5B%22shaking%22%5D+%5B%22he%22%5D+%5B%22was%22%5D+%5B%22afraid%22%5D+%5B%22to%22%5D+%5B%22go%22%5D+%5B%22down%22%5D+%5B%5D+%5B%22He%22%5D+%5B%22was%22%5D+%5B%22an%22%5D+%5B%22old%22%5D+%5B%22man%22%5D&waitfortotal=true&outputformat=json&prettyprint=no&wordsaroundhit=0\n",
      "{'left': '', 'match_word': \"the old man , the woman 's husband was shaking he was afraid to go down . He was an old man \", 'right': '', 'complete_match': \"the old man , the woman 's husband was shaking he was afraid to go down . He was an old man \", 'testimony_id': 'irn504467', 'shelfmark': ['USHMM RG-50.030*0001'], 'token_start': 15311, 'token_end': 15333}\n"
     ]
    },
    {
     "name": "stdout",
     "output_type": "stream",
     "text": [
      "http://localhost:8080/blacklab-server-2.1.0/lts/hits?patt=%5B%22Terrible%22%5D+%5B%22was%22%5D+%5B%22the%22%5D+%5B%22fate%22%5D+%5B%22of%22%5D+%5B%22the%22%5D+%5B%22elderly%22%5D+%5B%22people%22%5D+%5B%5D+%5B%22I%22%5D+%5B%22remember%22%5D+%5B%22elderly%22%5D+%5B%22Jewish%22%5D+%5B%22women%22%5D+%5B%5D+%5B%22Cold%22%5D+%5B%5D+%5B%22winter%22%5D+%5B%22frost%22%5D+%5B%5D+%5B%22Ropes%22%5D+%5B%22were%22%5D+%5B%22covered%22%5D+%5B%22with%22%5D+%5B%22ice%22%5D+%5B%5D+%5B%22The%22%5D+%5B%22women%22%5D+%5B%22were%22%5D+%5B%22lying%22%5D+%5B%22in%22%5D+%5B%22bed%22%5D+%5B%22shivering%22%5D+%5B%5D&waitfortotal=true&outputformat=json&prettyprint=no&wordsaroundhit=0\n",
      "{'left': '', 'match_word': 'Terrible was the fate of the elderly people . I remember elderly Jewish women . Cold , winter frost . Ropes were covered with ice . The women were lying in bed shivering . ', 'right': '', 'complete_match': 'Terrible was the fate of the elderly people . I remember elderly Jewish women . Cold , winter frost . Ropes were covered with ice . The women were lying in bed shivering . ', 'testimony_id': 'irn514132', 'shelfmark': ['USHMM RG-50.243*0019'], 'token_start': 1508, 'token_end': 1542}\n",
      "http://localhost:8080/blacklab-server-2.1.0/lts/hits?patt=%5B%22my%22%5D+%5B%22grandmother%22%5D+%5B%22came%22%5D+%5B%22to%22%5D+%5B%22us%22%5D+%5B%22because%22%5D+%5B%22she%22%5D+%5B%22was%22%5D+%5B%22shaken%22%5D+%5B%22up%22%5D+%5B%22terrible%22%5D+%5B%5D+%5B%22And%22%5D+%5B%22we%22%5D+%5B%22never%22%5D+%5B%22saw%22%5D+%5B%22him%22%5D+%5B%22again%22%5D&waitfortotal=true&outputformat=json&prettyprint=no&wordsaroundhit=0\n",
      "{'left': '', 'match_word': 'my grandmother came to us because she was shaken up terrible . And we never saw him again ', 'right': '', 'complete_match': 'my grandmother came to us because she was shaken up terrible . And we never saw him again ', 'testimony_id': 'usc_shoah_26888', 'shelfmark': ['USC Shoah Foundation 26888'], 'token_start': 6696, 'token_end': 6714}\n",
      "http://localhost:8080/blacklab-server-2.1.0/lts/hits?patt=%5B%22my%22%5D+%5B%22grandfather%22%5D+%5B%22and%22%5D+%5B%22with%22%5D+%5B%22my%22%5D+%5B%22two%22%5D+%5B%22brothers%22%5D+%5B%5D+%5B%22It%22%5D+%5B%22was%22%5D+%5B%22Rosh%22%5D+%5B%22Hashanah%22%5D+%5B%5D+%5B%22New%22%5D+%5B%22Year%22%5D+%5B%5D+%5B%5D+%5B%22And%22%5D+%5B%22you%22%5D+%5B%22know%22%5D+%5B%5D+%5B%22when%22%5D+%5B%22certain%22%5D+%5B%22prayers%22%5D+%5B%22are%22%5D+%5B%22said%22%5D+%5B%5D+%5B%22you%22%5D+%5B%22know%22%5D+%5B%5D+%5B%22and%22%5D+%5B%22I%22%5D+%5B%22remember%22%5D+%5B%22my%22%5D+%5B%22grandfather%22%5D+%5B%5D+%5B%22He%22%5D+%5B%22was%22%5D+%5B%22kind%22%5D+%5B%22of%22%5D+%5B%22crying%22%5D+%5B%5D+%5B%22He%22%5D+%5B%22was%22%5D+%5B%22trying%22%5D+%5B%22not%22%5D+%5B%22to%22%5D+%5B%22show%22%5D+%5B%22that%22%5D+%5B%22he%22%5D+%5B%22is%22%5D+%5B%22crying%22%5D+%5B%5D+%5B%22but%22%5D+%5B%22his%22%5D+%5B%22whole%22%5D+%5B%22body%22%5D+%5B%22was%22%5D+%5B%22shaking%22%5D+%5B%5D&waitfortotal=true&outputformat=json&prettyprint=no&wordsaroundhit=0\n",
      "{'left': '', 'match_word': \"my grandfather and with my two brothers . It was Rosh Hashanah , New Year 's . And you know , when certain prayers are said , you know , and I remember my grandfather . He was kind of crying . He was trying not to show that he is crying , but his whole body was shaking . \", 'right': '', 'complete_match': \"my grandfather and with my two brothers . It was Rosh Hashanah , New Year 's . And you know , when certain prayers are said , you know , and I remember my grandfather . He was kind of crying . He was trying not to show that he is crying , but his whole body was shaking . \", 'testimony_id': 'usc_shoah_942', 'shelfmark': ['USC Shoah Foundation 942'], 'token_start': 4215, 'token_end': 4275}\n",
      "http://localhost:8080/blacklab-server-2.1.0/lts/hits?patt=%5B%22And%22%5D+%5B%22we%22%5D+%5B%22got%22%5D+%5B%22back%22%5D+%5B%22trembling%22%5D+%5B%22from%22%5D+%5B%22hunger%22%5D+%5B%22and%22%5D+%5B%22queued%22%5D+%5B%22up%22%5D+%5B%22for%22%5D+%5B%22our%22%5D+%5B%22evening%22%5D+%5B%22soup%22%5D+%5B%5D&waitfortotal=true&outputformat=json&prettyprint=no&wordsaroundhit=0\n",
      "{'left': '', 'match_word': 'And we got back trembling from hunger and queued up for our evening soup . ', 'right': '', 'complete_match': 'And we got back trembling from hunger and queued up for our evening soup . ', 'testimony_id': 'usc_shoah_1641', 'shelfmark': ['USC Shoah Foundation 1641'], 'token_start': 9897, 'token_end': 9912}\n",
      "http://localhost:8080/blacklab-server-2.1.0/lts/hits?patt=%5B%22But%22%5D+%5B%22we%22%5D+%5B%22did%22%5D+%5B%5D+%5B%22eat%22%5D+%5B%5D+%5B%22We%22%5D+%5B%22did%22%5D+%5B%5D+%5B%22have%22%5D+%5B%22no%22%5D+%5B%22food%22%5D+%5B%5D+%5B%22And%22%5D+%5B%22my%22%5D+%5B%22lips%22%5D+%5B%22were%22%5D+%5B%22black%22%5D+%5B%5D+%5B%22and%22%5D+%5B%22my%22%5D+%5B%22teeth%22%5D+%5B%22were%22%5D+%5B%22loose%22%5D+%5B%5D+%5B%22I%22%5D+%5B%22remember%22%5D+%5B%22shaking%22%5D+%5B%22my%22%5D+%5B%22teeth%22%5D+%5B%5D&waitfortotal=true&outputformat=json&prettyprint=no&wordsaroundhit=0\n",
      "{'left': '', 'match_word': \"But we did n't eat . We did n't have no food . And my lips were black , and my teeth were loose . I remember shaking my teeth . \", 'right': '', 'complete_match': \"But we did n't eat . We did n't have no food . And my lips were black , and my teeth were loose . I remember shaking my teeth . \", 'testimony_id': 'usc_shoah_1062', 'shelfmark': ['USC Shoah Foundation 1062'], 'token_start': 18919, 'token_end': 18950}\n",
      "http://localhost:8080/blacklab-server-2.1.0/lts/hits?patt=%5B%22We%22%5D+%5B%22were%22%5D+%5B%22shaking%22%5D+%5B%22with%22%5D+%5B%22no%22%5D+%5B%22food%22%5D+%5B%5D+%5B%22no%22%5D+%5B%22water%22%5D+%5B%5D+%5B%22no%22%5D+%5B%22nothing%22%5D+%5B%5D&waitfortotal=true&outputformat=json&prettyprint=no&wordsaroundhit=0\n",
      "{'left': '', 'match_word': 'We were shaking with no food , no water , no nothing . ', 'right': '', 'complete_match': 'We were shaking with no food , no water , no nothing . ', 'testimony_id': 'usc_shoah_22391', 'shelfmark': ['USC Shoah Foundation 22391'], 'token_start': 8294, 'token_end': 8307}\n",
      "http://localhost:8080/blacklab-server-2.1.0/lts/hits?patt=%5B%22And%22%5D+%5B%22I%22%5D+%5B%22just%22%5D+%5B%22ran%22%5D+%5B%22into%22%5D+%5B%22the%22%5D+%5B%22forest%22%5D&waitfortotal=true&outputformat=json&prettyprint=no&wordsaroundhit=0\n",
      "{'left': '', 'match_word': 'And I just ran into the forest ', 'right': '', 'complete_match': 'And I just ran into the forest ', 'testimony_id': 'HVT-57', 'shelfmark': ['Fortunoff Archive HVT-57'], 'token_start': 1624, 'token_end': 1631}\n",
      "http://localhost:8080/blacklab-server-2.1.0/lts/hits?patt=%5B%22If%22%5D+%5B%22I%22%5D+%5B%22would%22%5D+%5B%5D+%5B%22go%22%5D+%5B%5D+%5B%22because%22%5D+%5B%22I%22%5D+%5B%22run%22%5D+%5B%22away%22%5D+%5B%22to%22%5D+%5B%22the%22%5D+%5B%22forest%22%5D+%5B%5D+%5B%22they%22%5D+%5B%22will%22%5D+%5B%22kill%22%5D+%5B%22my%22%5D+%5B%22parents%22%5D+%5B%5D&waitfortotal=true&outputformat=json&prettyprint=no&wordsaroundhit=0\n",
      "{'left': '', 'match_word': \"If I would n't go , because I run away to the forest , they will kill my parents . \", 'right': '', 'complete_match': \"If I would n't go , because I run away to the forest , they will kill my parents . \", 'testimony_id': 'HVT-69', 'shelfmark': ['Fortunoff Archive HVT-69'], 'token_start': 4346, 'token_end': 4366}\n",
      "http://localhost:8080/blacklab-server-2.1.0/lts/hits?patt=%5B%22when%22%5D+%5B%22we%22%5D+%5B%22ran%22%5D+%5B%22away%22%5D+%5B%22to%22%5D+%5B%22the%22%5D+%5B%22forests%22%5D+%5B%22later%22%5D+%5B%22on%22%5D+%5B%5D+%5B%22and%22%5D+%5B%22my%22%5D+%5B%22father%22%5D+%5B%22and%22%5D+%5B%22Ruvin%22%5D+%5B%22had%22%5D+%5B%22already%22%5D+%5B%22been%22%5D+%5B%22taken%22%5D+%5B%22away%22%5D&waitfortotal=true&outputformat=json&prettyprint=no&wordsaroundhit=0\n",
      "{'left': '', 'match_word': 'when we ran away to the forests later on , and my father and Ruvin had already been taken away ', 'right': '', 'complete_match': 'when we ran away to the forests later on , and my father and Ruvin had already been taken away ', 'testimony_id': 'irn39242', 'shelfmark': ['USHMM RG-50.106*0176'], 'token_start': 928, 'token_end': 948}\n",
      "http://localhost:8080/blacklab-server-2.1.0/lts/hits?patt=%5B%22we%22%5D+%5B%22left%22%5D+%5B%22and%22%5D+%5B%22ran%22%5D+%5B%22away%22%5D+%5B%22to%22%5D+%5B%22the%22%5D+%5B%22woods%22%5D+%5B%22surrounding%22%5D+%5B%22that%22%5D+%5B%22town%22%5D&waitfortotal=true&outputformat=json&prettyprint=no&wordsaroundhit=0\n"
     ]
    },
    {
     "name": "stdout",
     "output_type": "stream",
     "text": [
      "{'left': '', 'match_word': 'we left and ran away to the woods surrounding that town ', 'right': '', 'complete_match': 'we left and ran away to the woods surrounding that town ', 'testimony_id': 'irn39242', 'shelfmark': ['USHMM RG-50.106*0176'], 'token_start': 2053, 'token_end': 2064}\n",
      "http://localhost:8080/blacklab-server-2.1.0/lts/hits?patt=%5B%22And%22%5D+%5B%22then%22%5D+%5B%22I%22%5D+%5B%22ran%22%5D+%5B%22into%22%5D+%5B%22the%22%5D+%5B%22forest%22%5D+%5B%22among%22%5D+%5B%22the%22%5D+%5B%22trees%22%5D+%5B%5D&waitfortotal=true&outputformat=json&prettyprint=no&wordsaroundhit=0\n",
      "{'left': '', 'match_word': 'And then I ran into the forest among the trees . ', 'right': '', 'complete_match': 'And then I ran into the forest among the trees . ', 'testimony_id': 'usc_shoah_10358', 'shelfmark': ['USC Shoah Foundation 10358'], 'token_start': 7727, 'token_end': 7738}\n",
      "http://localhost:8080/blacklab-server-2.1.0/lts/hits?patt=%5B%22night%22%5D+%5B%22after%22%5D+%5B%22night%22%5D+%5B%22I%22%5D+%5B%22was%22%5D+%5B%22running%22%5D+%5B%5D+%5B%22running%22%5D+%5B%5D+%5B%22running%22%5D&waitfortotal=true&outputformat=json&prettyprint=no&wordsaroundhit=0\n",
      "{'left': '', 'match_word': 'night after night I was running , running , running ', 'right': '', 'complete_match': 'night after night I was running , running , running ', 'testimony_id': 'irn504740', 'shelfmark': ['USHMM RG-50.030*0260'], 'token_start': 17193, 'token_end': 17203}\n",
      "http://localhost:8080/blacklab-server-2.1.0/lts/hits?patt=%5B%22That%22%5D+%5B%22time%22%5D+%5B%5D+%5B%22we%22%5D+%5B%22runned%22%5D+%5B%22eve%22%5D+%5B%5D%7B0%2C50%7D+%5B%22day%22%5D+%5B%22and%22%5D+%5B%22night%22%5D&waitfortotal=true&outputformat=json&prettyprint=no&wordsaroundhit=0\n",
      "{'left': '', 'match_word': 'That time , we runned eve ... day and night ', 'right': '', 'complete_match': 'That time , we runned eve ... day and night ', 'testimony_id': 'irn509149', 'shelfmark': ['USHMM RG-50.233*0066'], 'token_start': 2923, 'token_end': 2933}\n",
      "http://localhost:8080/blacklab-server-2.1.0/lts/hits?patt=%5B%22People%22%5D+%5B%22running%22%5D+%5B%5D+%5B%22People%22%5D+%5B%22screaming%22%5D+%5B%5D&waitfortotal=true&outputformat=json&prettyprint=no&wordsaroundhit=0\n",
      "{'left': '', 'match_word': 'People running . People screaming . ', 'right': '', 'complete_match': 'People running . People screaming . ', 'testimony_id': 'usc_shoah_15732', 'shelfmark': ['USC Shoah Foundation 15732'], 'token_start': 11242, 'token_end': 11248}\n",
      "http://localhost:8080/blacklab-server-2.1.0/lts/hits?patt=%5B%22Women%22%5D+%5B%22with%22%5D+%5B%22children%22%5D+%5B%22start%22%5D+%5B%22running%22%5D+%5B%22from%22%5D+%5B%22street%22%5D+%5B%22to%22%5D+%5B%22street%22%5D+%5B%5D&waitfortotal=true&outputformat=json&prettyprint=no&wordsaroundhit=0\n",
      "{'left': '', 'match_word': 'Women with children start running from street to street . ', 'right': '', 'complete_match': 'Women with children start running from street to street . ', 'testimony_id': 'usc_shoah_3453', 'shelfmark': ['USC Shoah Foundation 3453'], 'token_start': 4239, 'token_end': 4249}\n",
      "http://localhost:8080/blacklab-server-2.1.0/lts/hits?patt=%5B%22Everybody%22%5D+%5B%22run%22%5D+%5B%22and%22%5D+%5B%22grabbed%22%5D+%5B%22some%22%5D+%5B%5D%7B0%2C50%7D+%5B%22some%22%5D+%5B%22soup%22%5D+%5B%22from%22%5D+%5B%22there%22%5D&waitfortotal=true&outputformat=json&prettyprint=no&wordsaroundhit=0\n",
      "{'left': '', 'match_word': 'Everybody run and grabbed some ... some soup from there ', 'right': '', 'complete_match': 'Everybody run and grabbed some ... some soup from there ', 'testimony_id': 'irn504557', 'shelfmark': ['USHMM RG-50.030*0061'], 'token_start': 11307, 'token_end': 11317}\n",
      "http://localhost:8080/blacklab-server-2.1.0/lts/hits?patt=%5B%22Everybody%22%5D+%5B%22was%22%5D+%5B%22running%22%5D+%5B%22to%22%5D+%5B%22get%22%5D+%5B%22bread%22%5D+%5B%5D&waitfortotal=true&outputformat=json&prettyprint=no&wordsaroundhit=0\n",
      "{'left': '', 'match_word': 'Everybody was running to get bread . ', 'right': '', 'complete_match': 'Everybody was running to get bread . ', 'testimony_id': 'irn504601', 'shelfmark': ['USHMM RG-50.030*0107'], 'token_start': 21137, 'token_end': 21144}\n",
      "http://localhost:8080/blacklab-server-2.1.0/lts/hits?patt=%5B%22We%22%5D+%5B%22were%22%5D+%5B%22running%22%5D+%5B%22to%22%5D+%5B%22the%22%5D+%5B%22truck%22%5D+%5B%22to%22%5D+%5B%22see%22%5D+%5B%22if%22%5D+%5B%22maybe%22%5D+%5B%22there%22%5D+%5B%22was%22%5D+%5B%22some%22%5D+%5B%22kind%22%5D+%5B%22of%22%5D+%5B%22a%22%5D+%5B%22food%22%5D&waitfortotal=true&outputformat=json&prettyprint=no&wordsaroundhit=0\n",
      "{'left': '', 'match_word': 'We were running to the truck to see if maybe there was some kind of a food ', 'right': '', 'complete_match': 'We were running to the truck to see if maybe there was some kind of a food ', 'testimony_id': 'irn504675', 'shelfmark': ['USHMM RG-50.030*0177'], 'token_start': 13450, 'token_end': 13467}\n",
      "http://localhost:8080/blacklab-server-2.1.0/lts/hits?patt=%5B%22That%22%5D+%5B%22was%22%5D+%5B%22the%22%5D+%5B%22first%22%5D+%5B%22thing%22%5D+%5B%22they%22%5D+%5B%22were%22%5D+%5B%22running%22%5D+%5B%22for%22%5D+%5B%22food%22%5D+%5B%5D&waitfortotal=true&outputformat=json&prettyprint=no&wordsaroundhit=0\n",
      "{'left': '', 'match_word': 'That was the first thing they were running for food . ', 'right': '', 'complete_match': 'That was the first thing they were running for food . ', 'testimony_id': 'irn504676', 'shelfmark': ['USHMM RG-50.030*0176'], 'token_start': 12444, 'token_end': 12455}\n",
      "http://localhost:8080/blacklab-server-2.1.0/lts/hits?patt=%5B%22the%22%5D+%5B%22minute%22%5D+%5B%22we%22%5D+%5B%22have%22%5D+%5B%22the%22%5D+%5B%22break%22%5D+%5B%22we%22%5D+%5B%22have%22%5D+%5B%22to%22%5D+%5B%5D%7B0%2C50%7D+%5B%22everybody%22%5D+%5B%22was%22%5D+%5B%22running%22%5D+%5B%22for%22%5D+%5B%22the%22%5D+%5B%22soup%22%5D+%5B%5D&waitfortotal=true&outputformat=json&prettyprint=no&wordsaroundhit=0\n",
      "{'left': '', 'match_word': 'the minute we have the break we have to ... everybody was running for the soup . ', 'right': '', 'complete_match': 'the minute we have the break we have to ... everybody was running for the soup . ', 'testimony_id': 'irn504698', 'shelfmark': ['USHMM RG-50.030*0205'], 'token_start': 3971, 'token_end': 3988}\n",
      "http://localhost:8080/blacklab-server-2.1.0/lts/hits?patt=%5B%22the%22%5D+%5B%22older%22%5D+%5B%22people%22%5D+%5B%22could%22%5D+%5B%5D+%5B%22%27%27%22%5D+%5B%22t%22%5D+%5B%22run%22%5D+%5B%22as%22%5D+%5B%22fast%22%5D+%5B%5D&waitfortotal=true&outputformat=json&prettyprint=no&wordsaroundhit=0\n",
      "The following query returned a null result\n",
      "[\"the\"] [\"older\"] [\"people\"] [\"could\"] [] [\"''\"] [\"t\"] [\"run\"] [\"as\"] [\"fast\"] []\n",
      "not found\n",
      "main_leaf                                                         run\n",
      "mid_leaf                                                          old\n",
      "label                   ...the older people could n?ó»t run as fast. \n",
      "testimony_id                                                irn508721\n",
      "media_offset                                                        0\n",
      "media_index                                                         0\n",
      "original_sentences        the older people could n?ó»t run as fast . \n",
      "end_sentence_index                                                921\n",
      "start_sentence_index                                              922\n",
      "Name: 126, dtype: object\n",
      "http://localhost:8080/blacklab-server-2.1.0/lts/hits?patt=%5B%22he%22%5D+%5B%22saw%22%5D+%5B%22between%22%5D+%5B%22the%22%5D+%5B%22dead%22%5D+%5B%22people%22%5D+%5B%5D+%5B%22between%22%5D+%5B%22the%22%5D+%5B%22older%22%5D+%5B%22and%22%5D+%5B%22the%22%5D+%5B%22people%22%5D+%5B%22what%22%5D+%5B%5D+%5B%22they%22%5D+%5B%22could%22%5D+%5B%5D+%5B%22run%22%5D+%5B%22fast%22%5D+%5B%5D&waitfortotal=true&outputformat=json&prettyprint=no&wordsaroundhit=0\n",
      "{'left': '', 'match_word': \"he saw between the dead people , between the older and the people what , they could n't run fast . \", 'right': '', 'complete_match': \"he saw between the dead people , between the older and the people what , they could n't run fast . \", 'testimony_id': 'usc_shoah_6523', 'shelfmark': ['USC Shoah Foundation 6523'], 'token_start': 9266, 'token_end': 9287}\n",
      "http://localhost:8080/blacklab-server-2.1.0/lts/hits?patt=%5B%22guard%22%5D+%5B%22hit%22%5D+%5B%22my%22%5D+%5B%22father%22%5D+%5B%22on%22%5D+%5B%22the%22%5D+%5B%22head%22%5D+%5B%22with%22%5D+%5B%22a%22%5D+%5B%22bat%22%5D+%5B%22of%22%5D+%5B%22some%22%5D+%5B%22sort%22%5D+%5B%5D+%5B%22a%22%5D+%5B%22piece%22%5D+%5B%22of%22%5D+%5B%22wood%22%5D+%5B%5D+%5B%22because%22%5D+%5B%22he%22%5D+%5B%22could%22%5D+%5B%5D+%5B%22%27%27%22%5D+%5B%22t%22%5D+%5B%22run%22%5D+%5B%22fast%22%5D+%5B%22enough%22%5D&waitfortotal=true&outputformat=json&prettyprint=no&wordsaroundhit=0\n"
     ]
    },
    {
     "name": "stdout",
     "output_type": "stream",
     "text": [
      "The following query returned a null result\n",
      "[\"guard\"] [\"hit\"] [\"my\"] [\"father\"] [\"on\"] [\"the\"] [\"head\"] [\"with\"] [\"a\"] [\"bat\"] [\"of\"] [\"some\"] [\"sort\"] [] [\"a\"] [\"piece\"] [\"of\"] [\"wood\"] [] [\"because\"] [\"he\"] [\"could\"] [] [\"''\"] [\"t\"] [\"run\"] [\"fast\"] [\"enough\"]\n",
      "not found\n",
      "main_leaf                                                             run\n",
      "mid_leaf                                                              old\n",
      "label                   ?...guard hit my father on the head with a bat...\n",
      "testimony_id                                                    irn506740\n",
      "media_offset                                                            0\n",
      "media_index                                                             0\n",
      "original_sentences      guard hit my father on the head with a bat of ...\n",
      "end_sentence_index                                                    336\n",
      "start_sentence_index                                                  336\n",
      "Name: 128, dtype: object\n",
      "http://localhost:8080/blacklab-server-2.1.0/lts/hits?patt=%5B%22With%22%5D+%5B%22the%22%5D+%5B%22older%22%5D+%5B%22people%22%5D+%5B%5D+%5B%22with%22%5D+%5B%22the%22%5D+%5B%22young%22%5D+%5B%22people%22%5D+%5B%5D+%5B%22we%22%5D+%5B%22could%22%5D+%5B%5D+%5B%22run%22%5D+%5B%5D&waitfortotal=true&outputformat=json&prettyprint=no&wordsaroundhit=0\n",
      "{'left': '', 'match_word': \"With the older people , with the young people , we could n't run . \", 'right': '', 'complete_match': \"With the older people , with the young people , we could n't run . \", 'testimony_id': 'HVT-116', 'shelfmark': ['Fortunoff Archive HVT-116'], 'token_start': 2099, 'token_end': 2114}\n",
      "http://localhost:8080/blacklab-server-2.1.0/lts/hits?patt=%5B%22the%22%5D+%5B%22older%22%5D+%5B%22people%22%5D+%5B%22could%22%5D+%5B%5D+%5B%22%27%27%22%5D+%5B%22t%22%5D+%5B%22run%22%5D+%5B%22as%22%5D+%5B%22fast%22%5D+%5B%5D+%5B%22They%22%5D+%5B%22got%22%5D+%5B%22hit%22%5D+%5B%5D&waitfortotal=true&outputformat=json&prettyprint=no&wordsaroundhit=0\n",
      "The following query returned a null result\n",
      "[\"the\"] [\"older\"] [\"people\"] [\"could\"] [] [\"''\"] [\"t\"] [\"run\"] [\"as\"] [\"fast\"] [] [\"They\"] [\"got\"] [\"hit\"] []\n",
      "not found\n",
      "main_leaf                                                             run\n",
      "mid_leaf                                                              old\n",
      "label                   ...the older people could n?ó»t run as fast. T...\n",
      "testimony_id                                                    irn508721\n",
      "media_offset                                                            0\n",
      "media_index                                                             0\n",
      "original_sentences      the older people could n?ó»t run as fast . The...\n",
      "end_sentence_index                                                    921\n",
      "start_sentence_index                                                  923\n",
      "Name: 130, dtype: object\n",
      "http://localhost:8080/blacklab-server-2.1.0/lts/hits?patt=%5B%22We%22%5D+%5B%22just%22%5D+%5B%22ran%22%5D+%5B%22from%22%5D+%5B%22place%22%5D+%5B%5D+%5B%22to%22%5D+%5B%22place%22%5D&waitfortotal=true&outputformat=json&prettyprint=no&wordsaroundhit=0\n",
      "{'left': '', 'match_word': 'We just ran from place , to place ', 'right': '', 'complete_match': 'We just ran from place , to place ', 'testimony_id': 'usc_shoah_5810', 'shelfmark': ['USC Shoah Foundation 5810'], 'token_start': 16435, 'token_end': 16443}\n",
      "http://localhost:8080/blacklab-server-2.1.0/lts/hits?patt=%5B%22And%22%5D+%5B%22I%22%5D+%5B%22was%22%5D+%5B%22running%22%5D+%5B%22from%22%5D+%5B%22place%22%5D+%5B%22to%22%5D+%5B%22place%22%5D&waitfortotal=true&outputformat=json&prettyprint=no&wordsaroundhit=0\n",
      "{'left': '', 'match_word': 'And I was running from place to place ', 'right': '', 'complete_match': 'And I was running from place to place ', 'testimony_id': 'irn504926', 'shelfmark': ['USHMM RG-50.549.01*0022'], 'token_start': 24033, 'token_end': 24041}\n",
      "http://localhost:8080/blacklab-server-2.1.0/lts/hits?patt=%5B%22we%22%5D+%5B%22were%22%5D+%5B%22persecuted%22%5D+%5B%22running%22%5D+%5B%22from%22%5D+%5B%22place%22%5D+%5B%22to%22%5D+%5B%22place%22%5D&waitfortotal=true&outputformat=json&prettyprint=no&wordsaroundhit=0\n",
      "{'left': '', 'match_word': 'we were persecuted running from place to place ', 'right': '', 'complete_match': 'we were persecuted running from place to place ', 'testimony_id': 'irn507571', 'shelfmark': ['USHMM RG-50.106*0074'], 'token_start': 4072, 'token_end': 4080}\n",
      "http://localhost:8080/blacklab-server-2.1.0/lts/hits?patt=%5B%22We%22%5D+%5B%22just%22%5D+%5B%22ran%22%5D+%5B%22from%22%5D+%5B%22place%22%5D+%5B%5D+%5B%22to%22%5D+%5B%22place%22%5D&waitfortotal=true&outputformat=json&prettyprint=no&wordsaroundhit=0\n",
      "{'left': '', 'match_word': 'We just ran from place , to place ', 'right': '', 'complete_match': 'We just ran from place , to place ', 'testimony_id': 'usc_shoah_5810', 'shelfmark': ['USC Shoah Foundation 5810'], 'token_start': 16435, 'token_end': 16443}\n",
      "http://localhost:8080/blacklab-server-2.1.0/lts/hits?patt=%5B%22how%22%5D+%5B%22long%22%5D+%5B%22can%22%5D+%5B%22you%22%5D+%5B%22run%22%5D+%5B%5D+%5B%22place%22%5D+%5B%5D+%5B%22to%22%5D+%5B%22place%22%5D+%5B%5D+%5B%22to%22%5D+%5B%22place%22%5D+%5B%5D+%5B%22to%22%5D+%5B%22place%22%5D+%5B%5D&waitfortotal=true&outputformat=json&prettyprint=no&wordsaroundhit=0\n",
      "{'left': '', 'match_word': 'how long can you run , place , to place , to place , to place ? ', 'right': '', 'complete_match': 'how long can you run , place , to place , to place , to place ? ', 'testimony_id': 'usc_shoah_13911', 'shelfmark': ['USC Shoah Foundation 13911'], 'token_start': 40479, 'token_end': 40496}\n",
      "http://localhost:8080/blacklab-server-2.1.0/lts/hits?patt=%5B%22there%22%5D+%5B%22were%22%5D+%5B%22children%22%5D+%5B%22%3B%22%5D+%5B%22they%22%5D+%5B%22could%22%5D+%5B%5D+%5B%22run%22%5D&waitfortotal=true&outputformat=json&prettyprint=no&wordsaroundhit=0\n",
      "{'left': '', 'match_word': \"there were children ; they could n't run \", 'right': '', 'complete_match': \"there were children ; they could n't run \", 'testimony_id': 'irn504760', 'shelfmark': ['USHMM RG-50.030*0276'], 'token_start': 4554, 'token_end': 4562}\n",
      "http://localhost:8080/blacklab-server-2.1.0/lts/hits?patt=%5B%22they%22%5D+%5B%22kept%22%5D+%5B%22chasing%22%5D+%5B%22us%22%5D+%5B%5D+%5B%22run%22%5D+%5B%5D+%5B%22run%22%5D+%5B%5D+%5B%22walk%22%5D+%5B%5D&waitfortotal=true&outputformat=json&prettyprint=no&wordsaroundhit=0\n",
      "{'left': '', 'match_word': 'they kept chasing us , run , run , walk . ', 'right': '', 'complete_match': 'they kept chasing us , run , run , walk . ', 'testimony_id': 'usc_shoah_2916', 'shelfmark': ['USC Shoah Foundation 2916'], 'token_start': 11549, 'token_end': 11560}\n",
      "http://localhost:8080/blacklab-server-2.1.0/lts/hits?patt=%5B%22some%22%5D+%5B%22of%22%5D+%5B%22the%22%5D+%5B%22children%22%5D+%5B%22chased%22%5D+%5B%22us%22%5D+%5B%5D+%5B%22I%22%5D+%5B%22remember%22%5D+%5B%22running%22%5D+%5B%22in%22%5D+%5B%22panic%22%5D+%5B%5D&waitfortotal=true&outputformat=json&prettyprint=no&wordsaroundhit=0\n",
      "{'left': '', 'match_word': 'some of the children chased us . I remember running in panic . ', 'right': '', 'complete_match': 'some of the children chased us . I remember running in panic . ', 'testimony_id': 'usc_shoah_21582', 'shelfmark': ['USC Shoah Foundation 21582'], 'token_start': 1421, 'token_end': 1434}\n",
      "http://localhost:8080/blacklab-server-2.1.0/lts/hits?patt=%5B%22they%22%5D+%5B%22ran%22%5D+%5B%22them%22%5D+%5B%22and%22%5D+%5B%22chase%22%5D+%5B%22the%22%5D+%5B%22down%22%5D+%5B%22the%22%5D+%5B%22guys%22%5D&waitfortotal=true&outputformat=json&prettyprint=no&wordsaroundhit=0\n",
      "{'left': '', 'match_word': 'they ran them and chase the down the guys ', 'right': '', 'complete_match': 'they ran them and chase the down the guys ', 'testimony_id': 'irn508479', 'shelfmark': ['USHMM RG-50.030*0411'], 'token_start': 22183, 'token_end': 22192}\n",
      "http://localhost:8080/blacklab-server-2.1.0/lts/hits?patt=%5B%22I%22%5D+%5B%22always%22%5D+%5B%22see%22%5D+%5B%22the%22%5D+%5B%22SS%22%5D+%5B%22people%22%5D+%5B%22with%22%5D+%5B%22their%22%5D+%5B%22uniforms%22%5D+%5B%5D+%5B%22running%22%5D+%5B%22after%22%5D+%5B%22me%22%5D+%5B%5D&waitfortotal=true&outputformat=json&prettyprint=no&wordsaroundhit=0\n",
      "{'left': '', 'match_word': 'I always see the SS people with their uniforms , running after me . ', 'right': '', 'complete_match': 'I always see the SS people with their uniforms , running after me . ', 'testimony_id': 'irn504928', 'shelfmark': ['USHMM RG-50.549.01*0021'], 'token_start': 29964, 'token_end': 29978}\n"
     ]
    },
    {
     "name": "stdout",
     "output_type": "stream",
     "text": [
      "http://localhost:8080/blacklab-server-2.1.0/lts/hits?patt=%5B%22And%22%5D+%5B%22hell%22%5D+%5B%22broke%22%5D+%5B%22loose%22%5D+%5B%5D+%5B%22And%22%5D+%5B%22spotlights%22%5D+%5B%5D+%5B%22dogs%22%5D+%5B%22screaming%22%5D+%5B%5D+%5B%22dogs%22%5D+%5B%22running%22%5D+%5B%22everywhere%22%5D+%5B%5D&waitfortotal=true&outputformat=json&prettyprint=no&wordsaroundhit=0\n",
      "{'left': '', 'match_word': 'And hell broke loose . And spotlights , dogs screaming , dogs running everywhere . ', 'right': '', 'complete_match': 'And hell broke loose . And spotlights , dogs screaming , dogs running everywhere . ', 'testimony_id': 'usc_shoah_19596', 'shelfmark': ['USC Shoah Foundation 19596'], 'token_start': 27217, 'token_end': 27232}\n",
      "http://localhost:8080/blacklab-server-2.1.0/lts/hits?patt=%5B%22dogs%22%5D+%5B%22were%22%5D+%5B%22ripping%22%5D+%5B%22to%22%5D+%5B%22pieces%22%5D+%5B%5D+%5B%22and%22%5D+%5B%22running%22%5D+%5B%22around%22%5D+%5B%22with%22%5D+%5B%22hands%22%5D+%5B%22and%22%5D+%5B%22pieces%22%5D+%5B%22of%22%5D+%5B%22flesh%22%5D+%5B%22all%22%5D+%5B%22over%22%5D+%5B%22the%22%5D+%5B%22place%22%5D+%5B%5D&waitfortotal=true&outputformat=json&prettyprint=no&wordsaroundhit=0\n",
      "{'left': '', 'match_word': 'dogs were ripping to pieces , and running around with hands and pieces of flesh all over the place . ', 'right': '', 'complete_match': 'dogs were ripping to pieces , and running around with hands and pieces of flesh all over the place . ', 'testimony_id': 'irn508694', 'shelfmark': ['USHMM RG-50.462*0070'], 'token_start': 14681, 'token_end': 14701}\n",
      "http://localhost:8080/blacklab-server-2.1.0/lts/hits?patt=%5B%22And%22%5D+%5B%22all%22%5D+%5B%22screams%22%5D+%5B%5D%7B0%2C3%7D+%5B%22and%22%5D+%5B%22six%22%5D+%5B%22dogs%22%5D+%5B%22and%22%5D+%5B%22one%22%5D+%5B%22French%22%5D+%5B%22girl%22%5D+%5B%22was%22%5D+%5B%22running%22%5D+%5B%5D+%5B%22And%22%5D+%5B%22they%22%5D+%5B%22was%22%5D+%5B%22running%22%5D+%5B%5D%7B0%2C3%7D&waitfortotal=true&outputformat=json&prettyprint=no&wordsaroundhit=0\n",
      "{'left': '', 'match_word': 'And all screams -- and six dogs and one French girl was running . And they was running ', 'right': '', 'complete_match': 'And all screams -- and six dogs and one French girl was running . And they was running ', 'testimony_id': 'usc_shoah_20800', 'shelfmark': ['USC Shoah Foundation 20800'], 'token_start': 16233, 'token_end': 16251}\n",
      "http://localhost:8080/blacklab-server-2.1.0/lts/hits?patt=%5B%22And%22%5D+%5B%22the%22%5D+%5B%22dog%22%5D+%5B%22would%22%5D+%5B%22run%22%5D+%5B%22and%22%5D+%5B%22tear%22%5D+%5B%22people%22%5D+%5B%22apart%22%5D+%5B%5D%7B0%2C3%7D+%5B%22but%22%5D+%5B%22tear%22%5D+%5B%22%27em%22%5D+%5B%22apart%22%5D+%5B%5D+%5B%22would%22%5D+%5B%22grab%22%5D+%5B%22by%22%5D+%5B%22parts%22%5D+%5B%22of%22%5D+%5B%22the%22%5D+%5B%22body%22%5D+%5B%5D&waitfortotal=true&outputformat=json&prettyprint=no&wordsaroundhit=0\n",
      "{'left': '', 'match_word': \"And the dog would run and tear people apart -- but tear 'em apart , would grab by parts of the body . \", 'right': '', 'complete_match': \"And the dog would run and tear people apart -- but tear 'em apart , would grab by parts of the body . \", 'testimony_id': 'usc_shoah_23626', 'shelfmark': ['USC Shoah Foundation 23626'], 'token_start': 10591, 'token_end': 10614}\n",
      "http://localhost:8080/blacklab-server-2.1.0/lts/hits?patt=%5B%22And%22%5D+%5B%22if%22%5D+%5B%22you%22%5D+%5B%22escaped%22%5D+%5B%5D+%5B%22and%22%5D+%5B%22the%22%5D+%5B%22dog%22%5D+%5B%22ran%22%5D+%5B%22right%22%5D+%5B%22after%22%5D+%5B%22you%22%5D+%5B%5D+%5B%22and%22%5D+%5B%22they%22%5D+%5B%22killed%22%5D+%5B%22you%22%5D+%5B%22anyway%22%5D+%5B%5D&waitfortotal=true&outputformat=json&prettyprint=no&wordsaroundhit=0\n",
      "{'left': '', 'match_word': 'And if you escaped , and the dog ran right after you , and they killed you anyway . ', 'right': '', 'complete_match': 'And if you escaped , and the dog ran right after you , and they killed you anyway . ', 'testimony_id': 'usc_shoah_2590', 'shelfmark': ['USC Shoah Foundation 2590'], 'token_start': 2798, 'token_end': 2817}\n",
      "http://localhost:8080/blacklab-server-2.1.0/lts/hits?patt=%5B%22They%22%5D+%5B%22was%22%5D+%5B%22carrying%22%5D+%5B%22rocks%22%5D+%5B%22from%22%5D+%5B%22one%22%5D+%5B%22place%22%5D+%5B%22to%22%5D+%5B%22the%22%5D+%5B%22other%22%5D+%5B%5D+%5B%22backwards%22%5D+%5B%22and%22%5D+%5B%22forwards%22%5D+%5B%5D+%5B%22And%22%5D+%5B%22they%22%5D+%5B%22had%22%5D+%5B%22to%22%5D+%5B%22do%22%5D+%5B%22it%22%5D+%5B%22in%22%5D+%5B%22running%22%5D+%5B%5D+%5B%22rush%22%5D+%5B%5D+%5B%22rush%22%5D+%5B%5D+%5B%22rush%22%5D+%5B%5D+%5B%22rush%22%5D+%5B%5D&waitfortotal=true&outputformat=json&prettyprint=no&wordsaroundhit=0\n",
      "{'left': '', 'match_word': 'They was carrying rocks from one place to the other , backwards and forwards . And they had to do it in running , rush , rush , rush , rush . ', 'right': '', 'complete_match': 'They was carrying rocks from one place to the other , backwards and forwards . And they had to do it in running , rush , rush , rush , rush . ', 'testimony_id': 'usc_shoah_19441', 'shelfmark': ['USC Shoah Foundation 19441'], 'token_start': 9496, 'token_end': 9528}\n",
      "http://localhost:8080/blacklab-server-2.1.0/lts/hits?patt=%5B%22Everything%22%5D+%5B%22was%22%5D+%5B%22rush%22%5D+%5B%5D+%5B%22rush%22%5D+%5B%5D+%5B%22rush%22%5D+%5B%5D+%5B%22rush%22%5D+%5B%5D+%5B%22running%22%5D+%5B%5D+%5B%22running%22%5D+%5B%5D&waitfortotal=true&outputformat=json&prettyprint=no&wordsaroundhit=0\n",
      "{'left': '', 'match_word': 'Everything was rush , rush , rush , rush , running , running . ', 'right': '', 'complete_match': 'Everything was rush , rush , rush , rush , running , running . ', 'testimony_id': 'usc_shoah_1680', 'shelfmark': ['USC Shoah Foundation 1680'], 'token_start': 10335, 'token_end': 10349}\n",
      "http://localhost:8080/blacklab-server-2.1.0/lts/hits?patt=%5B%22Everybody%22%5D+%5B%22run%22%5D+%5B%22to%22%5D+%5B%22the%22%5D+%5B%22marketplace%22%5D+%5B%5D+%5B%22Schnell%22%5D+%5B%5D+%5B%22make%22%5D+%5B%22it%22%5D+%5B%22fast%22%5D+%5B%5D&waitfortotal=true&outputformat=json&prettyprint=no&wordsaroundhit=0\n",
      "{'left': '', 'match_word': 'Everybody run to the marketplace . Schnell , make it fast . ', 'right': '', 'complete_match': 'Everybody run to the marketplace . Schnell , make it fast . ', 'testimony_id': 'HVT-91', 'shelfmark': ['Fortunoff Archive HVT-91'], 'token_start': 803, 'token_end': 815}\n",
      "http://localhost:8080/blacklab-server-2.1.0/lts/hits?patt=%5B%22Everybody%22%5D+%5B%22ran%22%5D+%5B%22out%22%5D+%5B%22in%22%5D+%5B%22a%22%5D+%5B%22hurry%22%5D+%5B%22quickly%22%5D+%5B%22to%22%5D+%5B%22the%22%5D+%5B%22Appelplatz%22%5D+%5B%5D&waitfortotal=true&outputformat=json&prettyprint=no&wordsaroundhit=0\n",
      "{'left': '', 'match_word': 'Everybody ran out in a hurry quickly to the Appelplatz . ', 'right': '', 'complete_match': 'Everybody ran out in a hurry quickly to the Appelplatz . ', 'testimony_id': 'irn509382', 'shelfmark': ['USHMM RG-50.544*0001'], 'token_start': 7904, 'token_end': 7915}\n",
      "http://localhost:8080/blacklab-server-2.1.0/lts/hits?patt=%5B%22And%22%5D+%5B%22it%22%5D+%5B%22was%22%5D+%5B%5D+%5B%22again%22%5D+%5B%5D+%5B%22a%22%5D+%5B%22big%22%5D+%5B%22rush%22%5D+%5B%5D+%5B%22rush%22%5D+%5B%5D+%5B%22run%22%5D+%5B%5D+%5B%22run%22%5D+%5B%5D+%5B%22go%22%5D+%5B%5D+%5B%22go%22%5D+%5B%5D&waitfortotal=true&outputformat=json&prettyprint=no&wordsaroundhit=0\n",
      "{'left': '', 'match_word': 'And it was , again , a big rush , rush , run , run , go , go . ', 'right': '', 'complete_match': 'And it was , again , a big rush , rush , run , run , go , go . ', 'testimony_id': 'usc_shoah_12506', 'shelfmark': ['USC Shoah Foundation 12506'], 'token_start': 14536, 'token_end': 14556}\n",
      "http://localhost:8080/blacklab-server-2.1.0/lts/hits?patt=%5B%22And%22%5D+%5B%22one%22%5D+%5B%22day%22%5D+%5B%22I%22%5D+%5B%22ran%22%5D+%5B%22to%22%5D+%5B%22the%22%5D+%5B%22wires%22%5D+%5B%5D+%5B%22I%22%5D+%5B%22said%22%5D+%5B%22I%22%5D+%5B%22had%22%5D+%5B%22enough%22%5D+%5B%22already%22%5D+%5B%22from%22%5D+%5B%22life%22%5D+%5B%5D&waitfortotal=true&outputformat=json&prettyprint=no&wordsaroundhit=0\n",
      "{'left': '', 'match_word': 'And one day I ran to the wires , I said I had enough already from life . ', 'right': '', 'complete_match': 'And one day I ran to the wires , I said I had enough already from life . ', 'testimony_id': 'usc_shoah_131', 'shelfmark': ['USC Shoah Foundation 131'], 'token_start': 7123, 'token_end': 7141}\n"
     ]
    },
    {
     "name": "stdout",
     "output_type": "stream",
     "text": [
      "http://localhost:8080/blacklab-server-2.1.0/lts/hits?patt=%5B%22the%22%5D+%5B%22other%22%5D+%5B%22guy%22%5D+%5B%22had%22%5D+%5B%22the%22%5D+%5B%22stamina%22%5D+%5B%22to%22%5D+%5B%22run%22%5D+%5B%22to%22%5D+%5B%22the%22%5D+%5B%22wires%22%5D+%5B%22and%22%5D+%5B%22take%22%5D+%5B%22his%22%5D+%5B%22life%22%5D&waitfortotal=true&outputformat=json&prettyprint=no&wordsaroundhit=0\n",
      "{'left': '', 'match_word': 'the other guy had the stamina to run to the wires and take his life ', 'right': '', 'complete_match': 'the other guy had the stamina to run to the wires and take his life ', 'testimony_id': 'usc_shoah_22869', 'shelfmark': ['USC Shoah Foundation 22869'], 'token_start': 14857, 'token_end': 14872}\n",
      "http://localhost:8080/blacklab-server-2.1.0/lts/hits?patt=%5B%22We%22%5D+%5B%22saw%22%5D+%5B%22a%22%5D+%5B%22few%22%5D+%5B%22people%22%5D+%5B%22commit%22%5D+%5B%22suicide%22%5D+%5B%5D+%5B%22run%22%5D+%5B%22to%22%5D+%5B%22the%22%5D+%5B%22wires%22%5D&waitfortotal=true&outputformat=json&prettyprint=no&wordsaroundhit=0\n",
      "{'left': '', 'match_word': 'We saw a few people commit suicide , run to the wires ', 'right': '', 'complete_match': 'We saw a few people commit suicide , run to the wires ', 'testimony_id': 'HVT-107', 'shelfmark': ['Fortunoff Archive HVT-107'], 'token_start': 12191, 'token_end': 12203}\n",
      "http://localhost:8080/blacklab-server-2.1.0/lts/hits?patt=%5B%22So%22%5D+%5B%22then%22%5D+%5B%22they%22%5D+%5B%22want%22%5D+%5B%22to%22%5D+%5B%22die%22%5D+%5B%22by%22%5D+%5B%22running%22%5D+%5B%22to%22%5D+%5B%22the%22%5D+%5B%22wires%22%5D+%5B%5D&waitfortotal=true&outputformat=json&prettyprint=no&wordsaroundhit=0\n",
      "{'left': '', 'match_word': 'So then they want to die by running to the wires . ', 'right': '', 'complete_match': 'So then they want to die by running to the wires . ', 'testimony_id': 'irn504753', 'shelfmark': ['USHMM RG-50.030*0259'], 'token_start': 9795, 'token_end': 9807}\n",
      "http://localhost:8080/blacklab-server-2.1.0/lts/hits?patt=%5B%22Quite%22%5D+%5B%22a%22%5D+%5B%22number%22%5D+%5B%22of%22%5D+%5B%22our%22%5D+%5B%22people%22%5D+%5B%22lost%22%5D+%5B%22their%22%5D+%5B%22mind%22%5D+%5B%22and%22%5D+%5B%22ran%22%5D+%5B%22into%22%5D+%5B%22those%22%5D+%5B%22wires%22%5D+%5B%5D+%5B%22and%22%5D+%5B%22we%22%5D+%5B%22could%22%5D+%5B%22see%22%5D+%5B%22the%22%5D+%5B%22people%22%5D+%5B%22lying%22%5D+%5B%22dead%22%5D+%5B%22there%22%5D+%5B%5D&waitfortotal=true&outputformat=json&prettyprint=no&wordsaroundhit=0\n",
      "{'left': '', 'match_word': 'Quite a number of our people lost their mind and ran into those wires , and we could see the people lying dead there . ', 'right': '', 'complete_match': 'Quite a number of our people lost their mind and ran into those wires , and we could see the people lying dead there . ', 'testimony_id': 'irn508721', 'shelfmark': ['USHMM RG-50.462*0080'], 'token_start': 19138, 'token_end': 19163}\n",
      "http://localhost:8080/blacklab-server-2.1.0/lts/hits?patt=%5B%22We%22%5D+%5B%22had%22%5D+%5B%22to%22%5D+%5B%22run%22%5D+%5B%22for%22%5D+%5B%22our%22%5D+%5B%22lives%22%5D+%5B%22and%22%5D+%5B%22I%22%5D+%5B%22think%22%5D+%5B%22my%22%5D+%5B%22father%22%5D+%5B%22took%22%5D+%5B%22me%22%5D+%5B%22on%22%5D+%5B%22his%22%5D+%5B%22arms%22%5D+%5B%5D&waitfortotal=true&outputformat=json&prettyprint=no&wordsaroundhit=0\n",
      "{'left': '', 'match_word': 'We had to run for our lives and I think my father took me on his arms . ', 'right': '', 'complete_match': 'We had to run for our lives and I think my father took me on his arms . ', 'testimony_id': 'irn506642', 'shelfmark': ['USHMM RG-50.106*0131'], 'token_start': 2649, 'token_end': 2667}\n",
      "http://localhost:8080/blacklab-server-2.1.0/lts/hits?patt=%5B%22there%22%5D+%5B%22was%22%5D+%5B%22no%22%5D+%5B%22other%22%5D+%5B%22way%22%5D+%5B%5D+%5B%22We%22%5D+%5B%22had%22%5D+%5B%22to%22%5D+%5B%22go%22%5D+%5B%22%3B%22%5D+%5B%22and%22%5D+%5B%22we%22%5D+%5B%22ran%22%5D+%5B%5D+%5B%22We%22%5D+%5B%22ran%22%5D+%5B%22for%22%5D+%5B%22our%22%5D+%5B%22lives%22%5D+%5B%5D&waitfortotal=true&outputformat=json&prettyprint=no&wordsaroundhit=0\n",
      "{'left': '', 'match_word': 'there was no other way . We had to go ; and we ran . We ran for our lives . ', 'right': '', 'complete_match': 'there was no other way . We had to go ; and we ran . We ran for our lives . ', 'testimony_id': 'irn506762', 'shelfmark': ['USHMM RG-50.030*0090'], 'token_start': 499, 'token_end': 520}\n",
      "http://localhost:8080/blacklab-server-2.1.0/lts/hits?patt=%5B%22And%22%5D+%5B%22I%22%5D+%5B%22would%22%5D+%5B%22run%22%5D+%5B%22for%22%5D+%5B%22my%22%5D+%5B%22life%22%5D+%5B%5D+%5B%22but%22%5D+%5B%22I%22%5D+%5B%22could%22%5D+%5B%5D+%5B%22%27%27%22%5D+%5B%22t%22%5D+%5B%5D&waitfortotal=true&outputformat=json&prettyprint=no&wordsaroundhit=0\n",
      "The following query returned a null result\n",
      "[\"And\"] [\"I\"] [\"would\"] [\"run\"] [\"for\"] [\"my\"] [\"life\"] [] [\"but\"] [\"I\"] [\"could\"] [] [\"''\"] [\"t\"] []\n",
      "not found\n",
      "main_leaf                                                             run\n",
      "mid_leaf                                                         for life\n",
      "label                      And I would run for my life, but I couldn?ó»t.\n",
      "testimony_id                                                    irn508255\n",
      "media_offset                                                            0\n",
      "media_index                                                             0\n",
      "original_sentences      And I would run for my life , but I could n?ó»...\n",
      "end_sentence_index                                                    830\n",
      "start_sentence_index                                                  831\n",
      "Name: 158, dtype: object\n",
      "http://localhost:8080/blacklab-server-2.1.0/lts/hits?patt=%5B%22We%22%5D+%5B%22were%22%5D+%5B%22running%22%5D+%5B%5D+%5B%22running%22%5D+%5B%22for%22%5D+%5B%22our%22%5D+%5B%22life%22%5D+%5B%22all%22%5D+%5B%22the%22%5D+%5B%22time%22%5D+%5B%5D&waitfortotal=true&outputformat=json&prettyprint=no&wordsaroundhit=0\n",
      "{'left': '', 'match_word': 'We were running , running for our life all the time . ', 'right': '', 'complete_match': 'We were running , running for our life all the time . ', 'testimony_id': 'usc_shoah_1530', 'shelfmark': ['USC Shoah Foundation 1530'], 'token_start': 11641, 'token_end': 11653}\n",
      "http://localhost:8080/blacklab-server-2.1.0/lts/hits?patt=%5B%22Take%22%5D+%5B%22jewelry%22%5D+%5B%5D+%5B%22Take%22%5D+%5B%22food%22%5D+%5B%5D+%5B%22But%22%5D+%5B%22nobody%22%5D+%5B%22thought%22%5D+%5B%22about%22%5D+%5B%22it%22%5D+%5B%5D+%5B%22because%22%5D+%5B%22everybody%22%5D+%5B%22was%22%5D+%5B%22running%22%5D+%5B%22for%22%5D+%5B%5D%7B0%2C3%7D+%5B%22for%22%5D+%5B%22their%22%5D+%5B%22lives%22%5D+%5B%5D&waitfortotal=true&outputformat=json&prettyprint=no&wordsaroundhit=0\n",
      "{'left': '', 'match_word': 'Take jewelry . Take food . But nobody thought about it , because everybody was running for -- for their lives . ', 'right': '', 'complete_match': 'Take jewelry . Take food . But nobody thought about it , because everybody was running for -- for their lives . ', 'testimony_id': 'usc_shoah_16887', 'shelfmark': ['USC Shoah Foundation 16887'], 'token_start': 3531, 'token_end': 3553}\n",
      "http://localhost:8080/blacklab-server-2.1.0/lts/hits?patt=%5B%22I%22%5D+%5B%22dreamt%22%5D+%5B%22again%22%5D+%5B%22and%22%5D+%5B%22again%22%5D+%5B%22and%22%5D+%5B%22again%22%5D+%5B%22that%22%5D+%5B%22we%22%5D+%5B%22two%22%5D+%5B%5D+%5B%22the%22%5D+%5B%22two%22%5D+%5B%22of%22%5D+%5B%22us%22%5D+%5B%22run%22%5D+%5B%5D&waitfortotal=true&outputformat=json&prettyprint=no&wordsaroundhit=0\n",
      "{'left': '', 'match_word': 'I dreamt again and again and again that we two , the two of us run . ', 'right': '', 'complete_match': 'I dreamt again and again and again that we two , the two of us run . ', 'testimony_id': 'irn504932', 'shelfmark': ['USHMM RG-50.030*0447'], 'token_start': 6068, 'token_end': 6085}\n",
      "http://localhost:8080/blacklab-server-2.1.0/lts/hits?patt=%5B%22I%22%5D+%5B%22dreamed%22%5D+%5B%22night%22%5D+%5B%22after%22%5D+%5B%22night%22%5D+%5B%22I%22%5D+%5B%22was%22%5D+%5B%22running%22%5D+%5B%5D+%5B%22running%22%5D+%5B%5D+%5B%22running%22%5D+%5B%5D&waitfortotal=true&outputformat=json&prettyprint=no&wordsaroundhit=0\n",
      "{'left': '', 'match_word': 'I dreamed night after night I was running , running , running . ', 'right': '', 'complete_match': 'I dreamed night after night I was running , running , running . ', 'testimony_id': 'irn504740', 'shelfmark': ['USHMM RG-50.030*0260'], 'token_start': 17191, 'token_end': 17204}\n"
     ]
    },
    {
     "name": "stdout",
     "output_type": "stream",
     "text": [
      "http://localhost:8080/blacklab-server-2.1.0/lts/hits?patt=%5B%22I%22%5D+%5B%22had%22%5D+%5B%22nightmares%22%5D+%5B%5D+%5B%22I%22%5D+%5B%22was%22%5D+%5B%22running%22%5D+%5B%22with%22%5D+%5B%22my%22%5D+%5B%22son%22%5D&waitfortotal=true&outputformat=json&prettyprint=no&wordsaroundhit=0\n",
      "{'left': '', 'match_word': 'I had nightmares . I was running with my son ', 'right': '', 'complete_match': 'I had nightmares . I was running with my son ', 'testimony_id': 'irn510555', 'shelfmark': ['USHMM RG-50.106*0152'], 'token_start': 12734, 'token_end': 12744}\n",
      "http://localhost:8080/blacklab-server-2.1.0/lts/hits?patt=%5B%22I%22%5D+%5B%22used%22%5D+%5B%22to%22%5D+%5B%22dream%22%5D+%5B%22that%22%5D+%5B%22I%22%5D+%5B%22was%22%5D+%5B%22running%22%5D+%5B%22from%22%5D+%5B%22the%22%5D+%5B%22Nazis%22%5D+%5B%22holding%22%5D+%5B%22the%22%5D+%5B%22children%22%5D+%5B%22in%22%5D+%5B%22my%22%5D+%5B%22arms%22%5D+%5B%5D&waitfortotal=true&outputformat=json&prettyprint=no&wordsaroundhit=0\n",
      "{'left': '', 'match_word': 'I used to dream that I was running from the Nazis holding the children in my arms . ', 'right': '', 'complete_match': 'I used to dream that I was running from the Nazis holding the children in my arms . ', 'testimony_id': 'irn511289', 'shelfmark': ['USHMM RG-50.165*0064'], 'token_start': 2145, 'token_end': 2163}\n",
      "http://localhost:8080/blacklab-server-2.1.0/lts/hits?patt=%5B%22I%22%5D+%5B%22always%22%5D+%5B%22dream%22%5D+%5B%22of%22%5D+%5B%22running%22%5D+%5B%22and%22%5D+%5B%22being%22%5D+%5B%22chased%22%5D&waitfortotal=true&outputformat=json&prettyprint=no&wordsaroundhit=0\n",
      "{'left': '', 'match_word': 'I always dream of running and being chased ', 'right': '', 'complete_match': 'I always dream of running and being chased ', 'testimony_id': 'irn511278', 'shelfmark': ['USHMM RG-50.165*0053'], 'token_start': 10391, 'token_end': 10399}\n",
      "http://localhost:8080/blacklab-server-2.1.0/lts/hits?patt=%5B%22we%22%5D+%5B%22saw%22%5D+%5B%22far%22%5D+%5B%22away%22%5D+%5B%22naked%22%5D+%5B%22women%22%5D+%5B%22running%22%5D&waitfortotal=true&outputformat=json&prettyprint=no&wordsaroundhit=0\n",
      "{'left': '', 'match_word': 'we saw far away naked women running ', 'right': '', 'complete_match': 'we saw far away naked women running ', 'testimony_id': 'irn508637', 'shelfmark': ['USHMM RG-50.462*0016'], 'token_start': 16766, 'token_end': 16773}\n",
      "http://localhost:8080/blacklab-server-2.1.0/lts/hits?patt=%5B%22I%22%5D+%5B%22was%22%5D+%5B%22running%22%5D+%5B%22out%22%5D+%5B%22naked%22%5D+%5B%22outside%22%5D+%5B%22to%22%5D+%5B%22freeze%22%5D&waitfortotal=true&outputformat=json&prettyprint=no&wordsaroundhit=0\n",
      "{'left': '', 'match_word': 'I was running out naked outside to freeze ', 'right': '', 'complete_match': 'I was running out naked outside to freeze ', 'testimony_id': 'usc_shoah_166', 'shelfmark': ['USC Shoah Foundation 166'], 'token_start': 13901, 'token_end': 13909}\n",
      "http://localhost:8080/blacklab-server-2.1.0/lts/hits?patt=%5B%22I%22%5D+%5B%22saw%22%5D+%5B%22silhouettes%22%5D+%5B%22of%22%5D+%5B%22naked%22%5D+%5B%22women%22%5D+%5B%5D+%5B%22running%22%5D+%5B%5D&waitfortotal=true&outputformat=json&prettyprint=no&wordsaroundhit=0\n",
      "{'left': '', 'match_word': 'I saw silhouettes of naked women , running . ', 'right': '', 'complete_match': 'I saw silhouettes of naked women , running . ', 'testimony_id': 'irn507303', 'shelfmark': ['USHMM RG-50.030*0233'], 'token_start': 13329, 'token_end': 13338}\n",
      "http://localhost:8080/blacklab-server-2.1.0/lts/hits?patt=%5B%22And%22%5D+%5B%22when%22%5D+%5B%22we%22%5D+%5B%22were%22%5D+%5B%22standing%22%5D+%5B%22there%22%5D+%5B%22naked%22%5D+%5B%5D+%5B%22waiting%22%5D+%5B%22to%22%5D+%5B%22be%22%5D+%5B%22processed%22%5D+%5B%22or%22%5D+%5B%22whatever%22%5D+%5B%5D+%5B%22the%22%5D+%5B%22women%22%5D+%5B%22run%22%5D+%5B%22by%22%5D+%5B%22naked%22%5D+%5B%5D+%5B%22screaming%22%5D+%5B%5D&waitfortotal=true&outputformat=json&prettyprint=no&wordsaroundhit=0\n",
      "{'left': '', 'match_word': 'And when we were standing there naked , waiting to be processed or whatever , the women run by naked , screaming . ', 'right': '', 'complete_match': 'And when we were standing there naked , waiting to be processed or whatever , the women run by naked , screaming . ', 'testimony_id': 'irn504871', 'shelfmark': ['USHMM RG-50.030*0378'], 'token_start': 24239, 'token_end': 24262}\n",
      "http://localhost:8080/blacklab-server-2.1.0/lts/hits?patt=%5B%22How%22%5D+%5B%22many%22%5D+%5B%22men%22%5D+%5B%22you%22%5D+%5B%22see%22%5D+%5B%22run%22%5D+%5B%22around%22%5D+%5B%22naked%22%5D+%5B%22and%22%5D+%5B%22woman%22%5D+%5B%22naked%22%5D+%5B%22till%22%5D+%5B%22they%22%5D+%5B%22give%22%5D+%5B%22you%22%5D+%5B%22something%22%5D+%5B%22to%22%5D+%5B%22cover%22%5D+%5B%5D&waitfortotal=true&outputformat=json&prettyprint=no&wordsaroundhit=0\n",
      "{'left': '', 'match_word': 'How many men you see run around naked and woman naked till they give you something to cover . ', 'right': '', 'complete_match': 'How many men you see run around naked and woman naked till they give you something to cover . ', 'testimony_id': 'HVT-163', 'shelfmark': ['Fortunoff Archive HVT-163'], 'token_start': 12994, 'token_end': 13013}\n",
      "http://localhost:8080/blacklab-server-2.1.0/lts/hits?patt=%5B%22we%22%5D+%5B%22started%22%5D+%5B%22running%22%5D+%5B%5D+%5B%22And%22%5D+%5B%22they%22%5D+%5B%22started%22%5D+%5B%22shooting%22%5D&waitfortotal=true&outputformat=json&prettyprint=no&wordsaroundhit=0\n",
      "{'left': '', 'match_word': 'we started running . And they started shooting ', 'right': '', 'complete_match': 'we started running . And they started shooting ', 'testimony_id': 'usc_shoah_21609', 'shelfmark': ['USC Shoah Foundation 21609'], 'token_start': 1514, 'token_end': 1522}\n",
      "http://localhost:8080/blacklab-server-2.1.0/lts/hits?patt=%5B%22And%22%5D+%5B%22if%22%5D+%5B%22you%22%5D+%5B%22start%22%5D+%5B%22to%22%5D+%5B%22run%22%5D+%5B%5D+%5B%22they%22%5D+%5B%22start%22%5D+%5B%22to%22%5D+%5B%22shoot%22%5D&waitfortotal=true&outputformat=json&prettyprint=no&wordsaroundhit=0\n",
      "{'left': '', 'match_word': 'And if you start to run , they start to shoot ', 'right': '', 'complete_match': 'And if you start to run , they start to shoot ', 'testimony_id': 'usc_shoah_24411', 'shelfmark': ['USC Shoah Foundation 24411'], 'token_start': 5438, 'token_end': 5449}\n",
      "http://localhost:8080/blacklab-server-2.1.0/lts/hits?patt=%5B%22And%22%5D+%5B%22they%22%5D+%5B%22start%22%5D+%5B%22running%22%5D+%5B%5D+%5B%22and%22%5D+%5B%22they%22%5D+%5B%22start%22%5D+%5B%22shooting%22%5D&waitfortotal=true&outputformat=json&prettyprint=no&wordsaroundhit=0\n",
      "{'left': '', 'match_word': 'And they start running , and they start shooting ', 'right': '', 'complete_match': 'And they start running , and they start shooting ', 'testimony_id': 'irn504753', 'shelfmark': ['USHMM RG-50.030*0259'], 'token_start': 16811, 'token_end': 16820}\n",
      "http://localhost:8080/blacklab-server-2.1.0/lts/hits?patt=%5B%22They%22%5D+%5B%22spotted%22%5D+%5B%22me%22%5D+%5B%22running%22%5D+%5B%5D+%5B%22And%22%5D+%5B%22they%22%5D+%5B%22were%22%5D+%5B%22shooting%22%5D&waitfortotal=true&outputformat=json&prettyprint=no&wordsaroundhit=0\n",
      "{'left': '', 'match_word': 'They spotted me running . And they were shooting ', 'right': '', 'complete_match': 'They spotted me running . And they were shooting ', 'testimony_id': 'usc_shoah_10406', 'shelfmark': ['USC Shoah Foundation 10406'], 'token_start': 19617, 'token_end': 19626}\n",
      "http://localhost:8080/blacklab-server-2.1.0/lts/hits?patt=%5B%22mothers%22%5D+%5B%22started%22%5D+%5B%22running%22%5D+%5B%5D+%5B%22And%22%5D+%5B%22they%22%5D+%5B%22were%22%5D+%5B%22shooting%22%5D+%5B%22over%22%5D+%5B%22our%22%5D+%5B%22heads%22%5D+%5B%5D&waitfortotal=true&outputformat=json&prettyprint=no&wordsaroundhit=0\n",
      "{'left': '', 'match_word': 'mothers started running . And they were shooting over our heads . ', 'right': '', 'complete_match': 'mothers started running . And they were shooting over our heads . ', 'testimony_id': 'usc_shoah_1857', 'shelfmark': ['USC Shoah Foundation 1857'], 'token_start': 9130, 'token_end': 9142}\n",
      "http://localhost:8080/blacklab-server-2.1.0/lts/hits?patt=%5B%22We%22%5D+%5B%22end%22%5D+%5B%22up%22%5D+%5B%22running%22%5D+%5B%22and%22%5D+%5B%22running%22%5D+%5B%22and%22%5D+%5B%22running%22%5D+%5B%22all%22%5D+%5B%22day%22%5D+%5B%22long%22%5D+%5B%5D&waitfortotal=true&outputformat=json&prettyprint=no&wordsaroundhit=0\n"
     ]
    },
    {
     "name": "stdout",
     "output_type": "stream",
     "text": [
      "{'left': '', 'match_word': 'We end up running and running and running all day long . ', 'right': '', 'complete_match': 'We end up running and running and running all day long . ', 'testimony_id': 'usc_shoah_22892', 'shelfmark': ['USC Shoah Foundation 22892'], 'token_start': 9897, 'token_end': 9909}\n",
      "http://localhost:8080/blacklab-server-2.1.0/lts/hits?patt=%5B%22It%22%5D+%5B%22was%22%5D+%5B%5D+%5B%22just%22%5D+%5B%22walking%22%5D+%5B%22slowly%22%5D+%5B%22or%22%5D+%5B%22whatever%22%5D+%5B%5D+%5B%22you%22%5D+%5B%22constantly%22%5D+%5B%22had%22%5D+%5B%22to%22%5D+%5B%22run%22%5D+%5B%5D&waitfortotal=true&outputformat=json&prettyprint=no&wordsaroundhit=0\n",
      "{'left': '', 'match_word': \"It was n't just walking slowly or whatever , you constantly had to run . \", 'right': '', 'complete_match': \"It was n't just walking slowly or whatever , you constantly had to run . \", 'testimony_id': 'irn504575', 'shelfmark': ['USHMM RG-50.030*0080'], 'token_start': 9153, 'token_end': 9168}\n",
      "http://localhost:8080/blacklab-server-2.1.0/lts/hits?patt=%5B%22They%22%5D+%5B%22had%22%5D+%5B%22beaten%22%5D+%5B%22us%22%5D+%5B%22constantly%22%5D+%5B%5D+%5B%22running%22%5D+%5B%5D&waitfortotal=true&outputformat=json&prettyprint=no&wordsaroundhit=0\n",
      "{'left': '', 'match_word': 'They had beaten us constantly , running . ', 'right': '', 'complete_match': 'They had beaten us constantly , running . ', 'testimony_id': 'usc_shoah_10098', 'shelfmark': ['USC Shoah Foundation 10098'], 'token_start': 20923, 'token_end': 20931}\n",
      "http://localhost:8080/blacklab-server-2.1.0/lts/hits?patt=%5B%22We%22%5D+%5B%22had%22%5D+%5B%22to%22%5D+%5B%22run%22%5D+%5B%22%3B%22%5D+%5B%22even%22%5D+%5B%22the%22%5D+%5B%22little%22%5D+%5B%22children%22%5D+%5B%22we%22%5D+%5B%22had%22%5D+%5B%22to%22%5D+%5B%22carry%22%5D+%5B%5D&waitfortotal=true&outputformat=json&prettyprint=no&wordsaroundhit=0\n",
      "{'left': '', 'match_word': 'We had to run ; even the little children we had to carry . ', 'right': '', 'complete_match': 'We had to run ; even the little children we had to carry . ', 'testimony_id': 'irn504860', 'shelfmark': ['USHMM RG-50.030*0367'], 'token_start': 3158, 'token_end': 3172}\n",
      "http://localhost:8080/blacklab-server-2.1.0/lts/hits?patt=%5B%22Because%22%5D+%5B%22I%22%5D+%5B%22saw%22%5D+%5B%22on%22%5D+%5B%22the%22%5D+%5B%22Prepitch%22%5D+%5B%5D%7B0%2C3%7D+%5B%22ph%22%5D+%5B%5D%7B0%2C3%7D+%5B%22how%22%5D+%5B%22running%22%5D+%5B%22people%22%5D+%5B%22left%22%5D+%5B%22their%22%5D+%5B%22children%22%5D+%5B%22to%22%5D+%5B%22die%22%5D+%5B%5D&waitfortotal=true&outputformat=json&prettyprint=no&wordsaroundhit=0\n",
      "{'left': '', 'match_word': 'Because I saw on the Prepitch ( ph ) how running people left their children to die . ', 'right': '', 'complete_match': 'Because I saw on the Prepitch ( ph ) how running people left their children to die . ', 'testimony_id': 'irn504926', 'shelfmark': ['USHMM RG-50.549.01*0022'], 'token_start': 8449, 'token_end': 8467}\n",
      "http://localhost:8080/blacklab-server-2.1.0/lts/hits?patt=%5B%22And%22%5D+%5B%22all%22%5D+%5B%22I%22%5D+%5B%22could%22%5D+%5B%22see%22%5D+%5B%22is%22%5D+%5B%22SS%22%5D+%5B%22running%22%5D+%5B%22like%22%5D+%5B%22wild%22%5D+%5B%22ducks%22%5D+%5B%5D+%5B%22shooting%22%5D+%5B%5D+%5B%22killing%22%5D+%5B%5D+%5B%22people%22%5D+%5B%22running%22%5D+%5B%5D+%5B%22children%22%5D+%5B%22running%22%5D+%5B%5D&waitfortotal=true&outputformat=json&prettyprint=no&wordsaroundhit=0\n",
      "{'left': '', 'match_word': 'And all I could see is SS running like wild ducks , shooting , killing , people running , children running . ', 'right': '', 'complete_match': 'And all I could see is SS running like wild ducks , shooting , killing , people running , children running . ', 'testimony_id': 'usc_shoah_8725', 'shelfmark': ['USC Shoah Foundation 8725'], 'token_start': 11863, 'token_end': 11885}\n",
      "http://localhost:8080/blacklab-server-2.1.0/lts/hits?patt=%5B%22There%22%5D+%5B%5D%7B0%2C3%7D+%5B%22and%22%5D+%5B%22there%22%5D+%5B%22were%22%5D+%5B%22beating%22%5D+%5B%22Jews%22%5D+%5B%22like%22%5D+%5B%22hell%22%5D&waitfortotal=true&outputformat=json&prettyprint=no&wordsaroundhit=0\n",
      "{'left': '', 'match_word': 'There -- and there were beating Jews like hell ', 'right': '', 'complete_match': 'There -- and there were beating Jews like hell ', 'testimony_id': 'HVT-120', 'shelfmark': ['Fortunoff Archive HVT-120'], 'token_start': 7593, 'token_end': 7602}\n",
      "http://localhost:8080/blacklab-server-2.1.0/lts/hits?patt=%5B%22They%22%5D+%5B%22beat%22%5D+%5B%22the%22%5D+%5B%22Hell%22%5D+%5B%22out%22%5D+%5B%22of%22%5D+%5B%22me%22%5D+%5B%5D&waitfortotal=true&outputformat=json&prettyprint=no&wordsaroundhit=0\n",
      "{'left': '', 'match_word': 'They beat the Hell out of me . ', 'right': '', 'complete_match': 'They beat the Hell out of me . ', 'testimony_id': 'irn504926', 'shelfmark': ['USHMM RG-50.549.01*0022'], 'token_start': 11620, 'token_end': 11628}\n",
      "http://localhost:8080/blacklab-server-2.1.0/lts/hits?patt=%5B%22They%22%5D+%5B%22beat%22%5D+%5B%22the%22%5D+%5B%22hell%22%5D+%5B%22out%22%5D+%5B%22of%22%5D+%5B%22them%22%5D+%5B%5D+%5B%22and%22%5D+%5B%22that%22%5D+%5B%22was%22%5D+%5B%22the%22%5D+%5B%22end%22%5D+%5B%22of%22%5D+%5B%22them%22%5D+%5B%5D&waitfortotal=true&outputformat=json&prettyprint=no&wordsaroundhit=0\n",
      "{'left': '', 'match_word': 'They beat the hell out of them , and that was the end of them . ', 'right': '', 'complete_match': 'They beat the hell out of them , and that was the end of them . ', 'testimony_id': 'usc_shoah_12882', 'shelfmark': ['USC Shoah Foundation 12882'], 'token_start': 9674, 'token_end': 9690}\n",
      "http://localhost:8080/blacklab-server-2.1.0/lts/hits?patt=%5B%22when%22%5D+%5B%22you%22%5D+%5B%22left%22%5D+%5B%22school%22%5D+%5B%5D+%5B%22they%22%5D+%5B%22would%22%5D+%5B%22gather%22%5D+%5B%22outside%22%5D+%5B%22near%22%5D+%5B%22the%22%5D+%5B%22schools%22%5D+%5B%5D+%5B%22and%22%5D+%5B%22they%22%5D+%5B%22would%22%5D+%5B%22beat%22%5D+%5B%22the%22%5D+%5B%22hell%22%5D+%5B%22out%22%5D+%5B%22of%22%5D+%5B%22us%22%5D+%5B%5D&waitfortotal=true&outputformat=json&prettyprint=no&wordsaroundhit=0\n",
      "{'left': '', 'match_word': 'when you left school , they would gather outside near the schools , and they would beat the hell out of us . ', 'right': '', 'complete_match': 'when you left school , they would gather outside near the schools , and they would beat the hell out of us . ', 'testimony_id': 'usc_shoah_3874', 'shelfmark': ['USC Shoah Foundation 3874'], 'token_start': 2883, 'token_end': 2906}\n",
      "http://localhost:8080/blacklab-server-2.1.0/lts/hits?patt=%5B%22they%22%5D+%5B%22got%22%5D+%5B%22him%22%5D+%5B%22in%22%5D+%5B%22the%22%5D+%5B%22middle%22%5D+%5B%5D+%5B%22and%22%5D+%5B%22they%22%5D+%5B%22were%22%5D+%5B%22going%22%5D+%5B%22to%22%5D+%5B%22beat%22%5D+%5B%22the%22%5D+%5B%22hell%22%5D+%5B%22out%22%5D+%5B%22of%22%5D+%5B%22him%22%5D+%5B%5D&waitfortotal=true&outputformat=json&prettyprint=no&wordsaroundhit=0\n",
      "{'left': '', 'match_word': 'they got him in the middle , and they were going to beat the hell out of him . ', 'right': '', 'complete_match': 'they got him in the middle , and they were going to beat the hell out of him . ', 'testimony_id': 'usc_shoah_9601', 'shelfmark': ['USC Shoah Foundation 9601'], 'token_start': 11911, 'token_end': 11930}\n",
      "http://localhost:8080/blacklab-server-2.1.0/lts/hits?patt=%5B%22they%22%5D+%5B%22were%22%5D+%5B%22chasing%22%5D+%5B%22us%22%5D+%5B%22and%22%5D+%5B%22beating%22%5D+%5B%22with%22%5D+%5B%22bibs%22%5D&waitfortotal=true&outputformat=json&prettyprint=no&wordsaroundhit=0\n",
      "{'left': '', 'match_word': 'they were chasing us and beating with bibs ', 'right': '', 'complete_match': 'they were chasing us and beating with bibs ', 'testimony_id': 'HVT-91', 'shelfmark': ['Fortunoff Archive HVT-91'], 'token_start': 1113, 'token_end': 1121}\n",
      "http://localhost:8080/blacklab-server-2.1.0/lts/hits?patt=%5B%22So%22%5D+%5B%22they%22%5D+%5B%22used%22%5D+%5B%22to%22%5D+%5B%22get%22%5D+%5B%22mad%22%5D+%5B%22%3B%22%5D+%5B%22and%22%5D+%5B%22they%22%5D+%5B%22used%22%5D+%5B%22to%22%5D+%5B%22beat%22%5D+%5B%22up%22%5D+%5B%22those%22%5D+%5B%22old%22%5D+%5B%22inmates%22%5D&waitfortotal=true&outputformat=json&prettyprint=no&wordsaroundhit=0\n",
      "{'left': '', 'match_word': 'So they used to get mad ; and they used to beat up those old inmates ', 'right': '', 'complete_match': 'So they used to get mad ; and they used to beat up those old inmates ', 'testimony_id': 'irn504610', 'shelfmark': ['USHMM RG-50.030*0116'], 'token_start': 6871, 'token_end': 6887}\n"
     ]
    },
    {
     "name": "stdout",
     "output_type": "stream",
     "text": [
      "http://localhost:8080/blacklab-server-2.1.0/lts/hits?patt=%5B%22We%22%5D+%5B%22were%22%5D+%5B%22chased%22%5D+%5B%22three%22%5D+%5B%22kilometers%22%5D+%5B%5D+%5B%22beaten%22%5D+%5B%22on%22%5D+%5B%22the%22%5D+%5B%22way%22%5D+%5B%5D&waitfortotal=true&outputformat=json&prettyprint=no&wordsaroundhit=0\n",
      "{'left': '', 'match_word': 'We were chased three kilometers , beaten on the way . ', 'right': '', 'complete_match': 'We were chased three kilometers , beaten on the way . ', 'testimony_id': 'usc_shoah_5799', 'shelfmark': ['USC Shoah Foundation 5799'], 'token_start': 10636, 'token_end': 10647}\n",
      "http://localhost:8080/blacklab-server-2.1.0/lts/hits?patt=%5B%22They%22%5D+%5B%22were%22%5D+%5B%22chasing%22%5D+%5B%22you%22%5D+%5B%5D+%5B%22beating%22%5D+%5B%22you%22%5D+%5B%5D+%5B%22taking%22%5D+%5B%22your%22%5D+%5B%22number%22%5D&waitfortotal=true&outputformat=json&prettyprint=no&wordsaroundhit=0\n",
      "{'left': '', 'match_word': 'They were chasing you , beating you , taking your number ', 'right': '', 'complete_match': 'They were chasing you , beating you , taking your number ', 'testimony_id': 'irn504803', 'shelfmark': ['USHMM RG-50.030*0308'], 'token_start': 7806, 'token_end': 7817}\n",
      "http://localhost:8080/blacklab-server-2.1.0/lts/hits?patt=%5B%22we%22%5D+%5B%22were%22%5D+%5B%22chased%22%5D+%5B%22there%22%5D+%5B%5D+%5B%22and%22%5D+%5B%22beaten%22%5D+%5B%5D&waitfortotal=true&outputformat=json&prettyprint=no&wordsaroundhit=0\n",
      "{'left': '', 'match_word': 'we were chased there , and beaten . ', 'right': '', 'complete_match': 'we were chased there , and beaten . ', 'testimony_id': 'irn510711', 'shelfmark': ['USHMM RG-50.156*0057'], 'token_start': 18365, 'token_end': 18373}\n",
      "http://localhost:8080/blacklab-server-2.1.0/lts/hits?patt=%5B%22the%22%5D+%5B%22people%22%5D+%5B%22were%22%5D+%5B%22crying%22%5D+%5B%5D+%5B%22they%22%5D+%5B%22were%22%5D+%5B%22beaten%22%5D+%5B%5D+%5B%22they%22%5D+%5B%22were%22%5D+%5B%22chased%22%5D+%5B%5D&waitfortotal=true&outputformat=json&prettyprint=no&wordsaroundhit=0\n",
      "{'left': '', 'match_word': 'the people were crying , they were beaten , they were chased . ', 'right': '', 'complete_match': 'the people were crying , they were beaten , they were chased . ', 'testimony_id': 'irn506768', 'shelfmark': ['USHMM RG-50.030*0396'], 'token_start': 33759, 'token_end': 33772}\n",
      "http://localhost:8080/blacklab-server-2.1.0/lts/hits?patt=%5B%22they%22%5D+%5B%22caught%22%5D+%5B%22him%22%5D+%5B%5D+%5B%22They%22%5D+%5B%22beat%22%5D+%5B%22him%22%5D+%5B%22up%22%5D+%5B%5D&waitfortotal=true&outputformat=json&prettyprint=no&wordsaroundhit=0\n",
      "{'left': '', 'match_word': 'they caught him . They beat him up . ', 'right': '', 'complete_match': 'they caught him . They beat him up . ', 'testimony_id': 'HVT-70', 'shelfmark': ['Fortunoff Archive HVT-70'], 'token_start': 14435, 'token_end': 14444}\n",
      "http://localhost:8080/blacklab-server-2.1.0/lts/hits?patt=%5B%22A%22%5D+%5B%22lot%22%5D+%5B%22of%22%5D+%5B%22times%22%5D+%5B%22we%22%5D+%5B%22got%22%5D+%5B%22caught%22%5D+%5B%5D+%5B%22beaten%22%5D+%5B%22and%22%5D+%5B%22caught%22%5D+%5B%5D&waitfortotal=true&outputformat=json&prettyprint=no&wordsaroundhit=0\n",
      "{'left': '', 'match_word': 'A lot of times we got caught , beaten and caught . ', 'right': '', 'complete_match': 'A lot of times we got caught , beaten and caught . ', 'testimony_id': 'irn504722', 'shelfmark': ['USHMM RG-50.030*0240'], 'token_start': 9456, 'token_end': 9468}\n",
      "http://localhost:8080/blacklab-server-2.1.0/lts/hits?patt=%5B%22They%22%5D+%5B%22caught%22%5D+%5B%22him%22%5D+%5B%22and%22%5D+%5B%22they%22%5D+%5B%22beat%22%5D+%5B%22him%22%5D+%5B%22up%22%5D+%5B%5D&waitfortotal=true&outputformat=json&prettyprint=no&wordsaroundhit=0\n",
      "{'left': '', 'match_word': 'They caught him and they beat him up . ', 'right': '', 'complete_match': 'They caught him and they beat him up . ', 'testimony_id': 'usc_shoah_19130', 'shelfmark': ['USC Shoah Foundation 19130'], 'token_start': 2997, 'token_end': 3006}\n",
      "http://localhost:8080/blacklab-server-2.1.0/lts/hits?patt=%5B%22they%22%5D+%5B%22caught%22%5D+%5B%22me%22%5D+%5B%5D+%5B%22I%22%5D+%5B%22got%22%5D+%5B%22beaten%22%5D+%5B%22on%22%5D+%5B%22the%22%5D+%5B%5D%7B0%2C50%7D+%5B%22by%22%5D+%5B%22the%22%5D+%5B%22SS%22%5D+%5B%22Wacht%22%5D+%5B%22Stube%22%5D&waitfortotal=true&outputformat=json&prettyprint=no&wordsaroundhit=0\n",
      "{'left': '', 'match_word': 'they caught me . I got beaten on the ... by the SS Wacht Stube ', 'right': '', 'complete_match': 'they caught me . I got beaten on the ... by the SS Wacht Stube ', 'testimony_id': 'irn504634', 'shelfmark': ['USHMM RG-50.030*0140'], 'token_start': 9262, 'token_end': 9277}\n",
      "http://localhost:8080/blacklab-server-2.1.0/lts/hits?patt=%5B%22They%22%5D+%5B%22catched%22%5D+%5B%22us%22%5D+%5B%5D+%5B%22They%22%5D+%5B%22beat%22%5D+%5B%22us%22%5D+%5B%5D&waitfortotal=true&outputformat=json&prettyprint=no&wordsaroundhit=0\n",
      "{'left': '', 'match_word': 'They catched us . They beat us . ', 'right': '', 'complete_match': 'They catched us . They beat us . ', 'testimony_id': 'usc_shoah_1222', 'shelfmark': ['USC Shoah Foundation 1222'], 'token_start': 2531, 'token_end': 2539}\n",
      "http://localhost:8080/blacklab-server-2.1.0/lts/hits?patt=%5B%22gave%22%5D+%5B%22him%22%5D+%5B%22my%22%5D+%5B%22bread%22%5D+%5B%5D+%5B%22And%22%5D+%5B%22they%22%5D+%5B%22started%22%5D+%5B%22beating%22%5D+%5B%22me%22%5D+%5B%22up%22%5D+%5B%5D&waitfortotal=true&outputformat=json&prettyprint=no&wordsaroundhit=0\n",
      "{'left': '', 'match_word': 'gave him my bread . And they started beating me up . ', 'right': '', 'complete_match': 'gave him my bread . And they started beating me up . ', 'testimony_id': 'usc_shoah_16395', 'shelfmark': ['USC Shoah Foundation 16395'], 'token_start': 12688, 'token_end': 12700}\n",
      "http://localhost:8080/blacklab-server-2.1.0/lts/hits?patt=%5B%22she%22%5D+%5B%22grabbed%22%5D+%5B%22that%22%5D+%5B%22bread%22%5D+%5B%22and%22%5D+%5B%22he%22%5D+%5B%22started%22%5D+%5B%22beating%22%5D+%5B%22on%22%5D+%5B%22her%22%5D+%5B%22and%22%5D+%5B%22beat%22%5D+%5B%22on%22%5D+%5B%22her%22%5D+%5B%22and%22%5D+%5B%22beat%22%5D+%5B%22on%22%5D+%5B%22her%22%5D&waitfortotal=true&outputformat=json&prettyprint=no&wordsaroundhit=0\n",
      "{'left': '', 'match_word': 'she grabbed that bread and he started beating on her and beat on her and beat on her ', 'right': '', 'complete_match': 'she grabbed that bread and he started beating on her and beat on her and beat on her ', 'testimony_id': 'irn504578', 'shelfmark': ['USHMM RG-50.030*0083'], 'token_start': 5686, 'token_end': 5704}\n",
      "http://localhost:8080/blacklab-server-2.1.0/lts/hits?patt=%5B%22they%22%5D+%5B%22beat%22%5D+%5B%22me%22%5D+%5B%22up%22%5D+%5B%22for%22%5D+%5B%22the%22%5D+%5B%22bread%22%5D&waitfortotal=true&outputformat=json&prettyprint=no&wordsaroundhit=0\n",
      "{'left': '', 'match_word': 'they beat me up for the bread ', 'right': '', 'complete_match': 'they beat me up for the bread ', 'testimony_id': 'irn504851', 'shelfmark': ['USHMM RG-50.030*0358'], 'token_start': 8009, 'token_end': 8016}\n",
      "http://localhost:8080/blacklab-server-2.1.0/lts/hits?patt=%5B%22And%22%5D+%5B%22every%22%5D+%5B%22day%22%5D+%5B%22when%22%5D+%5B%22they%22%5D+%5B%22found%22%5D+%5B%22something%22%5D+%5B%5D+%5B%22a%22%5D+%5B%22piece%22%5D+%5B%22of%22%5D+%5B%22bread%22%5D+%5B%22from%22%5D+%5B%22somebody%22%5D+%5B%5D+%5B%22They%22%5D+%5B%22beat%22%5D+%5B%22him%22%5D+%5B%22so%22%5D+%5B%22up%22%5D&waitfortotal=true&outputformat=json&prettyprint=no&wordsaroundhit=0\n",
      "{'left': '', 'match_word': 'And every day when they found something , a piece of bread from somebody . They beat him so up ', 'right': '', 'complete_match': 'And every day when they found something , a piece of bread from somebody . They beat him so up ', 'testimony_id': 'HVT-68', 'shelfmark': ['Fortunoff Archive HVT-68'], 'token_start': 18767, 'token_end': 18787}\n",
      "http://localhost:8080/blacklab-server-2.1.0/lts/hits?patt=%5B%22And%22%5D+%5B%22he%22%5D+%5B%22found%22%5D+%5B%22the%22%5D+%5B%22piece%22%5D+%5B%22of%22%5D+%5B%22bread%22%5D+%5B%5D+%5B%22So%22%5D+%5B%22he%22%5D+%5B%22beat%22%5D+%5B%22me%22%5D+%5B%22up%22%5D&waitfortotal=true&outputformat=json&prettyprint=no&wordsaroundhit=0\n",
      "{'left': '', 'match_word': 'And he found the piece of bread . So he beat me up ', 'right': '', 'complete_match': 'And he found the piece of bread . So he beat me up ', 'testimony_id': 'usc_shoah_6277', 'shelfmark': ['USC Shoah Foundation 6277'], 'token_start': 15279, 'token_end': 15292}\n"
     ]
    },
    {
     "name": "stdout",
     "output_type": "stream",
     "text": [
      "http://localhost:8080/blacklab-server-2.1.0/lts/hits?patt=%5B%22they%22%5D+%5B%22beat%22%5D+%5B%22my%22%5D+%5B%22father%22%5D+%5B%22with%22%5D+%5B%22this%22%5D+%5B%5D&waitfortotal=true&outputformat=json&prettyprint=no&wordsaroundhit=0\n",
      "{'left': '', 'match_word': 'they beat my father with this . ', 'right': '', 'complete_match': 'they beat my father with this . ', 'testimony_id': 'usc_shoah_10012', 'shelfmark': ['USC Shoah Foundation 10012'], 'token_start': 5001, 'token_end': 5008}\n",
      "http://localhost:8080/blacklab-server-2.1.0/lts/hits?patt=%5B%22I%22%5D+%5B%22have%22%5D+%5B%22seen%22%5D+%5B%22they%22%5D+%5B%22beat%22%5D+%5B%22my%22%5D+%5B%22father%22%5D+%5B%22up%22%5D&waitfortotal=true&outputformat=json&prettyprint=no&wordsaroundhit=0\n",
      "{'left': '', 'match_word': 'I have seen they beat my father up ', 'right': '', 'complete_match': 'I have seen they beat my father up ', 'testimony_id': 'usc_shoah_24242', 'shelfmark': ['USC Shoah Foundation 24242'], 'token_start': 17905, 'token_end': 17913}\n",
      "http://localhost:8080/blacklab-server-2.1.0/lts/hits?patt=%5B%22They%22%5D+%5B%22beat%22%5D+%5B%22up%22%5D+%5B%22my%22%5D+%5B%22father%22%5D+%5B%5D+%5B%22Tear%22%5D+%5B%22at%22%5D+%5B%22his%22%5D+%5B%22beard%22%5D+%5B%5D&waitfortotal=true&outputformat=json&prettyprint=no&wordsaroundhit=0\n",
      "{'left': '', 'match_word': 'They beat up my father . Tear at his beard . ', 'right': '', 'complete_match': 'They beat up my father . Tear at his beard . ', 'testimony_id': 'HVT-71', 'shelfmark': ['Fortunoff Archive HVT-71'], 'token_start': 1037, 'token_end': 1048}\n",
      "http://localhost:8080/blacklab-server-2.1.0/lts/hits?patt=%5B%22My%22%5D+%5B%22father%22%5D+%5B%22was%22%5D+%5B%22brought%22%5D+%5B%22home%22%5D+%5B%22beaten%22%5D+%5B%22very%22%5D+%5B%22severely%22%5D&waitfortotal=true&outputformat=json&prettyprint=no&wordsaroundhit=0\n",
      "{'left': '', 'match_word': 'My father was brought home beaten very severely ', 'right': '', 'complete_match': 'My father was brought home beaten very severely ', 'testimony_id': 'irn504690', 'shelfmark': ['USHMM RG-50.030*0195'], 'token_start': 2089, 'token_end': 2097}\n",
      "http://localhost:8080/blacklab-server-2.1.0/lts/hits?patt=%5B%22And%22%5D+%5B%22they%22%5D+%5B%22were%22%5D+%5B%22beating%22%5D+%5B%22my%22%5D+%5B%22father%22%5D+%5B%22until%22%5D+%5B%22he%22%5D+%5B%22collapsed%22%5D&waitfortotal=true&outputformat=json&prettyprint=no&wordsaroundhit=0\n",
      "{'left': '', 'match_word': 'And they were beating my father until he collapsed ', 'right': '', 'complete_match': 'And they were beating my father until he collapsed ', 'testimony_id': 'irn505561', 'shelfmark': ['USHMM RG-50.042*0007'], 'token_start': 5370, 'token_end': 5379}\n",
      "http://localhost:8080/blacklab-server-2.1.0/lts/hits?patt=%5B%22They%22%5D+%5B%22were%22%5D+%5B%22rushing%22%5D+%5B%22you%22%5D+%5B%22all%22%5D+%5B%22the%22%5D+%5B%22time%22%5D+%5B%5D+%5B%22beating%22%5D+%5B%22you%22%5D&waitfortotal=true&outputformat=json&prettyprint=no&wordsaroundhit=0\n",
      "{'left': '', 'match_word': 'They were rushing you all the time , beating you ', 'right': '', 'complete_match': 'They were rushing you all the time , beating you ', 'testimony_id': 'usc_shoah_3952', 'shelfmark': ['USC Shoah Foundation 3952'], 'token_start': 8751, 'token_end': 8761}\n",
      "http://localhost:8080/blacklab-server-2.1.0/lts/hits?patt=%5B%22And%22%5D+%5B%22we%22%5D+%5B%22would%22%5D+%5B%22all%22%5D+%5B%22try%22%5D+%5B%22to%22%5D+%5B%22rush%22%5D+%5B%22out%22%5D+%5B%5D+%5B%22because%22%5D+%5B%22they%22%5D+%5B%22were%22%5D+%5B%22beating%22%5D+%5B%22us%22%5D+%5B%5D&waitfortotal=true&outputformat=json&prettyprint=no&wordsaroundhit=0\n",
      "{'left': '', 'match_word': 'And we would all try to rush out , because they were beating us . ', 'right': '', 'complete_match': 'And we would all try to rush out , because they were beating us . ', 'testimony_id': 'usc_shoah_25639', 'shelfmark': ['USC Shoah Foundation 25639'], 'token_start': 24035, 'token_end': 24050}\n",
      "http://localhost:8080/blacklab-server-2.1.0/lts/hits?patt=%5B%22And%22%5D+%5B%22with%22%5D+%5B%22batons%22%5D+%5B%5D+%5B%22they%22%5D+%5B%22beat%22%5D+%5B%22you%22%5D+%5B%5D%7B0%2C3%7D+%5B%22rush%22%5D+%5B%5D+%5B%22rush%22%5D+%5B%5D+%5B%22hurry%22%5D+%5B%5D&waitfortotal=true&outputformat=json&prettyprint=no&wordsaroundhit=0\n",
      "{'left': '', 'match_word': 'And with batons , they beat you -- rush , rush , hurry . ', 'right': '', 'complete_match': 'And with batons , they beat you -- rush , rush , hurry . ', 'testimony_id': 'usc_shoah_4284', 'shelfmark': ['USC Shoah Foundation 4284'], 'token_start': 12282, 'token_end': 12296}\n",
      "http://localhost:8080/blacklab-server-2.1.0/lts/hits?patt=%5B%22they%22%5D+%5B%22were%22%5D+%5B%22beating%22%5D+%5B%22us%22%5D+%5B%22to%22%5D+%5B%22hurry%22%5D+%5B%22up%22%5D&waitfortotal=true&outputformat=json&prettyprint=no&wordsaroundhit=0\n",
      "{'left': '', 'match_word': 'they were beating us to hurry up ', 'right': '', 'complete_match': 'they were beating us to hurry up ', 'testimony_id': 'usc_shoah_4753', 'shelfmark': ['USC Shoah Foundation 4753'], 'token_start': 24748, 'token_end': 24755}\n",
      "http://localhost:8080/blacklab-server-2.1.0/lts/hits?patt=%5B%22They%22%5D+%5B%22kept%22%5D+%5B%22hitting%22%5D+%5B%22us%22%5D+%5B%5D+%5B%22Hurry%22%5D+%5B%22up%22%5D+%5B%5D&waitfortotal=true&outputformat=json&prettyprint=no&wordsaroundhit=0\n",
      "{'left': '', 'match_word': 'They kept hitting us . Hurry up . ', 'right': '', 'complete_match': 'They kept hitting us . Hurry up . ', 'testimony_id': 'HVT-165', 'shelfmark': ['Fortunoff Archive HVT-165'], 'token_start': 5393, 'token_end': 5401}\n",
      "http://localhost:8080/blacklab-server-2.1.0/lts/hits?patt=%5B%22They%22%5D+%5B%22went%22%5D+%5B%22around%22%5D+%5B%22and%22%5D+%5B%22just%22%5D+%5B%22beat%22%5D+%5B%22and%22%5D+%5B%22make%22%5D+%5B%22you%22%5D+%5B%22work%22%5D+%5B%5D&waitfortotal=true&outputformat=json&prettyprint=no&wordsaroundhit=0\n",
      "{'left': '', 'match_word': 'They went around and just beat and make you work . ', 'right': '', 'complete_match': 'They went around and just beat and make you work . ', 'testimony_id': 'irn504603', 'shelfmark': ['USHMM RG-50.030*0109'], 'token_start': 1783, 'token_end': 1794}\n",
      "http://localhost:8080/blacklab-server-2.1.0/lts/hits?patt=%5B%22They%22%5D+%5B%22would%22%5D+%5B%22beat%22%5D+%5B%22us%22%5D+%5B%5D+%5B%22starve%22%5D+%5B%22us%22%5D+%5B%5D+%5B%22make%22%5D+%5B%22us%22%5D+%5B%22work%22%5D+%5B%22like%22%5D+%5B%22mad%22%5D&waitfortotal=true&outputformat=json&prettyprint=no&wordsaroundhit=0\n",
      "{'left': '', 'match_word': 'They would beat us , starve us , make us work like mad ', 'right': '', 'complete_match': 'They would beat us , starve us , make us work like mad ', 'testimony_id': 'irn39188', 'shelfmark': ['USHMM RG-50.615*0001'], 'token_start': 23365, 'token_end': 23378}\n",
      "http://localhost:8080/blacklab-server-2.1.0/lts/hits?patt=%5B%22I%22%5D+%5B%22mean%22%5D+%5B%22they%22%5D+%5B%22were%22%5D+%5B%22beaten%22%5D+%5B%22on%22%5D+%5B%22the%22%5D+%5B%22work%22%5D+%5B%22if%22%5D+%5B%22you%22%5D+%5B%22did%22%5D+%5B%5D+%5B%22%27%27%22%5D+%5B%22t%22%5D+%5B%22move%22%5D+%5B%22fast%22%5D+%5B%22enough%22%5D+%5B%5D&waitfortotal=true&outputformat=json&prettyprint=no&wordsaroundhit=0\n",
      "The following query returned a null result\n",
      "[\"I\"] [\"mean\"] [\"they\"] [\"were\"] [\"beaten\"] [\"on\"] [\"the\"] [\"work\"] [\"if\"] [\"you\"] [\"did\"] [] [\"''\"] [\"t\"] [\"move\"] [\"fast\"] [\"enough\"] []\n",
      "not found\n",
      "main_leaf                                                            beat\n",
      "mid_leaf                                                             work\n",
      "label                   I mean they were beaten on the work if you did...\n",
      "testimony_id                                                    irn508655\n",
      "media_offset                                                            0\n",
      "media_index                                                             0\n",
      "original_sentences      I mean they were beaten on the work if you did...\n",
      "end_sentence_index                                                   1717\n",
      "start_sentence_index                                                 1718\n",
      "Name: 215, dtype: object\n",
      "http://localhost:8080/blacklab-server-2.1.0/lts/hits?patt=%5B%22He%22%5D+%5B%22beat%22%5D+%5B%22him%22%5D+%5B%22up%22%5D+%5B%22so%22%5D+%5B%22badly%22%5D+%5B%5D+%5B%22he%22%5D+%5B%22did%22%5D+%5B%5D+%5B%22work%22%5D+%5B%22as%22%5D+%5B%22fast%22%5D+%5B%22as%22%5D+%5B%22they%22%5D+%5B%22wanted%22%5D+%5B%5D&waitfortotal=true&outputformat=json&prettyprint=no&wordsaroundhit=0\n"
     ]
    },
    {
     "name": "stdout",
     "output_type": "stream",
     "text": [
      "{'left': '', 'match_word': \"He beat him up so badly , he did n't work as fast as they wanted , \", 'right': '', 'complete_match': \"He beat him up so badly , he did n't work as fast as they wanted , \", 'testimony_id': 'usc_shoah_8703', 'shelfmark': ['USC Shoah Foundation 8703'], 'token_start': 21808, 'token_end': 21825}\n",
      "http://localhost:8080/blacklab-server-2.1.0/lts/hits?patt=%5B%22If%22%5D+%5B%22you%22%5D+%5B%22were%22%5D+%5B%22not%22%5D+%5B%22working%22%5D+%5B%22actively%22%5D+%5B%5D+%5B%22you%22%5D+%5B%22were%22%5D+%5B%22clubbed%22%5D+%5B%5D&waitfortotal=true&outputformat=json&prettyprint=no&wordsaroundhit=0\n",
      "{'left': '', 'match_word': 'If you were not working actively , you were clubbed . ', 'right': '', 'complete_match': 'If you were not working actively , you were clubbed . ', 'testimony_id': 'HVT-55', 'shelfmark': ['Fortunoff Archive HVT-55'], 'token_start': 2037, 'token_end': 2048}\n",
      "http://localhost:8080/blacklab-server-2.1.0/lts/hits?patt=%5B%22Beating%22%5D+%5B%5D+%5B%22of%22%5D+%5B%22course%22%5D+%5B%5D+%5B%22beating%22%5D+%5B%5D%7B0%2C3%7D+%5B%22beating%22%5D+%5B%22all%22%5D+%5B%22the%22%5D+%5B%22time%22%5D+%5B%5D&waitfortotal=true&outputformat=json&prettyprint=no&wordsaroundhit=0\n",
      "{'left': '', 'match_word': 'Beating , of course , beating -- beating all the time . ', 'right': '', 'complete_match': 'Beating , of course , beating -- beating all the time . ', 'testimony_id': 'usc_shoah_26792', 'shelfmark': ['USC Shoah Foundation 26792'], 'token_start': 10469, 'token_end': 10481}\n",
      "http://localhost:8080/blacklab-server-2.1.0/lts/hits?patt=%5B%22They%22%5D+%5B%22were%22%5D+%5B%22brutal%22%5D+%5B%22right%22%5D+%5B%22from%22%5D+%5B%22the%22%5D+%5B%22start%22%5D+%5B%5D+%5B%22constantly%22%5D+%5B%22beating%22%5D+%5B%22us%22%5D+%5B%5D%7B0%2C3%7D+%5B%22constantly%22%5D+%5B%5D+%5B%22constantly%22%5D+%5B%5D&waitfortotal=true&outputformat=json&prettyprint=no&wordsaroundhit=0\n",
      "{'left': '', 'match_word': 'They were brutal right from the start , constantly beating us -- constantly , constantly . ', 'right': '', 'complete_match': 'They were brutal right from the start , constantly beating us -- constantly , constantly . ', 'testimony_id': 'usc_shoah_19218', 'shelfmark': ['USC Shoah Foundation 19218'], 'token_start': 5237, 'token_end': 5253}\n",
      "http://localhost:8080/blacklab-server-2.1.0/lts/hits?patt=%5B%22there%22%5D+%5B%22was%22%5D+%5B%5D+%5B%22no%22%5D+%5B%5D%7B0%2C3%7D+%5B%22stop%22%5D+%5B%5D+%5B%22But%22%5D+%5B%22we%22%5D+%5B%22were%22%5D+%5B%22beaten%22%5D+%5B%22constantly%22%5D+%5B%5D+%5B%22constant%22%5D+%5B%22beating%22%5D+%5B%5D&waitfortotal=true&outputformat=json&prettyprint=no&wordsaroundhit=0\n",
      "{'left': '', 'match_word': 'there was , no -- stop . But we were beaten constantly , constant beating . ', 'right': '', 'complete_match': 'there was , no -- stop . But we were beaten constantly , constant beating . ', 'testimony_id': 'usc_shoah_27', 'shelfmark': ['USC Shoah Foundation 27'], 'token_start': 1892, 'token_end': 1908}\n",
      "http://localhost:8080/blacklab-server-2.1.0/lts/hits?patt=%5B%22And%22%5D+%5B%22they%22%5D+%5B%22were%22%5D+%5B%22constantly%22%5D+%5B%22beating%22%5D+%5B%22us%22%5D+%5B%22with%22%5D+%5B%22electric%22%5D+%5B%5D+%5B%22electric%22%5D+%5B%22wires%22%5D&waitfortotal=true&outputformat=json&prettyprint=no&wordsaroundhit=0\n",
      "{'left': '', 'match_word': 'And they were constantly beating us with electric , electric wires ', 'right': '', 'complete_match': 'And they were constantly beating us with electric , electric wires ', 'testimony_id': 'usc_shoah_19111', 'shelfmark': ['USC Shoah Foundation 19111'], 'token_start': 18915, 'token_end': 18926}\n",
      "http://localhost:8080/blacklab-server-2.1.0/lts/hits?patt=%5B%22They%22%5D+%5B%22marched%22%5D+%5B%22them%22%5D+%5B%22through%22%5D+%5B%22the%22%5D+%5B%22city%22%5D+%5B%5D+%5B%22beating%22%5D+%5B%22them%22%5D+%5B%5D+%5B%22and%22%5D+%5B%22hitting%22%5D+%5B%22them%22%5D+%5B%5D+%5B%22and%22%5D+%5B%22ridiculing%22%5D+%5B%22them%22%5D+%5B%5D&waitfortotal=true&outputformat=json&prettyprint=no&wordsaroundhit=0\n",
      "{'left': '', 'match_word': 'They marched them through the city , beating them , and hitting them , and ridiculing them . ', 'right': '', 'complete_match': 'They marched them through the city , beating them , and hitting them , and ridiculing them . ', 'testimony_id': 'usc_shoah_27351', 'shelfmark': ['USC Shoah Foundation 27351'], 'token_start': 5744, 'token_end': 5762}\n",
      "http://localhost:8080/blacklab-server-2.1.0/lts/hits?patt=%5B%22They%22%5D+%5B%22would%22%5D+%5B%22grab%22%5D+%5B%22him%22%5D+%5B%22by%22%5D+%5B%22his%22%5D+%5B%22beard%22%5D+%5B%5D+%5B%22cut%22%5D+%5B%22it%22%5D+%5B%22off%22%5D+%5B%5D+%5B%22and%22%5D+%5B%5D+%5B%22you%22%5D+%5B%22know%22%5D+%5B%5D+%5B%22ridicule%22%5D+%5B%22him%22%5D+%5B%22and%22%5D+%5B%5D+%5B%22and%22%5D+%5B%22kick%22%5D+%5B%22him%22%5D+%5B%22and%22%5D+%5B%22beat%22%5D+%5B%22him%22%5D+%5B%22in%22%5D+%5B%22the%22%5D+%5B%22street%22%5D+%5B%5D&waitfortotal=true&outputformat=json&prettyprint=no&wordsaroundhit=0\n",
      "{'left': '', 'match_word': 'They would grab him by his beard , cut it off , and , you know , ridicule him and , and kick him and beat him in the street . ', 'right': '', 'complete_match': 'They would grab him by his beard , cut it off , and , you know , ridicule him and , and kick him and beat him in the street . ', 'testimony_id': 'usc_shoah_13395', 'shelfmark': ['USC Shoah Foundation 13395'], 'token_start': 14739, 'token_end': 14770}\n",
      "http://localhost:8080/blacklab-server-2.1.0/lts/hits?patt=%5B%22They%22%5D+%5B%22ridiculed%22%5D+%5B%22them%22%5D+%5B%22and%22%5D+%5B%22beat%22%5D+%5B%22them%22%5D+%5B%5D&waitfortotal=true&outputformat=json&prettyprint=no&wordsaroundhit=0\n",
      "{'left': '', 'match_word': 'They ridiculed them and beat them . ', 'right': '', 'complete_match': 'They ridiculed them and beat them . ', 'testimony_id': 'usc_shoah_23498', 'shelfmark': ['USC Shoah Foundation 23498'], 'token_start': 1041, 'token_end': 1048}\n",
      "http://localhost:8080/blacklab-server-2.1.0/lts/hits?patt=%5B%22They%22%5D+%5B%22ridiculed%22%5D+%5B%22the%22%5D+%5B%22Jewish%22%5D+%5B%22people%22%5D+%5B%22who%22%5D+%5B%22were%22%5D+%5B%22there%22%5D+%5B%5D+%5B%22beating%22%5D+%5B%22them%22%5D+%5B%22up%22%5D+%5B%5D&waitfortotal=true&outputformat=json&prettyprint=no&wordsaroundhit=0\n",
      "{'left': '', 'match_word': 'They ridiculed the Jewish people who were there , beating them up . ', 'right': '', 'complete_match': 'They ridiculed the Jewish people who were there , beating them up . ', 'testimony_id': 'usc_shoah_6277', 'shelfmark': ['USC Shoah Foundation 6277'], 'token_start': 4049, 'token_end': 4062}\n",
      "http://localhost:8080/blacklab-server-2.1.0/lts/hits?patt=%5B%22They%22%5D+%5B%22were%22%5D+%5B%22laughing%22%5D+%5B%22at%22%5D+%5B%22us%22%5D+%5B%5D+%5B%22And%22%5D+%5B%22they%22%5D+%5B%22were%22%5D+%5B%22be%22%5D+%5B%5D%7B0%2C3%7D+%5B%22beating%22%5D+%5B%22us%22%5D&waitfortotal=true&outputformat=json&prettyprint=no&wordsaroundhit=0\n",
      "{'left': '', 'match_word': 'They were laughing at us . And they were be -- beating us ', 'right': '', 'complete_match': 'They were laughing at us . And they were be -- beating us ', 'testimony_id': 'HVT-33', 'shelfmark': ['Fortunoff Archive HVT-33'], 'token_start': 5046, 'token_end': 5059}\n",
      "http://localhost:8080/blacklab-server-2.1.0/lts/hits?patt=%5B%22they%22%5D+%5B%22started%22%5D+%5B%22to%22%5D+%5B%22beat%22%5D+%5B%5D+%5B%22and%22%5D+%5B%22I%22%5D+%5B%22had%22%5D+%5B%22to%22%5D+%5B%22count%22%5D+%5B%5D&waitfortotal=true&outputformat=json&prettyprint=no&wordsaroundhit=0\n",
      "{'left': '', 'match_word': 'they started to beat , and I had to count . ', 'right': '', 'complete_match': 'they started to beat , and I had to count . ', 'testimony_id': 'irn508672', 'shelfmark': ['USHMM RG-50.462*0052'], 'token_start': 17891, 'token_end': 17902}\n",
      "http://localhost:8080/blacklab-server-2.1.0/lts/hits?patt=%5B%22he%22%5D+%5B%22hit%22%5D+%5B%22me%22%5D+%5B%5D+%5B%22beat%22%5D+%5B%22me%22%5D+%5B%5D+%5B%22And%22%5D+%5B%22I%22%5D+%5B%22had%22%5D+%5B%22to%22%5D+%5B%22count%22%5D+%5B%5D&waitfortotal=true&outputformat=json&prettyprint=no&wordsaroundhit=0\n",
      "{'left': '', 'match_word': 'he hit me , beat me . And I had to count . ', 'right': '', 'complete_match': 'he hit me , beat me . And I had to count . ', 'testimony_id': 'usc_shoah_25938', 'shelfmark': ['USC Shoah Foundation 25938'], 'token_start': 19502, 'token_end': 19515}\n"
     ]
    },
    {
     "name": "stdout",
     "output_type": "stream",
     "text": [
      "http://localhost:8080/blacklab-server-2.1.0/lts/hits?patt=%5B%22And%22%5D+%5B%22they%22%5D+%5B%22had%22%5D+%5B%22to%22%5D+%5B%22count%22%5D+%5B%22the%22%5D+%5B%22beatings%22%5D+%5B%22themselves%22%5D+%5B%22in%22%5D+%5B%22German%22%5D+%5B%5D&waitfortotal=true&outputformat=json&prettyprint=no&wordsaroundhit=0\n",
      "{'left': '', 'match_word': 'And they had to count the beatings themselves in German . ', 'right': '', 'complete_match': 'And they had to count the beatings themselves in German . ', 'testimony_id': 'usc_shoah_23622', 'shelfmark': ['USC Shoah Foundation 23622'], 'token_start': 15558, 'token_end': 15569}\n",
      "http://localhost:8080/blacklab-server-2.1.0/lts/hits?patt=%5B%22I%22%5D+%5B%22got%22%5D+%5B%22beaten%22%5D+%5B%22up%22%5D+%5B%5D+%5B%22I%22%5D+%5B%22count%22%5D+%5B%22to%22%5D+%5B%22twenty%22%5D+%5B%5D+%5B%5D%7B0%2C3%7D+%5B%22and%22%5D+%5B%22I%22%5D+%5B%22passed%22%5D+%5B%22out%22%5D+%5B%5D&waitfortotal=true&outputformat=json&prettyprint=no&wordsaroundhit=0\n",
      "{'left': '', 'match_word': 'I got beaten up . I count to twenty , twenty-five and I passed out . ', 'right': '', 'complete_match': 'I got beaten up . I count to twenty , twenty-five and I passed out . ', 'testimony_id': 'irn508720', 'shelfmark': ['USHMM RG-50.462*0079'], 'token_start': 10595, 'token_end': 10611}\n",
      "http://localhost:8080/blacklab-server-2.1.0/lts/hits?patt=%5B%22And%22%5D+%5B%22he%22%5D+%5B%22took%22%5D+%5B%22a%22%5D+%5B%5D%7B0%2C3%7D+%5B%22the%22%5D+%5B%22stick%22%5D+%5B%5D+%5B%22and%22%5D+%5B%22he%22%5D+%5B%22hit%22%5D+%5B%22me%22%5D+%5B%5D+%5B%22beat%22%5D+%5B%22me%22%5D+%5B%5D+%5B%22And%22%5D+%5B%22I%22%5D+%5B%22had%22%5D+%5B%22to%22%5D+%5B%22count%22%5D+%5B%5D&waitfortotal=true&outputformat=json&prettyprint=no&wordsaroundhit=0\n",
      "{'left': '', 'match_word': 'And he took a -- the stick , and he hit me , beat me . And I had to count . ', 'right': '', 'complete_match': 'And he took a -- the stick , and he hit me , beat me . And I had to count . ', 'testimony_id': 'usc_shoah_25938', 'shelfmark': ['USC Shoah Foundation 25938'], 'token_start': 19493, 'token_end': 19515}\n",
      "http://localhost:8080/blacklab-server-2.1.0/lts/hits?patt=%5B%22And%22%5D+%5B%22they%22%5D+%5B%22took%22%5D+%5B%22men%22%5D+%5B%5D+%5B%22took%22%5D+%5B%22them%22%5D+%5B%22up%22%5D+%5B%22to%22%5D+%5B%22the%22%5D+%5B%22stage%22%5D+%5B%5D%7B0%2C3%7D+%5B%22beat%22%5D+%5B%22them%22%5D+%5B%5D+%5B%22And%22%5D+%5B%22we%22%5D+%5B%22had%22%5D+%5B%22to%22%5D+%5B%22watch%22%5D+%5B%22it%22%5D&waitfortotal=true&outputformat=json&prettyprint=no&wordsaroundhit=0\n",
      "{'left': '', 'match_word': 'And they took men , took them up to the stage an-and beat them . And we had to watch it ', 'right': '', 'complete_match': 'And they took men , took them up to the stage an-and beat them . And we had to watch it ', 'testimony_id': 'irn509674', 'shelfmark': ['USHMM RG-50.106*0146'], 'token_start': 7061, 'token_end': 7082}\n",
      "http://localhost:8080/blacklab-server-2.1.0/lts/hits?patt=%5B%22And%22%5D+%5B%22he%22%5D+%5B%22said%22%5D+%5B%5D+%5B%22you%22%5D+%5B%22took%22%5D+%5B%22twice%22%5D+%5B%22the%22%5D+%5B%22soup%22%5D+%5B%5D+%5B%22and%22%5D+%5B%22beat%22%5D+%5B%22her%22%5D+%5B%22up%22%5D+%5B%5D+%5B%22And%22%5D+%5B%22we%22%5D+%5B%22watched%22%5D+%5B%5D+%5B%22and%22%5D+%5B%22we%22%5D+%5B%22got%22%5D+%5B%22scared%22%5D+%5B%5D&waitfortotal=true&outputformat=json&prettyprint=no&wordsaroundhit=0\n",
      "{'left': '', 'match_word': 'And he said , you took twice the soup , and beat her up . And we watched , and we got scared . ', 'right': '', 'complete_match': 'And he said , you took twice the soup , and beat her up . And we watched , and we got scared . ', 'testimony_id': 'usc_shoah_304', 'shelfmark': ['USC Shoah Foundation 304'], 'token_start': 15047, 'token_end': 15071}\n",
      "http://localhost:8080/blacklab-server-2.1.0/lts/hits?patt=%5B%22Take%22%5D+%5B%22her%22%5D+%5B%22and%22%5D+%5B%22beat%22%5D+%5B%22her%22%5D+%5B%22up%22%5D+%5B%22in%22%5D+%5B%22front%22%5D+%5B%22of%22%5D+%5B%22the%22%5D+%5B%22whole%22%5D+%5B%22camp%22%5D+%5B%5D&waitfortotal=true&outputformat=json&prettyprint=no&wordsaroundhit=0\n",
      "{'left': '', 'match_word': 'Take her and beat her up in front of the whole camp . ', 'right': '', 'complete_match': 'Take her and beat her up in front of the whole camp . ', 'testimony_id': 'irn508630', 'shelfmark': ['USHMM RG-50.462*0009'], 'token_start': 4996, 'token_end': 5009}\n",
      "http://localhost:8080/blacklab-server-2.1.0/lts/hits?patt=%5B%22I%22%5D+%5B%22uh%22%5D+%5B%5D+%5B%22had%22%5D+%5B%22watched%22%5D+%5B%222%22%5D+%5B%22girls%22%5D+%5B%22being%22%5D+%5B%22beaten%22%5D+%5B%22to%22%5D+%5B%22death%22%5D+%5B%22for%22%5D+%5B%22a%22%5D+%5B%22for%22%5D+%5B%22a%22%5D+%5B%22few%22%5D+%5B%5D+%5B%22few%22%5D+%5B%22raw%22%5D+%5B%22potatoes%22%5D&waitfortotal=true&outputformat=json&prettyprint=no&wordsaroundhit=0\n",
      "{'left': '', 'match_word': 'I uh , had watched 2 girls being beaten to death for a for a few , few raw potatoes ', 'right': '', 'complete_match': 'I uh , had watched 2 girls being beaten to death for a for a few , few raw potatoes ', 'testimony_id': 'irn505571', 'shelfmark': ['USHMM RG-50.042*0018'], 'token_start': 11679, 'token_end': 11699}\n",
      "http://localhost:8080/blacklab-server-2.1.0/lts/hits?patt=%5B%22he%22%5D+%5B%22start%22%5D+%5B%22beating%22%5D+%5B%22up%22%5D+%5B%22the%22%5D+%5B%22women%22%5D&waitfortotal=true&outputformat=json&prettyprint=no&wordsaroundhit=0\n",
      "{'left': '', 'match_word': 'he start beating up the women ', 'right': '', 'complete_match': 'he start beating up the women ', 'testimony_id': 'irn504632', 'shelfmark': ['USHMM RG-50.030*0138'], 'token_start': 8875, 'token_end': 8881}\n",
      "http://localhost:8080/blacklab-server-2.1.0/lts/hits?patt=%5B%22women%22%5D+%5B%22had%22%5D+%5B%22different%22%5D+%5B%22experiences%22%5D+%5B%22in%22%5D+%5B%22camp%22%5D+%5B%5D+%5B%22Women%22%5D+%5B%22were%22%5D+%5B%22beaten%22%5D+%5B%22by%22%5D+%5B%22men%22%5D+%5B%5D&waitfortotal=true&outputformat=json&prettyprint=no&wordsaroundhit=0\n",
      "{'left': '', 'match_word': 'women had different experiences in camp . Women were beaten by men . ', 'right': '', 'complete_match': 'women had different experiences in camp . Women were beaten by men . ', 'testimony_id': 'usc_shoah_13395', 'shelfmark': ['USC Shoah Foundation 13395'], 'token_start': 28134, 'token_end': 28147}\n",
      "http://localhost:8080/blacklab-server-2.1.0/lts/hits?patt=%5B%22Some%22%5D+%5B%22women%22%5D+%5B%22were%22%5D+%5B%22beaten%22%5D+%5B%5D+%5B%22and%22%5D+%5B%22we%22%5D+%5B%22had%22%5D+%5B%22SS%22%5D+%5B%22women%22%5D+%5B%22and%22%5D+%5B%22I%22%5D+%5B%22tell%22%5D+%5B%22you%22%5D+%5B%22these%22%5D+%5B%22were%22%5D+%5B%22worse%22%5D+%5B%22than%22%5D+%5B%22the%22%5D+%5B%22men%22%5D+%5B%5D&waitfortotal=true&outputformat=json&prettyprint=no&wordsaroundhit=0\n",
      "{'left': '', 'match_word': 'Some women were beaten , and we had SS women and I tell you these were worse than the men . ', 'right': '', 'complete_match': 'Some women were beaten , and we had SS women and I tell you these were worse than the men . ', 'testimony_id': 'irn504798', 'shelfmark': ['USHMM RG-50.030*0303'], 'token_start': 14171, 'token_end': 14192}\n",
      "http://localhost:8080/blacklab-server-2.1.0/lts/hits?patt=%5B%22I%22%5D+%5B%22was%22%5D+%5B%22crying%22%5D+%5B%5D+%5B%22why%22%5D+%5B%22my%22%5D+%5B%22mother%22%5D+%5B%22had%22%5D+%5B%22to%22%5D+%5B%22be%22%5D+%5B%22beaten%22%5D+%5B%5D+%5B%22She%22%5D+%5B%5D+%5B%22such%22%5D+%5B%22a%22%5D+%5B%22good%22%5D+%5B%22woman%22%5D+%5B%5D&waitfortotal=true&outputformat=json&prettyprint=no&wordsaroundhit=0\n",
      "{'left': '', 'match_word': \"I was crying , why my mother had to be beaten ? She 's such a good woman . \", 'right': '', 'complete_match': \"I was crying , why my mother had to be beaten ? She 's such a good woman . \", 'testimony_id': 'usc_shoah_22511', 'shelfmark': ['USC Shoah Foundation 22511'], 'token_start': 4930, 'token_end': 4949}\n",
      "http://localhost:8080/blacklab-server-2.1.0/lts/hits?patt=%5B%22She%22%5D+%5B%22and%22%5D+%5B%22other%22%5D+%5B%22inmates%22%5D+%5B%22were%22%5D+%5B%22beaten%22%5D+%5B%22daily%22%5D+%5B%5D&waitfortotal=true&outputformat=json&prettyprint=no&wordsaroundhit=0\n",
      "{'left': '', 'match_word': 'She and other inmates were beaten daily . ', 'right': '', 'complete_match': 'She and other inmates were beaten daily . ', 'testimony_id': 'irn509225', 'shelfmark': ['USHMM RG-50.233*0143'], 'token_start': 204, 'token_end': 212}\n"
     ]
    },
    {
     "name": "stdout",
     "output_type": "stream",
     "text": [
      "http://localhost:8080/blacklab-server-2.1.0/lts/hits?patt=%5B%22they%22%5D+%5B%22were%22%5D+%5B%22taking%22%5D+%5B%22out%22%5D+%5B%22the%22%5D+%5B%22children%22%5D+%5B%22and%22%5D+%5B%22beating%22%5D+%5B%22and%22%5D+%5B%22killing%22%5D+%5B%22those%22%5D+%5B%22children%22%5D&waitfortotal=true&outputformat=json&prettyprint=no&wordsaroundhit=0\n",
      "{'left': '', 'match_word': 'they were taking out the children and beating and killing those children ', 'right': '', 'complete_match': 'they were taking out the children and beating and killing those children ', 'testimony_id': 'irn504754', 'shelfmark': ['USHMM RG-50.030*0270'], 'token_start': 13525, 'token_end': 13537}\n",
      "http://localhost:8080/blacklab-server-2.1.0/lts/hits?patt=%5B%22Physically%22%5D+%5B%22beating%22%5D+%5B%5D+%5B%22dragging%22%5D+%5B%22children%22%5D+%5B%22away%22%5D+%5B%22from%22%5D+%5B%22their%22%5D+%5B%22parents%22%5D+%5B%5D&waitfortotal=true&outputformat=json&prettyprint=no&wordsaroundhit=0\n",
      "{'left': '', 'match_word': 'Physically beating , dragging children away from their parents . ', 'right': '', 'complete_match': 'Physically beating , dragging children away from their parents . ', 'testimony_id': 'irn504449', 'shelfmark': ['USHMM RG-50.030*0020'], 'token_start': 3530, 'token_end': 3540}\n",
      "http://localhost:8080/blacklab-server-2.1.0/lts/hits?patt=%5B%22they%22%5D+%5B%22did%22%5D+%5B%5D+%5B%22care%22%5D+%5B%5D+%5B%22or%22%5D+%5B%22they%22%5D+%5B%22hit%22%5D+%5B%22your%22%5D+%5B%22head%22%5D+%5B%22or%22%5D+%5B%22your%22%5D+%5B%22leg%22%5D+%5B%5D+%5B%22or%22%5D+%5B%22they%22%5D+%5B%22hit%22%5D+%5B%22a%22%5D+%5B%22child%22%5D+%5B%5D&waitfortotal=true&outputformat=json&prettyprint=no&wordsaroundhit=0\n",
      "{'left': '', 'match_word': \"they did n't care , or they hit your head or your leg , or they hit a child . \", 'right': '', 'complete_match': \"they did n't care , or they hit your head or your leg , or they hit a child . \", 'testimony_id': 'irn504842', 'shelfmark': ['USHMM RG-50.030*0348'], 'token_start': 11856, 'token_end': 11876}\n",
      "http://localhost:8080/blacklab-server-2.1.0/lts/hits?patt=%5B%22there%22%5D+%5B%22would%22%5D+%5B%22be%22%5D+%5B%22a%22%5D+%5B%22lot%22%5D+%5B%22of%22%5D+%5B%22hitting%22%5D+%5B%5D+%5B%22especially%22%5D+%5B%22of%22%5D+%5B%22old%22%5D+%5B%22people%22%5D+%5B%22and%22%5D+%5B%22of%22%5D+%5B%22sick%22%5D+%5B%22people%22%5D&waitfortotal=true&outputformat=json&prettyprint=no&wordsaroundhit=0\n",
      "{'left': '', 'match_word': 'there would be a lot of hitting , especially of old people and of sick people ', 'right': '', 'complete_match': 'there would be a lot of hitting , especially of old people and of sick people ', 'testimony_id': 'HVT-50', 'shelfmark': ['Fortunoff Archive HVT-50'], 'token_start': 3067, 'token_end': 3083}\n",
      "http://localhost:8080/blacklab-server-2.1.0/lts/hits?patt=%5B%22they%22%5D+%5B%22did%22%5D+%5B%5D+%5B%22care%22%5D+%5B%5D+%5B%22or%22%5D+%5B%22they%22%5D+%5B%22hit%22%5D+%5B%22your%22%5D+%5B%22head%22%5D+%5B%22or%22%5D+%5B%22your%22%5D+%5B%22leg%22%5D+%5B%5D+%5B%22or%22%5D+%5B%22they%22%5D+%5B%22hit%22%5D+%5B%22a%22%5D+%5B%22child%22%5D+%5B%5D+%5B%22It%22%5D+%5B%22was%22%5D+%5B%22merciless%22%5D+%5B%5D&waitfortotal=true&outputformat=json&prettyprint=no&wordsaroundhit=0\n",
      "{'left': '', 'match_word': \"they did n't care , or they hit your head or your leg , or they hit a child . It was merciless . \", 'right': '', 'complete_match': \"they did n't care , or they hit your head or your leg , or they hit a child . It was merciless . \", 'testimony_id': 'irn504842', 'shelfmark': ['USHMM RG-50.030*0348'], 'token_start': 11856, 'token_end': 11880}\n",
      "http://localhost:8080/blacklab-server-2.1.0/lts/hits?patt=%5B%22They%22%5D+%5B%22beat%22%5D+%5B%22up%22%5D+%5B%22little%22%5D+%5B%22boys%22%5D+%5B%22and%22%5D+%5B%22girls%22%5D+%5B%22and%22%5D+%5B%22the%22%5D+%5B%22mothers%22%5D+%5B%22and%22%5D+%5B%22that%22%5D+%5B%22they%22%5D+%5B%22arrested%22%5D+%5B%22in%22%5D+%5B%22the%22%5D+%5B%22streets%22%5D+%5B%5D&waitfortotal=true&outputformat=json&prettyprint=no&wordsaroundhit=0\n",
      "{'left': '', 'match_word': 'They beat up little boys and girls and the mothers and that they arrested in the streets . ', 'right': '', 'complete_match': 'They beat up little boys and girls and the mothers and that they arrested in the streets . ', 'testimony_id': 'irn504525', 'shelfmark': ['USHMM RG-50.030*0007'], 'token_start': 16552, 'token_end': 16570}\n",
      "http://localhost:8080/blacklab-server-2.1.0/lts/hits?patt=%5B%22they%22%5D+%5B%22were%22%5D+%5B%22beating%22%5D+%5B%22the%22%5D+%5B%22small%22%5D+%5B%22children%22%5D&waitfortotal=true&outputformat=json&prettyprint=no&wordsaroundhit=0\n",
      "{'left': '', 'match_word': 'they were beating the small children ', 'right': '', 'complete_match': 'they were beating the small children ', 'testimony_id': 'irn508494', 'shelfmark': ['USHMM RG-50.030*0412'], 'token_start': 7849, 'token_end': 7855}\n",
      "http://localhost:8080/blacklab-server-2.1.0/lts/hits?patt=%5B%22Hit%22%5D+%5B%22harder%22%5D+%5B%22and%22%5D+%5B%22harder%22%5D+%5B%5D+%5B%22The%22%5D+%5B%22old%22%5D+%5B%22man%22%5D+%5B%22died%22%5D+%5B%5D&waitfortotal=true&outputformat=json&prettyprint=no&wordsaroundhit=0\n",
      "{'left': '', 'match_word': 'Hit harder and harder . The old man died . ', 'right': '', 'complete_match': 'Hit harder and harder . The old man died . ', 'testimony_id': 'usc_shoah_964', 'shelfmark': ['USC Shoah Foundation 964'], 'token_start': 10477, 'token_end': 10487}\n",
      "http://localhost:8080/blacklab-server-2.1.0/lts/hits?patt=%5B%5D+%5B%22Elkis%22%5D+%5B%22was%22%5D+%5B%22almost%22%5D+%5B%5D+%5B%22like%22%5D+%5B%5D+%5B%2270%22%5D+%5B%22years%22%5D+%5B%22old%22%5D+%5B%5D+%5B%22He%22%5D+%5B%22slapped%22%5D+%5B%22him%22%5D+%5B%22in%22%5D+%5B%22the%22%5D+%5B%22face%22%5D+%5B%5D&waitfortotal=true&outputformat=json&prettyprint=no&wordsaroundhit=0\n",
      "{'left': '', 'match_word': 'Dr. Elkis was almost , like , 70 years old . He slapped him in the face . ', 'right': '', 'complete_match': 'Dr. Elkis was almost , like , 70 years old . He slapped him in the face . ', 'testimony_id': 'usc_shoah_18626', 'shelfmark': ['USC Shoah Foundation 18626'], 'token_start': 43104, 'token_end': 43122}\n",
      "http://localhost:8080/blacklab-server-2.1.0/lts/hits?patt=%5B%22the%22%5D+%5B%22old%22%5D+%5B%22people%22%5D+%5B%22beaten%22%5D+%5B%22and%22%5D+%5B%22kicked%22%5D+%5B%22and%22%5D+%5B%22shot%22%5D+%5B%22as%22%5D+%5B%22they%22%5D+%5B%22could%22%5D+%5B%5D+%5B%22%27%27%22%5D+%5B%22t%22%5D+%5B%22walk%22%5D+%5B%5D+%5B%22or%22%5D+%5B%22if%22%5D+%5B%22they%22%5D+%5B%22could%22%5D+%5B%22walk%22%5D+%5B%5D&waitfortotal=true&outputformat=json&prettyprint=no&wordsaroundhit=0\n",
      "The following query returned a null result\n",
      "[\"the\"] [\"old\"] [\"people\"] [\"beaten\"] [\"and\"] [\"kicked\"] [\"and\"] [\"shot\"] [\"as\"] [\"they\"] [\"could\"] [] [\"''\"] [\"t\"] [\"walk\"] [] [\"or\"] [\"if\"] [\"they\"] [\"could\"] [\"walk\"] []\n",
      "not found\n",
      "main_leaf                                                            beat\n",
      "mid_leaf                                                              old\n",
      "label                   ...the old people beaten and kicked and shot a...\n",
      "testimony_id                                                    irn506665\n",
      "media_offset                                                            0\n",
      "media_index                                                             0\n",
      "original_sentences      the old people beaten and kicked and shot as t...\n",
      "end_sentence_index                                                    743\n",
      "start_sentence_index                                                  744\n",
      "Name: 250, dtype: object\n",
      "http://localhost:8080/blacklab-server-2.1.0/lts/hits?patt=%5B%22this%22%5D+%5B%22old%22%5D+%5B%22man%22%5D+%5B%22was%22%5D+%5B%22beaten%22%5D+%5B%22up%22%5D+%5B%22in%22%5D+%5B%22the%22%5D+%5B%22ghetto%22%5D+%5B%22before%22%5D+%5B%22he%22%5D+%5B%22was%22%5D+%5B%22thrown%22%5D+%5B%22into%22%5D+%5B%22the%22%5D+%5B%5D%7B0%2C3%7D+%5B%22to%22%5D+%5B%22the%22%5D+%5B%22train%22%5D&waitfortotal=true&outputformat=json&prettyprint=no&wordsaroundhit=0\n",
      "{'left': '', 'match_word': 'this old man was beaten up in the ghetto before he was thrown into the -- to the train ', 'right': '', 'complete_match': 'this old man was beaten up in the ghetto before he was thrown into the -- to the train ', 'testimony_id': 'usc_shoah_8786', 'shelfmark': ['USC Shoah Foundation 8786'], 'token_start': 535, 'token_end': 554}\n"
     ]
    },
    {
     "name": "stdout",
     "output_type": "stream",
     "text": [
      "http://localhost:8080/blacklab-server-2.1.0/lts/hits?patt=%5B%22And%22%5D+%5B%22then%22%5D+%5B%22I%22%5D+%5B%22saw%22%5D+%5B%22the%22%5D+%5B%22other%22%5D+%5B%22Germans%22%5D+%5B%5D+%5B%22the%22%5D+%5B%22Nazis%22%5D+%5B%5D+%5B%22throw%22%5D+%5B%22out%22%5D+%5B%22babies%22%5D+%5B%5D%7B0%2C3%7D+%5B%22little%22%5D+%5B%22babies%22%5D+%5B%5D&waitfortotal=true&outputformat=json&prettyprint=no&wordsaroundhit=0\n",
      "{'left': '', 'match_word': 'And then I saw the other Germans , the Nazis , throw out babies -- little babies . ', 'right': '', 'complete_match': 'And then I saw the other Germans , the Nazis , throw out babies -- little babies . ', 'testimony_id': 'usc_shoah_8002', 'shelfmark': ['USC Shoah Foundation 8002'], 'token_start': 5827, 'token_end': 5845}\n",
      "http://localhost:8080/blacklab-server-2.1.0/lts/hits?patt=%5B%22throwing%22%5D+%5B%22babies%22%5D+%5B%22against%22%5D+%5B%22a%22%5D+%5B%22blank%22%5D+%5B%22wall%22%5D+%5B%22or%22%5D+%5B%22throwing%22%5D+%5B%22them%22%5D+%5B%22into%22%5D+%5B%22box%22%5D+%5B%22cars%22%5D+%5B%22like%22%5D+%5B%5D%7B0%2C3%7D+%5B%22like%22%5D+%5B%5D%7B0%2C3%7D+%5B%22like%22%5D+%5B%22rag%22%5D+%5B%22dolls%22%5D+%5B%5D&waitfortotal=true&outputformat=json&prettyprint=no&wordsaroundhit=0\n",
      "{'left': '', 'match_word': 'throwing babies against a blank wall or throwing them into box cars like -- like -- like rag dolls . ', 'right': '', 'complete_match': 'throwing babies against a blank wall or throwing them into box cars like -- like -- like rag dolls . ', 'testimony_id': 'usc_shoah_268', 'shelfmark': ['USC Shoah Foundation 268'], 'token_start': 50223, 'token_end': 50243}\n",
      "http://localhost:8080/blacklab-server-2.1.0/lts/hits?patt=%5B%22throwing%22%5D+%5B%22babies%22%5D+%5B%22in%22%5D+%5B%5D%7B0%2C3%7D+%5B%22in%22%5D+%5B%22the%22%5D+%5B%22street%22%5D+%5B%5D&waitfortotal=true&outputformat=json&prettyprint=no&wordsaroundhit=0\n",
      "{'left': '', 'match_word': 'throwing babies in -- in the street . ', 'right': '', 'complete_match': 'throwing babies in -- in the street . ', 'testimony_id': 'usc_shoah_12413', 'shelfmark': ['USC Shoah Foundation 12413'], 'token_start': 2319, 'token_end': 2327}\n",
      "http://localhost:8080/blacklab-server-2.1.0/lts/hits?patt=%5B%22They%22%5D+%5B%22threw%22%5D+%5B%22the%22%5D+%5B%22baby%22%5D+%5B%22just%22%5D+%5B%22like%22%5D+%5B%5D%7B0%2C3%7D+%5B%22like%22%5D+%5B%5D%7B0%2C3%7D+%5B%22like%22%5D+%5B%5D%7B0%2C3%7D+%5B%22like%22%5D+%5B%22nothing%22%5D+%5B%5D&waitfortotal=true&outputformat=json&prettyprint=no&wordsaroundhit=0\n",
      "{'left': '', 'match_word': 'They threw the baby just like -- like -- like -- like nothing . ', 'right': '', 'complete_match': 'They threw the baby just like -- like -- like -- like nothing . ', 'testimony_id': 'usc_shoah_3474', 'shelfmark': ['USC Shoah Foundation 3474'], 'token_start': 8591, 'token_end': 8605}\n",
      "http://localhost:8080/blacklab-server-2.1.0/lts/hits?patt=%5B%22I%22%5D+%5B%22seen%22%5D+%5B%22young%22%5D+%5B%22infants%22%5D+%5B%22just%22%5D+%5B%22born%22%5D+%5B%22being%22%5D+%5B%22thrown%22%5D+%5B%22out%22%5D+%5B%22of%22%5D+%5B%22the%22%5D+%5B%22windows%22%5D+%5B%22on%22%5D+%5B%22trucks%22%5D+%5B%5D&waitfortotal=true&outputformat=json&prettyprint=no&wordsaroundhit=0\n",
      "{'left': '', 'match_word': 'I seen young infants just born being thrown out of the windows on trucks . ', 'right': '', 'complete_match': 'I seen young infants just born being thrown out of the windows on trucks . ', 'testimony_id': 'HVT-2', 'shelfmark': ['Fortunoff Archive HVT-2'], 'token_start': 4459, 'token_end': 4474}\n",
      "http://localhost:8080/blacklab-server-2.1.0/lts/hits?patt=%5B%22they%22%5D+%5B%22would%22%5D+%5B%22be%22%5D+%5B%22laughing%22%5D+%5B%22and%22%5D+%5B%5D%7B0%2C50%7D+%5B%22and%22%5D+%5B%22enjoying%22%5D+%5B%22that%22%5D+%5B%22terrible%22%5D+%5B%22shame%22%5D+%5B%22that%22%5D+%5B%22we%22%5D+%5B%22had%22%5D&waitfortotal=true&outputformat=json&prettyprint=no&wordsaroundhit=0\n",
      "{'left': '', 'match_word': 'they would be laughing and ... and enjoying that terrible shame that we had ', 'right': '', 'complete_match': 'they would be laughing and ... and enjoying that terrible shame that we had ', 'testimony_id': 'irn504540', 'shelfmark': ['USHMM RG-50.030*0036'], 'token_start': 3775, 'token_end': 3789}\n",
      "http://localhost:8080/blacklab-server-2.1.0/lts/hits?patt=%5B%22They%22%5D+%5B%22degraded%22%5D+%5B%22us%22%5D+%5B%5D+%5B%22they%22%5D+%5B%5D%7B0%2C3%7D+%5B%22they%22%5D+%5B%22made%22%5D+%5B%22a%22%5D+%5B%22joke%22%5D+%5B%22of%22%5D+%5B%22us%22%5D+%5B%5D&waitfortotal=true&outputformat=json&prettyprint=no&wordsaroundhit=0\n",
      "{'left': '', 'match_word': 'They degraded us , they -- they made a joke of us . ', 'right': '', 'complete_match': 'They degraded us , they -- they made a joke of us . ', 'testimony_id': 'usc_shoah_17526', 'shelfmark': ['USC Shoah Foundation 17526'], 'token_start': 6711, 'token_end': 6724}\n",
      "http://localhost:8080/blacklab-server-2.1.0/lts/hits?patt=%5B%22That%22%5D+%5B%22was%22%5D+%5B%22so%22%5D+%5B%22embarrassing%22%5D+%5B%5D%7B0%2C3%7D+%5B%22humiliating%22%5D+%5B%22us%22%5D+%5B%5D%7B0%2C3%7D+%5B%22that%22%5D+%5B%22all%22%5D+%5B%22the%22%5D+%5B%22Christian%22%5D+%5B%22kids%22%5D+%5B%5D+%5B%22they%22%5D+%5B%22used%22%5D+%5B%22to%22%5D+%5B%22laugh%22%5D+%5B%5D&waitfortotal=true&outputformat=json&prettyprint=no&wordsaroundhit=0\n",
      "{'left': '', 'match_word': 'That was so embarrassing -- humiliating us -- that all the Christian kids , they used to laugh . ', 'right': '', 'complete_match': 'That was so embarrassing -- humiliating us -- that all the Christian kids , they used to laugh . ', 'testimony_id': 'usc_shoah_11771', 'shelfmark': ['USC Shoah Foundation 11771'], 'token_start': 1328, 'token_end': 1347}\n",
      "http://localhost:8080/blacklab-server-2.1.0/lts/hits?patt=%5B%22And%22%5D+%5B%22the%22%5D+%5B%22whole%22%5D+%5B%22place%22%5D+%5B%22was%22%5D+%5B%22laughing%22%5D+%5B%5D+%5B%22And%22%5D+%5B%22that%22%5D+%5B%22was%22%5D+%5B%22it%22%5D+%5B%5D+%5B%22And%22%5D+%5B%22I%22%5D+%5B%22was%22%5D+%5B%22very%22%5D+%5B%5D+%5B%22very%22%5D+%5B%22embarrassed%22%5D+%5B%5D&waitfortotal=true&outputformat=json&prettyprint=no&wordsaroundhit=0\n",
      "{'left': '', 'match_word': 'And the whole place was laughing . And that was it . And I was very , very embarrassed . ', 'right': '', 'complete_match': 'And the whole place was laughing . And that was it . And I was very , very embarrassed . ', 'testimony_id': 'usc_shoah_304', 'shelfmark': ['USC Shoah Foundation 304'], 'token_start': 5383, 'token_end': 5403}\n",
      "http://localhost:8080/blacklab-server-2.1.0/lts/hits?patt=%5B%22They%22%5D+%5B%22had%22%5D+%5B%22shaved%22%5D+%5B%22our%22%5D+%5B%22heads%22%5D+%5B%22%3B%22%5D+%5B%22and%22%5D+%5B%22I%22%5D+%5B%22felt%22%5D+%5B%22so%22%5D+%5B%22ashamed%22%5D+%5B%5D&waitfortotal=true&outputformat=json&prettyprint=no&wordsaroundhit=0\n",
      "{'left': '', 'match_word': 'They had shaved our heads ; and I felt so ashamed . ', 'right': '', 'complete_match': 'They had shaved our heads ; and I felt so ashamed . ', 'testimony_id': 'irn504640', 'shelfmark': ['USHMM RG-50.030*0146'], 'token_start': 5812, 'token_end': 5824}\n",
      "http://localhost:8080/blacklab-server-2.1.0/lts/hits?patt=%5B%22they%22%5D+%5B%22grabbed%22%5D+%5B%22her%22%5D+%5B%22by%22%5D+%5B%22the%22%5D+%5B%22hair%22%5D+%5B%22and%22%5D+%5B%22they%22%5D+%5B%22pulled%22%5D+%5B%22down%22%5D+%5B%22the%22%5D+%5B%22wig%22%5D+%5B%5D+%5B%22she%22%5D+%5B%22was%22%5D+%5B%22very%22%5D+%5B%22embarrassed%22%5D&waitfortotal=true&outputformat=json&prettyprint=no&wordsaroundhit=0\n",
      "{'left': '', 'match_word': 'they grabbed her by the hair and they pulled down the wig , she was very embarrassed ', 'right': '', 'complete_match': 'they grabbed her by the hair and they pulled down the wig , she was very embarrassed ', 'testimony_id': 'irn509201', 'shelfmark': ['USHMM RG-50.233*0119'], 'token_start': 799, 'token_end': 816}\n",
      "http://localhost:8080/blacklab-server-2.1.0/lts/hits?patt=%5B%22my%22%5D+%5B%22hair%22%5D+%5B%22started%22%5D+%5B%22to%22%5D+%5B%22grow%22%5D+%5B%5D+%5B%22I%22%5D+%5B%22was%22%5D+%5B%22embarrassed%22%5D+%5B%22that%22%5D+%5B%22I%22%5D+%5B%22was%22%5D+%5B%22without%22%5D+%5B%22hair%22%5D&waitfortotal=true&outputformat=json&prettyprint=no&wordsaroundhit=0\n",
      "{'left': '', 'match_word': 'my hair started to grow . I was embarrassed that I was without hair ', 'right': '', 'complete_match': 'my hair started to grow . I was embarrassed that I was without hair ', 'testimony_id': 'irn518786', 'shelfmark': ['USHMM RG-50.030*0513'], 'token_start': 34703, 'token_end': 34717}\n"
     ]
    },
    {
     "name": "stdout",
     "output_type": "stream",
     "text": [
      "http://localhost:8080/blacklab-server-2.1.0/lts/hits?patt=%5B%22they%22%5D+%5B%22put%22%5D+%5B%22us%22%5D+%5B%22to%22%5D+%5B%22shame%22%5D+%5B%5D+%5B%22you%22%5D+%5B%22know%22%5D+%5B%5D+%5B%22they%22%5D+%5B%22shaved%22%5D+%5B%22our%22%5D+%5B%22hair%22%5D+%5B%22up%22%5D+%5B%5D&waitfortotal=true&outputformat=json&prettyprint=no&wordsaroundhit=0\n",
      "{'left': '', 'match_word': 'they put us to shame , you know , they shaved our hair up . ', 'right': '', 'complete_match': 'they put us to shame , you know , they shaved our hair up . ', 'testimony_id': 'irn519799', 'shelfmark': ['USHMM RG-50.549.02*0067'], 'token_start': 9061, 'token_end': 9076}\n",
      "http://localhost:8080/blacklab-server-2.1.0/lts/hits?patt=%5B%22And%22%5D+%5B%22the%22%5D+%5B%22humiliation%22%5D+%5B%5D+%5B%22the%22%5D+%5B%22feelings%22%5D+%5B%5D%7B0%2C3%7D+%5B%22this%22%5D+%5B%22is%22%5D+%5B%22a%22%5D+%5B%22most%22%5D+%5B%22terrible%22%5D+%5B%22thing%22%5D+%5B%22that%22%5D+%5B%22can%22%5D+%5B%22happen%22%5D+%5B%22to%22%5D+%5B%22a%22%5D+%5B%22young%22%5D+%5B%22girl%22%5D+%5B%5D&waitfortotal=true&outputformat=json&prettyprint=no&wordsaroundhit=0\n",
      "{'left': '', 'match_word': 'And the humiliation , the feelings -- this is a most terrible thing that can happen to a young girl . ', 'right': '', 'complete_match': 'And the humiliation , the feelings -- this is a most terrible thing that can happen to a young girl . ', 'testimony_id': 'usc_shoah_11296', 'shelfmark': ['USC Shoah Foundation 11296'], 'token_start': 8680, 'token_end': 8701}\n",
      "not found\n",
      "shame\n",
      "horrible\n",
      "usc_shoah_11296\n",
      "http://localhost:8080/blacklab-server-2.1.0/lts/hits?patt=%5B%22Men%22%5D+%5B%22who%22%5D+%5B%22stood%22%5D+%5B%22naked%22%5D+%5B%5D+%5B%22were%22%5D+%5B%22shaved%22%5D+%5B%22our%22%5D+%5B%22hair%22%5D+%5B%5D+%5B%22were%22%5D+%5B%22shaved%22%5D+%5B%22here%22%5D+%5B%5D+%5B%22So%22%5D+%5B%22we%22%5D+%5B%5D+%5B%22so%22%5D+%5B%22humiliated%22%5D+%5B%5D&waitfortotal=true&outputformat=json&prettyprint=no&wordsaroundhit=0\n",
      "{'left': '', 'match_word': \"Men who stood naked , were shaved our hair , were shaved here . So we 're so humiliated . \", 'right': '', 'complete_match': \"Men who stood naked , were shaved our hair , were shaved here . So we 're so humiliated . \", 'testimony_id': 'usc_shoah_21482', 'shelfmark': ['USC Shoah Foundation 21482'], 'token_start': 17127, 'token_end': 17147}\n",
      "http://localhost:8080/blacklab-server-2.1.0/lts/hits?patt=%5B%22they%22%5D+%5B%22did%22%5D+%5B%5D+%5B%22want%22%5D+%5B%22to%22%5D+%5B%22be%22%5D+%5B%22humiliated%22%5D+%5B%5D+%5B%22They%22%5D+%5B%22could%22%5D+%5B%5D+%5B%5D%7B0%2C3%7D+%5B%22they%22%5D+%5B%22could%22%5D+%5B%5D+%5B%22stand%22%5D+%5B%22it%22%5D+%5B%5D&waitfortotal=true&outputformat=json&prettyprint=no&wordsaroundhit=0\n",
      "{'left': '', 'match_word': \"they did n't want to be humiliated . They could n't -- they could n't stand it . \", 'right': '', 'complete_match': \"they did n't want to be humiliated . They could n't -- they could n't stand it . \", 'testimony_id': 'HVT-58', 'shelfmark': ['Fortunoff Archive HVT-58'], 'token_start': 1691, 'token_end': 1709}\n",
      "http://localhost:8080/blacklab-server-2.1.0/lts/hits?patt=%5B%22was%22%5D+%5B%22a%22%5D+%5B%22shameful%22%5D+%5B%22existence%22%5D+%5B%5D+%5B%22you%22%5D+%5B%22could%22%5D+%5B%5D+%5B%22do%22%5D+%5B%22anything%22%5D+%5B%22about%22%5D+%5B%22it%22%5D+%5B%5D&waitfortotal=true&outputformat=json&prettyprint=no&wordsaroundhit=0\n",
      "{'left': '', 'match_word': \"was a shameful existence , you could n't do anything about it . \", 'right': '', 'complete_match': \"was a shameful existence , you could n't do anything about it . \", 'testimony_id': 'irn35788', 'shelfmark': ['USHMM RG-50.030*0523'], 'token_start': 4565, 'token_end': 4578}\n",
      "http://localhost:8080/blacklab-server-2.1.0/lts/hits?patt=%5B%22they%22%5D+%5B%5D+%5B%22they%22%5D+%5B%22just%22%5D+%5B%22could%22%5D+%5B%22not%22%5D+%5B%22accept%22%5D+%5B%22the%22%5D+%5B%22humiliation%22%5D+%5B%22they%22%5D+%5B%22lived%22%5D+%5B%22through%22%5D&waitfortotal=true&outputformat=json&prettyprint=no&wordsaroundhit=0\n",
      "{'left': '', 'match_word': 'they – they just could not accept the humiliation they lived through ', 'right': '', 'complete_match': 'they – they just could not accept the humiliation they lived through ', 'testimony_id': 'irn43278', 'shelfmark': ['USHMM RG-50.030*0621'], 'token_start': 31262, 'token_end': 31274}\n",
      "http://localhost:8080/blacklab-server-2.1.0/lts/hits?patt=%5B%22That%22%5D+%5B%22was%22%5D+%5B%22probably%22%5D+%5B%22the%22%5D+%5B%22beginning%22%5D+%5B%22of%22%5D+%5B%22the%22%5D+%5B%22humiliation%22%5D+%5B%22that%22%5D+%5B%22I%22%5D+%5B%22just%22%5D+%5B%22could%22%5D+%5B%5D+%5B%22get%22%5D+%5B%22adjusted%22%5D+%5B%22to%22%5D+%5B%5D&waitfortotal=true&outputformat=json&prettyprint=no&wordsaroundhit=0\n",
      "{'left': '', 'match_word': \"That was probably the beginning of the humiliation that I just could n't get adjusted to . \", 'right': '', 'complete_match': \"That was probably the beginning of the humiliation that I just could n't get adjusted to . \", 'testimony_id': 'irn503624', 'shelfmark': ['USHMM RG-50.005*0028'], 'token_start': 5816, 'token_end': 5833}\n",
      "http://localhost:8080/blacklab-server-2.1.0/lts/hits?patt=%5B%22they%22%5D+%5B%22had%22%5D+%5B%22to%22%5D+%5B%22live%22%5D+%5B%22in%22%5D+%5B%22humiliation%22%5D+%5B%5D+%5B%22they%22%5D+%5B%22were%22%5D+%5B%22starve%22%5D+%5B%5D%7B0%2C3%7D+%5B%22you%22%5D+%5B%22could%22%5D+%5B%5D+%5B%22%27%27%22%5D+%5B%22t%22%5D+%5B%22do%22%5D+%5B%22that%22%5D+%5B%5D&waitfortotal=true&outputformat=json&prettyprint=no&wordsaroundhit=0\n",
      "The following query returned a null result\n",
      "[\"they\"] [\"had\"] [\"to\"] [\"live\"] [\"in\"] [\"humiliation\"] [] [\"they\"] [\"were\"] [\"starve\"] []{0,3} [\"you\"] [\"could\"] [] [\"''\"] [\"t\"] [\"do\"] [\"that\"] []\n",
      "not found\n",
      "main_leaf                                                           shame\n",
      "mid_leaf                                               could not stand it\n",
      "label                   ...they had to live in humiliation, they were ...\n",
      "testimony_id                                                    irn506704\n",
      "media_offset                                                            0\n",
      "media_index                                                             0\n",
      "original_sentences      they had to live in humiliation , they were st...\n",
      "end_sentence_index                                                    773\n",
      "start_sentence_index                                                  774\n",
      "Name: 271, dtype: object\n",
      "http://localhost:8080/blacklab-server-2.1.0/lts/hits?patt=%5B%22I%22%5D+%5B%22was%22%5D+%5B%22really%22%5D+%5B%22in%22%5D+%5B%22rags%22%5D+%5B%5D+%5B%22I%22%5D+%5B%22was%22%5D+%5B%22cold%22%5D+%5B%5D+%5B%22but%22%5D+%5B%22what%22%5D+%5B%5D+%5B%22hurting%22%5D+%5B%22me%22%5D+%5B%5D+%5B%22I%22%5D+%5B%22was%22%5D+%5B%22humiliated%22%5D+%5B%5D&waitfortotal=true&outputformat=json&prettyprint=no&wordsaroundhit=0\n",
      "{'left': '', 'match_word': \"I was really in rags . I was cold , but what 's hurting me , I was humiliated . \", 'right': '', 'complete_match': \"I was really in rags . I was cold , but what 's hurting me , I was humiliated . \", 'testimony_id': 'irn504928', 'shelfmark': ['USHMM RG-50.549.01*0021'], 'token_start': 6551, 'token_end': 6571}\n",
      "http://localhost:8080/blacklab-server-2.1.0/lts/hits?patt=%5B%22we%22%5D+%5B%22felt%22%5D+%5B%22humiliated%22%5D+%5B%5D+%5B%22or%22%5D+%5B%22were%22%5D+%5B%22cringing%22%5D+%5B%22inside%22%5D+%5B%5D+%5B%22or%22%5D+%5B%22were%22%5D+%5B%22hurting%22%5D+%5B%22inside%22%5D&waitfortotal=true&outputformat=json&prettyprint=no&wordsaroundhit=0\n",
      "{'left': '', 'match_word': 'we felt humiliated , or were cringing inside , or were hurting inside ', 'right': '', 'complete_match': 'we felt humiliated , or were cringing inside , or were hurting inside ', 'testimony_id': 'irn510682', 'shelfmark': ['USHMM RG-50.156*0028'], 'token_start': 12391, 'token_end': 12404}\n",
      "http://localhost:8080/blacklab-server-2.1.0/lts/hits?patt=%5B%22I%22%5D+%5B%22was%22%5D+%5B%5D+%5B%22painful%22%5D+%5B%22as%22%5D+%5B%22such%22%5D+%5B%5D+%5B%22But%22%5D+%5B%22the%22%5D+%5B%22degradation%22%5D+%5B%22that%22%5D+%5B%22we%22%5D+%5B%22were%22%5D&waitfortotal=true&outputformat=json&prettyprint=no&wordsaroundhit=0\n",
      "{'left': '', 'match_word': \"I was n't painful as such . But the degradation that we were \", 'right': '', 'complete_match': \"I was n't painful as such . But the degradation that we were \", 'testimony_id': 'usc_shoah_20088', 'shelfmark': ['USC Shoah Foundation 20088'], 'token_start': 16826, 'token_end': 16839}\n"
     ]
    },
    {
     "name": "stdout",
     "output_type": "stream",
     "text": [
      "http://localhost:8080/blacklab-server-2.1.0/lts/hits?patt=%5B%22I%22%5D+%5B%22remember%22%5D+%5B%22clearly%22%5D+%5B%22that%22%5D+%5B%22pain%22%5D+%5B%5D+%5B%22that%22%5D+%5B%22shame%22%5D+%5B%5D+%5B%22as%22%5D+%5B%22being%22%5D+%5B%5D%7B0%2C3%7D+%5B%5D+%5B%22a%22%5D+%5B%22girl%22%5D+%5B%22in%22%5D+%5B%22that%22%5D+%5B%22age%22%5D+%5B%5D&waitfortotal=true&outputformat=json&prettyprint=no&wordsaroundhit=0\n",
      "{'left': '', 'match_word': 'I remember clearly that pain , that shame , as being 16-years-old , a girl in that age . ', 'right': '', 'complete_match': 'I remember clearly that pain , that shame , as being 16-years-old , a girl in that age . ', 'testimony_id': 'usc_shoah_6076', 'shelfmark': ['USC Shoah Foundation 6076'], 'token_start': 20260, 'token_end': 20279}\n",
      "http://localhost:8080/blacklab-server-2.1.0/lts/hits?patt=%5B%22my%22%5D+%5B%22eyes%22%5D+%5B%22were%22%5D+%5B%22burning%22%5D+%5B%5D+%5B%22terribly%22%5D+%5B%22burning%22%5D+%5B%5D+%5B%22But%22%5D+%5B%22I%22%5D+%5B%22felt%22%5D+%5B%22the%22%5D+%5B%22humiliation%22%5D+%5B%22much%22%5D+%5B%22more%22%5D+%5B%22than%22%5D+%5B%22the%22%5D+%5B%22pain%22%5D+%5B%5D%7B0%2C3%7D+%5B%22you%22%5D+%5B%22know%22%5D+%5B%5D+%5B%22the%22%5D+%5B%22physical%22%5D+%5B%22pain%22%5D+%5B%5D&waitfortotal=true&outputformat=json&prettyprint=no&wordsaroundhit=0\n",
      "{'left': '', 'match_word': 'my eyes were burning , terribly burning . But I felt the humiliation much more than the pain -- you know , the physical pain . ', 'right': '', 'complete_match': 'my eyes were burning , terribly burning . But I felt the humiliation much more than the pain -- you know , the physical pain . ', 'testimony_id': 'usc_shoah_935', 'shelfmark': ['USC Shoah Foundation 935'], 'token_start': 25370, 'token_end': 25396}\n",
      "http://localhost:8080/blacklab-server-2.1.0/lts/hits?patt=%5B%22I%22%5D+%5B%22saw%22%5D+%5B%22really%22%5D+%5B%22pious%22%5D+%5B%5D+%5B%22religious%22%5D+%5B%22Jews%22%5D+%5B%5D+%5B%22rabbis%22%5D+%5B%5D+%5B%22observant%22%5D+%5B%5D+%5B%22how%22%5D+%5B%22they%22%5D+%5B%22were%22%5D+%5B%22humiliated%22%5D+%5B%22by%22%5D+%5B%22the%22%5D+%5B%22Germans%22%5D&waitfortotal=true&outputformat=json&prettyprint=no&wordsaroundhit=0\n",
      "{'left': '', 'match_word': 'I saw really pious , religious Jews , rabbis , observant , how they were humiliated by the Germans ', 'right': '', 'complete_match': 'I saw really pious , religious Jews , rabbis , observant , how they were humiliated by the Germans ', 'testimony_id': 'irn510689', 'shelfmark': ['USHMM RG-50.156*0035'], 'token_start': 19544, 'token_end': 19563}\n",
      "http://localhost:8080/blacklab-server-2.1.0/lts/hits?patt=%5B%22they%22%5D+%5B%22usually%22%5D+%5B%22kind%22%5D+%5B%22of%22%5D+%5B%22tried%22%5D+%5B%22to%22%5D+%5B%22shame%22%5D+%5B%22the%22%5D+%5B%22religious%22%5D+%5B%22people%22%5D&waitfortotal=true&outputformat=json&prettyprint=no&wordsaroundhit=0\n",
      "{'left': '', 'match_word': 'they usually kind of tried to shame the religious people ', 'right': '', 'complete_match': 'they usually kind of tried to shame the religious people ', 'testimony_id': 'usc_shoah_24259', 'shelfmark': ['USC Shoah Foundation 24259'], 'token_start': 1267, 'token_end': 1277}\n",
      "http://localhost:8080/blacklab-server-2.1.0/lts/hits?patt=%5B%22Because%22%5D+%5B%22we%22%5D+%5B%22felt%22%5D+%5B%22so%22%5D+%5B%22degraded%22%5D+%5B%5D+%5B%22Because%22%5D+%5B%22they%22%5D+%5B%22knew%22%5D+%5B%22that%22%5D+%5B%22the%22%5D+%5B%22beard%22%5D+%5B%22is%22%5D+%5B%22for%22%5D+%5B%22religious%22%5D+%5B%22reasons%22%5D+%5B%5D&waitfortotal=true&outputformat=json&prettyprint=no&wordsaroundhit=0\n",
      "{'left': '', 'match_word': 'Because we felt so degraded . Because they knew that the beard is for religious reasons . ', 'right': '', 'complete_match': 'Because we felt so degraded . Because they knew that the beard is for religious reasons . ', 'testimony_id': 'usc_shoah_304', 'shelfmark': ['USC Shoah Foundation 304'], 'token_start': 4802, 'token_end': 4819}\n",
      "http://localhost:8080/blacklab-server-2.1.0/lts/hits?patt=%5B%22And%22%5D+%5B%22they%22%5D+%5B%5D%7B0%2C3%7D+%5B%22to%22%5D+%5B%22humiliate%22%5D+%5B%22the%22%5D+%5B%22rabbi%22%5D&waitfortotal=true&outputformat=json&prettyprint=no&wordsaroundhit=0\n",
      "{'left': '', 'match_word': 'And they -- to humiliate the rabbi ', 'right': '', 'complete_match': 'And they -- to humiliate the rabbi ', 'testimony_id': 'HVT-94', 'shelfmark': ['Fortunoff Archive HVT-94'], 'token_start': 3813, 'token_end': 3820}\n",
      "http://localhost:8080/blacklab-server-2.1.0/lts/hits?patt=%5B%22they%22%5D+%5B%22usually%22%5D+%5B%22kind%22%5D+%5B%22of%22%5D+%5B%22tried%22%5D+%5B%22to%22%5D+%5B%22shame%22%5D+%5B%22the%22%5D+%5B%22religious%22%5D+%5B%22people%22%5D+%5B%22that%22%5D+%5B%22had%22%5D+%5B%5D%7B0%2C3%7D+%5B%22like%22%5D+%5B%22rabbis%22%5D+%5B%22who%22%5D+%5B%22had%22%5D+%5B%22beards%22%5D&waitfortotal=true&outputformat=json&prettyprint=no&wordsaroundhit=0\n",
      "{'left': '', 'match_word': 'they usually kind of tried to shame the religious people that had -- like rabbis who had beards ', 'right': '', 'complete_match': 'they usually kind of tried to shame the religious people that had -- like rabbis who had beards ', 'testimony_id': 'usc_shoah_24259', 'shelfmark': ['USC Shoah Foundation 24259'], 'token_start': 1267, 'token_end': 1285}\n",
      "http://localhost:8080/blacklab-server-2.1.0/lts/hits?patt=%5B%22it%22%5D+%5B%22was%22%5D+%5B%22one%22%5D+%5B%22of%22%5D+%5B%22the%22%5D+%5B%22most%22%5D+%5B%22degrading%22%5D+%5B%5D%7B0%2C3%7D+%5B%22altogether%22%5D+%5B%5D+%5B%22the%22%5D+%5B%22most%22%5D+%5B%22degrading%22%5D+%5B%22part%22%5D+%5B%22of%22%5D+%5B%22this%22%5D+%5B%22whole%22%5D+%5B%22experience%22%5D+%5B%22is%22%5D+%5B%22really%22%5D+%5B%22the%22%5D+%5B%22dehumanization%22%5D+%5B%5D&waitfortotal=true&outputformat=json&prettyprint=no&wordsaroundhit=0\n",
      "{'left': '', 'match_word': 'it was one of the most degrading -- altogether , the most degrading part of this whole experience is really the dehumanization . ', 'right': '', 'complete_match': 'it was one of the most degrading -- altogether , the most degrading part of this whole experience is really the dehumanization . ', 'testimony_id': 'HVT-79', 'shelfmark': ['Fortunoff Archive HVT-79'], 'token_start': 11432, 'token_end': 11455}\n",
      "http://localhost:8080/blacklab-server-2.1.0/lts/hits?patt=%5B%22All%22%5D+%5B%22these%22%5D+%5B%22aimed%22%5D+%5B%22to%22%5D+%5B%22one%22%5D+%5B%5D+%5B%22to%22%5D+%5B%22dehumanize%22%5D+%5B%5D+%5B%22to%22%5D+%5B%22to%22%5D+%5B%22degrade%22%5D+%5B%5D+%5B%22to%22%5D+%5B%22hurt%22%5D+%5B%22the%22%5D+%5B%22feelings%22%5D+%5B%22of%22%5D+%5B%22Jews%22%5D&waitfortotal=true&outputformat=json&prettyprint=no&wordsaroundhit=0\n",
      "{'left': '', 'match_word': 'All these aimed to one , to dehumanize , to to degrade , to hurt the feelings of Jews ', 'right': '', 'complete_match': 'All these aimed to one , to dehumanize , to to degrade , to hurt the feelings of Jews ', 'testimony_id': 'irn504723', 'shelfmark': ['USHMM RG-50.030*0234'], 'token_start': 5201, 'token_end': 5220}\n",
      "http://localhost:8080/blacklab-server-2.1.0/lts/hits?patt=%5B%22Because%22%5D+%5B%22we%22%5D+%5B%22were%22%5D+%5B%22in%22%5D+%5B%5D%7B0%2C3%7D+%5B%22so%22%5D+%5B%22dehumanized%22%5D+%5B%22in%22%5D+%5B%22the%22%5D+%5B%22process%22%5D+%5B%22of%22%5D+%5B%22all%22%5D+%5B%22these%22%5D+%5B%22particular%22%5D+%5B%22humiliations%22%5D&waitfortotal=true&outputformat=json&prettyprint=no&wordsaroundhit=0\n",
      "{'left': '', 'match_word': 'Because we were in -- so dehumanized in the process of all these particular humiliations ', 'right': '', 'complete_match': 'Because we were in -- so dehumanized in the process of all these particular humiliations ', 'testimony_id': 'irn506665', 'shelfmark': ['USHMM RG-50.549.02*0013'], 'token_start': 24486, 'token_end': 24501}\n",
      "http://localhost:8080/blacklab-server-2.1.0/lts/hits?patt=%5B%22you%22%5D+%5B%22feel%22%5D+%5B%22like%22%5D+%5B%22you%22%5D+%5B%5D+%5B%22%C3%B3%22%5D+%5B%22%27%27%22%5D+%5B%22re%22%5D+%5B%22subhuman%22%5D+%5B%22or%22%5D+%5B%22something%22%5D+%5B%5D+%5B%22was%22%5D+%5B%22the%22%5D+%5B%22time%22%5D+%5B%22to%22%5D+%5B%22humiliate%22%5D+%5B%22you%22%5D&waitfortotal=true&outputformat=json&prettyprint=no&wordsaroundhit=0\n",
      "The following query returned a null result\n",
      "[\"you\"] [\"feel\"] [\"like\"] [\"you\"] [] [\"ó\"] [\"''\"] [\"re\"] [\"subhuman\"] [\"or\"] [\"something\"] [] [\"was\"] [\"the\"] [\"time\"] [\"to\"] [\"humiliate\"] [\"you\"]\n",
      "not found\n",
      "main_leaf                                                           shame\n",
      "mid_leaf                                                       dehumanize\n",
      "label                   ...you feel like you ?ó»re subhuman or somethi...\n",
      "testimony_id                                                    irn508461\n",
      "media_offset                                                            0\n",
      "media_index                                                             0\n",
      "original_sentences      you feel like you ?ó»re subhuman or something ...\n",
      "end_sentence_index                                                    891\n",
      "start_sentence_index                                                  891\n",
      "Name: 285, dtype: object\n",
      "http://localhost:8080/blacklab-server-2.1.0/lts/hits?patt=%5B%22killing%22%5D+%5B%22a%22%5D+%5B%22human%22%5D+%5B%22being%22%5D+%5B%22really%22%5D+%5B%22is%22%5D+%5B%5D+%5B%22the%22%5D+%5B%22biggest%22%5D+%5B%22crime%22%5D+%5B%5D+%5B%22It%22%5D+%5B%5D+%5B%22to%22%5D+%5B%22degrade%22%5D+%5B%22him%22%5D+%5B%5D+%5B%22to%22%5D+%5B%5D%7B0%2C3%7D+%5B%22to%22%5D+%5B%22dehumanize%22%5D+%5B%22him%22%5D&waitfortotal=true&outputformat=json&prettyprint=no&wordsaroundhit=0\n"
     ]
    },
    {
     "name": "stdout",
     "output_type": "stream",
     "text": [
      "{'left': '', 'match_word': \"killing a human being really is n't the biggest crime . It 's to degrade him , to -- to dehumanize him \", 'right': '', 'complete_match': \"killing a human being really is n't the biggest crime . It 's to degrade him , to -- to dehumanize him \", 'testimony_id': 'usc_shoah_11000', 'shelfmark': ['USC Shoah Foundation 11000'], 'token_start': 8757, 'token_end': 8779}\n",
      "http://localhost:8080/blacklab-server-2.1.0/lts/hits?patt=%5B%22But%22%5D+%5B%22it%22%5D+%5B%22never%22%5D+%5B%22healed%22%5D+%5B%22my%22%5D+%5B%22soul%22%5D+%5B%22that%22%5D+%5B%22I%22%5D+%5B%22have%22%5D+%5B%22been%22%5D+%5B%22hit%22%5D+%5B%5D+%5B%22I%22%5D+%5B%22have%22%5D+%5B%22been%22%5D+%5B%22humiliated%22%5D+%5B%22this%22%5D+%5B%22way%22%5D+%5B%5D&waitfortotal=true&outputformat=json&prettyprint=no&wordsaroundhit=0\n",
      "{'left': '', 'match_word': 'But it never healed my soul that I have been hit , I have been humiliated this way . ', 'right': '', 'complete_match': 'But it never healed my soul that I have been hit , I have been humiliated this way . ', 'testimony_id': 'HVT-107', 'shelfmark': ['Fortunoff Archive HVT-107'], 'token_start': 6661, 'token_end': 6680}\n",
      "http://localhost:8080/blacklab-server-2.1.0/lts/hits?patt=%5B%22the%22%5D+%5B%22humiliation%22%5D+%5B%22the%22%5D+%5B%22way%22%5D+%5B%22they%22%5D+%5B%22beat%22%5D+%5B%5D%7B0%2C3%7D+%5B%22beating%22%5D+%5B%22us%22%5D+%5B%22and%22%5D+%5B%22what%22%5D+%5B%22they%22%5D+%5B%5D%7B0%2C3%7D+%5B%22what%22%5D+%5B%22they%22%5D+%5B%22doing%22%5D+%5B%22to%22%5D+%5B%22us%22%5D+%5B%5D&waitfortotal=true&outputformat=json&prettyprint=no&wordsaroundhit=0\n",
      "{'left': '', 'match_word': 'the humiliation the way they beat -- beating us and what they -- what they doing to us . ', 'right': '', 'complete_match': 'the humiliation the way they beat -- beating us and what they -- what they doing to us . ', 'testimony_id': 'HVT-125', 'shelfmark': ['Fortunoff Archive HVT-125'], 'token_start': 4109, 'token_end': 4128}\n",
      "http://localhost:8080/blacklab-server-2.1.0/lts/hits?patt=%5B%22They%22%5D+%5B%22degraded%22%5D+%5B%22us%22%5D+%5B%22by%22%5D+%5B%22slapping%22%5D+%5B%22in%22%5D+%5B%22the%22%5D+%5B%22face%22%5D+%5B%5D+%5B%22by%22%5D+%5B%22hitting%22%5D+%5B%5D&waitfortotal=true&outputformat=json&prettyprint=no&wordsaroundhit=0\n",
      "{'left': '', 'match_word': 'They degraded us by slapping in the face , by hitting . ', 'right': '', 'complete_match': 'They degraded us by slapping in the face , by hitting . ', 'testimony_id': 'irn504677', 'shelfmark': ['USHMM RG-50.030*0180'], 'token_start': 2101, 'token_end': 2113}\n",
      "http://localhost:8080/blacklab-server-2.1.0/lts/hits?patt=%5B%22And%22%5D+%5B%22if%22%5D+%5B%22not%22%5D+%5B%5D+%5B%22they%22%5D+%5B%22hit%22%5D+%5B%22him%22%5D+%5B%5D+%5B%22You%22%5D+%5B%22know%22%5D+%5B%5D+%5B%22it%22%5D+%5B%5D%7B0%2C3%7D+%5B%22it%22%5D+%5B%22was%22%5D+%5B%22very%22%5D+%5B%22humiliating%22%5D+%5B%5D&waitfortotal=true&outputformat=json&prettyprint=no&wordsaroundhit=0\n",
      "{'left': '', 'match_word': 'And if not , they hit him . You know , it -- it was very humiliating . ', 'right': '', 'complete_match': 'And if not , they hit him . You know , it -- it was very humiliating . ', 'testimony_id': 'usc_shoah_15938', 'shelfmark': ['USC Shoah Foundation 15938'], 'token_start': 5688, 'token_end': 5706}\n",
      "http://localhost:8080/blacklab-server-2.1.0/lts/hits?patt=%5B%22he%22%5D+%5B%22humiliated%22%5D+%5B%22people%22%5D+%5B%22by%22%5D+%5B%22lashing%22%5D+%5B%5D%7B0%2C3%7D+%5B%22beating%22%5D+%5B%22a%22%5D+%5B%22person%22%5D+%5B%22with%22%5D+%5B%22a%22%5D+%5B%22whip%22%5D&waitfortotal=true&outputformat=json&prettyprint=no&wordsaroundhit=0\n",
      "{'left': '', 'match_word': 'he humiliated people by lashing -- beating a person with a whip ', 'right': '', 'complete_match': 'he humiliated people by lashing -- beating a person with a whip ', 'testimony_id': 'usc_shoah_7358', 'shelfmark': ['USC Shoah Foundation 7358'], 'token_start': 5125, 'token_end': 5137}\n",
      "http://localhost:8080/blacklab-server-2.1.0/lts/hits?patt=%5B%22I%22%5D+%5B%22will%22%5D+%5B%22die%22%5D+%5B%5D+%5B%22but%22%5D+%5B%22the%22%5D+%5B%22shame%22%5D+%5B%5D+%5B%22the%22%5D+%5B%22humiliation%22%5D&waitfortotal=true&outputformat=json&prettyprint=no&wordsaroundhit=0\n",
      "{'left': '', 'match_word': 'I will die , but the shame , the humiliation ', 'right': '', 'complete_match': 'I will die , but the shame , the humiliation ', 'testimony_id': 'irn508737', 'shelfmark': ['USHMM RG-50.462*0096'], 'token_start': 1851, 'token_end': 1861}\n",
      "http://localhost:8080/blacklab-server-2.1.0/lts/hits?patt=%5B%22You%22%5D+%5B%22know%22%5D+%5B%5D+%5B%22That%22%5D+%5B%5D+%5B%22%C3%B3%22%5D+%5B%22%27%27%22%5D+%5B%22s%22%5D+%5B%22what%22%5D+%5B%22is%22%5D+%5B%22in%22%5D+%5B%22shame%22%5D+%5B%5D+%5B%22shame%22%5D+%5B%22is%22%5D+%5B%22worse%22%5D+%5B%22than%22%5D+%5B%22death%22%5D+%5B%5D&waitfortotal=true&outputformat=json&prettyprint=no&wordsaroundhit=0\n",
      "The following query returned a null result\n",
      "[\"You\"] [\"know\"] [] [\"That\"] [] [\"ó\"] [\"''\"] [\"s\"] [\"what\"] [\"is\"] [\"in\"] [\"shame\"] [] [\"shame\"] [\"is\"] [\"worse\"] [\"than\"] [\"death\"] []\n",
      "not found\n",
      "main_leaf                                                           shame\n",
      "mid_leaf                                                              die\n",
      "label                   You know. That ?ó»s what is in shame, shame is...\n",
      "testimony_id                                                    irn509104\n",
      "media_offset                                                            0\n",
      "media_index                                                             0\n",
      "original_sentences      You know . That ?ó»s what is in shame , shame ...\n",
      "end_sentence_index                                                   1034\n",
      "start_sentence_index                                                 1036\n",
      "Name: 293, dtype: object\n",
      "http://localhost:8080/blacklab-server-2.1.0/lts/hits?patt=%5B%22made%22%5D+%5B%22it%22%5D+%5B%22faster%22%5D+%5B%22that%22%5D+%5B%22he%22%5D+%5B%22died%22%5D+%5B%5D+%5B%22He%22%5D+%5B%22had%22%5D+%5B%22a%22%5D+%5B%22lot%22%5D+%5B%22of%22%5D+%5B%22shame%22%5D+%5B%22when%22%5D+%5B%22that%22%5D+%5B%22happened%22%5D&waitfortotal=true&outputformat=json&prettyprint=no&wordsaroundhit=0\n",
      "{'left': '', 'match_word': 'made it faster that he died . He had a lot of shame when that happened ', 'right': '', 'complete_match': 'made it faster that he died . He had a lot of shame when that happened ', 'testimony_id': 'usc_shoah_6503', 'shelfmark': ['USC Shoah Foundation 6503'], 'token_start': 1843, 'token_end': 1859}\n",
      "http://localhost:8080/blacklab-server-2.1.0/lts/hits?patt=%5B%22The%22%5D+%5B%22psychology%22%5D+%5B%22was%22%5D+%5B%22mentally%22%5D+%5B%5D%7B0%2C3%7D+%5B%22mental%22%5D+%5B%22degradation%22%5D+%5B%5D+%5B%22mental%22%5D+%5B%22suppression%22%5D+%5B%5D+%5B%22so%22%5D+%5B%22the%22%5D+%5B%22people%22%5D+%5B%22themselves%22%5D+%5B%22die%22%5D&waitfortotal=true&outputformat=json&prettyprint=no&wordsaroundhit=0\n",
      "{'left': '', 'match_word': 'The psychology was mentally -- mental degradation , mental suppression , so the people themselves die ', 'right': '', 'complete_match': 'The psychology was mentally -- mental degradation , mental suppression , so the people themselves die ', 'testimony_id': 'usc_shoah_9', 'shelfmark': ['USC Shoah Foundation 9'], 'token_start': 11339, 'token_end': 11355}\n",
      "http://localhost:8080/blacklab-server-2.1.0/lts/hits?patt=%5B%22condemn%22%5D+%5B%22the%22%5D+%5B%22person%22%5D+%5B%22to%22%5D+%5B%22humiliation%22%5D+%5B%5D+%5B%22suffering%22%5D+%5B%22and%22%5D+%5B%22deprivation%22%5D+%5B%22to%22%5D+%5B%22death%22%5D+%5B%5D+%5B%22is%22%5D+%5B%22in%22%5D+%5B%22fact%22%5D+%5B%22to%22%5D+%5B%22annihilate%22%5D+%5B%22the%22%5D+%5B%22uniqueness%22%5D+%5B%22of%22%5D+%5B%22that%22%5D+%5B%22person%22%5D+%5B%5D&waitfortotal=true&outputformat=json&prettyprint=no&wordsaroundhit=0\n",
      "{'left': '', 'match_word': 'condemn the person to humiliation , suffering and deprivation to death , is in fact to annihilate the uniqueness of that person . ', 'right': '', 'complete_match': 'condemn the person to humiliation , suffering and deprivation to death , is in fact to annihilate the uniqueness of that person . ', 'testimony_id': 'irn511350', 'shelfmark': ['USHMM RG-50.165*0133'], 'token_start': 499, 'token_end': 522}\n"
     ]
    },
    {
     "name": "stdout",
     "output_type": "stream",
     "text": [
      "http://localhost:8080/blacklab-server-2.1.0/lts/hits?patt=%5B%22It%22%5D+%5B%22was%22%5D+%5B%22such%22%5D+%5B%22a%22%5D+%5B%22shame%22%5D+%5B%22to%22%5D+%5B%22be%22%5D+%5B%22Jewish%22%5D+%5B%5D&waitfortotal=true&outputformat=json&prettyprint=no&wordsaroundhit=0\n",
      "{'left': '', 'match_word': 'It was such a shame to be Jewish . ', 'right': '', 'complete_match': 'It was such a shame to be Jewish . ', 'testimony_id': 'usc_shoah_19939', 'shelfmark': ['USC Shoah Foundation 19939'], 'token_start': 23856, 'token_end': 23865}\n",
      "http://localhost:8080/blacklab-server-2.1.0/lts/hits?patt=%5B%22I%22%5D+%5B%22was%22%5D+%5B%22always%22%5D+%5B%22ashamed%22%5D+%5B%5D+%5B%22I%22%5D+%5B%22was%22%5D+%5B%22ashamed%22%5D+%5B%22to%22%5D+%5B%22be%22%5D+%5B%22Jewish%22%5D+%5B%5D&waitfortotal=true&outputformat=json&prettyprint=no&wordsaroundhit=0\n",
      "{'left': '', 'match_word': 'I was always ashamed . I was ashamed to be Jewish . ', 'right': '', 'complete_match': 'I was always ashamed . I was ashamed to be Jewish . ', 'testimony_id': 'usc_shoah_22237', 'shelfmark': ['USC Shoah Foundation 22237'], 'token_start': 5115, 'token_end': 5127}\n",
      "http://localhost:8080/blacklab-server-2.1.0/lts/hits?patt=%5B%22we%22%5D+%5B%22were%22%5D+%5B%22made%22%5D+%5B%22to%22%5D+%5B%22feel%22%5D+%5B%22ashamed%22%5D+%5B%22of%22%5D+%5B%22being%22%5D+%5B%22Jewish%22%5D&waitfortotal=true&outputformat=json&prettyprint=no&wordsaroundhit=0\n",
      "{'left': '', 'match_word': 'we were made to feel ashamed of being Jewish ', 'right': '', 'complete_match': 'we were made to feel ashamed of being Jewish ', 'testimony_id': 'HVT-80', 'shelfmark': ['Fortunoff Archive HVT-80'], 'token_start': 313, 'token_end': 322}\n",
      "http://localhost:8080/blacklab-server-2.1.0/lts/hits?patt=%5B%22ashamed%22%5D+%5B%22of%22%5D+%5B%22being%22%5D+%5B%22Jewish%22%5D+%5B%5D+%5B%22Uncomfortable%22%5D+%5B%22being%22%5D+%5B%22Jewish%22%5D+%5B%5D&waitfortotal=true&outputformat=json&prettyprint=no&wordsaroundhit=0\n",
      "{'left': '', 'match_word': 'ashamed of being Jewish . Uncomfortable being Jewish . ', 'right': '', 'complete_match': 'ashamed of being Jewish . Uncomfortable being Jewish . ', 'testimony_id': 'irn504568', 'shelfmark': ['USHMM RG-50.030*0072'], 'token_start': 11254, 'token_end': 11263}\n",
      "http://localhost:8080/blacklab-server-2.1.0/lts/hits?patt=%5B%22I%22%5D+%5B%22was%22%5D+%5B%22ashamed%22%5D+%5B%22of%22%5D+%5B%22being%22%5D+%5B%22a%22%5D+%5B%22Jew%22%5D+%5B%5D&waitfortotal=true&outputformat=json&prettyprint=no&wordsaroundhit=0\n",
      "{'left': '', 'match_word': 'I was ashamed of being a Jew . ', 'right': '', 'complete_match': 'I was ashamed of being a Jew . ', 'testimony_id': 'irn508651', 'shelfmark': ['USHMM RG-50.462*0031'], 'token_start': 5364, 'token_end': 5372}\n",
      "http://localhost:8080/blacklab-server-2.1.0/lts/hits?patt=%5B%22It%22%5D+%5B%22became%22%5D+%5B%22suddenly%22%5D+%5B%22just%22%5D+%5B%22so%22%5D+%5B%22humiliating%22%5D+%5B%5D+%5B%22so%22%5D+%5B%22terrible%22%5D+%5B%5D+%5B%22our%22%5D+%5B%22life%22%5D+%5B%22was%22%5D+%5B%22worth%22%5D+%5B%22nothing%22%5D+%5B%5D&waitfortotal=true&outputformat=json&prettyprint=no&wordsaroundhit=0\n",
      "{'left': '', 'match_word': 'It became suddenly just so humiliating , so terrible , our life was worth nothing . ', 'right': '', 'complete_match': 'It became suddenly just so humiliating , so terrible , our life was worth nothing . ', 'testimony_id': 'irn504909', 'shelfmark': ['USHMM RG-50.030*0436'], 'token_start': 7279, 'token_end': 7295}\n",
      "http://localhost:8080/blacklab-server-2.1.0/lts/hits?patt=%5B%22But%22%5D+%5B%22personally%22%5D+%5B%5D+%5B%22I%22%5D+%5B%22felt%22%5D+%5B%22terrible%22%5D+%5B%22humiliated%22%5D+%5B%5D&waitfortotal=true&outputformat=json&prettyprint=no&wordsaroundhit=0\n",
      "{'left': '', 'match_word': 'But personally , I felt terrible humiliated . ', 'right': '', 'complete_match': 'But personally , I felt terrible humiliated . ', 'testimony_id': 'usc_shoah_2460', 'shelfmark': ['USC Shoah Foundation 2460'], 'token_start': 5461, 'token_end': 5469}\n",
      "http://localhost:8080/blacklab-server-2.1.0/lts/hits?patt=%5B%22The%22%5D+%5B%22degradation%22%5D+%5B%22was%22%5D+%5B%22terrible%22%5D+%5B%5D&waitfortotal=true&outputformat=json&prettyprint=no&wordsaroundhit=0\n",
      "{'left': '', 'match_word': 'The degradation was terrible . ', 'right': '', 'complete_match': 'The degradation was terrible . ', 'testimony_id': 'usc_shoah_14429', 'shelfmark': ['USC Shoah Foundation 14429'], 'token_start': 11514, 'token_end': 11519}\n",
      "http://localhost:8080/blacklab-server-2.1.0/lts/hits?patt=%5B%22Well%22%5D+%5B%5D+%5B%22I%22%5D+%5B%22saw%22%5D+%5B%22terrible%22%5D+%5B%22things%22%5D+%5B%5D+%5B%22starvation%22%5D+%5B%22and%22%5D+%5B%22humiliation%22%5D&waitfortotal=true&outputformat=json&prettyprint=no&wordsaroundhit=0\n",
      "{'left': '', 'match_word': 'Well , I saw terrible things , starvation and humiliation ', 'right': '', 'complete_match': 'Well , I saw terrible things , starvation and humiliation ', 'testimony_id': 'usc_shoah_1085', 'shelfmark': ['USC Shoah Foundation 1085'], 'token_start': 4576, 'token_end': 4586}\n",
      "http://localhost:8080/blacklab-server-2.1.0/lts/hits?patt=%5B%22I%22%5D+%5B%22stood%22%5D+%5B%22there%22%5D+%5B%22and%22%5D+%5B%22I%22%5D+%5B%22felt%22%5D+%5B%22terrible%22%5D+%5B%22ashamed%22%5D+%5B%5D&waitfortotal=true&outputformat=json&prettyprint=no&wordsaroundhit=0\n",
      "{'left': '', 'match_word': 'I stood there and I felt terrible ashamed . ', 'right': '', 'complete_match': 'I stood there and I felt terrible ashamed . ', 'testimony_id': 'irn510721', 'shelfmark': ['USHMM RG-50.154*0001'], 'token_start': 8881, 'token_end': 8890}\n",
      "http://localhost:8080/blacklab-server-2.1.0/lts/hits?patt=%5B%22And%22%5D+%5B%22he%22%5D+%5B%22was%22%5D+%5B%22terribly%22%5D+%5B%22embarrassed%22%5D+%5B%22in%22%5D+%5B%22front%22%5D+%5B%22of%22%5D+%5B%22the%22%5D+%5B%22class%22%5D+%5B%5D&waitfortotal=true&outputformat=json&prettyprint=no&wordsaroundhit=0\n",
      "{'left': '', 'match_word': 'And he was terribly embarrassed in front of the class . ', 'right': '', 'complete_match': 'And he was terribly embarrassed in front of the class . ', 'testimony_id': 'irn504718', 'shelfmark': ['USHMM RG-50.030*0228'], 'token_start': 6446, 'token_end': 6457}\n",
      "http://localhost:8080/blacklab-server-2.1.0/lts/hits?patt=%5B%22And%22%5D+%5B%22I%22%5D+%5B%22was%22%5D+%5B%22terribly%22%5D+%5B%22embarrassed%22%5D+%5B%22because%22%5D+%5B%22I%22%5D+%5B%22was%22%5D+%5B%22different%22%5D+%5B%22than%22%5D+%5B%22the%22%5D+%5B%22other%22%5D+%5B%22kids%22%5D+%5B%5D&waitfortotal=true&outputformat=json&prettyprint=no&wordsaroundhit=0\n",
      "{'left': '', 'match_word': 'And I was terribly embarrassed because I was different than the other kids . ', 'right': '', 'complete_match': 'And I was terribly embarrassed because I was different than the other kids . ', 'testimony_id': 'usc_shoah_16503', 'shelfmark': ['USC Shoah Foundation 16503'], 'token_start': 2308, 'token_end': 2322}\n",
      "http://localhost:8080/blacklab-server-2.1.0/lts/hits?patt=%5B%22And%22%5D+%5B%22I%22%5D+%5B%22remember%22%5D+%5B%22with%22%5D+%5B%22great%22%5D+%5B%22humiliation%22%5D+%5B%5D+%5B%22getting%22%5D+%5B%22up%22%5D+%5B%22and%22%5D+%5B%22then%22%5D+%5B%22the%22%5D+%5B%22rest%22%5D+%5B%22of%22%5D+%5B%22the%22%5D+%5B%22class%22%5D+%5B%22chanting%22%5D&waitfortotal=true&outputformat=json&prettyprint=no&wordsaroundhit=0\n",
      "{'left': '', 'match_word': 'And I remember with great humiliation , getting up and then the rest of the class chanting ', 'right': '', 'complete_match': 'And I remember with great humiliation , getting up and then the rest of the class chanting ', 'testimony_id': 'usc_shoah_18470', 'shelfmark': ['USC Shoah Foundation 18470'], 'token_start': 3193, 'token_end': 3210}\n",
      "http://localhost:8080/blacklab-server-2.1.0/lts/hits?patt=%5B%22left%22%5D+%5B%22school%22%5D+%5B%22because%22%5D+%5B%22the%22%5D+%5B%22humiliation%22%5D+%5B%22and%22%5D+%5B%22embarrassment%22%5D+%5B%22would%22%5D+%5B%22have%22%5D+%5B%22only%22%5D+%5B%22grown%22%5D+%5B%22more%22%5D+%5B%22stronger%22%5D&waitfortotal=true&outputformat=json&prettyprint=no&wordsaroundhit=0\n",
      "{'left': '', 'match_word': 'left school because the humiliation and embarrassment would have only grown more stronger ', 'right': '', 'complete_match': 'left school because the humiliation and embarrassment would have only grown more stronger ', 'testimony_id': 'usc_shoah_24195', 'shelfmark': ['USC Shoah Foundation 24195'], 'token_start': 9061, 'token_end': 9074}\n"
     ]
    },
    {
     "name": "stdout",
     "output_type": "stream",
     "text": [
      "http://localhost:8080/blacklab-server-2.1.0/lts/hits?patt=%5B%22And%22%5D+%5B%22we%22%5D+%5B%5D+%5B%22we%22%5D+%5B%22felt%22%5D+%5B%22somehow%22%5D+%5B%5D+%5B%22the%22%5D+%5B%22remarks%22%5D+%5B%22from%22%5D+%5B%22the%22%5D+%5B%22teachers%22%5D+%5B%5D+%5B%22the%22%5D+%5B%22remarks%22%5D+%5B%22from%22%5D+%5B%22the%22%5D+%5B%22former%22%5D+%5B%22neighbors%22%5D+%5B%5D+%5B%22degrading%22%5D+%5B%5D&waitfortotal=true&outputformat=json&prettyprint=no&wordsaroundhit=0\n",
      "{'left': '', 'match_word': 'And we , we felt somehow , the remarks from the teachers , the remarks from the former neighbors , degrading . ', 'right': '', 'complete_match': 'And we , we felt somehow , the remarks from the teachers , the remarks from the former neighbors , degrading . ', 'testimony_id': 'usc_shoah_747', 'shelfmark': ['USC Shoah Foundation 747'], 'token_start': 5778, 'token_end': 5800}\n",
      "http://localhost:8080/blacklab-server-2.1.0/lts/hits?patt=%5B%22they%22%5D+%5B%22tortured%22%5D+%5B%22her%22%5D+%5B%22and%22%5D+%5B%22they%22%5D+%5B%22humiliated%22%5D+%5B%22her%22%5D+%5B%5D+%5B%22They%22%5D+%5B%22paraded%22%5D+%5B%22her%22%5D+%5B%22on%22%5D+%5B%22the%22%5D+%5B%22main%22%5D+%5B%22street%22%5D+%5B%22in%22%5D+%5B%22the%22%5D+%5B%22nude%22%5D&waitfortotal=true&outputformat=json&prettyprint=no&wordsaroundhit=0\n",
      "{'left': '', 'match_word': 'they tortured her and they humiliated her . They paraded her on the main street in the nude ', 'right': '', 'complete_match': 'they tortured her and they humiliated her . They paraded her on the main street in the nude ', 'testimony_id': 'irn509202', 'shelfmark': ['USHMM RG-50.233*0120'], 'token_start': 10583, 'token_end': 10601}\n",
      "http://localhost:8080/blacklab-server-2.1.0/lts/hits?patt=%5B%22There%22%5D+%5B%22were%22%5D+%5B%22such%22%5D+%5B%22outrageous%22%5D+%5B%22humiliations%22%5D+%5B%5D+%5B%22For%22%5D+%5B%22instance%22%5D+%5B%22they%22%5D+%5B%22would%22%5D+%5B%22make%22%5D+%5B%22you%22%5D+%5B%22hop%22%5D+%5B%22around%22%5D+%5B%22in%22%5D+%5B%22the%22%5D+%5B%22middle%22%5D+%5B%22of%22%5D+%5B%22the%22%5D+%5B%22street%22%5D&waitfortotal=true&outputformat=json&prettyprint=no&wordsaroundhit=0\n",
      "{'left': '', 'match_word': 'There were such outrageous humiliations . For instance they would make you hop around in the middle of the street ', 'right': '', 'complete_match': 'There were such outrageous humiliations . For instance they would make you hop around in the middle of the street ', 'testimony_id': 'irn510682', 'shelfmark': ['USHMM RG-50.156*0028'], 'token_start': 4071, 'token_end': 4091}\n",
      "http://localhost:8080/blacklab-server-2.1.0/lts/hits?patt=%5B%22Why%22%5D+%5B%22should%22%5D+%5B%22I%22%5D+%5B%22be%22%5D+%5B%22ashamed%22%5D+%5B%22to%22%5D+%5B%22go%22%5D+%5B%22with%22%5D+%5B%22my%22%5D+%5B%22father%22%5D+%5B%22on%22%5D+%5B%22the%22%5D+%5B%22street%22%5D+%5B%5D&waitfortotal=true&outputformat=json&prettyprint=no&wordsaroundhit=0\n",
      "{'left': '', 'match_word': 'Why should I be ashamed to go with my father on the street ? ', 'right': '', 'complete_match': 'Why should I be ashamed to go with my father on the street ? ', 'testimony_id': 'irn515621', 'shelfmark': ['USHMM RG-50.462*0102'], 'token_start': 12996, 'token_end': 13010}\n",
      "http://localhost:8080/blacklab-server-2.1.0/lts/hits?patt=%5B%22I%22%5D+%5B%22was%22%5D+%5B%22ashamed%22%5D+%5B%22almost%22%5D+%5B%22to%22%5D+%5B%22walk%22%5D+%5B%22on%22%5D+%5B%22the%22%5D+%5B%22street%22%5D+%5B%5D+%5B%22I%22%5D+%5B%22was%22%5D+%5B%22always%22%5D+%5B%22ashamed%22%5D+%5B%5D&waitfortotal=true&outputformat=json&prettyprint=no&wordsaroundhit=0\n",
      "{'left': '', 'match_word': 'I was ashamed almost to walk on the street . I was always ashamed . ', 'right': '', 'complete_match': 'I was ashamed almost to walk on the street . I was always ashamed . ', 'testimony_id': 'usc_shoah_22237', 'shelfmark': ['USC Shoah Foundation 22237'], 'token_start': 5105, 'token_end': 5120}\n",
      "http://localhost:8080/blacklab-server-2.1.0/lts/hits?patt=%5B%22you%22%5D+%5B%5D+%5B%22a%22%5D+%5B%22Jew%22%5D+%5B%5D+%5B%22off%22%5D+%5B%22that%22%5D+%5B%22street%22%5D+%5B%5D+%5B%22on%22%5D+%5B%22that%22%5D+%5B%22side%22%5D+%5B%22of%22%5D+%5B%22the%22%5D+%5B%22street%22%5D+%5B%5D+%5B%22And%22%5D+%5B%22these%22%5D+%5B%22were%22%5D+%5B%22all%22%5D+%5B%22things%22%5D+%5B%22that%22%5D+%5B%5D+%5B%22you%22%5D+%5B%22know%22%5D+%5B%5D+%5B%22you%22%5D+%5B%22feel%22%5D+%5B%22degraded%22%5D+%5B%5D&waitfortotal=true&outputformat=json&prettyprint=no&wordsaroundhit=0\n",
      "{'left': '', 'match_word': \"you 're a Jew , off that street , on that side of the street . And these were all things that , you know , you feel degraded . \", 'right': '', 'complete_match': \"you 're a Jew , off that street , on that side of the street . And these were all things that , you know , you feel degraded . \", 'testimony_id': 'HVT-22', 'shelfmark': ['Fortunoff Archive HVT-22'], 'token_start': 2305, 'token_end': 2335}\n",
      "http://localhost:8080/blacklab-server-2.1.0/lts/hits?patt=%5B%22What%22%5D+%5B%5D%7B0%2C3%7D+%5B%22the%22%5D+%5B%22humiliation%22%5D+%5B%22that%22%5D+%5B%5D%7B0%2C3%7D+%5B%22having%22%5D+%5B%22to%22%5D+%5B%22see%22%5D+%5B%22what%22%5D+%5B%22they%22%5D+%5B%22are%22%5D+%5B%22doing%22%5D+%5B%22to%22%5D+%5B%22her%22%5D+%5B%22children%22%5D+%5B%5D&waitfortotal=true&outputformat=json&prettyprint=no&wordsaroundhit=0\n",
      "{'left': '', 'match_word': 'What -- the humiliation that -- having to see what they are doing to her children . ', 'right': '', 'complete_match': 'What -- the humiliation that -- having to see what they are doing to her children . ', 'testimony_id': 'irn506702', 'shelfmark': ['USHMM RG-50.549.02*0035'], 'token_start': 4459, 'token_end': 4476}\n",
      "http://localhost:8080/blacklab-server-2.1.0/lts/hits?patt=%5B%22He%22%5D+%5B%22was%22%5D+%5B%22ashamed%22%5D+%5B%22in%22%5D+%5B%22front%22%5D+%5B%22of%22%5D+%5B%22his%22%5D+%5B%22children%22%5D+%5B%5D+%5B%22how%22%5D+%5B%22he%22%5D+%5B%22was%22%5D+%5B%22treated%22%5D+%5B%5D&waitfortotal=true&outputformat=json&prettyprint=no&wordsaroundhit=0\n",
      "{'left': '', 'match_word': 'He was ashamed in front of his children , how he was treated . ', 'right': '', 'complete_match': 'He was ashamed in front of his children , how he was treated . ', 'testimony_id': 'usc_shoah_11964', 'shelfmark': ['USC Shoah Foundation 11964'], 'token_start': 7583, 'token_end': 7597}\n",
      "http://localhost:8080/blacklab-server-2.1.0/lts/hits?patt=%5B%22And%22%5D+%5B%22humiliated%22%5D+%5B%22in%22%5D+%5B%22front%22%5D+%5B%22of%22%5D+%5B%22my%22%5D+%5B%22family%22%5D+%5B%5D+%5B%22too%22%5D+%5B%5D+%5B%22that%22%5D+%5B%22I%22%5D+%5B%22have%22%5D+%5B%22been%22%5D+%5B%22whipped%22%5D+%5B%5D&waitfortotal=true&outputformat=json&prettyprint=no&wordsaroundhit=0\n",
      "{'left': '', 'match_word': 'And humiliated in front of my family , too , that I have been whipped . ', 'right': '', 'complete_match': 'And humiliated in front of my family , too , that I have been whipped . ', 'testimony_id': 'HVT-107', 'shelfmark': ['Fortunoff Archive HVT-107'], 'token_start': 6680, 'token_end': 6696}\n",
      "http://localhost:8080/blacklab-server-2.1.0/lts/hits?patt=%5B%22How%22%5D+%5B%22can%22%5D+%5B%22a%22%5D+%5B%22father%22%5D+%5B%22who%22%5D+%5B%22is%22%5D+%5B%22the%22%5D+%5B%22authority%22%5D+%5B%22in%22%5D+%5B%22the%22%5D+%5B%22eye%22%5D+%5B%22of%22%5D+%5B%22a%22%5D+%5B%22child%22%5D+%5B%5D+%5B%22the%22%5D+%5B%22child%22%5D+%5B%22reads%22%5D+%5B%22about%22%5D+%5B%22him%22%5D+%5B%22and%22%5D+%5B%22is%22%5D+%5B%22visualizing%22%5D+%5B%5D+%5B%22that%22%5D+%5B%22he%22%5D+%5B%22is%22%5D+%5B%22shamed%22%5D+%5B%22and%22%5D+%5B%22humiliated%22%5D+%5B%22living%22%5D+%5B%22in%22%5D+%5B%22dirt%22%5D+%5B%5D&waitfortotal=true&outputformat=json&prettyprint=no&wordsaroundhit=0\n",
      "{'left': '', 'match_word': 'How can a father who is the authority in the eye of a child , the child reads about him and is visualizing , that he is shamed and humiliated living in dirt . ', 'right': '', 'complete_match': 'How can a father who is the authority in the eye of a child , the child reads about him and is visualizing , that he is shamed and humiliated living in dirt . ', 'testimony_id': 'irn511350', 'shelfmark': ['USHMM RG-50.165*0133'], 'token_start': 6223, 'token_end': 6257}\n",
      "http://localhost:8080/blacklab-server-2.1.0/lts/hits?patt=%5B%22I%22%5D+%5B%22did%22%5D+%5B%5D+%5B%22find%22%5D+%5B%22out%22%5D+%5B%22what%22%5D+%5B%22I%22%5D+%5B%22could%22%5D+%5B%22do%22%5D+%5B%22to%22%5D+%5B%22save%22%5D+%5B%22them%22%5D+%5B%5D+%5B%22I%22%5D+%5B%22will%22%5D+%5B%22always%22%5D+%5B%22have%22%5D+%5B%22those%22%5D+%5B%22guilt%22%5D+%5B%22feelings%22%5D+%5B%5D&waitfortotal=true&outputformat=json&prettyprint=no&wordsaroundhit=0\n"
     ]
    },
    {
     "name": "stdout",
     "output_type": "stream",
     "text": [
      "{'left': '', 'match_word': \"I did n't find out what I could do to save them . I will always have those guilt feelings . \", 'right': '', 'complete_match': \"I did n't find out what I could do to save them . I will always have those guilt feelings . \", 'testimony_id': 'usc_shoah_7600', 'shelfmark': ['USC Shoah Foundation 7600'], 'token_start': 36022, 'token_end': 36043}\n",
      "http://localhost:8080/blacklab-server-2.1.0/lts/hits?patt=%5B%22still%22%5D+%5B%22I%22%5D+%5B%22feel%22%5D+%5B%22that%22%5D+%5B%22I%22%5D+%5B%22should%22%5D+%5B%22have%22%5D+%5B%22done%22%5D+%5B%22something%22%5D&waitfortotal=true&outputformat=json&prettyprint=no&wordsaroundhit=0\n",
      "{'left': '', 'match_word': 'still I feel that I should have done something ', 'right': '', 'complete_match': 'still I feel that I should have done something ', 'testimony_id': 'irn508626', 'shelfmark': ['USHMM RG-50.462*0005'], 'token_start': 30606, 'token_end': 30615}\n",
      "http://localhost:8080/blacklab-server-2.1.0/lts/hits?patt=%5B%22Certain%22%5D+%5B%22guilt%22%5D+%5B%22that%22%5D+%5B%22maybe%22%5D+%5B%5D%7B0%2C3%7D+%5B%22maybe%22%5D+%5B%22I%22%5D+%5B%22could%22%5D+%5B%22have%22%5D+%5B%22saved%22%5D+%5B%22them%22%5D+%5B%5D&waitfortotal=true&outputformat=json&prettyprint=no&wordsaroundhit=0\n",
      "{'left': '', 'match_word': 'Certain guilt that maybe -- maybe I could have saved them . ', 'right': '', 'complete_match': 'Certain guilt that maybe -- maybe I could have saved them . ', 'testimony_id': 'HVT-15', 'shelfmark': ['Fortunoff Archive HVT-15'], 'token_start': 6379, 'token_end': 6391}\n",
      "http://localhost:8080/blacklab-server-2.1.0/lts/hits?patt=%5B%22I%22%5D+%5B%22had%22%5D+%5B%22feelings%22%5D+%5B%22of%22%5D+%5B%22guilt%22%5D+%5B%5D+%5B%22I%22%5D+%5B%22could%22%5D+%5B%5D+%5B%22do%22%5D+%5B%22anything%22%5D+%5B%5D+%5B%22I%22%5D+%5B%22wish%22%5D+%5B%22I%22%5D+%5B%22could%22%5D+%5B%22have%22%5D+%5B%22done%22%5D+%5B%22something%22%5D+%5B%22to%22%5D+%5B%22save%22%5D+%5B%22their%22%5D+%5B%22lives%22%5D+%5B%5D&waitfortotal=true&outputformat=json&prettyprint=no&wordsaroundhit=0\n",
      "{'left': '', 'match_word': \"I had feelings of guilt . I could n't do anything . I wish I could have done something to save their lives . \", 'right': '', 'complete_match': \"I had feelings of guilt . I could n't do anything . I wish I could have done something to save their lives . \", 'testimony_id': 'usc_shoah_17135', 'shelfmark': ['USC Shoah Foundation 17135'], 'token_start': 49745, 'token_end': 49769}\n",
      "http://localhost:8080/blacklab-server-2.1.0/lts/hits?patt=%5B%22I%22%5D+%5B%22had%22%5D+%5B%22a%22%5D+%5B%22guilt%22%5D+%5B%22complex%22%5D+%5B%5D+%5B%22I%22%5D+%5B%22wanted%22%5D+%5B%22to%22%5D+%5B%22save%22%5D+%5B%22my%22%5D+%5B%22parents%22%5D+%5B%22and%22%5D+%5B%22I%22%5D+%5B%22wanted%22%5D+%5B%22to%22%5D+%5B%22save%22%5D+%5B%22my%22%5D+%5B%22brothers%22%5D&waitfortotal=true&outputformat=json&prettyprint=no&wordsaroundhit=0\n",
      "{'left': '', 'match_word': 'I had a guilt complex . I wanted to save my parents and I wanted to save my brothers ', 'right': '', 'complete_match': 'I had a guilt complex . I wanted to save my parents and I wanted to save my brothers ', 'testimony_id': 'irn510747', 'shelfmark': ['USHMM RG-50.154*0015'], 'token_start': 8653, 'token_end': 8672}\n",
      "http://localhost:8080/blacklab-server-2.1.0/lts/hits?patt=%5B%22she%22%5D+%5B%22felt%22%5D+%5B%22guilty%22%5D+%5B%22that%22%5D+%5B%5D+%5B%22that%22%5D+%5B%22she%22%5D+%5B%22offer%22%5D+%5B%22her%22%5D+%5B%22mother%22%5D+%5B%22to%22%5D+%5B%22sit%22%5D+%5B%22in%22%5D+%5B%22a%22%5D+%5B%22truck%22%5D+%5B%22and%22%5D+%5B%22she%22%5D+%5B%22cried%22%5D+%5B%5D&waitfortotal=true&outputformat=json&prettyprint=no&wordsaroundhit=0\n",
      "{'left': '', 'match_word': 'she felt guilty that , that she offer her mother to sit in a truck and she cried . ', 'right': '', 'complete_match': 'she felt guilty that , that she offer her mother to sit in a truck and she cried . ', 'testimony_id': 'irn504931', 'shelfmark': ['USHMM RG-50.030*0446'], 'token_start': 12150, 'token_end': 12169}\n",
      "http://localhost:8080/blacklab-server-2.1.0/lts/hits?patt=%5B%22I%22%5D+%5B%22had%22%5D+%5B%22a%22%5D+%5B%22terrible%22%5D+%5B%22sinking%22%5D+%5B%22feeling%22%5D+%5B%22that%22%5D+%5B%22I%22%5D+%5B%22let%22%5D+%5B%22down%22%5D+%5B%22my%22%5D+%5B%22mother%22%5D+%5B%5D+%5B%22and%22%5D+%5B%22I%22%5D+%5B%22felt%22%5D+%5B%22very%22%5D+%5B%22guilty%22%5D+%5B%22about%22%5D+%5B%22it%22%5D&waitfortotal=true&outputformat=json&prettyprint=no&wordsaroundhit=0\n",
      "{'left': '', 'match_word': 'I had a terrible sinking feeling that I let down my mother , and I felt very guilty about it ', 'right': '', 'complete_match': 'I had a terrible sinking feeling that I let down my mother , and I felt very guilty about it ', 'testimony_id': 'irn504408', 'shelfmark': ['USHMM RG-50.030*0203'], 'token_start': 15813, 'token_end': 15833}\n",
      "http://localhost:8080/blacklab-server-2.1.0/lts/hits?patt=%5B%22I%22%5D+%5B%22live%22%5D+%5B%22with%22%5D+%5B%22the%22%5D+%5B%22guilt%22%5D+%5B%22of%22%5D+%5B%22sending%22%5D+%5B%22my%22%5D+%5B%22mother%22%5D+%5B%22into%22%5D+%5B%22the%22%5D+%5B%22wrong%22%5D+%5B%22line%22%5D+%5B%5D&waitfortotal=true&outputformat=json&prettyprint=no&wordsaroundhit=0\n",
      "{'left': '', 'match_word': 'I live with the guilt of sending my mother into the wrong line . ', 'right': '', 'complete_match': 'I live with the guilt of sending my mother into the wrong line . ', 'testimony_id': 'irn506747', 'shelfmark': ['USHMM RG-50.549.02*0020'], 'token_start': 19488, 'token_end': 19502}\n",
      "http://localhost:8080/blacklab-server-2.1.0/lts/hits?patt=%5B%22He%22%5D+%5B%22felt%22%5D+%5B%22very%22%5D+%5B%22guilty%22%5D+%5B%22that%22%5D+%5B%22his%22%5D+%5B%22mother%22%5D+%5B%5D+%5B%22sister%22%5D+%5B%5D+%5B%22and%22%5D+%5B%22his%22%5D+%5B%22cousin%22%5D+%5B%22were%22%5D+%5B%22hauled%22%5D+%5B%22away%22%5D+%5B%22by%22%5D+%5B%22the%22%5D+%5B%22Germans%22%5D&waitfortotal=true&outputformat=json&prettyprint=no&wordsaroundhit=0\n",
      "{'left': '', 'match_word': 'He felt very guilty that his mother , sister , and his cousin were hauled away by the Germans ', 'right': '', 'complete_match': 'He felt very guilty that his mother , sister , and his cousin were hauled away by the Germans ', 'testimony_id': 'usc_shoah_25809', 'shelfmark': ['USC Shoah Foundation 25809'], 'token_start': 24520, 'token_end': 24539}\n",
      "http://localhost:8080/blacklab-server-2.1.0/lts/hits?patt=%5B%22I%22%5D+%5B%22still%22%5D+%5B%22have%22%5D+%5B%22this%22%5D+%5B%22horrible%22%5D+%5B%22guilt%22%5D+%5B%22that%22%5D+%5B%22my%22%5D+%5B%22mother%22%5D+%5B%22and%22%5D+%5B%22the%22%5D+%5B%22pain%22%5D+%5B%5D+%5B%22why%22%5D+%5B%22I%22%5D+%5B%22%27m%22%5D+%5B%22alive%22%5D+%5B%22and%22%5D+%5B%22she%22%5D+%5B%5D+%5B%22dead%22%5D+%5B%5D+%5B%22you%22%5D+%5B%22know%22%5D+%5B%5D&waitfortotal=true&outputformat=json&prettyprint=no&wordsaroundhit=0\n",
      "{'left': '', 'match_word': \"I still have this horrible guilt that my mother and the pain , why I 'm alive and she 's dead , you know . \", 'right': '', 'complete_match': \"I still have this horrible guilt that my mother and the pain , why I 'm alive and she 's dead , you know . \", 'testimony_id': 'irn504592', 'shelfmark': ['USHMM RG-50.030*0098'], 'token_start': 15537, 'token_end': 15562}\n",
      "http://localhost:8080/blacklab-server-2.1.0/lts/hits?patt=%5B%22I%22%5D+%5B%22felt%22%5D+%5B%22guilty%22%5D+%5B%22for%22%5D+%5B%22my%22%5D+%5B%22father%22%5D+%5B%5D+%5B%22%C3%B3%22%5D+%5B%22%27%27%22%5D+%5B%22s%22%5D+%5B%22death%22%5D&waitfortotal=true&outputformat=json&prettyprint=no&wordsaroundhit=0\n",
      "The following query returned a null result\n",
      "[\"I\"] [\"felt\"] [\"guilty\"] [\"for\"] [\"my\"] [\"father\"] [] [\"ó\"] [\"''\"] [\"s\"] [\"death\"]\n",
      "not found\n",
      "main_leaf                                                     guilt\n",
      "mid_leaf                                                     father\n",
      "label                   ...I felt guilty for my father?ó»s death...\n",
      "testimony_id                                              irn514926\n",
      "media_offset                                                      0\n",
      "media_index                                                       0\n",
      "original_sentences          I felt guilty for my father ?ó»s death \n",
      "end_sentence_index                                             2525\n",
      "start_sentence_index                                           2525\n",
      "Name: 331, dtype: object\n",
      "http://localhost:8080/blacklab-server-2.1.0/lts/hits?patt=%5B%22I%22%5D+%5B%22blame%22%5D+%5B%22myself%22%5D+%5B%22for%22%5D+%5B%22being%22%5D+%5B%22guilty%22%5D+%5B%22possibly%22%5D+%5B%22of%22%5D+%5B%22my%22%5D+%5B%22father%22%5D+%5B%5D+%5B%22death%22%5D+%5B%5D&waitfortotal=true&outputformat=json&prettyprint=no&wordsaroundhit=0\n"
     ]
    },
    {
     "name": "stdout",
     "output_type": "stream",
     "text": [
      "{'left': '', 'match_word': \"I blame myself for being guilty possibly of my father 's death . \", 'right': '', 'complete_match': \"I blame myself for being guilty possibly of my father 's death . \", 'testimony_id': 'usc_shoah_16345', 'shelfmark': ['USC Shoah Foundation 16345'], 'token_start': 12627, 'token_end': 12640}\n",
      "http://localhost:8080/blacklab-server-2.1.0/lts/hits?patt=%5B%22I%22%5D+%5B%22had%22%5D+%5B%22tremendous%22%5D+%5B%22guilt%22%5D+%5B%22feelings%22%5D+%5B%22that%22%5D+%5B%22I%22%5D+%5B%22left%22%5D+%5B%22without%22%5D+%5B%22saying%22%5D+%5B%22goodbye%22%5D+%5B%22to%22%5D+%5B%22my%22%5D+%5B%22father%22%5D+%5B%5D&waitfortotal=true&outputformat=json&prettyprint=no&wordsaroundhit=0\n",
      "{'left': '', 'match_word': 'I had tremendous guilt feelings that I left without saying goodbye to my father . ', 'right': '', 'complete_match': 'I had tremendous guilt feelings that I left without saying goodbye to my father . ', 'testimony_id': 'usc_shoah_3022', 'shelfmark': ['USC Shoah Foundation 3022'], 'token_start': 6244, 'token_end': 6259}\n",
      "http://localhost:8080/blacklab-server-2.1.0/lts/hits?patt=%5B%22I%22%5D+%5B%22began%22%5D+%5B%22to%22%5D+%5B%22feel%22%5D+%5B%22that%22%5D+%5B%22much%22%5D+%5B%22more%22%5D+%5B%22guilt%22%5D+%5B%22with%22%5D+%5B%22the%22%5D+%5B%22episode%22%5D+%5B%22with%22%5D+%5B%22my%22%5D+%5B%22father%22%5D&waitfortotal=true&outputformat=json&prettyprint=no&wordsaroundhit=0\n",
      "{'left': '', 'match_word': 'I began to feel that much more guilt with the episode with my father ', 'right': '', 'complete_match': 'I began to feel that much more guilt with the episode with my father ', 'testimony_id': 'usc_shoah_23645', 'shelfmark': ['USC Shoah Foundation 23645'], 'token_start': 24728, 'token_end': 24742}\n",
      "http://localhost:8080/blacklab-server-2.1.0/lts/hits?patt=%5B%22I%22%5D+%5B%22saw%22%5D+%5B%22my%22%5D+%5B%22father%22%5D+%5B%22one%22%5D+%5B%22time%22%5D+%5B%5D+%5B%22when%22%5D+%5B%22he%22%5D+%5B%22was%22%5D+%5B%22picked%22%5D+%5B%22up%22%5D+%5B%5D+%5B%22and%22%5D+%5B%22I%22%5D+%5B%22had%22%5D+%5B%22a%22%5D+%5B%22tremendous%22%5D+%5B%22guilt%22%5D+%5B%22thing%22%5D+%5B%22about%22%5D+%5B%22my%22%5D+%5B%22father%22%5D&waitfortotal=true&outputformat=json&prettyprint=no&wordsaroundhit=0\n",
      "{'left': '', 'match_word': 'I saw my father one time , when he was picked up , and I had a tremendous guilt thing about my father ', 'right': '', 'complete_match': 'I saw my father one time , when he was picked up , and I had a tremendous guilt thing about my father ', 'testimony_id': 'irn510753', 'shelfmark': ['USHMM RG-50.154*0024'], 'token_start': 7874, 'token_end': 7897}\n",
      "http://localhost:8080/blacklab-server-2.1.0/lts/hits?patt=%5B%22They%22%5D+%5B%22had%22%5D+%5B%22both%22%5D+%5B%22lost%22%5D+%5B%22a%22%5D+%5B%22child%22%5D+%5B%22in%22%5D+%5B%22the%22%5D+%5B%22ghetto%22%5D+%5B%22of%22%5D+%5B%22Warsaw%22%5D+%5B%22during%22%5D+%5B%22the%22%5D+%5B%22deportations%22%5D+%5B%5D+%5B%22And%22%5D+%5B%22they%22%5D+%5B%22both%22%5D+%5B%22felt%22%5D+%5B%22guilty%22%5D&waitfortotal=true&outputformat=json&prettyprint=no&wordsaroundhit=0\n",
      "{'left': '', 'match_word': 'They had both lost a child in the ghetto of Warsaw during the deportations . And they both felt guilty ', 'right': '', 'complete_match': 'They had both lost a child in the ghetto of Warsaw during the deportations . And they both felt guilty ', 'testimony_id': 'usc_shoah_14897', 'shelfmark': ['USC Shoah Foundation 14897'], 'token_start': 16964, 'token_end': 16984}\n",
      "http://localhost:8080/blacklab-server-2.1.0/lts/hits?patt=%5B%22we%22%5D+%5B%22all%22%5D+%5B%22are%22%5D+%5B%22guilty%22%5D+%5B%22of%22%5D+%5B%22something%22%5D+%5B%22doing%22%5D+%5B%5D+%5B%22but%22%5D+%5B%22little%22%5D+%5B%22children%22%5D+%5B%5D+%5B%22whose%22%5D+%5B%22head%22%5D+%5B%22were%22%5D+%5B%22broken%22%5D+%5B%22on%22%5D+%5B%22the%22%5D+%5B%22wall%22%5D+%5B%22by%22%5D+%5B%22Germans%22%5D&waitfortotal=true&outputformat=json&prettyprint=no&wordsaroundhit=0\n",
      "{'left': '', 'match_word': 'we all are guilty of something doing , but little children , whose head were broken on the wall by Germans ', 'right': '', 'complete_match': 'we all are guilty of something doing , but little children , whose head were broken on the wall by Germans ', 'testimony_id': 'irn506633', 'shelfmark': ['USHMM RG-50.106*0121'], 'token_start': 18120, 'token_end': 18141}\n",
      "http://localhost:8080/blacklab-server-2.1.0/lts/hits?patt=%5B%22How%22%5D+%5B%22innocent%22%5D+%5B%22you%22%5D+%5B%22were%22%5D+%5B%22to%22%5D+%5B%22be%22%5D+%5B%22guilty%22%5D+%5B%22of%22%5D+%5B%22death%22%5D+%5B%22with%22%5D+%5B%22millions%22%5D+%5B%22of%22%5D+%5B%22other%22%5D+%5B%22children%22%5D+%5B%22who%22%5D+%5B%22were%22%5D+%5B%22victims%22%5D+%5B%22of%22%5D+%5B%22human%22%5D+%5B%22inhumanity%22%5D+%5B%5D&waitfortotal=true&outputformat=json&prettyprint=no&wordsaroundhit=0\n",
      "{'left': '', 'match_word': 'How innocent you were to be guilty of death with millions of other children who were victims of human inhumanity . ', 'right': '', 'complete_match': 'How innocent you were to be guilty of death with millions of other children who were victims of human inhumanity . ', 'testimony_id': 'usc_shoah_6076', 'shelfmark': ['USC Shoah Foundation 6076'], 'token_start': 42836, 'token_end': 42857}\n",
      "http://localhost:8080/blacklab-server-2.1.0/lts/hits?patt=%5B%22All%22%5D+%5B%22the%22%5D+%5B%22children%22%5D+%5B%5D+%5B%22over%22%5D+%5B%22a%22%5D+%5B%22million%22%5D+%5B%22children%22%5D+%5B%22killed%22%5D+%5B%22without%22%5D+%5B%22guilt%22%5D+%5B%5D&waitfortotal=true&outputformat=json&prettyprint=no&wordsaroundhit=0\n",
      "{'left': '', 'match_word': 'All the children , over a million children killed without guilt . ', 'right': '', 'complete_match': 'All the children , over a million children killed without guilt . ', 'testimony_id': 'usc_shoah_1387', 'shelfmark': ['USC Shoah Foundation 1387'], 'token_start': 12579, 'token_end': 12591}\n",
      "http://localhost:8080/blacklab-server-2.1.0/lts/hits?patt=%5B%22she%22%5D+%5B%22felt%22%5D+%5B%22so%22%5D+%5B%22guilty%22%5D+%5B%22about%22%5D+%5B%22it%22%5D+%5B%22that%22%5D+%5B%22she%22%5D+%5B%22with%22%5D+%5B%22the%22%5D+%5B%22child%22%5D+%5B%22went%22%5D+%5B%22and%22%5D+%5B%22volunteered%22%5D+%5B%22to%22%5D+%5B%22go%22%5D+%5B%22to%22%5D+%5B%22the%22%5D+%5B%22place%22%5D+%5B%22where%22%5D+%5B%22they%22%5D+%5B%22gathered%22%5D+%5B%22the%22%5D+%5B%22people%22%5D&waitfortotal=true&outputformat=json&prettyprint=no&wordsaroundhit=0\n",
      "{'left': '', 'match_word': 'she felt so guilty about it that she with the child went and volunteered to go to the place where they gathered the people ', 'right': '', 'complete_match': 'she felt so guilty about it that she with the child went and volunteered to go to the place where they gathered the people ', 'testimony_id': 'usc_shoah_11998', 'shelfmark': ['USC Shoah Foundation 11998'], 'token_start': 13542, 'token_end': 13566}\n",
      "http://localhost:8080/blacklab-server-2.1.0/lts/hits?patt=%5B%22guilt%22%5D+%5B%22that%22%5D+%5B%22lingered%22%5D+%5B%22with%22%5D+%5B%22me%22%5D+%5B%5D+%5B%22to%22%5D+%5B%22know%22%5D+%5B%22that%22%5D+%5B%22these%22%5D+%5B%22people%22%5D+%5B%22were%22%5D+%5B%22left%22%5D+%5B%22in%22%5D+%5B%22that%22%5D+%5B%22railroad%22%5D+%5B%22car%22%5D+%5B%5D+%5B%22Q%22%5D+%5B%22%3A%22%5D+%5B%22The%22%5D+%5B%22survivor%22%5D+%5B%5D+%5B%22%C3%B3%22%5D+%5B%22%27%27%22%5D+%5B%22s%22%5D+%5B%22guilt%22%5D+%5B%5D+%5B%22A%22%5D+%5B%22%3A%22%5D+%5B%22From%22%5D+%5B%22the%22%5D+%5B%5D%7B0%2C3%7D+%5B%22from%22%5D+%5B%22the%22%5D+%5B%22baby%22%5D+%5B%5D+%5B%22to%22%5D+%5B%22the%22%5D+%5B%22old%22%5D+%5B%22people%22%5D&waitfortotal=true&outputformat=json&prettyprint=no&wordsaroundhit=0\n",
      "The following query returned a null result\n",
      "[\"guilt\"] [\"that\"] [\"lingered\"] [\"with\"] [\"me\"] [] [\"to\"] [\"know\"] [\"that\"] [\"these\"] [\"people\"] [\"were\"] [\"left\"] [\"in\"] [\"that\"] [\"railroad\"] [\"car\"] [] [\"Q\"] [\":\"] [\"The\"] [\"survivor\"] [] [\"ó\"] [\"''\"] [\"s\"] [\"guilt\"] [] [\"A\"] [\":\"] [\"From\"] [\"the\"] []{0,3} [\"from\"] [\"the\"] [\"baby\"] [] [\"to\"] [\"the\"] [\"old\"] [\"people\"]\n",
      "not found\n",
      "main_leaf                                                           guilt\n",
      "mid_leaf                                                death of children\n",
      "label                   ...guilt that lingered with me, to know that t...\n",
      "testimony_id                                                    irn506646\n",
      "media_offset                                                            0\n",
      "media_index                                                             0\n",
      "original_sentences      guilt that lingered with me , to know that the...\n",
      "end_sentence_index                                                    538\n",
      "start_sentence_index                                                  540\n",
      "Name: 341, dtype: object\n",
      "http://localhost:8080/blacklab-server-2.1.0/lts/hits?patt=%5B%22Seeing%22%5D+%5B%22small%22%5D+%5B%22children%22%5D+%5B%22that%22%5D+%5B%22are%22%5D+%5B%22innocent%22%5D+%5B%22being%22%5D+%5B%22thrown%22%5D+%5B%22into%22%5D+%5B%22the%22%5D+%5B%22fire%22%5D+%5B%5D+%5B%22If%22%5D+%5B%22I%22%5D+%5B%22am%22%5D+%5B%22innocent%22%5D+%5B%5D%7B0%2C3%7D+%5B%22if%22%5D+%5B%22I%22%5D+%5B%22am%22%5D+%5B%22guilty%22%5D+%5B%5D+%5B%22fine%22%5D+%5B%5D&waitfortotal=true&outputformat=json&prettyprint=no&wordsaroundhit=0\n"
     ]
    },
    {
     "name": "stdout",
     "output_type": "stream",
     "text": [
      "{'left': '', 'match_word': 'Seeing small children that are innocent being thrown into the fire . If I am innocent -- if I am guilty , fine . ', 'right': '', 'complete_match': 'Seeing small children that are innocent being thrown into the fire . If I am innocent -- if I am guilty , fine . ', 'testimony_id': 'irn507287', 'shelfmark': ['USHMM RG-50.030*0397'], 'token_start': 9289, 'token_end': 9313}\n"
     ]
    }
   ],
   "source": [
    "df = pd.read_csv(input_data)\n",
    "for row in df.iterrows():\n",
    "    try:\n",
    "        original_sent = row[1]['original_sentences']\n",
    "        main_node = row[1]['main_leaf']\n",
    "        mid_node = row[1]['mid_leaf']\n",
    "        testimony_id = row[1]['testimony_id']\n",
    "        indices = find_sentence_id(original_sent)\n",
    "        update_fragments(main_node,mid_node,testimony_id,[{'start_sentence_index':indices[0]},{'end_sentence_index':indices[1]}])\n",
    "    except:\n",
    "        print (\"not found\")\n",
    "        print (row[1])"
   ]
  },
  {
   "cell_type": "code",
   "execution_count": 62,
   "metadata": {},
   "outputs": [
    {
     "data": {
      "text/plain": [
       "'But, and they laughed and laughed that they left them alive but completely naked and took away their clothes.'"
      ]
     },
     "execution_count": 62,
     "metadata": {},
     "output_type": "execute_result"
    }
   ],
   "source": [
    "row[1]['original_sentences']"
   ]
  },
  {
   "cell_type": "markdown",
   "metadata": {},
   "source": [
    "### Add the main node"
   ]
  },
  {
   "cell_type": "code",
   "execution_count": 109,
   "metadata": {},
   "outputs": [
    {
     "name": "stderr",
     "output_type": "stream",
     "text": [
      "/miniconda3/lib/python3.7/site-packages/ipykernel_launcher.py:2: DeprecationWarning: insert is deprecated. Use insert_one or insert_many instead.\n",
      "  \n"
     ]
    }
   ],
   "source": [
    "main_node = \"\"\n",
    "#delete_main_node(main_node)\n",
    "add_main_node(main_node)"
   ]
  },
  {
   "cell_type": "markdown",
   "metadata": {},
   "source": [
    "### Set up the query"
   ]
  },
  {
   "cell_type": "code",
   "execution_count": 110,
   "metadata": {},
   "outputs": [],
   "source": [
    "query = ''"
   ]
  },
  {
   "cell_type": "code",
   "execution_count": null,
   "metadata": {},
   "outputs": [],
   "source": [
    "result = topic_concordancer.main(query,window=50,topicn=25)"
   ]
  },
  {
   "cell_type": "markdown",
   "metadata": {},
   "source": [
    "### Print the key topics"
   ]
  },
  {
   "cell_type": "code",
   "execution_count": null,
   "metadata": {},
   "outputs": [],
   "source": [
    "for i,element in enumerate(result['topic_documents']):\n",
    "    print (i)\n",
    "    topic_words =  element['topic_words'][1]\n",
    "    print (topic_words)\n",
    "    print ('\\n')"
   ]
  },
  {
   "cell_type": "markdown",
   "metadata": {},
   "source": [
    "### Analyze documents"
   ]
  },
  {
   "cell_type": "code",
   "execution_count": null,
   "metadata": {},
   "outputs": [],
   "source": [
    "i=0\n",
    "for text in result['topic_documents'][i]['texts'][0:25]:\n",
    "    print (text['matched_text_words'])\n",
    "    print ('\\n')"
   ]
  },
  {
   "cell_type": "markdown",
   "metadata": {},
   "source": [
    "## Testimonial fragments"
   ]
  },
  {
   "cell_type": "markdown",
   "metadata": {},
   "source": [
    "### 1.  "
   ]
  },
  {
   "cell_type": "code",
   "execution_count": 111,
   "metadata": {},
   "outputs": [],
   "source": [
    "lemmas = []"
   ]
  },
  {
   "cell_type": "code",
   "execution_count": 112,
   "metadata": {},
   "outputs": [
    {
     "name": "stdout",
     "output_type": "stream",
     "text": [
      "([lemma=\"kill\"][]{0,50}[lemma=\"numb\"])|([lemma=\"numb\"][]{0,50}[lemma=\"kill\"])\n"
     ]
    }
   ],
   "source": [
    "query = create_contextual_query(lemmas,context_length=50)\n",
    "print (query)"
   ]
  },
  {
   "cell_type": "code",
   "execution_count": 113,
   "metadata": {},
   "outputs": [],
   "source": [
    "domain_term = \"\""
   ]
  },
  {
   "cell_type": "code",
   "execution_count": 114,
   "metadata": {},
   "outputs": [],
   "source": [
    "fragments = {}\n",
    "fragments['main_node'] = main_node\n",
    "fragments['mid_node'] = domain_term\n",
    "fragments['fragments'] = []"
   ]
  },
  {
   "cell_type": "code",
   "execution_count": 115,
   "metadata": {},
   "outputs": [
    {
     "name": "stdout",
     "output_type": "stream",
     "text": [
      "http://localhost:8080/blacklab-server-2.1.0/lts/hits?patt=%5B%5D%7B0%2C3%7D+%5B%22PAUSES%22%5D+%5B%22FOR%22%5D+%5B%223%22%5D+%5B%22SECONDS%22%5D+%5B%5D%7B0%2C3%7D+%5B%22Then%22%5D+%5B%22they%22%5D+%5B%22said%22%5D+%5B%5D+%5B%22you%22%5D+%5B%5D+%5B%22out%22%5D+%5B%22of%22%5D+%5B%22luck%22%5D+%5B%22because%22%5D+%5B%22we%22%5D+%5B%5D+%5B%22going%22%5D+%5B%22to%22%5D+%5B%22kill%22%5D+%5B%22you%22%5D+%5B%22all%22%5D+%5B%5D+%5B%5D%7B0%2C3%7D+%5B%22PAUSES%22%5D+%5B%22FOR%22%5D+%5B%224%22%5D+%5B%22SECONDS%22%5D+%5B%5D%7B0%2C3%7D+%5B%22We%22%5D+%5B%5D%7B0%2C3%7D+%5B%22PAUSES%22%5D+%5B%22FOR%22%5D+%5B%224%22%5D+%5B%22SECONDS%22%5D+%5B%5D%7B0%2C3%7D+%5B%22were%22%5D+%5B%22numb%22%5D+%5B%5D&waitfortotal=true&outputformat=json&prettyprint=no&wordsaroundhit=0\n",
      "{'left': '', 'match_word': \"men . [ PAUSES FOR 3 SECONDS ] Then they said , you 're out of luck because we 're going to kill you all . [ PAUSES FOR 4 SECONDS ] We [ PAUSES FOR 4 SECONDS ] were numb . \", 'right': '', 'complete_match': \"men . [ PAUSES FOR 3 SECONDS ] Then they said , you 're out of luck because we 're going to kill you all . [ PAUSES FOR 4 SECONDS ] We [ PAUSES FOR 4 SECONDS ] were numb . \", 'testimony_id': 'usc_shoah_27347', 'shelfmark': ['USC 27347'], 'token_start': 10944, 'token_end': 10986}\n"
     ]
    }
   ],
   "source": [
    "fragment_1 = {}\n",
    "fragment_1['original_sentence'] = \"\"\n",
    "fragment_1['label']=\"\"\n",
    "indices = find_sentence_id(fragment_1['original_sentence'])\n",
    "fragment_1['start_sentence_index']=indices[0]\n",
    "fragment_1['end_sentence_index']=indices[1]\n",
    "fragment_1['media_offset'] = 0\n",
    "fragment_1['media_index'] = 0\n",
    "fragment_1['testimony_id'] = indices[2]\n",
    "fragments['fragments'].append(fragment_1)"
   ]
  },
  {
   "cell_type": "code",
   "execution_count": 116,
   "metadata": {},
   "outputs": [
    {
     "name": "stdout",
     "output_type": "stream",
     "text": [
      "http://localhost:8080/blacklab-server-2.1.0/lts/hits?patt=%5B%22To%22%5D+%5B%22see%22%5D+%5B%22another%22%5D+%5B%5D+%5B%22Jews%22%5D+%5B%22come%22%5D+%5B%22and%22%5D+%5B%22be%22%5D+%5B%22killed%22%5D+%5B%5D+%5B%22another%22%5D+%5B%5D+%5B%22be%22%5D+%5B%22killed%22%5D+%5B%5D+%5B%22That%22%5D+%5B%22was%22%5D+%5B%22not%22%5D+%5B%5D%7B0%2C50%7D+%5B%22that%22%5D+%5B%22we%22%5D+%5B%22wanted%22%5D+%5B%22to%22%5D+%5B%22see%22%5D+%5B%5D+%5B%22You%22%5D+%5B%22know%22%5D+%5B%5D+%5B%22We%22%5D+%5B%22had%22%5D+%5B%22to%22%5D+%5B%5D+%5B%22Then%22%5D+%5B%22after%22%5D+%5B%22awhile%22%5D+%5B%22you%22%5D+%5B%22become%22%5D+%5B%22so%22%5D+%5B%22numb%22%5D+%5B%22that%22%5D+%5B%22you%22%5D+%5B%22just%22%5D+%5B%5D%7B0%2C50%7D+%5B%22you%22%5D+%5B%22do%22%5D+%5B%5D+%5B%22react%22%5D+%5B%5D+%5B%22you%22%5D+%5B%5D%7B0%2C50%7D+%5B%22you%22%5D+%5B%22know%22%5D+%5B%5D&waitfortotal=true&outputformat=json&prettyprint=no&wordsaroundhit=0\n",
      "{'left': '', 'match_word': \"To see another 10,000 Jews come and be killed , another 20,000 be killed ? That was not ... that we wanted to see . You know . We had to . Then after awhile you become so numb that you just ... you do n't react , you ... you know ? \", 'right': '', 'complete_match': \"To see another 10,000 Jews come and be killed , another 20,000 be killed ? That was not ... that we wanted to see . You know . We had to . Then after awhile you become so numb that you just ... you do n't react , you ... you know ? \", 'testimony_id': 'irn504680', 'shelfmark': ['USHMM RG-50.030*0184'], 'token_start': 9900, 'token_end': 9953}\n"
     ]
    }
   ],
   "source": [
    "fragment_2 = {}\n",
    "fragment_2['original_sentence'] = \"\"\n",
    "fragment_2['label']=\"\"\n",
    "indices = find_sentence_id(fragment_2['original_sentence'])\n",
    "fragment_2['start_sentence_index']=indices[0]\n",
    "fragment_2['end_sentence_index']=indices[1]\n",
    "fragment_2['media_offset'] = 0\n",
    "fragment_2['media_index'] = 0\n",
    "fragment_2['testimony_id'] = indices[2]\n",
    "fragments['fragments'].append(fragment_2)\n"
   ]
  },
  {
   "cell_type": "code",
   "execution_count": 117,
   "metadata": {},
   "outputs": [
    {
     "name": "stdout",
     "output_type": "stream",
     "text": [
      "http://localhost:8080/blacklab-server-2.1.0/lts/hits?patt=%5B%22And%22%5D+%5B%22we%22%5D+%5B%22were%22%5D+%5B%22so%22%5D+%5B%22numb%22%5D+%5B%5D+%5B%5D%7B0%2C3%7D+%5B%5D+%5B%22Cathy%22%5D+%5B%5D+%5B%5D%7B0%2C3%7D+%5B%22every%22%5D+%5B%2210%22%5D+%5B%22people%22%5D+%5B%22get%22%5D+%5B%22killed%22%5D+%5B%5D&waitfortotal=true&outputformat=json&prettyprint=no&wordsaroundhit=0\n",
      "{'left': '', 'match_word': 'And we were so numb , [ ? Cathy ? ] every 10 people get killed . ', 'right': '', 'complete_match': 'And we were so numb , [ ? Cathy ? ] every 10 people get killed . ', 'testimony_id': 'usc_shoah_25287', 'shelfmark': ['USC 25287'], 'token_start': 16040, 'token_end': 16057}\n"
     ]
    }
   ],
   "source": [
    "fragment_3 = {}\n",
    "fragment_3['original_sentence'] = \"\"\n",
    "fragment_3['label']=\"\"\n",
    "indices = find_sentence_id(fragment_3['original_sentence'])\n",
    "fragment_3['start_sentence_index']=indices[0]\n",
    "fragment_3['end_sentence_index']=indices[1]\n",
    "fragment_3['media_offset'] = 0\n",
    "fragment_3['media_index'] = 0\n",
    "fragment_3['testimony_id'] = indices[2]\n",
    "fragments['fragments'].append(fragment_3)"
   ]
  },
  {
   "cell_type": "code",
   "execution_count": 118,
   "metadata": {},
   "outputs": [
    {
     "name": "stdout",
     "output_type": "stream",
     "text": [
      "http://localhost:8080/blacklab-server-2.1.0/lts/hits?patt=%5B%22from%22%5D+%5B%22people%22%5D+%5B%22being%22%5D+%5B%22wounded%22%5D+%5B%5D+%5B%22from%22%5D+%5B%22people%22%5D+%5B%22being%22%5D+%5B%22killed%22%5D+%5B%5D+%5B%22from%22%5D+%5B%22cries%22%5D+%5B%5D+%5B%22And%22%5D+%5B%22finally%22%5D+%5B%5D+%5B%22everything%22%5D+%5B%22subsided%22%5D+%5B%5D+%5B%22But%22%5D+%5B%22I%22%5D+%5B%22was%22%5D+%5B%22alive%22%5D+%5B%5D+%5B%22I%22%5D+%5B%22did%22%5D+%5B%5D+%5B%5D%7B0%2C3%7D+%5B%22I%22%5D+%5B%22did%22%5D+%5B%5D+%5B%22even%22%5D+%5B%22think%22%5D+%5B%5D+%5B%22I%22%5D+%5B%22was%22%5D+%5B%22numb%22%5D+%5B%5D&waitfortotal=true&outputformat=json&prettyprint=no&wordsaroundhit=0\n",
      "{'left': '', 'match_word': \"from people being wounded , from people being killed , from cries . And finally , everything subsided . But I was alive . I did n't -- I did n't even think . I was numb . \", 'right': '', 'complete_match': \"from people being wounded , from people being killed , from cries . And finally , everything subsided . But I was alive . I did n't -- I did n't even think . I was numb . \", 'testimony_id': 'usc_shoah_2590', 'shelfmark': ['USC 2590'], 'token_start': 6362, 'token_end': 6400}\n"
     ]
    }
   ],
   "source": [
    "fragment_4 = {}\n",
    "fragment_4['original_sentence'] = \"\"\n",
    "fragment_4['label']= \"\"\n",
    "indices = find_sentence_id(fragment_4['original_sentence'])\n",
    "fragment_4['start_sentence_index']=indices[0]\n",
    "fragment_4['end_sentence_index']=indices[1]\n",
    "fragment_4['media_offset'] = 0\n",
    "fragment_4['media_index'] = 0\n",
    "fragment_4['testimony_id'] = indices[2]\n",
    "fragments['fragments'].append(fragment_4)\n"
   ]
  },
  {
   "cell_type": "code",
   "execution_count": null,
   "metadata": {},
   "outputs": [],
   "source": [
    "fragment_5 = {}\n",
    "fragment_5['original_sentence'] = \"\"\n",
    "fragment_5['label']= \"\"\n",
    "indices = find_sentence_id(fragment_5['original_sentence'])\n",
    "fragment_5['start_sentence_index']=indices[0]\n",
    "fragment_5['end_sentence_index']=indices[1]\n",
    "fragment_5['media_offset'] = 0\n",
    "fragment_5['media_index'] = 0\n",
    "fragment_5['testimony_id'] = indices[2]\n",
    "fragments['fragments'].append(fragment_5)"
   ]
  },
  {
   "cell_type": "code",
   "execution_count": 119,
   "metadata": {},
   "outputs": [],
   "source": [
    "add_testimonial_fragments(fragments)"
   ]
  }
 ],
 "metadata": {
  "kernelspec": {
   "display_name": "base",
   "language": "python",
   "name": "base"
  },
  "language_info": {
   "codemirror_mode": {
    "name": "ipython",
    "version": 3
   },
   "file_extension": ".py",
   "mimetype": "text/x-python",
   "name": "python",
   "nbconvert_exporter": "python",
   "pygments_lexer": "ipython3",
   "version": "3.7.2"
  }
 },
 "nbformat": 4,
 "nbformat_minor": 2
}
